{
  "cells": [
    {
      "cell_type": "markdown",
      "metadata": {
        "id": "LNPgeROIeFof"
      },
      "source": [
        "<div style=\"font-weight:bold;\"><center><h1>Projet IA - De la fast fashion à la fashion éthique</h1></center></div>\n",
        "<center><h2>La place des enfants<br>Zoom sur l'enfant des pays producteurs, et sur l'enfant consommateur </h2></center>\n",
        "<center><h3>Projet présenté par Shabboo Aleagha et Ophélie Engasser - MI IA Elearning - mai 2023</h3></center>"
      ]
    },
    {
      "cell_type": "markdown",
      "metadata": {
        "id": "NJJ2NlFqymQ0"
      },
      "source": [
        "# **Plan**"
      ]
    },
    {
      "cell_type": "markdown",
      "metadata": {
        "id": "tfceiCM0yu8w"
      },
      "source": [
        "*   **Axe 1. La fast fashion et le droit des enfants des pays de fabrication**\n",
        "*   **Axe 2. La fast fashion et la santé des enfants consommateurs**\n",
        "*   **Axe 3. Mise en perspective vers des solutions possibles faisant appel à l'intelligence artificielle**\n",
        "\n",
        "Les axes 1 et 2 seront étudiés à l'aide d'indicateurs extraits de données brutes pour aboutir à des résultats mesurables et visualisables, dans l’optique d’ouvrir une réflexion sur la mise en œuvre un modèle d’apprentissage automatique (axe 3).    "
      ]
    },
    {
      "cell_type": "markdown",
      "metadata": {
        "id": "xN9l_qmZs6Cv"
      },
      "source": [
        "# **Indicateurs retenus**"
      ]
    },
    {
      "cell_type": "markdown",
      "metadata": {
        "id": "IFf0W4lss5Bp"
      },
      "source": [
        "**Axe 1. Fast Fashion et enfants des pays de fabrication :**\n",
        "\n",
        "**1.1 Indicateurs définis à partir des données récupérées d'un PDF sur le site Vertbaudet :**</br> \n",
        "Nombre de vêtements fabriqués par pays (en unités)</br>\n",
        "Empreinte carbone de chaque combinaison d'étapes (tissage - teinture - confection) (en kg/eqCO2)</br>\n",
        "Empreinte eau de chaque combinaison d'étapes (tissage - teinture - confection) (en Litres)</br>\n",
        "**1.2 Indicateurs définis à partir des données scrapées sur le site de la Banque Mondiale (données de 2020 indiquées par pays de fabrication) :**\n",
        "Taux d'évolution sur 10 ans de la valeur ajoutée de l'industrie manufacturière (en %)</br>\n",
        "Valeur ajoutée de l'industrie textile (en billions de dollars)</br>\n",
        "Taux de travail infantile (en %)</br>\n",
        "Répartition des enfants travailleurs selon une activité unique ou combinée avec l'école (en %)</br>\n",
        "Taux de pauvreté (< 6.85$ par jour) (en %)</br>\n",
        "Volumes d'eau disponible vs. prélevée annuellement (en billions de m3)</br>\n",
        "Taux d'accès aux énergies propres pour cuisiner (en %)</br>\n",
        "Prévalences de la malnutrition et du retard de croissance (en %)</br>\n",
        "Espérance de vie (en années)</br>\n",
        "Taux de mortalité infantile (< 5 ans) (en %)</br></br>\n",
        "**Axe 2. Fast Fashion et enfants consommateurs :**\n",
        "\n",
        "**Indicateurs définis à partir des données scrapées sur le site Vertbaudet :**</br>\n",
        "Répartition des matières textiles par collection (en %)</br> \n",
        "Score de toxicité des vêtements (entre 0 et 5 sur une échelle de Likert)</br></br>\n",
        "\n",
        "Ce notebook présente linéairement les démarches inhérentes à chaque indicateur, ainsi que le résultat obtenu. Chaque décision est commentée en regard des limites rencontrées."
      ]
    },
    {
      "cell_type": "code",
      "execution_count": null,
      "metadata": {
        "id": "4TUPX_IPf1_J"
      },
      "outputs": [],
      "source": [
        "# installation des librairies\n",
        "!pip install tabula-py\n",
        "!pip install haversine"
      ]
    },
    {
      "cell_type": "code",
      "execution_count": null,
      "metadata": {
        "id": "vPmJ7dj2f3Um"
      },
      "outputs": [],
      "source": [
        "# import des librairies\n",
        "\n",
        "# pour le scraping des données\n",
        "import tabula\n",
        "import requests\n",
        "from bs4 import BeautifulSoup\n",
        "from time import sleep\n",
        "from random import randint\n",
        "from time import time\n",
        "from IPython.display import clear_output\n",
        "from warnings import warn\n",
        "warn('Attention')\n",
        "\n",
        "# pour les regex\n",
        "import re\n",
        "\n",
        "# pour l'exportation de fichiers\n",
        "from google.colab import files\n",
        "\n",
        "# pour la manipulation des données\n",
        "import pandas as pd\n",
        "import numpy as np\n",
        "import math\n",
        "import ast\n",
        "\n",
        "# pour le calcul de distances\n",
        "from haversine import haversine, Unit\n",
        "\n",
        "# pour la visualisation des données\n",
        "import plotly.graph_objects as go\n",
        "import plotly.express as px\n",
        "from plotly.subplots import make_subplots"
      ]
    },
    {
      "cell_type": "markdown",
      "metadata": {
        "id": "PjQuEY8aeNxJ"
      },
      "source": [
        "# **Axe 1. La fast fashion et les droits des enfants des pays de fabrication**"
      ]
    },
    {
      "cell_type": "markdown",
      "metadata": {
        "id": "vfzZgmYIeT4Y"
      },
      "source": [
        "## 1.1. Les pays d'origine de fabrication des vêtements de la marque Vertbaudet et leur impact environnemental"
      ]
    },
    {
      "cell_type": "markdown",
      "metadata": {
        "id": "nzCR-YSGfl7d"
      },
      "source": [
        "### Récupération des données sur l'origine de fabrication des vêtements du site Vertbaudet et calcul d'un score d'empreinte carbone et d'empreinte eau"
      ]
    },
    {
      "cell_type": "markdown",
      "metadata": {
        "id": "abqAD1y1HieL"
      },
      "source": [
        "Les renseignements sur les pays d'origine de fabrication du site Vertbaudet ne sont pas accessibles directement sur le lien de chaque article, mais sont regroupés dans un tableau disponible en PDF. Pour répondre à notre objectif, nous avons pu constituer un dataframe contenant chaque référence d'article associée à chaque pays selon l'étape de fabrication de l'article (il y a 3 étapes comme nous le verrons). Une ligne de ce dataframe correspond donc à un article. Les chaussures du site font également partie du dataset. Nous allons enrichir ce dataframe au fur et à mesure en y ajoutant des données d'intérêt concernant la distance parcourue par les articles, leur poids, afin d'étudier les impacts en terme de pollution (**empreinte carbone**) et de consommation d'eau (**empreinte eau**)."
      ]
    },
    {
      "cell_type": "code",
      "execution_count": null,
      "metadata": {
        "colab": {
          "base_uri": "https://localhost:8080/",
          "height": 424
        },
        "id": "_16b805-Wbac",
        "outputId": "91860ea4-8c5d-40e4-e3b8-9ffa1bcfa648"
      },
      "outputs": [
        {
          "output_type": "execute_result",
          "data": {
            "text/plain": [
              "     Référence article Saison     Tissage    Teinture  Confection\n",
              "2              1002068   AH23       Chine       Chine       Chine\n",
              "3              1002075   AH23       Chine       Chine       Chine\n",
              "4              1002095   PE23  Bangladesh  Bangladesh  Bangladesh\n",
              "5              1002099   PE23       Chine       Chine       Chine\n",
              "6              1002099   PE23       Chine       Chine       Chine\n",
              "...                ...    ...         ...         ...         ...\n",
              "4152       10543446409   PE23       Chine       Chine       Chine\n",
              "4153       10639066390   AH23       Chine       Chine       Chine\n",
              "4154       10639076630   PE23       Chine       Chine       Chine\n",
              "4155       10639086400   AH23       Chine       Chine       Chine\n",
              "4156       10639086400   PE23       Chine       Chine       Chine\n",
              "\n",
              "[4148 rows x 5 columns]"
            ],
            "text/html": [
              "\n",
              "  <div id=\"df-92cc5efc-6f1a-47aa-b302-a443af96e05d\">\n",
              "    <div class=\"colab-df-container\">\n",
              "      <div>\n",
              "<style scoped>\n",
              "    .dataframe tbody tr th:only-of-type {\n",
              "        vertical-align: middle;\n",
              "    }\n",
              "\n",
              "    .dataframe tbody tr th {\n",
              "        vertical-align: top;\n",
              "    }\n",
              "\n",
              "    .dataframe thead th {\n",
              "        text-align: right;\n",
              "    }\n",
              "</style>\n",
              "<table border=\"1\" class=\"dataframe\">\n",
              "  <thead>\n",
              "    <tr style=\"text-align: right;\">\n",
              "      <th></th>\n",
              "      <th>Référence article</th>\n",
              "      <th>Saison</th>\n",
              "      <th>Tissage</th>\n",
              "      <th>Teinture</th>\n",
              "      <th>Confection</th>\n",
              "    </tr>\n",
              "  </thead>\n",
              "  <tbody>\n",
              "    <tr>\n",
              "      <th>2</th>\n",
              "      <td>1002068</td>\n",
              "      <td>AH23</td>\n",
              "      <td>Chine</td>\n",
              "      <td>Chine</td>\n",
              "      <td>Chine</td>\n",
              "    </tr>\n",
              "    <tr>\n",
              "      <th>3</th>\n",
              "      <td>1002075</td>\n",
              "      <td>AH23</td>\n",
              "      <td>Chine</td>\n",
              "      <td>Chine</td>\n",
              "      <td>Chine</td>\n",
              "    </tr>\n",
              "    <tr>\n",
              "      <th>4</th>\n",
              "      <td>1002095</td>\n",
              "      <td>PE23</td>\n",
              "      <td>Bangladesh</td>\n",
              "      <td>Bangladesh</td>\n",
              "      <td>Bangladesh</td>\n",
              "    </tr>\n",
              "    <tr>\n",
              "      <th>5</th>\n",
              "      <td>1002099</td>\n",
              "      <td>PE23</td>\n",
              "      <td>Chine</td>\n",
              "      <td>Chine</td>\n",
              "      <td>Chine</td>\n",
              "    </tr>\n",
              "    <tr>\n",
              "      <th>6</th>\n",
              "      <td>1002099</td>\n",
              "      <td>PE23</td>\n",
              "      <td>Chine</td>\n",
              "      <td>Chine</td>\n",
              "      <td>Chine</td>\n",
              "    </tr>\n",
              "    <tr>\n",
              "      <th>...</th>\n",
              "      <td>...</td>\n",
              "      <td>...</td>\n",
              "      <td>...</td>\n",
              "      <td>...</td>\n",
              "      <td>...</td>\n",
              "    </tr>\n",
              "    <tr>\n",
              "      <th>4152</th>\n",
              "      <td>10543446409</td>\n",
              "      <td>PE23</td>\n",
              "      <td>Chine</td>\n",
              "      <td>Chine</td>\n",
              "      <td>Chine</td>\n",
              "    </tr>\n",
              "    <tr>\n",
              "      <th>4153</th>\n",
              "      <td>10639066390</td>\n",
              "      <td>AH23</td>\n",
              "      <td>Chine</td>\n",
              "      <td>Chine</td>\n",
              "      <td>Chine</td>\n",
              "    </tr>\n",
              "    <tr>\n",
              "      <th>4154</th>\n",
              "      <td>10639076630</td>\n",
              "      <td>PE23</td>\n",
              "      <td>Chine</td>\n",
              "      <td>Chine</td>\n",
              "      <td>Chine</td>\n",
              "    </tr>\n",
              "    <tr>\n",
              "      <th>4155</th>\n",
              "      <td>10639086400</td>\n",
              "      <td>AH23</td>\n",
              "      <td>Chine</td>\n",
              "      <td>Chine</td>\n",
              "      <td>Chine</td>\n",
              "    </tr>\n",
              "    <tr>\n",
              "      <th>4156</th>\n",
              "      <td>10639086400</td>\n",
              "      <td>PE23</td>\n",
              "      <td>Chine</td>\n",
              "      <td>Chine</td>\n",
              "      <td>Chine</td>\n",
              "    </tr>\n",
              "  </tbody>\n",
              "</table>\n",
              "<p>4148 rows × 5 columns</p>\n",
              "</div>\n",
              "      <button class=\"colab-df-convert\" onclick=\"convertToInteractive('df-92cc5efc-6f1a-47aa-b302-a443af96e05d')\"\n",
              "              title=\"Convert this dataframe to an interactive table.\"\n",
              "              style=\"display:none;\">\n",
              "        \n",
              "  <svg xmlns=\"http://www.w3.org/2000/svg\" height=\"24px\"viewBox=\"0 0 24 24\"\n",
              "       width=\"24px\">\n",
              "    <path d=\"M0 0h24v24H0V0z\" fill=\"none\"/>\n",
              "    <path d=\"M18.56 5.44l.94 2.06.94-2.06 2.06-.94-2.06-.94-.94-2.06-.94 2.06-2.06.94zm-11 1L8.5 8.5l.94-2.06 2.06-.94-2.06-.94L8.5 2.5l-.94 2.06-2.06.94zm10 10l.94 2.06.94-2.06 2.06-.94-2.06-.94-.94-2.06-.94 2.06-2.06.94z\"/><path d=\"M17.41 7.96l-1.37-1.37c-.4-.4-.92-.59-1.43-.59-.52 0-1.04.2-1.43.59L10.3 9.45l-7.72 7.72c-.78.78-.78 2.05 0 2.83L4 21.41c.39.39.9.59 1.41.59.51 0 1.02-.2 1.41-.59l7.78-7.78 2.81-2.81c.8-.78.8-2.07 0-2.86zM5.41 20L4 18.59l7.72-7.72 1.47 1.35L5.41 20z\"/>\n",
              "  </svg>\n",
              "      </button>\n",
              "      \n",
              "  <style>\n",
              "    .colab-df-container {\n",
              "      display:flex;\n",
              "      flex-wrap:wrap;\n",
              "      gap: 12px;\n",
              "    }\n",
              "\n",
              "    .colab-df-convert {\n",
              "      background-color: #E8F0FE;\n",
              "      border: none;\n",
              "      border-radius: 50%;\n",
              "      cursor: pointer;\n",
              "      display: none;\n",
              "      fill: #1967D2;\n",
              "      height: 32px;\n",
              "      padding: 0 0 0 0;\n",
              "      width: 32px;\n",
              "    }\n",
              "\n",
              "    .colab-df-convert:hover {\n",
              "      background-color: #E2EBFA;\n",
              "      box-shadow: 0px 1px 2px rgba(60, 64, 67, 0.3), 0px 1px 3px 1px rgba(60, 64, 67, 0.15);\n",
              "      fill: #174EA6;\n",
              "    }\n",
              "\n",
              "    [theme=dark] .colab-df-convert {\n",
              "      background-color: #3B4455;\n",
              "      fill: #D2E3FC;\n",
              "    }\n",
              "\n",
              "    [theme=dark] .colab-df-convert:hover {\n",
              "      background-color: #434B5C;\n",
              "      box-shadow: 0px 1px 3px 1px rgba(0, 0, 0, 0.15);\n",
              "      filter: drop-shadow(0px 1px 2px rgba(0, 0, 0, 0.3));\n",
              "      fill: #FFFFFF;\n",
              "    }\n",
              "  </style>\n",
              "\n",
              "      <script>\n",
              "        const buttonEl =\n",
              "          document.querySelector('#df-92cc5efc-6f1a-47aa-b302-a443af96e05d button.colab-df-convert');\n",
              "        buttonEl.style.display =\n",
              "          google.colab.kernel.accessAllowed ? 'block' : 'none';\n",
              "\n",
              "        async function convertToInteractive(key) {\n",
              "          const element = document.querySelector('#df-92cc5efc-6f1a-47aa-b302-a443af96e05d');\n",
              "          const dataTable =\n",
              "            await google.colab.kernel.invokeFunction('convertToInteractive',\n",
              "                                                     [key], {});\n",
              "          if (!dataTable) return;\n",
              "\n",
              "          const docLinkHtml = 'Like what you see? Visit the ' +\n",
              "            '<a target=\"_blank\" href=https://colab.research.google.com/notebooks/data_table.ipynb>data table notebook</a>'\n",
              "            + ' to learn more about interactive tables.';\n",
              "          element.innerHTML = '';\n",
              "          dataTable['output_type'] = 'display_data';\n",
              "          await google.colab.output.renderOutput(dataTable, element);\n",
              "          const docLink = document.createElement('div');\n",
              "          docLink.innerHTML = docLinkHtml;\n",
              "          element.appendChild(docLink);\n",
              "        }\n",
              "      </script>\n",
              "    </div>\n",
              "  </div>\n",
              "  "
            ]
          },
          "metadata": {},
          "execution_count": 3
        }
      ],
      "source": [
        "# récupérons les données sur le tableau du site disponible en PDF\n",
        "data = tabula.read_pdf('https://securemedia.vertbaudet.fr/Pdf/3-0-0/RSE/Tracabilite-produit-pays-textile-chaussure.pdf', pages='all') # récupération des 86 pages\n",
        "df_countries = pd.DataFrame(np.concatenate(data), columns=['Référence article', 'Saison', 'Tissage', 'Teinture', 'Confection']) # concaténation des 86 pages en un dataframe\n",
        "\n",
        "# nettoyons le dataset\n",
        "df_countries = df_countries.drop(index=[0, 1, 2506, 3454, 3456, 3460, 3465, 3898, 3899]) # suppression des lignes contenant des données aberrantes\n",
        "cols_to_apply = ['Tissage', 'Teinture', 'Confection'] \n",
        "df_countries[cols_to_apply] = df_countries[cols_to_apply].apply(lambda x: x.str.capitalize()) # harmonisation de l'écriture des noms de pays\n",
        "df_countries"
      ]
    },
    {
      "cell_type": "markdown",
      "metadata": {
        "id": "rpg9RJKw4Qnh"
      },
      "source": [
        "Nous observons sur ce dataset que les 3 colonnes contenant les pays de fabrication constituent 3 étapes de fabrication : l'étape 1 étant le **tissage/tricotage** (nous l'appellerons tissage par simplicité), l'étape 2 la **teinture/impression** (nous l'appellerons teinture) et l'étape 3 la **confection**. Nous considérerons ces 3 étapes comme autant de chemin parcouru par les vêtements avant expédition vers les sites de vente Français. Cela nous permettra de calculer un indicateur de distance à partir duquel nous pourrons calculer un score d'**empreinte carbone**. Nous justifierons l'usage de cette mesure plutôt que celle d'émission de CO2. Nous allons également nous intéresser à l'**empreinte eau**, c'est-à-dire un indicateur de consommation d'eau que nous allons calculer à partir de nos données. Cela nous permettra d'enquêter sur l'environnement dans lequel évoluent les enfants vivant dans les pays de fabrication."
      ]
    },
    {
      "cell_type": "code",
      "execution_count": null,
      "metadata": {
        "colab": {
          "base_uri": "https://localhost:8080/"
        },
        "id": "WJGFS60OdCGH",
        "outputId": "70ee1fb1-504d-48c1-db4b-56987f4974e5"
      },
      "outputs": [
        {
          "output_type": "execute_result",
          "data": {
            "text/plain": [
              "Bangladesh    5047\n",
              "Chine         4269\n",
              "Inde          2081\n",
              "Pakistan       570\n",
              "Portugal       168\n",
              "Turquie        102\n",
              "Vietnam         81\n",
              "Maroc           42\n",
              "Allemagne       32\n",
              "Italie          24\n",
              "Pologne         16\n",
              "France           9\n",
              "Brésil           3\n",
              "dtype: int64"
            ]
          },
          "metadata": {},
          "execution_count": 4
        }
      ],
      "source": [
        "# nous souhaitons obtenir le pays le plus représenté (dans le dataset, indépendamment des étapes) : \n",
        "steps = df_countries.iloc[:, -3:] # sélection des 3 dernières colonnes du dataframe\n",
        "occurrences_pays = steps.stack().value_counts() # count des fréquences d'apparition de chaque pays (stack() empile les pays)\n",
        "occurrences_pays"
      ]
    },
    {
      "cell_type": "code",
      "execution_count": null,
      "metadata": {
        "colab": {
          "base_uri": "https://localhost:8080/",
          "height": 517
        },
        "id": "MiJRUI5an9dv",
        "outputId": "6e18fbaf-69b8-4716-af3a-398c9daa7fb7"
      },
      "outputs": [
        {
          "output_type": "display_data",
          "data": {
            "text/html": [
              "<html>\n",
              "<head><meta charset=\"utf-8\" /></head>\n",
              "<body>\n",
              "    <div>            <script src=\"https://cdnjs.cloudflare.com/ajax/libs/mathjax/2.7.5/MathJax.js?config=TeX-AMS-MML_SVG\"></script><script type=\"text/javascript\">if (window.MathJax && window.MathJax.Hub && window.MathJax.Hub.Config) {window.MathJax.Hub.Config({SVG: {font: \"STIX-Web\"}});}</script>                <script type=\"text/javascript\">window.PlotlyConfig = {MathJaxConfig: 'local'};</script>\n",
              "        <script src=\"https://cdn.plot.ly/plotly-2.18.2.min.js\"></script>                <div id=\"234839b3-e876-4291-8d09-b6cb5d461c07\" class=\"plotly-graph-div\" style=\"height:500px; width:1200px;\"></div>            <script type=\"text/javascript\">                                    window.PLOTLYENV=window.PLOTLYENV || {};                                    if (document.getElementById(\"234839b3-e876-4291-8d09-b6cb5d461c07\")) {                    Plotly.newPlot(                        \"234839b3-e876-4291-8d09-b6cb5d461c07\",                        [{\"hole\":0.5,\"labels\":[\"Bangladesh\",\"Chine\",\"Inde\",\"Pakistan\",\"Portugal\",\"Turquie\",\"Vietnam\",\"Maroc\",\"Allemagne\",\"Italie\",\"Pologne\",\"France\",\"Br\\u00e9sil\"],\"values\":[5047,4269,2081,570,168,102,81,42,32,24,16,9,3],\"type\":\"pie\"}],                        {\"template\":{\"data\":{\"histogram2dcontour\":[{\"type\":\"histogram2dcontour\",\"colorbar\":{\"outlinewidth\":0,\"ticks\":\"\"},\"colorscale\":[[0.0,\"#0d0887\"],[0.1111111111111111,\"#46039f\"],[0.2222222222222222,\"#7201a8\"],[0.3333333333333333,\"#9c179e\"],[0.4444444444444444,\"#bd3786\"],[0.5555555555555556,\"#d8576b\"],[0.6666666666666666,\"#ed7953\"],[0.7777777777777778,\"#fb9f3a\"],[0.8888888888888888,\"#fdca26\"],[1.0,\"#f0f921\"]]}],\"choropleth\":[{\"type\":\"choropleth\",\"colorbar\":{\"outlinewidth\":0,\"ticks\":\"\"}}],\"histogram2d\":[{\"type\":\"histogram2d\",\"colorbar\":{\"outlinewidth\":0,\"ticks\":\"\"},\"colorscale\":[[0.0,\"#0d0887\"],[0.1111111111111111,\"#46039f\"],[0.2222222222222222,\"#7201a8\"],[0.3333333333333333,\"#9c179e\"],[0.4444444444444444,\"#bd3786\"],[0.5555555555555556,\"#d8576b\"],[0.6666666666666666,\"#ed7953\"],[0.7777777777777778,\"#fb9f3a\"],[0.8888888888888888,\"#fdca26\"],[1.0,\"#f0f921\"]]}],\"heatmap\":[{\"type\":\"heatmap\",\"colorbar\":{\"outlinewidth\":0,\"ticks\":\"\"},\"colorscale\":[[0.0,\"#0d0887\"],[0.1111111111111111,\"#46039f\"],[0.2222222222222222,\"#7201a8\"],[0.3333333333333333,\"#9c179e\"],[0.4444444444444444,\"#bd3786\"],[0.5555555555555556,\"#d8576b\"],[0.6666666666666666,\"#ed7953\"],[0.7777777777777778,\"#fb9f3a\"],[0.8888888888888888,\"#fdca26\"],[1.0,\"#f0f921\"]]}],\"heatmapgl\":[{\"type\":\"heatmapgl\",\"colorbar\":{\"outlinewidth\":0,\"ticks\":\"\"},\"colorscale\":[[0.0,\"#0d0887\"],[0.1111111111111111,\"#46039f\"],[0.2222222222222222,\"#7201a8\"],[0.3333333333333333,\"#9c179e\"],[0.4444444444444444,\"#bd3786\"],[0.5555555555555556,\"#d8576b\"],[0.6666666666666666,\"#ed7953\"],[0.7777777777777778,\"#fb9f3a\"],[0.8888888888888888,\"#fdca26\"],[1.0,\"#f0f921\"]]}],\"contourcarpet\":[{\"type\":\"contourcarpet\",\"colorbar\":{\"outlinewidth\":0,\"ticks\":\"\"}}],\"contour\":[{\"type\":\"contour\",\"colorbar\":{\"outlinewidth\":0,\"ticks\":\"\"},\"colorscale\":[[0.0,\"#0d0887\"],[0.1111111111111111,\"#46039f\"],[0.2222222222222222,\"#7201a8\"],[0.3333333333333333,\"#9c179e\"],[0.4444444444444444,\"#bd3786\"],[0.5555555555555556,\"#d8576b\"],[0.6666666666666666,\"#ed7953\"],[0.7777777777777778,\"#fb9f3a\"],[0.8888888888888888,\"#fdca26\"],[1.0,\"#f0f921\"]]}],\"surface\":[{\"type\":\"surface\",\"colorbar\":{\"outlinewidth\":0,\"ticks\":\"\"},\"colorscale\":[[0.0,\"#0d0887\"],[0.1111111111111111,\"#46039f\"],[0.2222222222222222,\"#7201a8\"],[0.3333333333333333,\"#9c179e\"],[0.4444444444444444,\"#bd3786\"],[0.5555555555555556,\"#d8576b\"],[0.6666666666666666,\"#ed7953\"],[0.7777777777777778,\"#fb9f3a\"],[0.8888888888888888,\"#fdca26\"],[1.0,\"#f0f921\"]]}],\"mesh3d\":[{\"type\":\"mesh3d\",\"colorbar\":{\"outlinewidth\":0,\"ticks\":\"\"}}],\"scatter\":[{\"fillpattern\":{\"fillmode\":\"overlay\",\"size\":10,\"solidity\":0.2},\"type\":\"scatter\"}],\"parcoords\":[{\"type\":\"parcoords\",\"line\":{\"colorbar\":{\"outlinewidth\":0,\"ticks\":\"\"}}}],\"scatterpolargl\":[{\"type\":\"scatterpolargl\",\"marker\":{\"colorbar\":{\"outlinewidth\":0,\"ticks\":\"\"}}}],\"bar\":[{\"error_x\":{\"color\":\"#2a3f5f\"},\"error_y\":{\"color\":\"#2a3f5f\"},\"marker\":{\"line\":{\"color\":\"#E5ECF6\",\"width\":0.5},\"pattern\":{\"fillmode\":\"overlay\",\"size\":10,\"solidity\":0.2}},\"type\":\"bar\"}],\"scattergeo\":[{\"type\":\"scattergeo\",\"marker\":{\"colorbar\":{\"outlinewidth\":0,\"ticks\":\"\"}}}],\"scatterpolar\":[{\"type\":\"scatterpolar\",\"marker\":{\"colorbar\":{\"outlinewidth\":0,\"ticks\":\"\"}}}],\"histogram\":[{\"marker\":{\"pattern\":{\"fillmode\":\"overlay\",\"size\":10,\"solidity\":0.2}},\"type\":\"histogram\"}],\"scattergl\":[{\"type\":\"scattergl\",\"marker\":{\"colorbar\":{\"outlinewidth\":0,\"ticks\":\"\"}}}],\"scatter3d\":[{\"type\":\"scatter3d\",\"line\":{\"colorbar\":{\"outlinewidth\":0,\"ticks\":\"\"}},\"marker\":{\"colorbar\":{\"outlinewidth\":0,\"ticks\":\"\"}}}],\"scattermapbox\":[{\"type\":\"scattermapbox\",\"marker\":{\"colorbar\":{\"outlinewidth\":0,\"ticks\":\"\"}}}],\"scatterternary\":[{\"type\":\"scatterternary\",\"marker\":{\"colorbar\":{\"outlinewidth\":0,\"ticks\":\"\"}}}],\"scattercarpet\":[{\"type\":\"scattercarpet\",\"marker\":{\"colorbar\":{\"outlinewidth\":0,\"ticks\":\"\"}}}],\"carpet\":[{\"aaxis\":{\"endlinecolor\":\"#2a3f5f\",\"gridcolor\":\"white\",\"linecolor\":\"white\",\"minorgridcolor\":\"white\",\"startlinecolor\":\"#2a3f5f\"},\"baxis\":{\"endlinecolor\":\"#2a3f5f\",\"gridcolor\":\"white\",\"linecolor\":\"white\",\"minorgridcolor\":\"white\",\"startlinecolor\":\"#2a3f5f\"},\"type\":\"carpet\"}],\"table\":[{\"cells\":{\"fill\":{\"color\":\"#EBF0F8\"},\"line\":{\"color\":\"white\"}},\"header\":{\"fill\":{\"color\":\"#C8D4E3\"},\"line\":{\"color\":\"white\"}},\"type\":\"table\"}],\"barpolar\":[{\"marker\":{\"line\":{\"color\":\"#E5ECF6\",\"width\":0.5},\"pattern\":{\"fillmode\":\"overlay\",\"size\":10,\"solidity\":0.2}},\"type\":\"barpolar\"}],\"pie\":[{\"automargin\":true,\"type\":\"pie\"}]},\"layout\":{\"autotypenumbers\":\"strict\",\"colorway\":[\"#636efa\",\"#EF553B\",\"#00cc96\",\"#ab63fa\",\"#FFA15A\",\"#19d3f3\",\"#FF6692\",\"#B6E880\",\"#FF97FF\",\"#FECB52\"],\"font\":{\"color\":\"#2a3f5f\"},\"hovermode\":\"closest\",\"hoverlabel\":{\"align\":\"left\"},\"paper_bgcolor\":\"white\",\"plot_bgcolor\":\"#E5ECF6\",\"polar\":{\"bgcolor\":\"#E5ECF6\",\"angularaxis\":{\"gridcolor\":\"white\",\"linecolor\":\"white\",\"ticks\":\"\"},\"radialaxis\":{\"gridcolor\":\"white\",\"linecolor\":\"white\",\"ticks\":\"\"}},\"ternary\":{\"bgcolor\":\"#E5ECF6\",\"aaxis\":{\"gridcolor\":\"white\",\"linecolor\":\"white\",\"ticks\":\"\"},\"baxis\":{\"gridcolor\":\"white\",\"linecolor\":\"white\",\"ticks\":\"\"},\"caxis\":{\"gridcolor\":\"white\",\"linecolor\":\"white\",\"ticks\":\"\"}},\"coloraxis\":{\"colorbar\":{\"outlinewidth\":0,\"ticks\":\"\"}},\"colorscale\":{\"sequential\":[[0.0,\"#0d0887\"],[0.1111111111111111,\"#46039f\"],[0.2222222222222222,\"#7201a8\"],[0.3333333333333333,\"#9c179e\"],[0.4444444444444444,\"#bd3786\"],[0.5555555555555556,\"#d8576b\"],[0.6666666666666666,\"#ed7953\"],[0.7777777777777778,\"#fb9f3a\"],[0.8888888888888888,\"#fdca26\"],[1.0,\"#f0f921\"]],\"sequentialminus\":[[0.0,\"#0d0887\"],[0.1111111111111111,\"#46039f\"],[0.2222222222222222,\"#7201a8\"],[0.3333333333333333,\"#9c179e\"],[0.4444444444444444,\"#bd3786\"],[0.5555555555555556,\"#d8576b\"],[0.6666666666666666,\"#ed7953\"],[0.7777777777777778,\"#fb9f3a\"],[0.8888888888888888,\"#fdca26\"],[1.0,\"#f0f921\"]],\"diverging\":[[0,\"#8e0152\"],[0.1,\"#c51b7d\"],[0.2,\"#de77ae\"],[0.3,\"#f1b6da\"],[0.4,\"#fde0ef\"],[0.5,\"#f7f7f7\"],[0.6,\"#e6f5d0\"],[0.7,\"#b8e186\"],[0.8,\"#7fbc41\"],[0.9,\"#4d9221\"],[1,\"#276419\"]]},\"xaxis\":{\"gridcolor\":\"white\",\"linecolor\":\"white\",\"ticks\":\"\",\"title\":{\"standoff\":15},\"zerolinecolor\":\"white\",\"automargin\":true,\"zerolinewidth\":2},\"yaxis\":{\"gridcolor\":\"white\",\"linecolor\":\"white\",\"ticks\":\"\",\"title\":{\"standoff\":15},\"zerolinecolor\":\"white\",\"automargin\":true,\"zerolinewidth\":2},\"scene\":{\"xaxis\":{\"backgroundcolor\":\"#E5ECF6\",\"gridcolor\":\"white\",\"linecolor\":\"white\",\"showbackground\":true,\"ticks\":\"\",\"zerolinecolor\":\"white\",\"gridwidth\":2},\"yaxis\":{\"backgroundcolor\":\"#E5ECF6\",\"gridcolor\":\"white\",\"linecolor\":\"white\",\"showbackground\":true,\"ticks\":\"\",\"zerolinecolor\":\"white\",\"gridwidth\":2},\"zaxis\":{\"backgroundcolor\":\"#E5ECF6\",\"gridcolor\":\"white\",\"linecolor\":\"white\",\"showbackground\":true,\"ticks\":\"\",\"zerolinecolor\":\"white\",\"gridwidth\":2}},\"shapedefaults\":{\"line\":{\"color\":\"#2a3f5f\"}},\"annotationdefaults\":{\"arrowcolor\":\"#2a3f5f\",\"arrowhead\":0,\"arrowwidth\":1},\"geo\":{\"bgcolor\":\"white\",\"landcolor\":\"#E5ECF6\",\"subunitcolor\":\"white\",\"showland\":true,\"showlakes\":true,\"lakecolor\":\"white\"},\"title\":{\"x\":0.05},\"mapbox\":{\"style\":\"light\"}}},\"title\":{\"text\":\"R\\u00e9partition du nombre de v\\u00eatements fabriqu\\u00e9s selon les pays\"},\"height\":500,\"width\":1200,\"piecolorway\":[\"#b3e2cd\",\"#fdccac\",\"#cbd5e8\",\"#f4cae4\",\"#e6f5c9\",\"#fff2ae\",\"#f1e2cc\",\"#cccccc\",\"#decbe4\",\"#f2f2f2\",\"#ffffb3\",\"#9eb9f3\",\"#d9d9d9\"]},                        {\"responsive\": true}                    ).then(function(){\n",
              "                            \n",
              "var gd = document.getElementById('234839b3-e876-4291-8d09-b6cb5d461c07');\n",
              "var x = new MutationObserver(function (mutations, observer) {{\n",
              "        var display = window.getComputedStyle(gd).display;\n",
              "        if (!display || display === 'none') {{\n",
              "            console.log([gd, 'removed!']);\n",
              "            Plotly.purge(gd);\n",
              "            observer.disconnect();\n",
              "        }}\n",
              "}});\n",
              "\n",
              "// Listen for the removal of the full notebook cells\n",
              "var notebookContainer = gd.closest('#notebook-container');\n",
              "if (notebookContainer) {{\n",
              "    x.observe(notebookContainer, {childList: true});\n",
              "}}\n",
              "\n",
              "// Listen for the clearing of the current output cell\n",
              "var outputEl = gd.closest('.output');\n",
              "if (outputEl) {{\n",
              "    x.observe(outputEl, {childList: true});\n",
              "}}\n",
              "\n",
              "                        })                };                            </script>        </div>\n",
              "</body>\n",
              "</html>"
            ]
          },
          "metadata": {}
        }
      ],
      "source": [
        "# visualisons sur un pie chart la répartition des vêtements\n",
        "fig_steps = go.Figure(data=[go.Pie(labels=occurrences_pays.index, values=occurrences_pays.values, hole=.5)])\n",
        "fig_steps.update_layout(height=500, width=1200, title_text='Répartition du nombre de vêtements fabriqués selon les pays', piecolorway=['#b3e2cd', '#fdccac', '#cbd5e8', '#f4cae4', '#e6f5c9', '#fff2ae', '#f1e2cc', '#cccccc', '#decbe4', '#f2f2f2', '#ffffb3', '#9eb9f3', '#d9d9d9'])\n",
        "fig_steps.show()"
      ]
    },
    {
      "cell_type": "markdown",
      "metadata": {
        "id": "15Hb0CZ-Ii-1"
      },
      "source": [
        "Nous constatons que les pays les plus représentés dans les étapes de fabrication des vêtements sont : le **Bangladesh** (env. 40% des vêtements fabriqués), la **Chine** (env. 35% des vêtements), l'**Inde** (env. 17% des vêtements) et le **Pakistan** (env. 5% des vêtements). Puis arrivent (entre 0.5 et 1.35%) : le **Portugal**, la **Turquie** et le **Vietnam**. Parmi ces pays, certains figurent dans la liste des pays qui ont recours au travail des enfants pour la culture du coton (Brésil, Turquie, Chine, Inde, Pakistan) ou l'industrie du textile (Bangladesh, Chine, Inde) ou de la chaussure (Brésil)."
      ]
    },
    {
      "cell_type": "code",
      "execution_count": null,
      "metadata": {
        "colab": {
          "base_uri": "https://localhost:8080/",
          "height": 542
        },
        "id": "UcmESwxingU_",
        "outputId": "6f830948-39da-4156-ed27-d51a4373409d"
      },
      "outputs": [
        {
          "data": {
            "text/html": [
              "<html>\n",
              "<head><meta charset=\"utf-8\" /></head>\n",
              "<body>\n",
              "    <div>            <script src=\"https://cdnjs.cloudflare.com/ajax/libs/mathjax/2.7.5/MathJax.js?config=TeX-AMS-MML_SVG\"></script><script type=\"text/javascript\">if (window.MathJax && window.MathJax.Hub && window.MathJax.Hub.Config) {window.MathJax.Hub.Config({SVG: {font: \"STIX-Web\"}});}</script>                <script type=\"text/javascript\">window.PlotlyConfig = {MathJaxConfig: 'local'};</script>\n",
              "        <script src=\"https://cdn.plot.ly/plotly-2.18.2.min.js\"></script>                <div id=\"4731c10f-14b8-45f7-bf4e-137775aea60b\" class=\"plotly-graph-div\" style=\"height:525px; width:100%;\"></div>            <script type=\"text/javascript\">                                    window.PLOTLYENV=window.PLOTLYENV || {};                                    if (document.getElementById(\"4731c10f-14b8-45f7-bf4e-137775aea60b\")) {                    Plotly.newPlot(                        \"4731c10f-14b8-45f7-bf4e-137775aea60b\",                        [{\"lat\":[24.476929,35.000074,22.351115,30.33084,39.662165,38.959759,15.926666,31.172821,51.163818,42.638426,52.215933,46.227638,-10.333333],\"lon\":[90.293441,104.999927,78.667743,71.247499,-8.135352,34.924965,107.965086,-7.336248,10.447831,12.674297,19.134422,2.213749,-53.2],\"marker\":{\"color\":[5047,4269,2081,570,168,102,81,42,32,24,16,9,3],\"colorbar\":{\"title\":{\"text\":\"Nb de v\\u00eatements\"}},\"colorscale\":[[0.0,\"rgb(12,51,131)\"],[0.25,\"rgb(10,136,186)\"],[0.5,\"rgb(242,211,56)\"],[0.75,\"rgb(242,143,56)\"],[1.0,\"rgb(217,30,30)\"]],\"size\":10},\"mode\":\"markers+text\",\"text\":[\"Bangladesh\",\"Chine\",\"Inde\",\"Pakistan\",\"Portugal\",\"Turquie\",\"Vietnam\",\"Maroc\",\"Allemagne\",\"Italie\",\"Pologne\",\"France\",\"Br\\u00e9sil\"],\"textposition\":\"bottom center\",\"type\":\"scattergeo\"}],                        {\"template\":{\"data\":{\"histogram2dcontour\":[{\"type\":\"histogram2dcontour\",\"colorbar\":{\"outlinewidth\":0,\"ticks\":\"\"},\"colorscale\":[[0.0,\"#0d0887\"],[0.1111111111111111,\"#46039f\"],[0.2222222222222222,\"#7201a8\"],[0.3333333333333333,\"#9c179e\"],[0.4444444444444444,\"#bd3786\"],[0.5555555555555556,\"#d8576b\"],[0.6666666666666666,\"#ed7953\"],[0.7777777777777778,\"#fb9f3a\"],[0.8888888888888888,\"#fdca26\"],[1.0,\"#f0f921\"]]}],\"choropleth\":[{\"type\":\"choropleth\",\"colorbar\":{\"outlinewidth\":0,\"ticks\":\"\"}}],\"histogram2d\":[{\"type\":\"histogram2d\",\"colorbar\":{\"outlinewidth\":0,\"ticks\":\"\"},\"colorscale\":[[0.0,\"#0d0887\"],[0.1111111111111111,\"#46039f\"],[0.2222222222222222,\"#7201a8\"],[0.3333333333333333,\"#9c179e\"],[0.4444444444444444,\"#bd3786\"],[0.5555555555555556,\"#d8576b\"],[0.6666666666666666,\"#ed7953\"],[0.7777777777777778,\"#fb9f3a\"],[0.8888888888888888,\"#fdca26\"],[1.0,\"#f0f921\"]]}],\"heatmap\":[{\"type\":\"heatmap\",\"colorbar\":{\"outlinewidth\":0,\"ticks\":\"\"},\"colorscale\":[[0.0,\"#0d0887\"],[0.1111111111111111,\"#46039f\"],[0.2222222222222222,\"#7201a8\"],[0.3333333333333333,\"#9c179e\"],[0.4444444444444444,\"#bd3786\"],[0.5555555555555556,\"#d8576b\"],[0.6666666666666666,\"#ed7953\"],[0.7777777777777778,\"#fb9f3a\"],[0.8888888888888888,\"#fdca26\"],[1.0,\"#f0f921\"]]}],\"heatmapgl\":[{\"type\":\"heatmapgl\",\"colorbar\":{\"outlinewidth\":0,\"ticks\":\"\"},\"colorscale\":[[0.0,\"#0d0887\"],[0.1111111111111111,\"#46039f\"],[0.2222222222222222,\"#7201a8\"],[0.3333333333333333,\"#9c179e\"],[0.4444444444444444,\"#bd3786\"],[0.5555555555555556,\"#d8576b\"],[0.6666666666666666,\"#ed7953\"],[0.7777777777777778,\"#fb9f3a\"],[0.8888888888888888,\"#fdca26\"],[1.0,\"#f0f921\"]]}],\"contourcarpet\":[{\"type\":\"contourcarpet\",\"colorbar\":{\"outlinewidth\":0,\"ticks\":\"\"}}],\"contour\":[{\"type\":\"contour\",\"colorbar\":{\"outlinewidth\":0,\"ticks\":\"\"},\"colorscale\":[[0.0,\"#0d0887\"],[0.1111111111111111,\"#46039f\"],[0.2222222222222222,\"#7201a8\"],[0.3333333333333333,\"#9c179e\"],[0.4444444444444444,\"#bd3786\"],[0.5555555555555556,\"#d8576b\"],[0.6666666666666666,\"#ed7953\"],[0.7777777777777778,\"#fb9f3a\"],[0.8888888888888888,\"#fdca26\"],[1.0,\"#f0f921\"]]}],\"surface\":[{\"type\":\"surface\",\"colorbar\":{\"outlinewidth\":0,\"ticks\":\"\"},\"colorscale\":[[0.0,\"#0d0887\"],[0.1111111111111111,\"#46039f\"],[0.2222222222222222,\"#7201a8\"],[0.3333333333333333,\"#9c179e\"],[0.4444444444444444,\"#bd3786\"],[0.5555555555555556,\"#d8576b\"],[0.6666666666666666,\"#ed7953\"],[0.7777777777777778,\"#fb9f3a\"],[0.8888888888888888,\"#fdca26\"],[1.0,\"#f0f921\"]]}],\"mesh3d\":[{\"type\":\"mesh3d\",\"colorbar\":{\"outlinewidth\":0,\"ticks\":\"\"}}],\"scatter\":[{\"fillpattern\":{\"fillmode\":\"overlay\",\"size\":10,\"solidity\":0.2},\"type\":\"scatter\"}],\"parcoords\":[{\"type\":\"parcoords\",\"line\":{\"colorbar\":{\"outlinewidth\":0,\"ticks\":\"\"}}}],\"scatterpolargl\":[{\"type\":\"scatterpolargl\",\"marker\":{\"colorbar\":{\"outlinewidth\":0,\"ticks\":\"\"}}}],\"bar\":[{\"error_x\":{\"color\":\"#2a3f5f\"},\"error_y\":{\"color\":\"#2a3f5f\"},\"marker\":{\"line\":{\"color\":\"#E5ECF6\",\"width\":0.5},\"pattern\":{\"fillmode\":\"overlay\",\"size\":10,\"solidity\":0.2}},\"type\":\"bar\"}],\"scattergeo\":[{\"type\":\"scattergeo\",\"marker\":{\"colorbar\":{\"outlinewidth\":0,\"ticks\":\"\"}}}],\"scatterpolar\":[{\"type\":\"scatterpolar\",\"marker\":{\"colorbar\":{\"outlinewidth\":0,\"ticks\":\"\"}}}],\"histogram\":[{\"marker\":{\"pattern\":{\"fillmode\":\"overlay\",\"size\":10,\"solidity\":0.2}},\"type\":\"histogram\"}],\"scattergl\":[{\"type\":\"scattergl\",\"marker\":{\"colorbar\":{\"outlinewidth\":0,\"ticks\":\"\"}}}],\"scatter3d\":[{\"type\":\"scatter3d\",\"line\":{\"colorbar\":{\"outlinewidth\":0,\"ticks\":\"\"}},\"marker\":{\"colorbar\":{\"outlinewidth\":0,\"ticks\":\"\"}}}],\"scattermapbox\":[{\"type\":\"scattermapbox\",\"marker\":{\"colorbar\":{\"outlinewidth\":0,\"ticks\":\"\"}}}],\"scatterternary\":[{\"type\":\"scatterternary\",\"marker\":{\"colorbar\":{\"outlinewidth\":0,\"ticks\":\"\"}}}],\"scattercarpet\":[{\"type\":\"scattercarpet\",\"marker\":{\"colorbar\":{\"outlinewidth\":0,\"ticks\":\"\"}}}],\"carpet\":[{\"aaxis\":{\"endlinecolor\":\"#2a3f5f\",\"gridcolor\":\"white\",\"linecolor\":\"white\",\"minorgridcolor\":\"white\",\"startlinecolor\":\"#2a3f5f\"},\"baxis\":{\"endlinecolor\":\"#2a3f5f\",\"gridcolor\":\"white\",\"linecolor\":\"white\",\"minorgridcolor\":\"white\",\"startlinecolor\":\"#2a3f5f\"},\"type\":\"carpet\"}],\"table\":[{\"cells\":{\"fill\":{\"color\":\"#EBF0F8\"},\"line\":{\"color\":\"white\"}},\"header\":{\"fill\":{\"color\":\"#C8D4E3\"},\"line\":{\"color\":\"white\"}},\"type\":\"table\"}],\"barpolar\":[{\"marker\":{\"line\":{\"color\":\"#E5ECF6\",\"width\":0.5},\"pattern\":{\"fillmode\":\"overlay\",\"size\":10,\"solidity\":0.2}},\"type\":\"barpolar\"}],\"pie\":[{\"automargin\":true,\"type\":\"pie\"}]},\"layout\":{\"autotypenumbers\":\"strict\",\"colorway\":[\"#636efa\",\"#EF553B\",\"#00cc96\",\"#ab63fa\",\"#FFA15A\",\"#19d3f3\",\"#FF6692\",\"#B6E880\",\"#FF97FF\",\"#FECB52\"],\"font\":{\"color\":\"#2a3f5f\"},\"hovermode\":\"closest\",\"hoverlabel\":{\"align\":\"left\"},\"paper_bgcolor\":\"white\",\"plot_bgcolor\":\"#E5ECF6\",\"polar\":{\"bgcolor\":\"#E5ECF6\",\"angularaxis\":{\"gridcolor\":\"white\",\"linecolor\":\"white\",\"ticks\":\"\"},\"radialaxis\":{\"gridcolor\":\"white\",\"linecolor\":\"white\",\"ticks\":\"\"}},\"ternary\":{\"bgcolor\":\"#E5ECF6\",\"aaxis\":{\"gridcolor\":\"white\",\"linecolor\":\"white\",\"ticks\":\"\"},\"baxis\":{\"gridcolor\":\"white\",\"linecolor\":\"white\",\"ticks\":\"\"},\"caxis\":{\"gridcolor\":\"white\",\"linecolor\":\"white\",\"ticks\":\"\"}},\"coloraxis\":{\"colorbar\":{\"outlinewidth\":0,\"ticks\":\"\"}},\"colorscale\":{\"sequential\":[[0.0,\"#0d0887\"],[0.1111111111111111,\"#46039f\"],[0.2222222222222222,\"#7201a8\"],[0.3333333333333333,\"#9c179e\"],[0.4444444444444444,\"#bd3786\"],[0.5555555555555556,\"#d8576b\"],[0.6666666666666666,\"#ed7953\"],[0.7777777777777778,\"#fb9f3a\"],[0.8888888888888888,\"#fdca26\"],[1.0,\"#f0f921\"]],\"sequentialminus\":[[0.0,\"#0d0887\"],[0.1111111111111111,\"#46039f\"],[0.2222222222222222,\"#7201a8\"],[0.3333333333333333,\"#9c179e\"],[0.4444444444444444,\"#bd3786\"],[0.5555555555555556,\"#d8576b\"],[0.6666666666666666,\"#ed7953\"],[0.7777777777777778,\"#fb9f3a\"],[0.8888888888888888,\"#fdca26\"],[1.0,\"#f0f921\"]],\"diverging\":[[0,\"#8e0152\"],[0.1,\"#c51b7d\"],[0.2,\"#de77ae\"],[0.3,\"#f1b6da\"],[0.4,\"#fde0ef\"],[0.5,\"#f7f7f7\"],[0.6,\"#e6f5d0\"],[0.7,\"#b8e186\"],[0.8,\"#7fbc41\"],[0.9,\"#4d9221\"],[1,\"#276419\"]]},\"xaxis\":{\"gridcolor\":\"white\",\"linecolor\":\"white\",\"ticks\":\"\",\"title\":{\"standoff\":15},\"zerolinecolor\":\"white\",\"automargin\":true,\"zerolinewidth\":2},\"yaxis\":{\"gridcolor\":\"white\",\"linecolor\":\"white\",\"ticks\":\"\",\"title\":{\"standoff\":15},\"zerolinecolor\":\"white\",\"automargin\":true,\"zerolinewidth\":2},\"scene\":{\"xaxis\":{\"backgroundcolor\":\"#E5ECF6\",\"gridcolor\":\"white\",\"linecolor\":\"white\",\"showbackground\":true,\"ticks\":\"\",\"zerolinecolor\":\"white\",\"gridwidth\":2},\"yaxis\":{\"backgroundcolor\":\"#E5ECF6\",\"gridcolor\":\"white\",\"linecolor\":\"white\",\"showbackground\":true,\"ticks\":\"\",\"zerolinecolor\":\"white\",\"gridwidth\":2},\"zaxis\":{\"backgroundcolor\":\"#E5ECF6\",\"gridcolor\":\"white\",\"linecolor\":\"white\",\"showbackground\":true,\"ticks\":\"\",\"zerolinecolor\":\"white\",\"gridwidth\":2}},\"shapedefaults\":{\"line\":{\"color\":\"#2a3f5f\"}},\"annotationdefaults\":{\"arrowcolor\":\"#2a3f5f\",\"arrowhead\":0,\"arrowwidth\":1},\"geo\":{\"bgcolor\":\"white\",\"landcolor\":\"#E5ECF6\",\"subunitcolor\":\"white\",\"showland\":true,\"showlakes\":true,\"lakecolor\":\"white\"},\"title\":{\"x\":0.05},\"mapbox\":{\"style\":\"light\"}}},\"title\":{\"text\":\"Pays de fabrication des v\\u00eatements Vertbaudet\"},\"geo\":{\"scope\":\"world\",\"showcountries\":true,\"landcolor\":\"#D4EFDF\",\"coastlinecolor\":\"gray\",\"countrycolor\":\"gray\"}},                        {\"responsive\": true}                    ).then(function(){\n",
              "                            \n",
              "var gd = document.getElementById('4731c10f-14b8-45f7-bf4e-137775aea60b');\n",
              "var x = new MutationObserver(function (mutations, observer) {{\n",
              "        var display = window.getComputedStyle(gd).display;\n",
              "        if (!display || display === 'none') {{\n",
              "            console.log([gd, 'removed!']);\n",
              "            Plotly.purge(gd);\n",
              "            observer.disconnect();\n",
              "        }}\n",
              "}});\n",
              "\n",
              "// Listen for the removal of the full notebook cells\n",
              "var notebookContainer = gd.closest('#notebook-container');\n",
              "if (notebookContainer) {{\n",
              "    x.observe(notebookContainer, {childList: true});\n",
              "}}\n",
              "\n",
              "// Listen for the clearing of the current output cell\n",
              "var outputEl = gd.closest('.output');\n",
              "if (outputEl) {{\n",
              "    x.observe(outputEl, {childList: true});\n",
              "}}\n",
              "\n",
              "                        })                };                            </script>        </div>\n",
              "</body>\n",
              "</html>"
            ]
          },
          "metadata": {},
          "output_type": "display_data"
        }
      ],
      "source": [
        "# repérons les pays sur une carte afin de visualiser la distance parcourue par les vêtements jusqu'à la France\n",
        "# pour cela créons un dataframe contenant les geopoints des pays (latitudes, longitudes)\n",
        "data = {'Pays': ['Bangladesh', 'Chine', 'Inde', 'Pakistan', 'Portugal', 'Turquie', 'Vietnam', 'Maroc', 'Allemagne', 'Italie', 'Pologne', 'France', 'Brésil'],\n",
        "        'Latitude': [24.476929, 35.000074, 22.351115, 30.330840, 39.662165, 38.959759, 15.926666, 31.172821, 51.163818, 42.638426, 52.215933, 46.227638, -10.333333],\n",
        "        'Longitude': [90.293441, 104.999927, 78.667743, 71.247499, -8.135352, 34.924965, 107.965086, -7.336248, 10.447831, 12.674297, 19.134422, 2.213749, -53.200000],\n",
        "        'Nb vêtements': occurrences_pays.values}\n",
        "df_map = pd.DataFrame(data)\n",
        "\n",
        "# carte\n",
        "map = go.Figure(go.Scattergeo(lon = df_map['Longitude'], lat = df_map['Latitude'], mode = 'markers+text', text = df_map['Pays'], textposition = 'bottom center', marker = dict(size = 10, color = df_map['Nb vêtements'], colorscale = 'Portland', colorbar_title = \"Nb de vêtements\")))\n",
        "map.update_layout(title = 'Pays de fabrication des vêtements Vertbaudet')\n",
        "map.update_geos(scope='world', showcountries=True, landcolor='#D4EFDF', coastlinecolor='gray', countrycolor='gray')\n",
        "map.show()"
      ]
    },
    {
      "cell_type": "markdown",
      "metadata": {
        "id": "6HWUq4Kvy7_s"
      },
      "source": [
        "A présent nous souhaitons nous intéresser aux différentes étapes qui sont parcourues par les vêtements dans leur chaîne de fabrication. Il s'agit comme nous l'avons mentionné des 3 colonnes du dataframe récupéré sur le site Vertbaudet. Cela nous permettra de calculer un score d'empreinte carbone, qui sera fonction des distances entre chaque pays de la dernière étape et la France, mais aussi des distances entre chaque étape. Pour cela, il est nécessaire de mesurer toutes les combinaisons d'étapes."
      ]
    },
    {
      "cell_type": "code",
      "execution_count": null,
      "metadata": {
        "colab": {
          "base_uri": "https://localhost:8080/",
          "height": 613
        },
        "id": "TzNVy5jwWapF",
        "outputId": "8b894fc3-bb93-477a-a303-9c78db1c05dd"
      },
      "outputs": [
        {
          "output_type": "execute_result",
          "data": {
            "text/plain": [
              "                                  Référence article  Pourcentage\n",
              "Tissage    Teinture   Confection                                \n",
              "Bangladesh Bangladesh Bangladesh               1648    39.729990\n",
              "Chine      Chine      Chine                    1355    32.666345\n",
              "Inde       Inde       Inde                      680    16.393443\n",
              "Pakistan   Pakistan   Pakistan                  190     4.580521\n",
              "Portugal   Portugal   Portugal                   56     1.350048\n",
              "Chine      Chine      Bangladesh                 51     1.229508\n",
              "Inde       Chine      Chine                      39     0.940212\n",
              "Turquie    Turquie    Turquie                    34     0.819672\n",
              "Vietnam    Vietnam    Vietnam                    27     0.650916\n",
              "Allemagne  Allemagne  Pologne                    16     0.385728\n",
              "Chine      Bangladesh Bangladesh                 16     0.385728\n",
              "Maroc      Maroc      Maroc                      14     0.337512\n",
              "Italie     Italie     Italie                      8     0.192864\n",
              "Bangladesh Chine      Bangladesh                  7     0.168756\n",
              "Brésil     Bangladesh Bangladesh                  3     0.072324\n",
              "France     France     France                      3     0.072324\n",
              "Chine      Inde       Inde                        1     0.024108"
            ],
            "text/html": [
              "\n",
              "  <div id=\"df-1c56dce7-ee37-45ff-a57e-1cd000593ca3\">\n",
              "    <div class=\"colab-df-container\">\n",
              "      <div>\n",
              "<style scoped>\n",
              "    .dataframe tbody tr th:only-of-type {\n",
              "        vertical-align: middle;\n",
              "    }\n",
              "\n",
              "    .dataframe tbody tr th {\n",
              "        vertical-align: top;\n",
              "    }\n",
              "\n",
              "    .dataframe thead th {\n",
              "        text-align: right;\n",
              "    }\n",
              "</style>\n",
              "<table border=\"1\" class=\"dataframe\">\n",
              "  <thead>\n",
              "    <tr style=\"text-align: right;\">\n",
              "      <th></th>\n",
              "      <th></th>\n",
              "      <th></th>\n",
              "      <th>Référence article</th>\n",
              "      <th>Pourcentage</th>\n",
              "    </tr>\n",
              "    <tr>\n",
              "      <th>Tissage</th>\n",
              "      <th>Teinture</th>\n",
              "      <th>Confection</th>\n",
              "      <th></th>\n",
              "      <th></th>\n",
              "    </tr>\n",
              "  </thead>\n",
              "  <tbody>\n",
              "    <tr>\n",
              "      <th>Bangladesh</th>\n",
              "      <th>Bangladesh</th>\n",
              "      <th>Bangladesh</th>\n",
              "      <td>1648</td>\n",
              "      <td>39.729990</td>\n",
              "    </tr>\n",
              "    <tr>\n",
              "      <th>Chine</th>\n",
              "      <th>Chine</th>\n",
              "      <th>Chine</th>\n",
              "      <td>1355</td>\n",
              "      <td>32.666345</td>\n",
              "    </tr>\n",
              "    <tr>\n",
              "      <th>Inde</th>\n",
              "      <th>Inde</th>\n",
              "      <th>Inde</th>\n",
              "      <td>680</td>\n",
              "      <td>16.393443</td>\n",
              "    </tr>\n",
              "    <tr>\n",
              "      <th>Pakistan</th>\n",
              "      <th>Pakistan</th>\n",
              "      <th>Pakistan</th>\n",
              "      <td>190</td>\n",
              "      <td>4.580521</td>\n",
              "    </tr>\n",
              "    <tr>\n",
              "      <th>Portugal</th>\n",
              "      <th>Portugal</th>\n",
              "      <th>Portugal</th>\n",
              "      <td>56</td>\n",
              "      <td>1.350048</td>\n",
              "    </tr>\n",
              "    <tr>\n",
              "      <th>Chine</th>\n",
              "      <th>Chine</th>\n",
              "      <th>Bangladesh</th>\n",
              "      <td>51</td>\n",
              "      <td>1.229508</td>\n",
              "    </tr>\n",
              "    <tr>\n",
              "      <th>Inde</th>\n",
              "      <th>Chine</th>\n",
              "      <th>Chine</th>\n",
              "      <td>39</td>\n",
              "      <td>0.940212</td>\n",
              "    </tr>\n",
              "    <tr>\n",
              "      <th>Turquie</th>\n",
              "      <th>Turquie</th>\n",
              "      <th>Turquie</th>\n",
              "      <td>34</td>\n",
              "      <td>0.819672</td>\n",
              "    </tr>\n",
              "    <tr>\n",
              "      <th>Vietnam</th>\n",
              "      <th>Vietnam</th>\n",
              "      <th>Vietnam</th>\n",
              "      <td>27</td>\n",
              "      <td>0.650916</td>\n",
              "    </tr>\n",
              "    <tr>\n",
              "      <th>Allemagne</th>\n",
              "      <th>Allemagne</th>\n",
              "      <th>Pologne</th>\n",
              "      <td>16</td>\n",
              "      <td>0.385728</td>\n",
              "    </tr>\n",
              "    <tr>\n",
              "      <th>Chine</th>\n",
              "      <th>Bangladesh</th>\n",
              "      <th>Bangladesh</th>\n",
              "      <td>16</td>\n",
              "      <td>0.385728</td>\n",
              "    </tr>\n",
              "    <tr>\n",
              "      <th>Maroc</th>\n",
              "      <th>Maroc</th>\n",
              "      <th>Maroc</th>\n",
              "      <td>14</td>\n",
              "      <td>0.337512</td>\n",
              "    </tr>\n",
              "    <tr>\n",
              "      <th>Italie</th>\n",
              "      <th>Italie</th>\n",
              "      <th>Italie</th>\n",
              "      <td>8</td>\n",
              "      <td>0.192864</td>\n",
              "    </tr>\n",
              "    <tr>\n",
              "      <th>Bangladesh</th>\n",
              "      <th>Chine</th>\n",
              "      <th>Bangladesh</th>\n",
              "      <td>7</td>\n",
              "      <td>0.168756</td>\n",
              "    </tr>\n",
              "    <tr>\n",
              "      <th>Brésil</th>\n",
              "      <th>Bangladesh</th>\n",
              "      <th>Bangladesh</th>\n",
              "      <td>3</td>\n",
              "      <td>0.072324</td>\n",
              "    </tr>\n",
              "    <tr>\n",
              "      <th>France</th>\n",
              "      <th>France</th>\n",
              "      <th>France</th>\n",
              "      <td>3</td>\n",
              "      <td>0.072324</td>\n",
              "    </tr>\n",
              "    <tr>\n",
              "      <th>Chine</th>\n",
              "      <th>Inde</th>\n",
              "      <th>Inde</th>\n",
              "      <td>1</td>\n",
              "      <td>0.024108</td>\n",
              "    </tr>\n",
              "  </tbody>\n",
              "</table>\n",
              "</div>\n",
              "      <button class=\"colab-df-convert\" onclick=\"convertToInteractive('df-1c56dce7-ee37-45ff-a57e-1cd000593ca3')\"\n",
              "              title=\"Convert this dataframe to an interactive table.\"\n",
              "              style=\"display:none;\">\n",
              "        \n",
              "  <svg xmlns=\"http://www.w3.org/2000/svg\" height=\"24px\"viewBox=\"0 0 24 24\"\n",
              "       width=\"24px\">\n",
              "    <path d=\"M0 0h24v24H0V0z\" fill=\"none\"/>\n",
              "    <path d=\"M18.56 5.44l.94 2.06.94-2.06 2.06-.94-2.06-.94-.94-2.06-.94 2.06-2.06.94zm-11 1L8.5 8.5l.94-2.06 2.06-.94-2.06-.94L8.5 2.5l-.94 2.06-2.06.94zm10 10l.94 2.06.94-2.06 2.06-.94-2.06-.94-.94-2.06-.94 2.06-2.06.94z\"/><path d=\"M17.41 7.96l-1.37-1.37c-.4-.4-.92-.59-1.43-.59-.52 0-1.04.2-1.43.59L10.3 9.45l-7.72 7.72c-.78.78-.78 2.05 0 2.83L4 21.41c.39.39.9.59 1.41.59.51 0 1.02-.2 1.41-.59l7.78-7.78 2.81-2.81c.8-.78.8-2.07 0-2.86zM5.41 20L4 18.59l7.72-7.72 1.47 1.35L5.41 20z\"/>\n",
              "  </svg>\n",
              "      </button>\n",
              "      \n",
              "  <style>\n",
              "    .colab-df-container {\n",
              "      display:flex;\n",
              "      flex-wrap:wrap;\n",
              "      gap: 12px;\n",
              "    }\n",
              "\n",
              "    .colab-df-convert {\n",
              "      background-color: #E8F0FE;\n",
              "      border: none;\n",
              "      border-radius: 50%;\n",
              "      cursor: pointer;\n",
              "      display: none;\n",
              "      fill: #1967D2;\n",
              "      height: 32px;\n",
              "      padding: 0 0 0 0;\n",
              "      width: 32px;\n",
              "    }\n",
              "\n",
              "    .colab-df-convert:hover {\n",
              "      background-color: #E2EBFA;\n",
              "      box-shadow: 0px 1px 2px rgba(60, 64, 67, 0.3), 0px 1px 3px 1px rgba(60, 64, 67, 0.15);\n",
              "      fill: #174EA6;\n",
              "    }\n",
              "\n",
              "    [theme=dark] .colab-df-convert {\n",
              "      background-color: #3B4455;\n",
              "      fill: #D2E3FC;\n",
              "    }\n",
              "\n",
              "    [theme=dark] .colab-df-convert:hover {\n",
              "      background-color: #434B5C;\n",
              "      box-shadow: 0px 1px 3px 1px rgba(0, 0, 0, 0.15);\n",
              "      filter: drop-shadow(0px 1px 2px rgba(0, 0, 0, 0.3));\n",
              "      fill: #FFFFFF;\n",
              "    }\n",
              "  </style>\n",
              "\n",
              "      <script>\n",
              "        const buttonEl =\n",
              "          document.querySelector('#df-1c56dce7-ee37-45ff-a57e-1cd000593ca3 button.colab-df-convert');\n",
              "        buttonEl.style.display =\n",
              "          google.colab.kernel.accessAllowed ? 'block' : 'none';\n",
              "\n",
              "        async function convertToInteractive(key) {\n",
              "          const element = document.querySelector('#df-1c56dce7-ee37-45ff-a57e-1cd000593ca3');\n",
              "          const dataTable =\n",
              "            await google.colab.kernel.invokeFunction('convertToInteractive',\n",
              "                                                     [key], {});\n",
              "          if (!dataTable) return;\n",
              "\n",
              "          const docLinkHtml = 'Like what you see? Visit the ' +\n",
              "            '<a target=\"_blank\" href=https://colab.research.google.com/notebooks/data_table.ipynb>data table notebook</a>'\n",
              "            + ' to learn more about interactive tables.';\n",
              "          element.innerHTML = '';\n",
              "          dataTable['output_type'] = 'display_data';\n",
              "          await google.colab.output.renderOutput(dataTable, element);\n",
              "          const docLink = document.createElement('div');\n",
              "          docLink.innerHTML = docLinkHtml;\n",
              "          element.appendChild(docLink);\n",
              "        }\n",
              "      </script>\n",
              "    </div>\n",
              "  </div>\n",
              "  "
            ]
          },
          "metadata": {},
          "execution_count": 7
        }
      ],
      "source": [
        "# observons la combinaison des étapes de fabrication : pour cela, utilisons une table pivot qui va arranger les données en les agrégeant (count) selon les 3 étapes considérées comme multi-index\n",
        "table = pd.pivot_table(df_countries, index=['Tissage', 'Teinture', 'Confection'], values='Référence article', aggfunc='count') # création de la table pivot\n",
        "table = table.sort_values('Référence article', ascending=False) # tri décroissant\n",
        "table['Pourcentage'] = table['Référence article'] / table['Référence article'].sum() * 100 # ajout d'une colonne contenant le % de chaque combinaison d'étapes pour une meilleure visibilité des chiffres\n",
        "table # 4148 articles au total"
      ]
    },
    {
      "cell_type": "code",
      "execution_count": null,
      "metadata": {
        "colab": {
          "base_uri": "https://localhost:8080/",
          "height": 542
        },
        "id": "bVBkPrq9ZkmS",
        "outputId": "006abf09-8ec8-4ae5-c6c9-84410018f239"
      },
      "outputs": [
        {
          "output_type": "display_data",
          "data": {
            "text/html": [
              "<html>\n",
              "<head><meta charset=\"utf-8\" /></head>\n",
              "<body>\n",
              "    <div>            <script src=\"https://cdnjs.cloudflare.com/ajax/libs/mathjax/2.7.5/MathJax.js?config=TeX-AMS-MML_SVG\"></script><script type=\"text/javascript\">if (window.MathJax && window.MathJax.Hub && window.MathJax.Hub.Config) {window.MathJax.Hub.Config({SVG: {font: \"STIX-Web\"}});}</script>                <script type=\"text/javascript\">window.PlotlyConfig = {MathJaxConfig: 'local'};</script>\n",
              "        <script src=\"https://cdn.plot.ly/plotly-2.18.2.min.js\"></script>                <div id=\"161826fe-0868-4c39-a359-915dc6c466ba\" class=\"plotly-graph-div\" style=\"height:525px; width:100%;\"></div>            <script type=\"text/javascript\">                                    window.PLOTLYENV=window.PLOTLYENV || {};                                    if (document.getElementById(\"161826fe-0868-4c39-a359-915dc6c466ba\")) {                    Plotly.newPlot(                        \"161826fe-0868-4c39-a359-915dc6c466ba\",                        [{\"marker\":{\"color\":\"pink\"},\"orientation\":\"h\",\"text\":[1648.0,1355.0,680.0,190.0,56.0,51.0,39.0,34.0,27.0,16.0,16.0,14.0,8.0,7.0,3.0,3.0,1.0],\"textposition\":\"outside\",\"x\":[1648,1355,680,190,56,51,39,34,27,16,16,14,8,7,3,3,1],\"y\":[\"Bangladesh - Bangladesh - Bangladesh\",\"Chine - Chine - Chine\",\"Inde - Inde - Inde\",\"Pakistan - Pakistan - Pakistan\",\"Portugal - Portugal - Portugal\",\"Chine - Chine - Bangladesh\",\"Inde - Chine - Chine\",\"Turquie - Turquie - Turquie\",\"Vietnam - Vietnam - Vietnam\",\"Allemagne - Allemagne - Pologne\",\"Chine - Bangladesh - Bangladesh\",\"Maroc - Maroc - Maroc\",\"Italie - Italie - Italie\",\"Bangladesh - Chine - Bangladesh\",\"Br\\u00e9sil - Bangladesh - Bangladesh\",\"France - France - France\",\"Chine - Inde - Inde\"],\"type\":\"bar\"}],                        {\"template\":{\"data\":{\"histogram2dcontour\":[{\"type\":\"histogram2dcontour\",\"colorbar\":{\"outlinewidth\":0,\"ticks\":\"\"},\"colorscale\":[[0.0,\"#0d0887\"],[0.1111111111111111,\"#46039f\"],[0.2222222222222222,\"#7201a8\"],[0.3333333333333333,\"#9c179e\"],[0.4444444444444444,\"#bd3786\"],[0.5555555555555556,\"#d8576b\"],[0.6666666666666666,\"#ed7953\"],[0.7777777777777778,\"#fb9f3a\"],[0.8888888888888888,\"#fdca26\"],[1.0,\"#f0f921\"]]}],\"choropleth\":[{\"type\":\"choropleth\",\"colorbar\":{\"outlinewidth\":0,\"ticks\":\"\"}}],\"histogram2d\":[{\"type\":\"histogram2d\",\"colorbar\":{\"outlinewidth\":0,\"ticks\":\"\"},\"colorscale\":[[0.0,\"#0d0887\"],[0.1111111111111111,\"#46039f\"],[0.2222222222222222,\"#7201a8\"],[0.3333333333333333,\"#9c179e\"],[0.4444444444444444,\"#bd3786\"],[0.5555555555555556,\"#d8576b\"],[0.6666666666666666,\"#ed7953\"],[0.7777777777777778,\"#fb9f3a\"],[0.8888888888888888,\"#fdca26\"],[1.0,\"#f0f921\"]]}],\"heatmap\":[{\"type\":\"heatmap\",\"colorbar\":{\"outlinewidth\":0,\"ticks\":\"\"},\"colorscale\":[[0.0,\"#0d0887\"],[0.1111111111111111,\"#46039f\"],[0.2222222222222222,\"#7201a8\"],[0.3333333333333333,\"#9c179e\"],[0.4444444444444444,\"#bd3786\"],[0.5555555555555556,\"#d8576b\"],[0.6666666666666666,\"#ed7953\"],[0.7777777777777778,\"#fb9f3a\"],[0.8888888888888888,\"#fdca26\"],[1.0,\"#f0f921\"]]}],\"heatmapgl\":[{\"type\":\"heatmapgl\",\"colorbar\":{\"outlinewidth\":0,\"ticks\":\"\"},\"colorscale\":[[0.0,\"#0d0887\"],[0.1111111111111111,\"#46039f\"],[0.2222222222222222,\"#7201a8\"],[0.3333333333333333,\"#9c179e\"],[0.4444444444444444,\"#bd3786\"],[0.5555555555555556,\"#d8576b\"],[0.6666666666666666,\"#ed7953\"],[0.7777777777777778,\"#fb9f3a\"],[0.8888888888888888,\"#fdca26\"],[1.0,\"#f0f921\"]]}],\"contourcarpet\":[{\"type\":\"contourcarpet\",\"colorbar\":{\"outlinewidth\":0,\"ticks\":\"\"}}],\"contour\":[{\"type\":\"contour\",\"colorbar\":{\"outlinewidth\":0,\"ticks\":\"\"},\"colorscale\":[[0.0,\"#0d0887\"],[0.1111111111111111,\"#46039f\"],[0.2222222222222222,\"#7201a8\"],[0.3333333333333333,\"#9c179e\"],[0.4444444444444444,\"#bd3786\"],[0.5555555555555556,\"#d8576b\"],[0.6666666666666666,\"#ed7953\"],[0.7777777777777778,\"#fb9f3a\"],[0.8888888888888888,\"#fdca26\"],[1.0,\"#f0f921\"]]}],\"surface\":[{\"type\":\"surface\",\"colorbar\":{\"outlinewidth\":0,\"ticks\":\"\"},\"colorscale\":[[0.0,\"#0d0887\"],[0.1111111111111111,\"#46039f\"],[0.2222222222222222,\"#7201a8\"],[0.3333333333333333,\"#9c179e\"],[0.4444444444444444,\"#bd3786\"],[0.5555555555555556,\"#d8576b\"],[0.6666666666666666,\"#ed7953\"],[0.7777777777777778,\"#fb9f3a\"],[0.8888888888888888,\"#fdca26\"],[1.0,\"#f0f921\"]]}],\"mesh3d\":[{\"type\":\"mesh3d\",\"colorbar\":{\"outlinewidth\":0,\"ticks\":\"\"}}],\"scatter\":[{\"fillpattern\":{\"fillmode\":\"overlay\",\"size\":10,\"solidity\":0.2},\"type\":\"scatter\"}],\"parcoords\":[{\"type\":\"parcoords\",\"line\":{\"colorbar\":{\"outlinewidth\":0,\"ticks\":\"\"}}}],\"scatterpolargl\":[{\"type\":\"scatterpolargl\",\"marker\":{\"colorbar\":{\"outlinewidth\":0,\"ticks\":\"\"}}}],\"bar\":[{\"error_x\":{\"color\":\"#2a3f5f\"},\"error_y\":{\"color\":\"#2a3f5f\"},\"marker\":{\"line\":{\"color\":\"#E5ECF6\",\"width\":0.5},\"pattern\":{\"fillmode\":\"overlay\",\"size\":10,\"solidity\":0.2}},\"type\":\"bar\"}],\"scattergeo\":[{\"type\":\"scattergeo\",\"marker\":{\"colorbar\":{\"outlinewidth\":0,\"ticks\":\"\"}}}],\"scatterpolar\":[{\"type\":\"scatterpolar\",\"marker\":{\"colorbar\":{\"outlinewidth\":0,\"ticks\":\"\"}}}],\"histogram\":[{\"marker\":{\"pattern\":{\"fillmode\":\"overlay\",\"size\":10,\"solidity\":0.2}},\"type\":\"histogram\"}],\"scattergl\":[{\"type\":\"scattergl\",\"marker\":{\"colorbar\":{\"outlinewidth\":0,\"ticks\":\"\"}}}],\"scatter3d\":[{\"type\":\"scatter3d\",\"line\":{\"colorbar\":{\"outlinewidth\":0,\"ticks\":\"\"}},\"marker\":{\"colorbar\":{\"outlinewidth\":0,\"ticks\":\"\"}}}],\"scattermapbox\":[{\"type\":\"scattermapbox\",\"marker\":{\"colorbar\":{\"outlinewidth\":0,\"ticks\":\"\"}}}],\"scatterternary\":[{\"type\":\"scatterternary\",\"marker\":{\"colorbar\":{\"outlinewidth\":0,\"ticks\":\"\"}}}],\"scattercarpet\":[{\"type\":\"scattercarpet\",\"marker\":{\"colorbar\":{\"outlinewidth\":0,\"ticks\":\"\"}}}],\"carpet\":[{\"aaxis\":{\"endlinecolor\":\"#2a3f5f\",\"gridcolor\":\"white\",\"linecolor\":\"white\",\"minorgridcolor\":\"white\",\"startlinecolor\":\"#2a3f5f\"},\"baxis\":{\"endlinecolor\":\"#2a3f5f\",\"gridcolor\":\"white\",\"linecolor\":\"white\",\"minorgridcolor\":\"white\",\"startlinecolor\":\"#2a3f5f\"},\"type\":\"carpet\"}],\"table\":[{\"cells\":{\"fill\":{\"color\":\"#EBF0F8\"},\"line\":{\"color\":\"white\"}},\"header\":{\"fill\":{\"color\":\"#C8D4E3\"},\"line\":{\"color\":\"white\"}},\"type\":\"table\"}],\"barpolar\":[{\"marker\":{\"line\":{\"color\":\"#E5ECF6\",\"width\":0.5},\"pattern\":{\"fillmode\":\"overlay\",\"size\":10,\"solidity\":0.2}},\"type\":\"barpolar\"}],\"pie\":[{\"automargin\":true,\"type\":\"pie\"}]},\"layout\":{\"autotypenumbers\":\"strict\",\"colorway\":[\"#636efa\",\"#EF553B\",\"#00cc96\",\"#ab63fa\",\"#FFA15A\",\"#19d3f3\",\"#FF6692\",\"#B6E880\",\"#FF97FF\",\"#FECB52\"],\"font\":{\"color\":\"#2a3f5f\"},\"hovermode\":\"closest\",\"hoverlabel\":{\"align\":\"left\"},\"paper_bgcolor\":\"white\",\"plot_bgcolor\":\"#E5ECF6\",\"polar\":{\"bgcolor\":\"#E5ECF6\",\"angularaxis\":{\"gridcolor\":\"white\",\"linecolor\":\"white\",\"ticks\":\"\"},\"radialaxis\":{\"gridcolor\":\"white\",\"linecolor\":\"white\",\"ticks\":\"\"}},\"ternary\":{\"bgcolor\":\"#E5ECF6\",\"aaxis\":{\"gridcolor\":\"white\",\"linecolor\":\"white\",\"ticks\":\"\"},\"baxis\":{\"gridcolor\":\"white\",\"linecolor\":\"white\",\"ticks\":\"\"},\"caxis\":{\"gridcolor\":\"white\",\"linecolor\":\"white\",\"ticks\":\"\"}},\"coloraxis\":{\"colorbar\":{\"outlinewidth\":0,\"ticks\":\"\"}},\"colorscale\":{\"sequential\":[[0.0,\"#0d0887\"],[0.1111111111111111,\"#46039f\"],[0.2222222222222222,\"#7201a8\"],[0.3333333333333333,\"#9c179e\"],[0.4444444444444444,\"#bd3786\"],[0.5555555555555556,\"#d8576b\"],[0.6666666666666666,\"#ed7953\"],[0.7777777777777778,\"#fb9f3a\"],[0.8888888888888888,\"#fdca26\"],[1.0,\"#f0f921\"]],\"sequentialminus\":[[0.0,\"#0d0887\"],[0.1111111111111111,\"#46039f\"],[0.2222222222222222,\"#7201a8\"],[0.3333333333333333,\"#9c179e\"],[0.4444444444444444,\"#bd3786\"],[0.5555555555555556,\"#d8576b\"],[0.6666666666666666,\"#ed7953\"],[0.7777777777777778,\"#fb9f3a\"],[0.8888888888888888,\"#fdca26\"],[1.0,\"#f0f921\"]],\"diverging\":[[0,\"#8e0152\"],[0.1,\"#c51b7d\"],[0.2,\"#de77ae\"],[0.3,\"#f1b6da\"],[0.4,\"#fde0ef\"],[0.5,\"#f7f7f7\"],[0.6,\"#e6f5d0\"],[0.7,\"#b8e186\"],[0.8,\"#7fbc41\"],[0.9,\"#4d9221\"],[1,\"#276419\"]]},\"xaxis\":{\"gridcolor\":\"white\",\"linecolor\":\"white\",\"ticks\":\"\",\"title\":{\"standoff\":15},\"zerolinecolor\":\"white\",\"automargin\":true,\"zerolinewidth\":2},\"yaxis\":{\"gridcolor\":\"white\",\"linecolor\":\"white\",\"ticks\":\"\",\"title\":{\"standoff\":15},\"zerolinecolor\":\"white\",\"automargin\":true,\"zerolinewidth\":2},\"scene\":{\"xaxis\":{\"backgroundcolor\":\"#E5ECF6\",\"gridcolor\":\"white\",\"linecolor\":\"white\",\"showbackground\":true,\"ticks\":\"\",\"zerolinecolor\":\"white\",\"gridwidth\":2},\"yaxis\":{\"backgroundcolor\":\"#E5ECF6\",\"gridcolor\":\"white\",\"linecolor\":\"white\",\"showbackground\":true,\"ticks\":\"\",\"zerolinecolor\":\"white\",\"gridwidth\":2},\"zaxis\":{\"backgroundcolor\":\"#E5ECF6\",\"gridcolor\":\"white\",\"linecolor\":\"white\",\"showbackground\":true,\"ticks\":\"\",\"zerolinecolor\":\"white\",\"gridwidth\":2}},\"shapedefaults\":{\"line\":{\"color\":\"#2a3f5f\"}},\"annotationdefaults\":{\"arrowcolor\":\"#2a3f5f\",\"arrowhead\":0,\"arrowwidth\":1},\"geo\":{\"bgcolor\":\"white\",\"landcolor\":\"#E5ECF6\",\"subunitcolor\":\"white\",\"showland\":true,\"showlakes\":true,\"lakecolor\":\"white\"},\"title\":{\"x\":0.05},\"mapbox\":{\"style\":\"light\"}}},\"margin\":{\"l\":150,\"r\":50,\"t\":50,\"b\":50},\"title\":{\"text\":\"Les diff\\u00e9rentes combinaisons d'\\u00e9tapes de fabrication\"},\"plot_bgcolor\":\"rgba(0,0,0,0)\",\"xaxis\":{\"title\":{\"text\":\"Nombre de v\\u00eatements\"}},\"bargap\":0.15,\"yaxis\":{\"categoryorder\":\"array\",\"categoryarray\":[\"Chine - Inde - Inde\",\"Br\\u00e9sil - Bangladesh - Bangladesh\",\"France - France - France\",\"Bangladesh - Chine - Bangladesh\",\"Italie - Italie - Italie\",\"Maroc - Maroc - Maroc\",\"Chine - Bangladesh - Bangladesh\",\"Allemagne - Allemagne - Pologne\",\"Vietnam - Vietnam - Vietnam\",\"Turquie - Turquie - Turquie\",\"Inde - Chine - Chine\",\"Chine - Chine - Bangladesh\",\"Portugal - Portugal - Portugal\",\"Pakistan - Pakistan - Pakistan\",\"Inde - Inde - Inde\",\"Chine - Chine - Chine\",\"Bangladesh - Bangladesh - Bangladesh\"]}},                        {\"responsive\": true}                    ).then(function(){\n",
              "                            \n",
              "var gd = document.getElementById('161826fe-0868-4c39-a359-915dc6c466ba');\n",
              "var x = new MutationObserver(function (mutations, observer) {{\n",
              "        var display = window.getComputedStyle(gd).display;\n",
              "        if (!display || display === 'none') {{\n",
              "            console.log([gd, 'removed!']);\n",
              "            Plotly.purge(gd);\n",
              "            observer.disconnect();\n",
              "        }}\n",
              "}});\n",
              "\n",
              "// Listen for the removal of the full notebook cells\n",
              "var notebookContainer = gd.closest('#notebook-container');\n",
              "if (notebookContainer) {{\n",
              "    x.observe(notebookContainer, {childList: true});\n",
              "}}\n",
              "\n",
              "// Listen for the clearing of the current output cell\n",
              "var outputEl = gd.closest('.output');\n",
              "if (outputEl) {{\n",
              "    x.observe(outputEl, {childList: true});\n",
              "}}\n",
              "\n",
              "                        })                };                            </script>        </div>\n",
              "</body>\n",
              "</html>"
            ]
          },
          "metadata": {}
        }
      ],
      "source": [
        "# visualisons le résultat sur un bar chart horizontal\n",
        "comb_steps = go.Figure(go.Bar(x=table['Référence article'], y=table.index.map(lambda x: ' - '.join(x)), text=table['Référence article'], textposition='outside', orientation='h', marker_color='pink'))\n",
        "comb_steps.update_layout(title=\"Les différentes combinaisons d'étapes de fabrication\", plot_bgcolor=\"rgba(0,0,0,0)\", xaxis_title='Nombre de vêtements', bargap=0.15, margin=dict(l=150, r=50, t=50, b=50))\n",
        "comb_steps.update_layout(yaxis_categoryorder='array', yaxis={'categoryarray': table.sort_values('Pourcentage', ascending=True).index.get_level_values(0) + \" - \" + table.sort_values('Pourcentage', ascending=True).index.get_level_values(1) + \" - \" + table.sort_values('Pourcentage', ascending=True).index.get_level_values(2)})\n",
        "comb_steps.show()"
      ]
    },
    {
      "cell_type": "markdown",
      "metadata": {
        "id": "2YQDDA1Z0Ngk"
      },
      "source": [
        "Calculons à présent **les distances** : notre raisonnement est le suivant : nous calculons, à l'aide de la fonction haversine() présente dans une bibliothèque Python, la distance depuis le pays de la 3e étape jusqu'à la France, en ajoutant les étapes intermédiaires. Nous partons du principe que les vêtements ne font qu'un voyage du pays de confection vers la France, par conséquent si le pays est déjà comptabilisé pour la phase 3 dans un calcul précédent, nous ne considérons pas cela comme une distance supplémentaire vers la France.</br>\n",
        "**La fonction haversine()** se base sur la formule du même nom, qui est utilisée pour calculer la distance entre deux points sur une sphère à partir de leurs **geopoints** (coordonnées de longitude et de latitude). Elle calcule la distance la plus courte entre deux points à la surface d'un objet sphérique, comme la Terre.</br>\n",
        "Dans le dataframe utilisé, du fait de l'absence de schéma constant dans les étapes, il ne nous a pas été possible d'automatiser ces calculs à l'intérieur d'une boucle dans notre programme. Un traitement de chaque ligne au cas par cas nous a paru ici plus optimal."
      ]
    },
    {
      "cell_type": "code",
      "execution_count": null,
      "metadata": {
        "id": "shGk8c5Wbved"
      },
      "outputs": [],
      "source": [
        "# calculons les distances\n",
        "coord_france = (46.603354,1.8883335)\n",
        "dist_1 = haversine((24.4769288,90.2934413), coord_france, unit=Unit.KILOMETERS) # distance pour la 1re combinaison d'étapes : Bangladesh->France\n",
        "dist_2 = haversine((35.000074,104.999927), coord_france, unit=Unit.KILOMETERS) # Chine->France\n",
        "dist_3 = haversine((22.3511148,78.6677428), coord_france, unit=Unit.KILOMETERS) # Inde->France\n",
        "dist_4 = haversine((30.3308401,71.247499), coord_france, unit=Unit.KILOMETERS) # Pakistan->France\n",
        "dist_5 = haversine((39.6621648,-8.1353519), coord_france, unit=Unit.KILOMETERS) # Portugal->France\n",
        "dist_6 = haversine((35.000074,104.999927), (24.4769288,90.2934413), unit=Unit.KILOMETERS) # Chine->Bangladesh\n",
        "dist_7 = haversine((22.3511148,78.6677428), (35.000074,104.999927), unit=Unit.KILOMETERS) # Inde->Chine\n",
        "dist_8 = haversine((38.9597594,34.9249653), coord_france, unit=Unit.KILOMETERS) # Turquie->France\n",
        "dist_9 = haversine((15.9266657,107.9650855), coord_france, unit=Unit.KILOMETERS) # Vietnam->France\n",
        "dist_10 = haversine((51.1638175,10.4478313), (52.215933,19.134422), unit=Unit.KILOMETERS) + haversine((52.215933,19.134422), coord_france, unit=Unit.KILOMETERS)  # Allemagne->Pologne->France\n",
        "dist_11 = haversine((35.000074,104.999927), (24.4769288,90.2934413), unit=Unit.KILOMETERS) # Chine->Bangladesh\n",
        "dist_12 = haversine((31.1728205,-7.3362482), coord_france, unit=Unit.KILOMETERS) # Maroc->France\n",
        "dist_13 = haversine((42.6384261,12.674297), coord_france, unit=Unit.KILOMETERS) # Italie->France\n",
        "dist_14 = haversine((35.000074,104.999927), (24.4769288,90.2934413), unit=Unit.KILOMETERS) # Chine->Bangladesh\n",
        "dist_15 = haversine((-10.3333333,-53.2), (24.4769288,90.2934413), unit=Unit.KILOMETERS) # Brésil->Bangladesh\n",
        "dist_16 = haversine(coord_france, coord_france, unit=Unit.KILOMETERS) # France->France\n",
        "dist_17 = haversine((35.000074,104.999927), (22.3511148,78.6677428), unit=Unit.KILOMETERS) # Chine->Inde\n",
        "distances = [dist_1, dist_2, dist_3, dist_4, dist_5, dist_6, dist_7, dist_8, dist_9, dist_10, dist_11, dist_12, dist_13, dist_14, dist_15, dist_16, dist_17]\n",
        "table = table.assign(Distances=distances)"
      ]
    },
    {
      "cell_type": "markdown",
      "metadata": {
        "id": "P0HvovPK2sbk"
      },
      "source": [
        "A présent que nous avons les distances, nous pouvons nous pencher sur l'**empreinte carbone**. Pour cela il nous faut ajouter **les poids des vêtements**, nécessaires pour mesurer l'empreinte carbone. Nous considérerons un poids moyen par vêtement, étant donné que nous n'avons pas pu récupérer les nom/types de vêtements. Ici, nous allons fixer 250g comme poids moyen pour un vêtement d'enfant, en nous basant sur quelques recherches sur des sites spécialisés. \n",
        "\n",
        "```\n",
        "# poids = nombre de vêtements * 0.25 kg\n",
        "```\n",
        "\n"
      ]
    },
    {
      "cell_type": "code",
      "execution_count": null,
      "metadata": {
        "id": "CLsbZsJ1nfWl"
      },
      "outputs": [],
      "source": [
        "# ajoutons les poids dans le dataframe\n",
        "weights = table['Référence article'] * 0.25\n",
        "table = table.assign(Poids=weights)"
      ]
    },
    {
      "cell_type": "markdown",
      "metadata": {
        "id": "EKg-E8Rs3qiN"
      },
      "source": [
        "Nous choisissons dans cette étude de mesurer l'**empreinte carbone (ou émission de gaz à effet de serre)** et non le taux de CO2 émis car l'empreinte carbone nous paraît plus adaptée, complète et précise, puisqu'elle englobe l'ensemble des gaz émis pour une production ou une activité. Certains, comme le méthane, ont un potentiel de réchauffement climatique 25x plus important que le CO2 [[1]](https://greenly.earth/fr-fr/blog/actualites-ecologie/empreinte-carbone-comparatif-transports). L'empreinte carbone est généralement mesurée en tonnes équivalent CO2 (t/eqCO2), mais il est possible aussi de le faire en kg, comme nous allons le faire ici.\n",
        "</br>\n",
        "Notre calcul sera décomposé en deux indicateurs : le coût du **trajet en avion** pour le transport des vêtements, et le **coût de l'activité de production**.\n",
        "```\n",
        "# au total : \n",
        "# empreinte carbone totale = distance * empreinte liée au trajet + poids vêtements * empreinte liée à la production\n",
        "```\n",
        "**Pour le trajet** : un avion rejette en moyenne 360 g équivalents CO2 pour 1 km [[2]](https://consommerresponsable.com/empreinte-carbone-mode-de-transport-plus-polluant/). \n",
        "\n",
        "```\n",
        "# empreinte carbone trajet = distance en km * 0.36 kg equiv. CO2\n",
        "```\n",
        "**Pour la production** : en 2019, 1 kg de textile consommé en France (dans un vêtement ou un linge de maison grand public) génère 54 kg d’équivalent CO2 (avec une production importée à 95,7%) [[3]](https://www.franceindustrie.org/wp-franceindustrie/wp-content/uploads/2021/02/Synthese-Etude-UIT-Empreinte-carbone-280121.pdf). \n",
        "\n",
        "```\n",
        "# empreinte carbone production = poids en kg * 54 kg equiv. CO2\n",
        "```\n",
        "\n",
        "\n",
        "\n",
        "\n"
      ]
    },
    {
      "cell_type": "code",
      "execution_count": null,
      "metadata": {
        "id": "PxBqefbos2YR"
      },
      "outputs": [],
      "source": [
        "# ajoutons l'empreinte carbone (en kg équivalent CO2) (kg/eqCO2) selon la distance et l'activité de production du vêtement\n",
        "carbon_footprint = table['Distances'] * 0.36 + table['Poids'] * 54\n",
        "table = table.assign(Empreinte_carbone=carbon_footprint)"
      ]
    },
    {
      "cell_type": "markdown",
      "metadata": {
        "id": "5MvJ0Tf4Fbl4"
      },
      "source": [
        "Calculons maintenant un score d'empreinte eau, soit la consommation d'eau demandée pour la production des vêtements de la marque présents dans ce dataset.\n",
        "Notre calcul sera décomposé de la manière suivante, respectant les étapes parcourues par un vêtement pour sa fabrication : étape de **culture des matières premières** lorsqu'elle sont naturelles ou artificielles, étape de **teinture** et étape de **lavage** dans les foyers.\n",
        "\n",
        "```\n",
        "# au total :      \n",
        "# empreinte eau totale = empreinte liée à la culture + empreinte liée à la teinture + empreinte liée au lavage\n",
        "```\n",
        "\n"
      ]
    },
    {
      "cell_type": "markdown",
      "metadata": {
        "id": "qRb9FKWOGROl"
      },
      "source": [
        "**Pour la culture** : nous n'avons pas accès dans ce dataset aux matières premières, mais nous allons nous baser sur un chiffre largement diffusé, qui constitue selon nous une moyenne, un référentiel sur lequel nous allons nous appuyer. En effet, il faudrait environ 2700L d'eau pour un t-shirt (équivaut à 70 douches) [[4]](https://engagements.decathlon.fr/pourquoi-faut-il-tant-deau-pour-fabriquer-un-vetement). Nous prendrons donc 2500L comme référence, puisqu'il s'agit d'un vêtement moyen d'enfant.\n",
        "\n",
        "```\n",
        "# empreinte eau culture = nb d'articles * 2500L\n",
        "```\n",
        "**Pour la teinture** : il faut 100 à 150L d'eau pour 1 kg de textile teint [[4]](https://engagements.decathlon.fr/pourquoi-faut-il-tant-deau-pour-fabriquer-un-vetement). Ici nous prendrons donc la moyenne 125L.\n",
        "\n",
        "```\n",
        "# empreinte eau teinture = poids total en kg * 125L\n",
        "```\n",
        "**Pour le lavage** : cet article [[5]](https://particuliers.engie.fr/economies-energie/conseils-economies-energie/conseils-calcul-consommation/comment-calculer-la-consommation-de-votre-lave-linge.html) nous fournit des références moyennes de consommation d'eau pour une machine à laver : la moyenne haute pour une machine grande capacité serait de 65-70L ; la moyenne basse pour une machine petite capacité serait de 45-50L ; nous faisons donc la moyenne 57.5L. Un autre article [[6]](https://www.ubaldi.com/guides/lave-linge/caracteristiques-principales--gup208.php) nous donne la fourchette des capacités des machines à laver entre 5 et 12 kg, nous prenons la moyenne 8.5 kg. On divise la consommation par 8.5 pour obtenir la consommation d'eau de 1 kg de vêtements et cela constitue notre consommation d'eau pour cette étape, ce qui fait 6.75L.\n",
        "```\n",
        "# empreinte eau lavage = poids total en kg * 6.75L\n",
        "```"
      ]
    },
    {
      "cell_type": "code",
      "execution_count": null,
      "metadata": {
        "colab": {
          "base_uri": "https://localhost:8080/",
          "height": 613
        },
        "id": "jCFJ5LLjFWkt",
        "outputId": "44719796-adba-4b0f-fcab-a23781a44003"
      },
      "outputs": [
        {
          "output_type": "execute_result",
          "data": {
            "text/plain": [
              "                                  Référence article  Pourcentage  Distances  \\\n",
              "Tissage    Teinture   Confection                                              \n",
              "Bangladesh Bangladesh Bangladesh               1648        39.73    7942.69   \n",
              "Chine      Chine      Chine                    1355        32.67    8139.02   \n",
              "Inde       Inde       Inde                      680        16.39    7234.55   \n",
              "Pakistan   Pakistan   Pakistan                  190         4.58    6097.06   \n",
              "Portugal   Portugal   Portugal                   56         1.35    1119.64   \n",
              "Chine      Chine      Bangladesh                 51         1.23    1836.13   \n",
              "Inde       Chine      Chine                      39         0.94    2915.33   \n",
              "Turquie    Turquie    Turquie                    34         0.82    2803.41   \n",
              "Vietnam    Vietnam    Vietnam                    27         0.65    9902.87   \n",
              "Allemagne  Allemagne  Pologne                    16         0.39    2000.11   \n",
              "Chine      Bangladesh Bangladesh                 16         0.39    1836.13   \n",
              "Maroc      Maroc      Maroc                      14         0.34    1889.30   \n",
              "Italie     Italie     Italie                      8         0.19     959.64   \n",
              "Bangladesh Chine      Bangladesh                  7         0.17    1836.13   \n",
              "Brésil     Bangladesh Bangladesh                  3         0.07   15852.13   \n",
              "France     France     France                      3         0.07       0.00   \n",
              "Chine      Inde       Inde                        1         0.02    2915.33   \n",
              "\n",
              "                                   Poids  Empreinte_carbone  Empreinte_eau  \n",
              "Tissage    Teinture   Confection                                            \n",
              "Bangladesh Bangladesh Bangladesh  412.00           25107.37     4174281.00  \n",
              "Chine      Chine      Chine       338.75           21222.55     3432130.31  \n",
              "Inde       Inde       Inde        170.00           11784.44     1722397.50  \n",
              "Pakistan   Pakistan   Pakistan     47.50            4759.94      481258.12  \n",
              "Portugal   Portugal   Portugal     14.00            1159.07      141844.50  \n",
              "Chine      Chine      Bangladesh   12.75            1349.51      129179.81  \n",
              "Inde       Chine      Chine         9.75            1576.02       98784.56  \n",
              "Turquie    Turquie    Turquie       8.50            1468.23       86119.88  \n",
              "Vietnam    Vietnam    Vietnam       6.75            3929.53       68389.31  \n",
              "Allemagne  Allemagne  Pologne       4.00             936.04       40527.00  \n",
              "Chine      Bangladesh Bangladesh    4.00             877.01       40527.00  \n",
              "Maroc      Maroc      Maroc         3.50             869.15       35461.12  \n",
              "Italie     Italie     Italie        2.00             453.47       20263.50  \n",
              "Bangladesh Chine      Bangladesh    1.75             755.51       17730.56  \n",
              "Brésil     Bangladesh Bangladesh    0.75            5747.27        7598.81  \n",
              "France     France     France        0.75              40.50        7598.81  \n",
              "Chine      Inde       Inde          0.25            1063.02        2532.94  "
            ],
            "text/html": [
              "\n",
              "  <div id=\"df-05152837-8e51-46ed-a489-253fb5996cf7\">\n",
              "    <div class=\"colab-df-container\">\n",
              "      <div>\n",
              "<style scoped>\n",
              "    .dataframe tbody tr th:only-of-type {\n",
              "        vertical-align: middle;\n",
              "    }\n",
              "\n",
              "    .dataframe tbody tr th {\n",
              "        vertical-align: top;\n",
              "    }\n",
              "\n",
              "    .dataframe thead th {\n",
              "        text-align: right;\n",
              "    }\n",
              "</style>\n",
              "<table border=\"1\" class=\"dataframe\">\n",
              "  <thead>\n",
              "    <tr style=\"text-align: right;\">\n",
              "      <th></th>\n",
              "      <th></th>\n",
              "      <th></th>\n",
              "      <th>Référence article</th>\n",
              "      <th>Pourcentage</th>\n",
              "      <th>Distances</th>\n",
              "      <th>Poids</th>\n",
              "      <th>Empreinte_carbone</th>\n",
              "      <th>Empreinte_eau</th>\n",
              "    </tr>\n",
              "    <tr>\n",
              "      <th>Tissage</th>\n",
              "      <th>Teinture</th>\n",
              "      <th>Confection</th>\n",
              "      <th></th>\n",
              "      <th></th>\n",
              "      <th></th>\n",
              "      <th></th>\n",
              "      <th></th>\n",
              "      <th></th>\n",
              "    </tr>\n",
              "  </thead>\n",
              "  <tbody>\n",
              "    <tr>\n",
              "      <th>Bangladesh</th>\n",
              "      <th>Bangladesh</th>\n",
              "      <th>Bangladesh</th>\n",
              "      <td>1648</td>\n",
              "      <td>39.73</td>\n",
              "      <td>7942.69</td>\n",
              "      <td>412.00</td>\n",
              "      <td>25107.37</td>\n",
              "      <td>4174281.00</td>\n",
              "    </tr>\n",
              "    <tr>\n",
              "      <th>Chine</th>\n",
              "      <th>Chine</th>\n",
              "      <th>Chine</th>\n",
              "      <td>1355</td>\n",
              "      <td>32.67</td>\n",
              "      <td>8139.02</td>\n",
              "      <td>338.75</td>\n",
              "      <td>21222.55</td>\n",
              "      <td>3432130.31</td>\n",
              "    </tr>\n",
              "    <tr>\n",
              "      <th>Inde</th>\n",
              "      <th>Inde</th>\n",
              "      <th>Inde</th>\n",
              "      <td>680</td>\n",
              "      <td>16.39</td>\n",
              "      <td>7234.55</td>\n",
              "      <td>170.00</td>\n",
              "      <td>11784.44</td>\n",
              "      <td>1722397.50</td>\n",
              "    </tr>\n",
              "    <tr>\n",
              "      <th>Pakistan</th>\n",
              "      <th>Pakistan</th>\n",
              "      <th>Pakistan</th>\n",
              "      <td>190</td>\n",
              "      <td>4.58</td>\n",
              "      <td>6097.06</td>\n",
              "      <td>47.50</td>\n",
              "      <td>4759.94</td>\n",
              "      <td>481258.12</td>\n",
              "    </tr>\n",
              "    <tr>\n",
              "      <th>Portugal</th>\n",
              "      <th>Portugal</th>\n",
              "      <th>Portugal</th>\n",
              "      <td>56</td>\n",
              "      <td>1.35</td>\n",
              "      <td>1119.64</td>\n",
              "      <td>14.00</td>\n",
              "      <td>1159.07</td>\n",
              "      <td>141844.50</td>\n",
              "    </tr>\n",
              "    <tr>\n",
              "      <th>Chine</th>\n",
              "      <th>Chine</th>\n",
              "      <th>Bangladesh</th>\n",
              "      <td>51</td>\n",
              "      <td>1.23</td>\n",
              "      <td>1836.13</td>\n",
              "      <td>12.75</td>\n",
              "      <td>1349.51</td>\n",
              "      <td>129179.81</td>\n",
              "    </tr>\n",
              "    <tr>\n",
              "      <th>Inde</th>\n",
              "      <th>Chine</th>\n",
              "      <th>Chine</th>\n",
              "      <td>39</td>\n",
              "      <td>0.94</td>\n",
              "      <td>2915.33</td>\n",
              "      <td>9.75</td>\n",
              "      <td>1576.02</td>\n",
              "      <td>98784.56</td>\n",
              "    </tr>\n",
              "    <tr>\n",
              "      <th>Turquie</th>\n",
              "      <th>Turquie</th>\n",
              "      <th>Turquie</th>\n",
              "      <td>34</td>\n",
              "      <td>0.82</td>\n",
              "      <td>2803.41</td>\n",
              "      <td>8.50</td>\n",
              "      <td>1468.23</td>\n",
              "      <td>86119.88</td>\n",
              "    </tr>\n",
              "    <tr>\n",
              "      <th>Vietnam</th>\n",
              "      <th>Vietnam</th>\n",
              "      <th>Vietnam</th>\n",
              "      <td>27</td>\n",
              "      <td>0.65</td>\n",
              "      <td>9902.87</td>\n",
              "      <td>6.75</td>\n",
              "      <td>3929.53</td>\n",
              "      <td>68389.31</td>\n",
              "    </tr>\n",
              "    <tr>\n",
              "      <th>Allemagne</th>\n",
              "      <th>Allemagne</th>\n",
              "      <th>Pologne</th>\n",
              "      <td>16</td>\n",
              "      <td>0.39</td>\n",
              "      <td>2000.11</td>\n",
              "      <td>4.00</td>\n",
              "      <td>936.04</td>\n",
              "      <td>40527.00</td>\n",
              "    </tr>\n",
              "    <tr>\n",
              "      <th>Chine</th>\n",
              "      <th>Bangladesh</th>\n",
              "      <th>Bangladesh</th>\n",
              "      <td>16</td>\n",
              "      <td>0.39</td>\n",
              "      <td>1836.13</td>\n",
              "      <td>4.00</td>\n",
              "      <td>877.01</td>\n",
              "      <td>40527.00</td>\n",
              "    </tr>\n",
              "    <tr>\n",
              "      <th>Maroc</th>\n",
              "      <th>Maroc</th>\n",
              "      <th>Maroc</th>\n",
              "      <td>14</td>\n",
              "      <td>0.34</td>\n",
              "      <td>1889.30</td>\n",
              "      <td>3.50</td>\n",
              "      <td>869.15</td>\n",
              "      <td>35461.12</td>\n",
              "    </tr>\n",
              "    <tr>\n",
              "      <th>Italie</th>\n",
              "      <th>Italie</th>\n",
              "      <th>Italie</th>\n",
              "      <td>8</td>\n",
              "      <td>0.19</td>\n",
              "      <td>959.64</td>\n",
              "      <td>2.00</td>\n",
              "      <td>453.47</td>\n",
              "      <td>20263.50</td>\n",
              "    </tr>\n",
              "    <tr>\n",
              "      <th>Bangladesh</th>\n",
              "      <th>Chine</th>\n",
              "      <th>Bangladesh</th>\n",
              "      <td>7</td>\n",
              "      <td>0.17</td>\n",
              "      <td>1836.13</td>\n",
              "      <td>1.75</td>\n",
              "      <td>755.51</td>\n",
              "      <td>17730.56</td>\n",
              "    </tr>\n",
              "    <tr>\n",
              "      <th>Brésil</th>\n",
              "      <th>Bangladesh</th>\n",
              "      <th>Bangladesh</th>\n",
              "      <td>3</td>\n",
              "      <td>0.07</td>\n",
              "      <td>15852.13</td>\n",
              "      <td>0.75</td>\n",
              "      <td>5747.27</td>\n",
              "      <td>7598.81</td>\n",
              "    </tr>\n",
              "    <tr>\n",
              "      <th>France</th>\n",
              "      <th>France</th>\n",
              "      <th>France</th>\n",
              "      <td>3</td>\n",
              "      <td>0.07</td>\n",
              "      <td>0.00</td>\n",
              "      <td>0.75</td>\n",
              "      <td>40.50</td>\n",
              "      <td>7598.81</td>\n",
              "    </tr>\n",
              "    <tr>\n",
              "      <th>Chine</th>\n",
              "      <th>Inde</th>\n",
              "      <th>Inde</th>\n",
              "      <td>1</td>\n",
              "      <td>0.02</td>\n",
              "      <td>2915.33</td>\n",
              "      <td>0.25</td>\n",
              "      <td>1063.02</td>\n",
              "      <td>2532.94</td>\n",
              "    </tr>\n",
              "  </tbody>\n",
              "</table>\n",
              "</div>\n",
              "      <button class=\"colab-df-convert\" onclick=\"convertToInteractive('df-05152837-8e51-46ed-a489-253fb5996cf7')\"\n",
              "              title=\"Convert this dataframe to an interactive table.\"\n",
              "              style=\"display:none;\">\n",
              "        \n",
              "  <svg xmlns=\"http://www.w3.org/2000/svg\" height=\"24px\"viewBox=\"0 0 24 24\"\n",
              "       width=\"24px\">\n",
              "    <path d=\"M0 0h24v24H0V0z\" fill=\"none\"/>\n",
              "    <path d=\"M18.56 5.44l.94 2.06.94-2.06 2.06-.94-2.06-.94-.94-2.06-.94 2.06-2.06.94zm-11 1L8.5 8.5l.94-2.06 2.06-.94-2.06-.94L8.5 2.5l-.94 2.06-2.06.94zm10 10l.94 2.06.94-2.06 2.06-.94-2.06-.94-.94-2.06-.94 2.06-2.06.94z\"/><path d=\"M17.41 7.96l-1.37-1.37c-.4-.4-.92-.59-1.43-.59-.52 0-1.04.2-1.43.59L10.3 9.45l-7.72 7.72c-.78.78-.78 2.05 0 2.83L4 21.41c.39.39.9.59 1.41.59.51 0 1.02-.2 1.41-.59l7.78-7.78 2.81-2.81c.8-.78.8-2.07 0-2.86zM5.41 20L4 18.59l7.72-7.72 1.47 1.35L5.41 20z\"/>\n",
              "  </svg>\n",
              "      </button>\n",
              "      \n",
              "  <style>\n",
              "    .colab-df-container {\n",
              "      display:flex;\n",
              "      flex-wrap:wrap;\n",
              "      gap: 12px;\n",
              "    }\n",
              "\n",
              "    .colab-df-convert {\n",
              "      background-color: #E8F0FE;\n",
              "      border: none;\n",
              "      border-radius: 50%;\n",
              "      cursor: pointer;\n",
              "      display: none;\n",
              "      fill: #1967D2;\n",
              "      height: 32px;\n",
              "      padding: 0 0 0 0;\n",
              "      width: 32px;\n",
              "    }\n",
              "\n",
              "    .colab-df-convert:hover {\n",
              "      background-color: #E2EBFA;\n",
              "      box-shadow: 0px 1px 2px rgba(60, 64, 67, 0.3), 0px 1px 3px 1px rgba(60, 64, 67, 0.15);\n",
              "      fill: #174EA6;\n",
              "    }\n",
              "\n",
              "    [theme=dark] .colab-df-convert {\n",
              "      background-color: #3B4455;\n",
              "      fill: #D2E3FC;\n",
              "    }\n",
              "\n",
              "    [theme=dark] .colab-df-convert:hover {\n",
              "      background-color: #434B5C;\n",
              "      box-shadow: 0px 1px 3px 1px rgba(0, 0, 0, 0.15);\n",
              "      filter: drop-shadow(0px 1px 2px rgba(0, 0, 0, 0.3));\n",
              "      fill: #FFFFFF;\n",
              "    }\n",
              "  </style>\n",
              "\n",
              "      <script>\n",
              "        const buttonEl =\n",
              "          document.querySelector('#df-05152837-8e51-46ed-a489-253fb5996cf7 button.colab-df-convert');\n",
              "        buttonEl.style.display =\n",
              "          google.colab.kernel.accessAllowed ? 'block' : 'none';\n",
              "\n",
              "        async function convertToInteractive(key) {\n",
              "          const element = document.querySelector('#df-05152837-8e51-46ed-a489-253fb5996cf7');\n",
              "          const dataTable =\n",
              "            await google.colab.kernel.invokeFunction('convertToInteractive',\n",
              "                                                     [key], {});\n",
              "          if (!dataTable) return;\n",
              "\n",
              "          const docLinkHtml = 'Like what you see? Visit the ' +\n",
              "            '<a target=\"_blank\" href=https://colab.research.google.com/notebooks/data_table.ipynb>data table notebook</a>'\n",
              "            + ' to learn more about interactive tables.';\n",
              "          element.innerHTML = '';\n",
              "          dataTable['output_type'] = 'display_data';\n",
              "          await google.colab.output.renderOutput(dataTable, element);\n",
              "          const docLink = document.createElement('div');\n",
              "          docLink.innerHTML = docLinkHtml;\n",
              "          element.appendChild(docLink);\n",
              "        }\n",
              "      </script>\n",
              "    </div>\n",
              "  </div>\n",
              "  "
            ]
          },
          "metadata": {},
          "execution_count": 10
        }
      ],
      "source": [
        "# ajoutons l'empreinte eau (en L)\n",
        "water_footprint = table['Référence article'] * 2500 + table['Poids'] * 125 + + table['Poids'] * 6.75\n",
        "table = table.assign(Empreinte_eau=water_footprint)\n",
        "table.round(2)"
      ]
    },
    {
      "cell_type": "code",
      "execution_count": null,
      "metadata": {
        "colab": {
          "base_uri": "https://localhost:8080/",
          "height": 542
        },
        "id": "NIPtJF482wPV",
        "outputId": "2cc51b6f-a6fc-4222-fc70-f7805ab810ad"
      },
      "outputs": [
        {
          "data": {
            "text/html": [
              "<html>\n",
              "<head><meta charset=\"utf-8\" /></head>\n",
              "<body>\n",
              "    <div>            <script src=\"https://cdnjs.cloudflare.com/ajax/libs/mathjax/2.7.5/MathJax.js?config=TeX-AMS-MML_SVG\"></script><script type=\"text/javascript\">if (window.MathJax && window.MathJax.Hub && window.MathJax.Hub.Config) {window.MathJax.Hub.Config({SVG: {font: \"STIX-Web\"}});}</script>                <script type=\"text/javascript\">window.PlotlyConfig = {MathJaxConfig: 'local'};</script>\n",
              "        <script src=\"https://cdn.plot.ly/plotly-2.18.2.min.js\"></script>                <div id=\"5f4e1584-dfd8-4761-8922-3b4a47facb7d\" class=\"plotly-graph-div\" style=\"height:525px; width:100%;\"></div>            <script type=\"text/javascript\">                                    window.PLOTLYENV=window.PLOTLYENV || {};                                    if (document.getElementById(\"5f4e1584-dfd8-4761-8922-3b4a47facb7d\")) {                    Plotly.newPlot(                        \"5f4e1584-dfd8-4761-8922-3b4a47facb7d\",                        [{\"marker\":{\"color\":\"lightgray\"},\"orientation\":\"h\",\"text\":[25107.0,21223.0,11784.0,4760.0,1159.0,1350.0,1576.0,1468.0,3930.0,936.0,877.0,869.0,453.0,756.0,5747.0,40.0,1063.0],\"textposition\":\"outside\",\"x\":[25107.0,21223.0,11784.0,4760.0,1159.0,1350.0,1576.0,1468.0,3930.0,936.0,877.0,869.0,453.0,756.0,5747.0,40.0,1063.0],\"y\":[\"Bangladesh - Bangladesh - Bangladesh\",\"Chine - Chine - Chine\",\"Inde - Inde - Inde\",\"Pakistan - Pakistan - Pakistan\",\"Portugal - Portugal - Portugal\",\"Chine - Chine - Bangladesh\",\"Inde - Chine - Chine\",\"Turquie - Turquie - Turquie\",\"Vietnam - Vietnam - Vietnam\",\"Allemagne - Allemagne - Pologne\",\"Chine - Bangladesh - Bangladesh\",\"Maroc - Maroc - Maroc\",\"Italie - Italie - Italie\",\"Bangladesh - Chine - Bangladesh\",\"Br\\u00e9sil - Bangladesh - Bangladesh\",\"France - France - France\",\"Chine - Inde - Inde\"],\"type\":\"bar\"}],                        {\"template\":{\"data\":{\"histogram2dcontour\":[{\"type\":\"histogram2dcontour\",\"colorbar\":{\"outlinewidth\":0,\"ticks\":\"\"},\"colorscale\":[[0.0,\"#0d0887\"],[0.1111111111111111,\"#46039f\"],[0.2222222222222222,\"#7201a8\"],[0.3333333333333333,\"#9c179e\"],[0.4444444444444444,\"#bd3786\"],[0.5555555555555556,\"#d8576b\"],[0.6666666666666666,\"#ed7953\"],[0.7777777777777778,\"#fb9f3a\"],[0.8888888888888888,\"#fdca26\"],[1.0,\"#f0f921\"]]}],\"choropleth\":[{\"type\":\"choropleth\",\"colorbar\":{\"outlinewidth\":0,\"ticks\":\"\"}}],\"histogram2d\":[{\"type\":\"histogram2d\",\"colorbar\":{\"outlinewidth\":0,\"ticks\":\"\"},\"colorscale\":[[0.0,\"#0d0887\"],[0.1111111111111111,\"#46039f\"],[0.2222222222222222,\"#7201a8\"],[0.3333333333333333,\"#9c179e\"],[0.4444444444444444,\"#bd3786\"],[0.5555555555555556,\"#d8576b\"],[0.6666666666666666,\"#ed7953\"],[0.7777777777777778,\"#fb9f3a\"],[0.8888888888888888,\"#fdca26\"],[1.0,\"#f0f921\"]]}],\"heatmap\":[{\"type\":\"heatmap\",\"colorbar\":{\"outlinewidth\":0,\"ticks\":\"\"},\"colorscale\":[[0.0,\"#0d0887\"],[0.1111111111111111,\"#46039f\"],[0.2222222222222222,\"#7201a8\"],[0.3333333333333333,\"#9c179e\"],[0.4444444444444444,\"#bd3786\"],[0.5555555555555556,\"#d8576b\"],[0.6666666666666666,\"#ed7953\"],[0.7777777777777778,\"#fb9f3a\"],[0.8888888888888888,\"#fdca26\"],[1.0,\"#f0f921\"]]}],\"heatmapgl\":[{\"type\":\"heatmapgl\",\"colorbar\":{\"outlinewidth\":0,\"ticks\":\"\"},\"colorscale\":[[0.0,\"#0d0887\"],[0.1111111111111111,\"#46039f\"],[0.2222222222222222,\"#7201a8\"],[0.3333333333333333,\"#9c179e\"],[0.4444444444444444,\"#bd3786\"],[0.5555555555555556,\"#d8576b\"],[0.6666666666666666,\"#ed7953\"],[0.7777777777777778,\"#fb9f3a\"],[0.8888888888888888,\"#fdca26\"],[1.0,\"#f0f921\"]]}],\"contourcarpet\":[{\"type\":\"contourcarpet\",\"colorbar\":{\"outlinewidth\":0,\"ticks\":\"\"}}],\"contour\":[{\"type\":\"contour\",\"colorbar\":{\"outlinewidth\":0,\"ticks\":\"\"},\"colorscale\":[[0.0,\"#0d0887\"],[0.1111111111111111,\"#46039f\"],[0.2222222222222222,\"#7201a8\"],[0.3333333333333333,\"#9c179e\"],[0.4444444444444444,\"#bd3786\"],[0.5555555555555556,\"#d8576b\"],[0.6666666666666666,\"#ed7953\"],[0.7777777777777778,\"#fb9f3a\"],[0.8888888888888888,\"#fdca26\"],[1.0,\"#f0f921\"]]}],\"surface\":[{\"type\":\"surface\",\"colorbar\":{\"outlinewidth\":0,\"ticks\":\"\"},\"colorscale\":[[0.0,\"#0d0887\"],[0.1111111111111111,\"#46039f\"],[0.2222222222222222,\"#7201a8\"],[0.3333333333333333,\"#9c179e\"],[0.4444444444444444,\"#bd3786\"],[0.5555555555555556,\"#d8576b\"],[0.6666666666666666,\"#ed7953\"],[0.7777777777777778,\"#fb9f3a\"],[0.8888888888888888,\"#fdca26\"],[1.0,\"#f0f921\"]]}],\"mesh3d\":[{\"type\":\"mesh3d\",\"colorbar\":{\"outlinewidth\":0,\"ticks\":\"\"}}],\"scatter\":[{\"fillpattern\":{\"fillmode\":\"overlay\",\"size\":10,\"solidity\":0.2},\"type\":\"scatter\"}],\"parcoords\":[{\"type\":\"parcoords\",\"line\":{\"colorbar\":{\"outlinewidth\":0,\"ticks\":\"\"}}}],\"scatterpolargl\":[{\"type\":\"scatterpolargl\",\"marker\":{\"colorbar\":{\"outlinewidth\":0,\"ticks\":\"\"}}}],\"bar\":[{\"error_x\":{\"color\":\"#2a3f5f\"},\"error_y\":{\"color\":\"#2a3f5f\"},\"marker\":{\"line\":{\"color\":\"#E5ECF6\",\"width\":0.5},\"pattern\":{\"fillmode\":\"overlay\",\"size\":10,\"solidity\":0.2}},\"type\":\"bar\"}],\"scattergeo\":[{\"type\":\"scattergeo\",\"marker\":{\"colorbar\":{\"outlinewidth\":0,\"ticks\":\"\"}}}],\"scatterpolar\":[{\"type\":\"scatterpolar\",\"marker\":{\"colorbar\":{\"outlinewidth\":0,\"ticks\":\"\"}}}],\"histogram\":[{\"marker\":{\"pattern\":{\"fillmode\":\"overlay\",\"size\":10,\"solidity\":0.2}},\"type\":\"histogram\"}],\"scattergl\":[{\"type\":\"scattergl\",\"marker\":{\"colorbar\":{\"outlinewidth\":0,\"ticks\":\"\"}}}],\"scatter3d\":[{\"type\":\"scatter3d\",\"line\":{\"colorbar\":{\"outlinewidth\":0,\"ticks\":\"\"}},\"marker\":{\"colorbar\":{\"outlinewidth\":0,\"ticks\":\"\"}}}],\"scattermapbox\":[{\"type\":\"scattermapbox\",\"marker\":{\"colorbar\":{\"outlinewidth\":0,\"ticks\":\"\"}}}],\"scatterternary\":[{\"type\":\"scatterternary\",\"marker\":{\"colorbar\":{\"outlinewidth\":0,\"ticks\":\"\"}}}],\"scattercarpet\":[{\"type\":\"scattercarpet\",\"marker\":{\"colorbar\":{\"outlinewidth\":0,\"ticks\":\"\"}}}],\"carpet\":[{\"aaxis\":{\"endlinecolor\":\"#2a3f5f\",\"gridcolor\":\"white\",\"linecolor\":\"white\",\"minorgridcolor\":\"white\",\"startlinecolor\":\"#2a3f5f\"},\"baxis\":{\"endlinecolor\":\"#2a3f5f\",\"gridcolor\":\"white\",\"linecolor\":\"white\",\"minorgridcolor\":\"white\",\"startlinecolor\":\"#2a3f5f\"},\"type\":\"carpet\"}],\"table\":[{\"cells\":{\"fill\":{\"color\":\"#EBF0F8\"},\"line\":{\"color\":\"white\"}},\"header\":{\"fill\":{\"color\":\"#C8D4E3\"},\"line\":{\"color\":\"white\"}},\"type\":\"table\"}],\"barpolar\":[{\"marker\":{\"line\":{\"color\":\"#E5ECF6\",\"width\":0.5},\"pattern\":{\"fillmode\":\"overlay\",\"size\":10,\"solidity\":0.2}},\"type\":\"barpolar\"}],\"pie\":[{\"automargin\":true,\"type\":\"pie\"}]},\"layout\":{\"autotypenumbers\":\"strict\",\"colorway\":[\"#636efa\",\"#EF553B\",\"#00cc96\",\"#ab63fa\",\"#FFA15A\",\"#19d3f3\",\"#FF6692\",\"#B6E880\",\"#FF97FF\",\"#FECB52\"],\"font\":{\"color\":\"#2a3f5f\"},\"hovermode\":\"closest\",\"hoverlabel\":{\"align\":\"left\"},\"paper_bgcolor\":\"white\",\"plot_bgcolor\":\"#E5ECF6\",\"polar\":{\"bgcolor\":\"#E5ECF6\",\"angularaxis\":{\"gridcolor\":\"white\",\"linecolor\":\"white\",\"ticks\":\"\"},\"radialaxis\":{\"gridcolor\":\"white\",\"linecolor\":\"white\",\"ticks\":\"\"}},\"ternary\":{\"bgcolor\":\"#E5ECF6\",\"aaxis\":{\"gridcolor\":\"white\",\"linecolor\":\"white\",\"ticks\":\"\"},\"baxis\":{\"gridcolor\":\"white\",\"linecolor\":\"white\",\"ticks\":\"\"},\"caxis\":{\"gridcolor\":\"white\",\"linecolor\":\"white\",\"ticks\":\"\"}},\"coloraxis\":{\"colorbar\":{\"outlinewidth\":0,\"ticks\":\"\"}},\"colorscale\":{\"sequential\":[[0.0,\"#0d0887\"],[0.1111111111111111,\"#46039f\"],[0.2222222222222222,\"#7201a8\"],[0.3333333333333333,\"#9c179e\"],[0.4444444444444444,\"#bd3786\"],[0.5555555555555556,\"#d8576b\"],[0.6666666666666666,\"#ed7953\"],[0.7777777777777778,\"#fb9f3a\"],[0.8888888888888888,\"#fdca26\"],[1.0,\"#f0f921\"]],\"sequentialminus\":[[0.0,\"#0d0887\"],[0.1111111111111111,\"#46039f\"],[0.2222222222222222,\"#7201a8\"],[0.3333333333333333,\"#9c179e\"],[0.4444444444444444,\"#bd3786\"],[0.5555555555555556,\"#d8576b\"],[0.6666666666666666,\"#ed7953\"],[0.7777777777777778,\"#fb9f3a\"],[0.8888888888888888,\"#fdca26\"],[1.0,\"#f0f921\"]],\"diverging\":[[0,\"#8e0152\"],[0.1,\"#c51b7d\"],[0.2,\"#de77ae\"],[0.3,\"#f1b6da\"],[0.4,\"#fde0ef\"],[0.5,\"#f7f7f7\"],[0.6,\"#e6f5d0\"],[0.7,\"#b8e186\"],[0.8,\"#7fbc41\"],[0.9,\"#4d9221\"],[1,\"#276419\"]]},\"xaxis\":{\"gridcolor\":\"white\",\"linecolor\":\"white\",\"ticks\":\"\",\"title\":{\"standoff\":15},\"zerolinecolor\":\"white\",\"automargin\":true,\"zerolinewidth\":2},\"yaxis\":{\"gridcolor\":\"white\",\"linecolor\":\"white\",\"ticks\":\"\",\"title\":{\"standoff\":15},\"zerolinecolor\":\"white\",\"automargin\":true,\"zerolinewidth\":2},\"scene\":{\"xaxis\":{\"backgroundcolor\":\"#E5ECF6\",\"gridcolor\":\"white\",\"linecolor\":\"white\",\"showbackground\":true,\"ticks\":\"\",\"zerolinecolor\":\"white\",\"gridwidth\":2},\"yaxis\":{\"backgroundcolor\":\"#E5ECF6\",\"gridcolor\":\"white\",\"linecolor\":\"white\",\"showbackground\":true,\"ticks\":\"\",\"zerolinecolor\":\"white\",\"gridwidth\":2},\"zaxis\":{\"backgroundcolor\":\"#E5ECF6\",\"gridcolor\":\"white\",\"linecolor\":\"white\",\"showbackground\":true,\"ticks\":\"\",\"zerolinecolor\":\"white\",\"gridwidth\":2}},\"shapedefaults\":{\"line\":{\"color\":\"#2a3f5f\"}},\"annotationdefaults\":{\"arrowcolor\":\"#2a3f5f\",\"arrowhead\":0,\"arrowwidth\":1},\"geo\":{\"bgcolor\":\"white\",\"landcolor\":\"#E5ECF6\",\"subunitcolor\":\"white\",\"showland\":true,\"showlakes\":true,\"lakecolor\":\"white\"},\"title\":{\"x\":0.05},\"mapbox\":{\"style\":\"light\"}}},\"margin\":{\"l\":150,\"r\":50,\"t\":50,\"b\":50},\"title\":{\"text\":\"Empreinte carbone li\\u00e9e \\u00e0 la distance et \\u00e0 l'activit\\u00e9 de production des v\\u00eatements\"},\"plot_bgcolor\":\"rgba(0,0,0,0)\",\"xaxis\":{\"title\":{\"text\":\"kg/eqCO2\"}},\"bargap\":0.15,\"yaxis\":{\"categoryorder\":\"array\",\"categoryarray\":[\"France - France - France\",\"Italie - Italie - Italie\",\"Bangladesh - Chine - Bangladesh\",\"Maroc - Maroc - Maroc\",\"Chine - Bangladesh - Bangladesh\",\"Allemagne - Allemagne - Pologne\",\"Chine - Inde - Inde\",\"Portugal - Portugal - Portugal\",\"Chine - Chine - Bangladesh\",\"Turquie - Turquie - Turquie\",\"Inde - Chine - Chine\",\"Vietnam - Vietnam - Vietnam\",\"Pakistan - Pakistan - Pakistan\",\"Br\\u00e9sil - Bangladesh - Bangladesh\",\"Inde - Inde - Inde\",\"Chine - Chine - Chine\",\"Bangladesh - Bangladesh - Bangladesh\"]}},                        {\"responsive\": true}                    ).then(function(){\n",
              "                            \n",
              "var gd = document.getElementById('5f4e1584-dfd8-4761-8922-3b4a47facb7d');\n",
              "var x = new MutationObserver(function (mutations, observer) {{\n",
              "        var display = window.getComputedStyle(gd).display;\n",
              "        if (!display || display === 'none') {{\n",
              "            console.log([gd, 'removed!']);\n",
              "            Plotly.purge(gd);\n",
              "            observer.disconnect();\n",
              "        }}\n",
              "}});\n",
              "\n",
              "// Listen for the removal of the full notebook cells\n",
              "var notebookContainer = gd.closest('#notebook-container');\n",
              "if (notebookContainer) {{\n",
              "    x.observe(notebookContainer, {childList: true});\n",
              "}}\n",
              "\n",
              "// Listen for the clearing of the current output cell\n",
              "var outputEl = gd.closest('.output');\n",
              "if (outputEl) {{\n",
              "    x.observe(outputEl, {childList: true});\n",
              "}}\n",
              "\n",
              "                        })                };                            </script>        </div>\n",
              "</body>\n",
              "</html>"
            ]
          },
          "metadata": {},
          "output_type": "display_data"
        }
      ],
      "source": [
        "# visualisons l'empreinte carbone sur un bar chart horizontal\n",
        "compare_carbon_footprint = go.Figure(go.Bar(x=table['Empreinte_carbone'], y=table.index.map(lambda x: ' - '.join(x)), text=table['Empreinte_carbone'].round(2), textposition='outside', orientation='h', marker_color='lightgray'))\n",
        "compare_carbon_footprint.update_layout(title=\"Empreinte carbone liée à la distance et à l'activité de production des vêtements\", plot_bgcolor=\"rgba(0,0,0,0)\", xaxis_title='kg/eqCO2', bargap=0.15, margin=dict(l=150, r=50, t=50, b=50))\n",
        "compare_carbon_footprint.update_layout(yaxis_categoryorder='array', yaxis={'categoryarray': table.sort_values('Empreinte_carbone', ascending=True).index.get_level_values(0) + \" - \" + table.sort_values('Empreinte_carbone', ascending=True).index.get_level_values(1) + \" - \" + table.sort_values('Empreinte_carbone', ascending=True).index.get_level_values(2)})\n",
        "compare_carbon_footprint.show()"
      ]
    },
    {
      "cell_type": "code",
      "execution_count": null,
      "metadata": {
        "colab": {
          "base_uri": "https://localhost:8080/"
        },
        "id": "uFvkTG7nxAag",
        "outputId": "92401303-d50d-4db2-87cc-48159979dae8"
      },
      "outputs": [
        {
          "data": {
            "text/plain": [
              "count       17.000000\n",
              "mean      4888.153052\n",
              "std       7486.207907\n",
              "min         40.500000\n",
              "25%        877.006562\n",
              "50%       1349.506562\n",
              "75%       4759.941865\n",
              "max      25107.367343\n",
              "Name: Empreinte_carbone, dtype: float64"
            ]
          },
          "execution_count": 180,
          "metadata": {},
          "output_type": "execute_result"
        }
      ],
      "source": [
        "# voyons à quoi ressemble la distribution de cette variable empreinte carbone\n",
        "table['Empreinte_carbone'].describe()"
      ]
    },
    {
      "cell_type": "markdown",
      "metadata": {
        "id": "cnovj_JL-5_Y"
      },
      "source": [
        "La médiane est de **1349.51 kg/eqCO2** ce qui signifie que la moitié des combinaisons ont un score en dessous de cette valeur. Nous préférons retenir la médiane, la moyenne étant à notre sens trop influencée par les valeurs extrèmes (outliers), comme nous allons le voir dans le boxplot.</br>\n",
        "Nous observons aussi que 50% de la distribution présente un score entre **877 et 4760 kg/eqCO2** (l'intervalle inter-quartile), ce qui est loin, donc, du maximum qui est de **25107 kg/eqCO2**."
      ]
    },
    {
      "cell_type": "code",
      "execution_count": null,
      "metadata": {
        "colab": {
          "base_uri": "https://localhost:8080/",
          "height": 517
        },
        "id": "H6tMDeXkCjWo",
        "outputId": "d136058f-bc80-4838-933e-40e00f97b3a9"
      },
      "outputs": [
        {
          "data": {
            "text/html": [
              "<html>\n",
              "<head><meta charset=\"utf-8\" /></head>\n",
              "<body>\n",
              "    <div>            <script src=\"https://cdnjs.cloudflare.com/ajax/libs/mathjax/2.7.5/MathJax.js?config=TeX-AMS-MML_SVG\"></script><script type=\"text/javascript\">if (window.MathJax && window.MathJax.Hub && window.MathJax.Hub.Config) {window.MathJax.Hub.Config({SVG: {font: \"STIX-Web\"}});}</script>                <script type=\"text/javascript\">window.PlotlyConfig = {MathJaxConfig: 'local'};</script>\n",
              "        <script src=\"https://cdn.plot.ly/plotly-2.18.2.min.js\"></script>                <div id=\"5bc59a37-cbbd-4f96-8af1-62f1e5284119\" class=\"plotly-graph-div\" style=\"height:500px; width:1350px;\"></div>            <script type=\"text/javascript\">                                    window.PLOTLYENV=window.PLOTLYENV || {};                                    if (document.getElementById(\"5bc59a37-cbbd-4f96-8af1-62f1e5284119\")) {                    Plotly.newPlot(                        \"5bc59a37-cbbd-4f96-8af1-62f1e5284119\",                        [{\"alignmentgroup\":\"True\",\"boxmean\":true,\"hovertemplate\":\"Empreinte_carbone=%{y}<extra></extra>\",\"legendgroup\":\"\",\"marker\":{\"color\":\"lightgray\"},\"name\":\"\",\"notched\":false,\"offsetgroup\":\"\",\"orientation\":\"v\",\"showlegend\":false,\"x0\":\" \",\"xaxis\":\"x\",\"y\":[1063.0,40.0,5747.0,756.0,453.0,869.0,877.0,936.0,3930.0,1468.0,1576.0,1350.0,1159.0,4760.0,11784.0,21223.0,25107.0],\"y0\":\" \",\"yaxis\":\"y\",\"type\":\"box\"},{\"alignmentgroup\":\"True\",\"box\":{\"visible\":true},\"hovertemplate\":\"Empreinte_carbone=%{y}<extra></extra>\",\"legendgroup\":\"\",\"marker\":{\"color\":\"lightgray\"},\"meanline\":{\"color\":\"red\",\"visible\":true},\"name\":\"\",\"offsetgroup\":\"\",\"orientation\":\"v\",\"points\":\"all\",\"scalegroup\":\"True\",\"showlegend\":false,\"side\":\"both\",\"width\":0.5,\"x0\":\" \",\"xaxis\":\"x2\",\"y\":[1063.0,40.0,5747.0,756.0,453.0,869.0,877.0,936.0,3930.0,1468.0,1576.0,1350.0,1159.0,4760.0,11784.0,21223.0,25107.0],\"y0\":\" \",\"yaxis\":\"y2\",\"type\":\"violin\"}],                        {\"template\":{\"data\":{\"histogram2dcontour\":[{\"type\":\"histogram2dcontour\",\"colorbar\":{\"outlinewidth\":0,\"ticks\":\"\"},\"colorscale\":[[0.0,\"#0d0887\"],[0.1111111111111111,\"#46039f\"],[0.2222222222222222,\"#7201a8\"],[0.3333333333333333,\"#9c179e\"],[0.4444444444444444,\"#bd3786\"],[0.5555555555555556,\"#d8576b\"],[0.6666666666666666,\"#ed7953\"],[0.7777777777777778,\"#fb9f3a\"],[0.8888888888888888,\"#fdca26\"],[1.0,\"#f0f921\"]]}],\"choropleth\":[{\"type\":\"choropleth\",\"colorbar\":{\"outlinewidth\":0,\"ticks\":\"\"}}],\"histogram2d\":[{\"type\":\"histogram2d\",\"colorbar\":{\"outlinewidth\":0,\"ticks\":\"\"},\"colorscale\":[[0.0,\"#0d0887\"],[0.1111111111111111,\"#46039f\"],[0.2222222222222222,\"#7201a8\"],[0.3333333333333333,\"#9c179e\"],[0.4444444444444444,\"#bd3786\"],[0.5555555555555556,\"#d8576b\"],[0.6666666666666666,\"#ed7953\"],[0.7777777777777778,\"#fb9f3a\"],[0.8888888888888888,\"#fdca26\"],[1.0,\"#f0f921\"]]}],\"heatmap\":[{\"type\":\"heatmap\",\"colorbar\":{\"outlinewidth\":0,\"ticks\":\"\"},\"colorscale\":[[0.0,\"#0d0887\"],[0.1111111111111111,\"#46039f\"],[0.2222222222222222,\"#7201a8\"],[0.3333333333333333,\"#9c179e\"],[0.4444444444444444,\"#bd3786\"],[0.5555555555555556,\"#d8576b\"],[0.6666666666666666,\"#ed7953\"],[0.7777777777777778,\"#fb9f3a\"],[0.8888888888888888,\"#fdca26\"],[1.0,\"#f0f921\"]]}],\"heatmapgl\":[{\"type\":\"heatmapgl\",\"colorbar\":{\"outlinewidth\":0,\"ticks\":\"\"},\"colorscale\":[[0.0,\"#0d0887\"],[0.1111111111111111,\"#46039f\"],[0.2222222222222222,\"#7201a8\"],[0.3333333333333333,\"#9c179e\"],[0.4444444444444444,\"#bd3786\"],[0.5555555555555556,\"#d8576b\"],[0.6666666666666666,\"#ed7953\"],[0.7777777777777778,\"#fb9f3a\"],[0.8888888888888888,\"#fdca26\"],[1.0,\"#f0f921\"]]}],\"contourcarpet\":[{\"type\":\"contourcarpet\",\"colorbar\":{\"outlinewidth\":0,\"ticks\":\"\"}}],\"contour\":[{\"type\":\"contour\",\"colorbar\":{\"outlinewidth\":0,\"ticks\":\"\"},\"colorscale\":[[0.0,\"#0d0887\"],[0.1111111111111111,\"#46039f\"],[0.2222222222222222,\"#7201a8\"],[0.3333333333333333,\"#9c179e\"],[0.4444444444444444,\"#bd3786\"],[0.5555555555555556,\"#d8576b\"],[0.6666666666666666,\"#ed7953\"],[0.7777777777777778,\"#fb9f3a\"],[0.8888888888888888,\"#fdca26\"],[1.0,\"#f0f921\"]]}],\"surface\":[{\"type\":\"surface\",\"colorbar\":{\"outlinewidth\":0,\"ticks\":\"\"},\"colorscale\":[[0.0,\"#0d0887\"],[0.1111111111111111,\"#46039f\"],[0.2222222222222222,\"#7201a8\"],[0.3333333333333333,\"#9c179e\"],[0.4444444444444444,\"#bd3786\"],[0.5555555555555556,\"#d8576b\"],[0.6666666666666666,\"#ed7953\"],[0.7777777777777778,\"#fb9f3a\"],[0.8888888888888888,\"#fdca26\"],[1.0,\"#f0f921\"]]}],\"mesh3d\":[{\"type\":\"mesh3d\",\"colorbar\":{\"outlinewidth\":0,\"ticks\":\"\"}}],\"scatter\":[{\"fillpattern\":{\"fillmode\":\"overlay\",\"size\":10,\"solidity\":0.2},\"type\":\"scatter\"}],\"parcoords\":[{\"type\":\"parcoords\",\"line\":{\"colorbar\":{\"outlinewidth\":0,\"ticks\":\"\"}}}],\"scatterpolargl\":[{\"type\":\"scatterpolargl\",\"marker\":{\"colorbar\":{\"outlinewidth\":0,\"ticks\":\"\"}}}],\"bar\":[{\"error_x\":{\"color\":\"#2a3f5f\"},\"error_y\":{\"color\":\"#2a3f5f\"},\"marker\":{\"line\":{\"color\":\"#E5ECF6\",\"width\":0.5},\"pattern\":{\"fillmode\":\"overlay\",\"size\":10,\"solidity\":0.2}},\"type\":\"bar\"}],\"scattergeo\":[{\"type\":\"scattergeo\",\"marker\":{\"colorbar\":{\"outlinewidth\":0,\"ticks\":\"\"}}}],\"scatterpolar\":[{\"type\":\"scatterpolar\",\"marker\":{\"colorbar\":{\"outlinewidth\":0,\"ticks\":\"\"}}}],\"histogram\":[{\"marker\":{\"pattern\":{\"fillmode\":\"overlay\",\"size\":10,\"solidity\":0.2}},\"type\":\"histogram\"}],\"scattergl\":[{\"type\":\"scattergl\",\"marker\":{\"colorbar\":{\"outlinewidth\":0,\"ticks\":\"\"}}}],\"scatter3d\":[{\"type\":\"scatter3d\",\"line\":{\"colorbar\":{\"outlinewidth\":0,\"ticks\":\"\"}},\"marker\":{\"colorbar\":{\"outlinewidth\":0,\"ticks\":\"\"}}}],\"scattermapbox\":[{\"type\":\"scattermapbox\",\"marker\":{\"colorbar\":{\"outlinewidth\":0,\"ticks\":\"\"}}}],\"scatterternary\":[{\"type\":\"scatterternary\",\"marker\":{\"colorbar\":{\"outlinewidth\":0,\"ticks\":\"\"}}}],\"scattercarpet\":[{\"type\":\"scattercarpet\",\"marker\":{\"colorbar\":{\"outlinewidth\":0,\"ticks\":\"\"}}}],\"carpet\":[{\"aaxis\":{\"endlinecolor\":\"#2a3f5f\",\"gridcolor\":\"white\",\"linecolor\":\"white\",\"minorgridcolor\":\"white\",\"startlinecolor\":\"#2a3f5f\"},\"baxis\":{\"endlinecolor\":\"#2a3f5f\",\"gridcolor\":\"white\",\"linecolor\":\"white\",\"minorgridcolor\":\"white\",\"startlinecolor\":\"#2a3f5f\"},\"type\":\"carpet\"}],\"table\":[{\"cells\":{\"fill\":{\"color\":\"#EBF0F8\"},\"line\":{\"color\":\"white\"}},\"header\":{\"fill\":{\"color\":\"#C8D4E3\"},\"line\":{\"color\":\"white\"}},\"type\":\"table\"}],\"barpolar\":[{\"marker\":{\"line\":{\"color\":\"#E5ECF6\",\"width\":0.5},\"pattern\":{\"fillmode\":\"overlay\",\"size\":10,\"solidity\":0.2}},\"type\":\"barpolar\"}],\"pie\":[{\"automargin\":true,\"type\":\"pie\"}]},\"layout\":{\"autotypenumbers\":\"strict\",\"colorway\":[\"#636efa\",\"#EF553B\",\"#00cc96\",\"#ab63fa\",\"#FFA15A\",\"#19d3f3\",\"#FF6692\",\"#B6E880\",\"#FF97FF\",\"#FECB52\"],\"font\":{\"color\":\"#2a3f5f\"},\"hovermode\":\"closest\",\"hoverlabel\":{\"align\":\"left\"},\"paper_bgcolor\":\"white\",\"plot_bgcolor\":\"#E5ECF6\",\"polar\":{\"bgcolor\":\"#E5ECF6\",\"angularaxis\":{\"gridcolor\":\"white\",\"linecolor\":\"white\",\"ticks\":\"\"},\"radialaxis\":{\"gridcolor\":\"white\",\"linecolor\":\"white\",\"ticks\":\"\"}},\"ternary\":{\"bgcolor\":\"#E5ECF6\",\"aaxis\":{\"gridcolor\":\"white\",\"linecolor\":\"white\",\"ticks\":\"\"},\"baxis\":{\"gridcolor\":\"white\",\"linecolor\":\"white\",\"ticks\":\"\"},\"caxis\":{\"gridcolor\":\"white\",\"linecolor\":\"white\",\"ticks\":\"\"}},\"coloraxis\":{\"colorbar\":{\"outlinewidth\":0,\"ticks\":\"\"}},\"colorscale\":{\"sequential\":[[0.0,\"#0d0887\"],[0.1111111111111111,\"#46039f\"],[0.2222222222222222,\"#7201a8\"],[0.3333333333333333,\"#9c179e\"],[0.4444444444444444,\"#bd3786\"],[0.5555555555555556,\"#d8576b\"],[0.6666666666666666,\"#ed7953\"],[0.7777777777777778,\"#fb9f3a\"],[0.8888888888888888,\"#fdca26\"],[1.0,\"#f0f921\"]],\"sequentialminus\":[[0.0,\"#0d0887\"],[0.1111111111111111,\"#46039f\"],[0.2222222222222222,\"#7201a8\"],[0.3333333333333333,\"#9c179e\"],[0.4444444444444444,\"#bd3786\"],[0.5555555555555556,\"#d8576b\"],[0.6666666666666666,\"#ed7953\"],[0.7777777777777778,\"#fb9f3a\"],[0.8888888888888888,\"#fdca26\"],[1.0,\"#f0f921\"]],\"diverging\":[[0,\"#8e0152\"],[0.1,\"#c51b7d\"],[0.2,\"#de77ae\"],[0.3,\"#f1b6da\"],[0.4,\"#fde0ef\"],[0.5,\"#f7f7f7\"],[0.6,\"#e6f5d0\"],[0.7,\"#b8e186\"],[0.8,\"#7fbc41\"],[0.9,\"#4d9221\"],[1,\"#276419\"]]},\"xaxis\":{\"gridcolor\":\"white\",\"linecolor\":\"white\",\"ticks\":\"\",\"title\":{\"standoff\":15},\"zerolinecolor\":\"white\",\"automargin\":true,\"zerolinewidth\":2},\"yaxis\":{\"gridcolor\":\"white\",\"linecolor\":\"white\",\"ticks\":\"\",\"title\":{\"standoff\":15},\"zerolinecolor\":\"white\",\"automargin\":true,\"zerolinewidth\":2},\"scene\":{\"xaxis\":{\"backgroundcolor\":\"#E5ECF6\",\"gridcolor\":\"white\",\"linecolor\":\"white\",\"showbackground\":true,\"ticks\":\"\",\"zerolinecolor\":\"white\",\"gridwidth\":2},\"yaxis\":{\"backgroundcolor\":\"#E5ECF6\",\"gridcolor\":\"white\",\"linecolor\":\"white\",\"showbackground\":true,\"ticks\":\"\",\"zerolinecolor\":\"white\",\"gridwidth\":2},\"zaxis\":{\"backgroundcolor\":\"#E5ECF6\",\"gridcolor\":\"white\",\"linecolor\":\"white\",\"showbackground\":true,\"ticks\":\"\",\"zerolinecolor\":\"white\",\"gridwidth\":2}},\"shapedefaults\":{\"line\":{\"color\":\"#2a3f5f\"}},\"annotationdefaults\":{\"arrowcolor\":\"#2a3f5f\",\"arrowhead\":0,\"arrowwidth\":1},\"geo\":{\"bgcolor\":\"white\",\"landcolor\":\"#E5ECF6\",\"subunitcolor\":\"white\",\"showland\":true,\"showlakes\":true,\"lakecolor\":\"white\"},\"title\":{\"x\":0.05},\"mapbox\":{\"style\":\"light\"}}},\"xaxis\":{\"anchor\":\"y\",\"domain\":[0.0,0.45],\"title\":{\"text\":\"Box plot\"}},\"yaxis\":{\"anchor\":\"x\",\"domain\":[0.0,1.0],\"title\":{\"text\":\"kg/eqCO2\"}},\"xaxis2\":{\"anchor\":\"y2\",\"domain\":[0.55,1.0],\"title\":{\"text\":\"Violin plot\"}},\"yaxis2\":{\"anchor\":\"x2\",\"domain\":[0.0,1.0]},\"title\":{\"text\":\"Distribution de l'empreinte carbone\"},\"plot_bgcolor\":\"rgba(0,0,0,0)\",\"height\":500,\"width\":1350,\"showlegend\":false},                        {\"responsive\": true}                    ).then(function(){\n",
              "                            \n",
              "var gd = document.getElementById('5bc59a37-cbbd-4f96-8af1-62f1e5284119');\n",
              "var x = new MutationObserver(function (mutations, observer) {{\n",
              "        var display = window.getComputedStyle(gd).display;\n",
              "        if (!display || display === 'none') {{\n",
              "            console.log([gd, 'removed!']);\n",
              "            Plotly.purge(gd);\n",
              "            observer.disconnect();\n",
              "        }}\n",
              "}});\n",
              "\n",
              "// Listen for the removal of the full notebook cells\n",
              "var notebookContainer = gd.closest('#notebook-container');\n",
              "if (notebookContainer) {{\n",
              "    x.observe(notebookContainer, {childList: true});\n",
              "}}\n",
              "\n",
              "// Listen for the clearing of the current output cell\n",
              "var outputEl = gd.closest('.output');\n",
              "if (outputEl) {{\n",
              "    x.observe(outputEl, {childList: true});\n",
              "}}\n",
              "\n",
              "                        })                };                            </script>        </div>\n",
              "</body>\n",
              "</html>"
            ]
          },
          "metadata": {},
          "output_type": "display_data"
        }
      ],
      "source": [
        "# visualisons la distribution sur un boxplot et un violin plot\n",
        "boxplot_carbon_footprint = px.box(table, y=table['Empreinte_carbone'])\n",
        "violin_carbon_footprint = px.violin(table, y='Empreinte_carbone', box=True, points='all', title=\"Distribution de l'empreinte carbone\")\n",
        "boxplot_carbon_footprint.update_traces(boxmean=True, marker=dict(color='lightgray'))\n",
        "violin_carbon_footprint.update_traces(meanline_visible=True, meanline_color='red', marker=dict(color='lightgray'), width=0.5, side='both')\n",
        "\n",
        "fig_carbone = make_subplots(rows=1, cols=2)\n",
        "\n",
        "fig_carbone.add_trace(boxplot_carbon_footprint.data[0], row=1, col=1)\n",
        "fig_carbone.add_trace(violin_carbon_footprint.data[0], row=1, col=2)\n",
        "\n",
        "fig_carbone.update_layout(title=\"Distribution de l'empreinte carbone\", plot_bgcolor=\"rgba(0,0,0,0)\", yaxis_title='kg/eqCO2', height=500, width=1350, showlegend=False)\n",
        "fig_carbone.update_xaxes(title_text=\"Box plot\", row=1, col=1)\n",
        "fig_carbone.update_xaxes(title_text=\"Violin plot\", row=1, col=2)\n",
        "fig_carbone.show()"
      ]
    },
    {
      "cell_type": "markdown",
      "metadata": {
        "id": "WTDd81GPwea_"
      },
      "source": [
        "Sur le boxplot, nous voyons que la distribution est très écrasée, du fait d'une forte représentation des valeurs dans l'intervalle inter-quartile, ce qui se voit nettement également au niveau de la courbe de densité du violin plot. Les scores pour le **Bangladesh**, la **Chine**, et l'**Inde** surpassent très largement la distribution des empreintes carbones de toutes les étapes de production, au point d'être considérées comme des outliers dans le boxplot. Cela donne l'aspect allongé du violin plot sur les valeurs élevées.</br></br>\n",
        "Pour nous donner un ordre de grandeur, la fabrication au Bangladesh, soit 25107 kg/eqCO2 équivaut à :</br>\n",
        "- **100028 km réalisés avec le gasoil d'une voiture diesel classique** (en partant du principe qu'une voiture diesel de base consomme 0.251 kg de CO2/km [[7]](https://www.fournisseurs-electricite.com/guides/environnement/bilan-carbone/voiture)).\n",
        "</br>\n",
        "- **La consommation moyenne de 3 Français moyens en 1 an** (soit un petit ménage) (en effet, l'empreinte carbone d'un Français en 1 an est de 8200 kg de CO2 [[8]](https://www.notre-environnement.gouv.fr/actualites/breves/article/que-represente-l-empreinte-carbone-annuelle-d-un-francais)).\n",
        "</br>\n",
        "- **La capacité d'absorption de 5 arbres en 1 an** (sachant qu'un arbre absorbe environ 5000 kg eq/CO2 [[9]](https://www.terre-du-futur.fr/combien-de-co2-absorbe-un-arbre/)). \n",
        "</br>\n",
        "- **25 vols aller/retour entre Paris et New-York** (un vol équivaut à 1000 kg eq/CO2, selon la source précédente [[9]](https://www.terre-du-futur.fr/combien-de-co2-absorbe-un-arbre/))."
      ]
    },
    {
      "cell_type": "code",
      "execution_count": null,
      "metadata": {
        "colab": {
          "base_uri": "https://localhost:8080/",
          "height": 542
        },
        "id": "N6ZZbg8pS_Is",
        "outputId": "8cc4cc59-2681-4cb5-a952-8f1a74b4baa9"
      },
      "outputs": [
        {
          "data": {
            "text/html": [
              "<html>\n",
              "<head><meta charset=\"utf-8\" /></head>\n",
              "<body>\n",
              "    <div>            <script src=\"https://cdnjs.cloudflare.com/ajax/libs/mathjax/2.7.5/MathJax.js?config=TeX-AMS-MML_SVG\"></script><script type=\"text/javascript\">if (window.MathJax && window.MathJax.Hub && window.MathJax.Hub.Config) {window.MathJax.Hub.Config({SVG: {font: \"STIX-Web\"}});}</script>                <script type=\"text/javascript\">window.PlotlyConfig = {MathJaxConfig: 'local'};</script>\n",
              "        <script src=\"https://cdn.plot.ly/plotly-2.18.2.min.js\"></script>                <div id=\"ba6ac890-98bc-40c3-b4c9-6248d3b4fc11\" class=\"plotly-graph-div\" style=\"height:525px; width:100%;\"></div>            <script type=\"text/javascript\">                                    window.PLOTLYENV=window.PLOTLYENV || {};                                    if (document.getElementById(\"ba6ac890-98bc-40c3-b4c9-6248d3b4fc11\")) {                    Plotly.newPlot(                        \"ba6ac890-98bc-40c3-b4c9-6248d3b4fc11\",                        [{\"marker\":{\"color\":\"lightblue\"},\"orientation\":\"h\",\"text\":[4174281.0,3432130.31,1722397.5,481258.12,141844.5,129179.81,98784.56,86119.88,68389.31,40527.0,40527.0,35461.12,20263.5,17730.56,7598.81,7598.81,2532.94],\"textposition\":\"outside\",\"x\":[4174281.0,3432130.3125,1722397.5,481258.125,141844.5,129179.8125,98784.5625,86119.875,68389.3125,40527.0,40527.0,35461.125,20263.5,17730.5625,7598.8125,7598.8125,2532.9375],\"y\":[\"Bangladesh - Bangladesh - Bangladesh\",\"Chine - Chine - Chine\",\"Inde - Inde - Inde\",\"Pakistan - Pakistan - Pakistan\",\"Portugal - Portugal - Portugal\",\"Chine - Chine - Bangladesh\",\"Inde - Chine - Chine\",\"Turquie - Turquie - Turquie\",\"Vietnam - Vietnam - Vietnam\",\"Allemagne - Allemagne - Pologne\",\"Chine - Bangladesh - Bangladesh\",\"Maroc - Maroc - Maroc\",\"Italie - Italie - Italie\",\"Bangladesh - Chine - Bangladesh\",\"Br\\u00e9sil - Bangladesh - Bangladesh\",\"France - France - France\",\"Chine - Inde - Inde\"],\"type\":\"bar\"}],                        {\"template\":{\"data\":{\"histogram2dcontour\":[{\"type\":\"histogram2dcontour\",\"colorbar\":{\"outlinewidth\":0,\"ticks\":\"\"},\"colorscale\":[[0.0,\"#0d0887\"],[0.1111111111111111,\"#46039f\"],[0.2222222222222222,\"#7201a8\"],[0.3333333333333333,\"#9c179e\"],[0.4444444444444444,\"#bd3786\"],[0.5555555555555556,\"#d8576b\"],[0.6666666666666666,\"#ed7953\"],[0.7777777777777778,\"#fb9f3a\"],[0.8888888888888888,\"#fdca26\"],[1.0,\"#f0f921\"]]}],\"choropleth\":[{\"type\":\"choropleth\",\"colorbar\":{\"outlinewidth\":0,\"ticks\":\"\"}}],\"histogram2d\":[{\"type\":\"histogram2d\",\"colorbar\":{\"outlinewidth\":0,\"ticks\":\"\"},\"colorscale\":[[0.0,\"#0d0887\"],[0.1111111111111111,\"#46039f\"],[0.2222222222222222,\"#7201a8\"],[0.3333333333333333,\"#9c179e\"],[0.4444444444444444,\"#bd3786\"],[0.5555555555555556,\"#d8576b\"],[0.6666666666666666,\"#ed7953\"],[0.7777777777777778,\"#fb9f3a\"],[0.8888888888888888,\"#fdca26\"],[1.0,\"#f0f921\"]]}],\"heatmap\":[{\"type\":\"heatmap\",\"colorbar\":{\"outlinewidth\":0,\"ticks\":\"\"},\"colorscale\":[[0.0,\"#0d0887\"],[0.1111111111111111,\"#46039f\"],[0.2222222222222222,\"#7201a8\"],[0.3333333333333333,\"#9c179e\"],[0.4444444444444444,\"#bd3786\"],[0.5555555555555556,\"#d8576b\"],[0.6666666666666666,\"#ed7953\"],[0.7777777777777778,\"#fb9f3a\"],[0.8888888888888888,\"#fdca26\"],[1.0,\"#f0f921\"]]}],\"heatmapgl\":[{\"type\":\"heatmapgl\",\"colorbar\":{\"outlinewidth\":0,\"ticks\":\"\"},\"colorscale\":[[0.0,\"#0d0887\"],[0.1111111111111111,\"#46039f\"],[0.2222222222222222,\"#7201a8\"],[0.3333333333333333,\"#9c179e\"],[0.4444444444444444,\"#bd3786\"],[0.5555555555555556,\"#d8576b\"],[0.6666666666666666,\"#ed7953\"],[0.7777777777777778,\"#fb9f3a\"],[0.8888888888888888,\"#fdca26\"],[1.0,\"#f0f921\"]]}],\"contourcarpet\":[{\"type\":\"contourcarpet\",\"colorbar\":{\"outlinewidth\":0,\"ticks\":\"\"}}],\"contour\":[{\"type\":\"contour\",\"colorbar\":{\"outlinewidth\":0,\"ticks\":\"\"},\"colorscale\":[[0.0,\"#0d0887\"],[0.1111111111111111,\"#46039f\"],[0.2222222222222222,\"#7201a8\"],[0.3333333333333333,\"#9c179e\"],[0.4444444444444444,\"#bd3786\"],[0.5555555555555556,\"#d8576b\"],[0.6666666666666666,\"#ed7953\"],[0.7777777777777778,\"#fb9f3a\"],[0.8888888888888888,\"#fdca26\"],[1.0,\"#f0f921\"]]}],\"surface\":[{\"type\":\"surface\",\"colorbar\":{\"outlinewidth\":0,\"ticks\":\"\"},\"colorscale\":[[0.0,\"#0d0887\"],[0.1111111111111111,\"#46039f\"],[0.2222222222222222,\"#7201a8\"],[0.3333333333333333,\"#9c179e\"],[0.4444444444444444,\"#bd3786\"],[0.5555555555555556,\"#d8576b\"],[0.6666666666666666,\"#ed7953\"],[0.7777777777777778,\"#fb9f3a\"],[0.8888888888888888,\"#fdca26\"],[1.0,\"#f0f921\"]]}],\"mesh3d\":[{\"type\":\"mesh3d\",\"colorbar\":{\"outlinewidth\":0,\"ticks\":\"\"}}],\"scatter\":[{\"fillpattern\":{\"fillmode\":\"overlay\",\"size\":10,\"solidity\":0.2},\"type\":\"scatter\"}],\"parcoords\":[{\"type\":\"parcoords\",\"line\":{\"colorbar\":{\"outlinewidth\":0,\"ticks\":\"\"}}}],\"scatterpolargl\":[{\"type\":\"scatterpolargl\",\"marker\":{\"colorbar\":{\"outlinewidth\":0,\"ticks\":\"\"}}}],\"bar\":[{\"error_x\":{\"color\":\"#2a3f5f\"},\"error_y\":{\"color\":\"#2a3f5f\"},\"marker\":{\"line\":{\"color\":\"#E5ECF6\",\"width\":0.5},\"pattern\":{\"fillmode\":\"overlay\",\"size\":10,\"solidity\":0.2}},\"type\":\"bar\"}],\"scattergeo\":[{\"type\":\"scattergeo\",\"marker\":{\"colorbar\":{\"outlinewidth\":0,\"ticks\":\"\"}}}],\"scatterpolar\":[{\"type\":\"scatterpolar\",\"marker\":{\"colorbar\":{\"outlinewidth\":0,\"ticks\":\"\"}}}],\"histogram\":[{\"marker\":{\"pattern\":{\"fillmode\":\"overlay\",\"size\":10,\"solidity\":0.2}},\"type\":\"histogram\"}],\"scattergl\":[{\"type\":\"scattergl\",\"marker\":{\"colorbar\":{\"outlinewidth\":0,\"ticks\":\"\"}}}],\"scatter3d\":[{\"type\":\"scatter3d\",\"line\":{\"colorbar\":{\"outlinewidth\":0,\"ticks\":\"\"}},\"marker\":{\"colorbar\":{\"outlinewidth\":0,\"ticks\":\"\"}}}],\"scattermapbox\":[{\"type\":\"scattermapbox\",\"marker\":{\"colorbar\":{\"outlinewidth\":0,\"ticks\":\"\"}}}],\"scatterternary\":[{\"type\":\"scatterternary\",\"marker\":{\"colorbar\":{\"outlinewidth\":0,\"ticks\":\"\"}}}],\"scattercarpet\":[{\"type\":\"scattercarpet\",\"marker\":{\"colorbar\":{\"outlinewidth\":0,\"ticks\":\"\"}}}],\"carpet\":[{\"aaxis\":{\"endlinecolor\":\"#2a3f5f\",\"gridcolor\":\"white\",\"linecolor\":\"white\",\"minorgridcolor\":\"white\",\"startlinecolor\":\"#2a3f5f\"},\"baxis\":{\"endlinecolor\":\"#2a3f5f\",\"gridcolor\":\"white\",\"linecolor\":\"white\",\"minorgridcolor\":\"white\",\"startlinecolor\":\"#2a3f5f\"},\"type\":\"carpet\"}],\"table\":[{\"cells\":{\"fill\":{\"color\":\"#EBF0F8\"},\"line\":{\"color\":\"white\"}},\"header\":{\"fill\":{\"color\":\"#C8D4E3\"},\"line\":{\"color\":\"white\"}},\"type\":\"table\"}],\"barpolar\":[{\"marker\":{\"line\":{\"color\":\"#E5ECF6\",\"width\":0.5},\"pattern\":{\"fillmode\":\"overlay\",\"size\":10,\"solidity\":0.2}},\"type\":\"barpolar\"}],\"pie\":[{\"automargin\":true,\"type\":\"pie\"}]},\"layout\":{\"autotypenumbers\":\"strict\",\"colorway\":[\"#636efa\",\"#EF553B\",\"#00cc96\",\"#ab63fa\",\"#FFA15A\",\"#19d3f3\",\"#FF6692\",\"#B6E880\",\"#FF97FF\",\"#FECB52\"],\"font\":{\"color\":\"#2a3f5f\"},\"hovermode\":\"closest\",\"hoverlabel\":{\"align\":\"left\"},\"paper_bgcolor\":\"white\",\"plot_bgcolor\":\"#E5ECF6\",\"polar\":{\"bgcolor\":\"#E5ECF6\",\"angularaxis\":{\"gridcolor\":\"white\",\"linecolor\":\"white\",\"ticks\":\"\"},\"radialaxis\":{\"gridcolor\":\"white\",\"linecolor\":\"white\",\"ticks\":\"\"}},\"ternary\":{\"bgcolor\":\"#E5ECF6\",\"aaxis\":{\"gridcolor\":\"white\",\"linecolor\":\"white\",\"ticks\":\"\"},\"baxis\":{\"gridcolor\":\"white\",\"linecolor\":\"white\",\"ticks\":\"\"},\"caxis\":{\"gridcolor\":\"white\",\"linecolor\":\"white\",\"ticks\":\"\"}},\"coloraxis\":{\"colorbar\":{\"outlinewidth\":0,\"ticks\":\"\"}},\"colorscale\":{\"sequential\":[[0.0,\"#0d0887\"],[0.1111111111111111,\"#46039f\"],[0.2222222222222222,\"#7201a8\"],[0.3333333333333333,\"#9c179e\"],[0.4444444444444444,\"#bd3786\"],[0.5555555555555556,\"#d8576b\"],[0.6666666666666666,\"#ed7953\"],[0.7777777777777778,\"#fb9f3a\"],[0.8888888888888888,\"#fdca26\"],[1.0,\"#f0f921\"]],\"sequentialminus\":[[0.0,\"#0d0887\"],[0.1111111111111111,\"#46039f\"],[0.2222222222222222,\"#7201a8\"],[0.3333333333333333,\"#9c179e\"],[0.4444444444444444,\"#bd3786\"],[0.5555555555555556,\"#d8576b\"],[0.6666666666666666,\"#ed7953\"],[0.7777777777777778,\"#fb9f3a\"],[0.8888888888888888,\"#fdca26\"],[1.0,\"#f0f921\"]],\"diverging\":[[0,\"#8e0152\"],[0.1,\"#c51b7d\"],[0.2,\"#de77ae\"],[0.3,\"#f1b6da\"],[0.4,\"#fde0ef\"],[0.5,\"#f7f7f7\"],[0.6,\"#e6f5d0\"],[0.7,\"#b8e186\"],[0.8,\"#7fbc41\"],[0.9,\"#4d9221\"],[1,\"#276419\"]]},\"xaxis\":{\"gridcolor\":\"white\",\"linecolor\":\"white\",\"ticks\":\"\",\"title\":{\"standoff\":15},\"zerolinecolor\":\"white\",\"automargin\":true,\"zerolinewidth\":2},\"yaxis\":{\"gridcolor\":\"white\",\"linecolor\":\"white\",\"ticks\":\"\",\"title\":{\"standoff\":15},\"zerolinecolor\":\"white\",\"automargin\":true,\"zerolinewidth\":2},\"scene\":{\"xaxis\":{\"backgroundcolor\":\"#E5ECF6\",\"gridcolor\":\"white\",\"linecolor\":\"white\",\"showbackground\":true,\"ticks\":\"\",\"zerolinecolor\":\"white\",\"gridwidth\":2},\"yaxis\":{\"backgroundcolor\":\"#E5ECF6\",\"gridcolor\":\"white\",\"linecolor\":\"white\",\"showbackground\":true,\"ticks\":\"\",\"zerolinecolor\":\"white\",\"gridwidth\":2},\"zaxis\":{\"backgroundcolor\":\"#E5ECF6\",\"gridcolor\":\"white\",\"linecolor\":\"white\",\"showbackground\":true,\"ticks\":\"\",\"zerolinecolor\":\"white\",\"gridwidth\":2}},\"shapedefaults\":{\"line\":{\"color\":\"#2a3f5f\"}},\"annotationdefaults\":{\"arrowcolor\":\"#2a3f5f\",\"arrowhead\":0,\"arrowwidth\":1},\"geo\":{\"bgcolor\":\"white\",\"landcolor\":\"#E5ECF6\",\"subunitcolor\":\"white\",\"showland\":true,\"showlakes\":true,\"lakecolor\":\"white\"},\"title\":{\"x\":0.05},\"mapbox\":{\"style\":\"light\"}}},\"margin\":{\"l\":150,\"r\":50,\"t\":50,\"b\":50},\"title\":{\"text\":\"Empreinte eau li\\u00e9e \\u00e0 la confection des v\\u00eatements\"},\"plot_bgcolor\":\"rgba(0,0,0,0)\",\"xaxis\":{\"title\":{\"text\":\"Litres\"}},\"bargap\":0.15,\"yaxis\":{\"categoryorder\":\"array\",\"categoryarray\":[\"Chine - Inde - Inde\",\"Br\\u00e9sil - Bangladesh - Bangladesh\",\"France - France - France\",\"Bangladesh - Chine - Bangladesh\",\"Italie - Italie - Italie\",\"Maroc - Maroc - Maroc\",\"Chine - Bangladesh - Bangladesh\",\"Allemagne - Allemagne - Pologne\",\"Vietnam - Vietnam - Vietnam\",\"Turquie - Turquie - Turquie\",\"Inde - Chine - Chine\",\"Chine - Chine - Bangladesh\",\"Portugal - Portugal - Portugal\",\"Pakistan - Pakistan - Pakistan\",\"Inde - Inde - Inde\",\"Chine - Chine - Chine\",\"Bangladesh - Bangladesh - Bangladesh\"]}},                        {\"responsive\": true}                    ).then(function(){\n",
              "                            \n",
              "var gd = document.getElementById('ba6ac890-98bc-40c3-b4c9-6248d3b4fc11');\n",
              "var x = new MutationObserver(function (mutations, observer) {{\n",
              "        var display = window.getComputedStyle(gd).display;\n",
              "        if (!display || display === 'none') {{\n",
              "            console.log([gd, 'removed!']);\n",
              "            Plotly.purge(gd);\n",
              "            observer.disconnect();\n",
              "        }}\n",
              "}});\n",
              "\n",
              "// Listen for the removal of the full notebook cells\n",
              "var notebookContainer = gd.closest('#notebook-container');\n",
              "if (notebookContainer) {{\n",
              "    x.observe(notebookContainer, {childList: true});\n",
              "}}\n",
              "\n",
              "// Listen for the clearing of the current output cell\n",
              "var outputEl = gd.closest('.output');\n",
              "if (outputEl) {{\n",
              "    x.observe(outputEl, {childList: true});\n",
              "}}\n",
              "\n",
              "                        })                };                            </script>        </div>\n",
              "</body>\n",
              "</html>"
            ]
          },
          "metadata": {},
          "output_type": "display_data"
        }
      ],
      "source": [
        "# visualisons l'empreinte eau sur un bar chart horizontal\n",
        "compare_water_footprint = go.Figure(go.Bar(x=table['Empreinte_eau'], y=table.index.map(lambda x: ' - '.join(x)), text=table['Empreinte_eau'].round(2), textposition='outside', orientation='h', marker_color='lightblue'))\n",
        "compare_water_footprint.update_layout(title=\"Empreinte eau liée à la confection des vêtements\", plot_bgcolor=\"rgba(0,0,0,0)\", xaxis_title='Litres', bargap=0.15, margin=dict(l=150, r=50, t=50, b=50))\n",
        "compare_water_footprint.update_layout(yaxis_categoryorder='array', yaxis={'categoryarray': table.sort_values('Empreinte_eau', ascending=True).index.get_level_values(0) + \" - \" + table.sort_values('Empreinte_eau', ascending=True).index.get_level_values(1) + \" - \" + table.sort_values('Empreinte_eau', ascending=True).index.get_level_values(2)})\n",
        "compare_water_footprint.show()"
      ]
    },
    {
      "cell_type": "markdown",
      "metadata": {
        "id": "S8q3seaM7SZV"
      },
      "source": [
        "Nous observons, sans surprise, que les 1ers pays les plus impactants sur la planète sont le **Bangladesh**, la **Chine**, l'**Inde** et le **Pakistan**. Pour faire transition avec notre partie suivante, nous souhaitons souligner que les enfants vivant dans ces pays de fabrication (Bangladesh, Chine, Inde, Pakistan), parfois obligés de travailler dans les usines, sont fortement impactés par cette industrie, leur droit à vivre dans un environnement sain est mis à mal, et nous souhaitons nous focaliser à présent sur les indicateurs liés à leur environnement et conditions de vie. "
      ]
    },
    {
      "cell_type": "markdown",
      "metadata": {
        "id": "d1VRV9tWVJab"
      },
      "source": [
        "Nous ne présentons pas la distribution de la variable 'empreinte eau' car, comme l'on peut s'y attendre, elle suit exactement la même forme que celle de l'empreinte carbone, avec en tête les 4 mêmes pays, le **Bangladesh**, la **Chine**, l'**Inde** et le **Pakistan**. Selon la source sur laquelle nous nous sommes basées pour notre calcul, la confection d'un t-shirt équivaut à 70 douches [[4]](https://engagements.decathlon.fr/pourquoi-faut-il-tant-deau-pour-fabriquer-un-vetement), nous avons voulu convertir nos données en équivalents-douches : pour le Bangladesh, par ex., la production pour Vertbaudet équivaut à **108222 douches**.\n",
        "\n"
      ]
    },
    {
      "cell_type": "markdown",
      "metadata": {
        "id": "wXX8uzlZli3w"
      },
      "source": [
        "**Nous constatons l'ampleur de l'empreinte carbone et eau des 4 premiers pays producteurs de vêtements Vertbaudet :**     \n",
        "1. **Bangladesh**\n",
        "2. **Chine**\n",
        "3. **Inde**\n",
        "4. **Pakistan**\n",
        "\n",
        "Voyons maintenant si une tendance similaire s'observe quant aux indicateurs que nous avons retenus pour cerner la manière dont les droits des enfants sont exercés, ou non, dans les pays de fabrication. Vérifions si ces 4 pays forment également un \"cluster\" concernant ces données. C'est ce que nous allons à présent aborder en croisant ce constat avec les données de la Banque Mondiale."
      ]
    },
    {
      "cell_type": "markdown",
      "metadata": {
        "id": "B7RydP1FOhpG"
      },
      "source": [
        "## 1.2. Croisement des pays d'origine de fabrication des vêtements avec les données sociales de la Banque Mondiale"
      ]
    },
    {
      "cell_type": "markdown",
      "metadata": {
        "id": "MQEaRE89OpC8"
      },
      "source": [
        "A présent, nous souhaitons poursuivre nos investigations en nous concentrant sur ce qu'il se passe au niveau des populations, et donc pour les enfants, dans les pays de fabrication : quelles sont les conditions de vie, de travail forcé, d'accès aux ressources de vie comme l'eau, l'électricité, d'accès au confort et à l'éducation, quelles sont les conditions de santé et la mortalité ?</br>\n",
        "D'un point de vue méthodologique, nous allons scraper les données de la Banque Mondiale, qui sont présentées sur le site sous forme de table organisées en thématiques. Nous allons récupérer les tables les plus en lien avec notre problématique, les concaténer pour en faire un dataframe entier, à partir duquel nous travaillerons. Il est à noter que nous ne présenterons pas toutes les variables, un travail exploratoire ayant été réalisé pour ne retenir que les variables les plus informatives dans un soucis de visualisation et de compréhension de notre propos.</br> Notons encore, d'un point de vue technique, que chaque table du site de la Banque Mondiale se présente avec des balises 'td' qui portent toutes le même nom de classe 'spacer', il nous a donc fallu récupérer toutes les cellules de chaque table en même temps, et ensuite diviser les listes renvoyées en sous listes pour constituer un dataframe. Le nombre de cellules de chaque table choisie étant variable, nous n'avons pas pu automatiser le processus pour récupérer toutes les tables en même temps. Ainsi, nous avons scrapé chaque table, que nous avons concaténé par la suite."
      ]
    },
    {
      "cell_type": "markdown",
      "metadata": {
        "id": "EpmOsP7YfUrm"
      },
      "source": [
        "### Scraping des données de la Banque Mondiale"
      ]
    },
    {
      "cell_type": "markdown",
      "metadata": {
        "id": "ipfVnOBqWEJv"
      },
      "source": [
        "Sur le site de la Banque Mondiale, nous nous intéressons à 7 indicateurs qui sont chacun répertoriés dans une table :</br>\n",
        "1. Structure de l'industrie manufacturière\n",
        "2. Travail des enfants et accès à l'éducation\n",
        "3. Pauvreté\n",
        "4. Accès à l'eau\n",
        "5. Accès à l'électricité\n",
        "6. Malnutrition et troubles associés\n",
        "7. Mortalité\n",
        " \n",
        "Comme nous l'avons mentionné, la difficulté est d'automatiser un processus de scraping, étant donné que chaque table comporte un nombre de lignes différent et des index de pays différents. La meilleure option que nous avons retenue, voire la seule, bien qu'elle ne soit pas optimale, nous permettra d'obtenir un dataframe complet, en scrapant toutes les tables séparément et en les concaténant comme nous ferions une jointure SQL.</br>\n",
        "Enfin, concernant l'en-tête des tables, elles sont assez complexes car multilignes, avec des cellules imbriquées. Pas d'automatisation possible non plus à ce niveau, excepté pour la table sur le travail des enfants. Le nom des colonnes sera donc ajouté manuellement pour une meilleure lisibilité du dataframe final. Chaque variable sera décrite avec son unité de mesure.\n"
      ]
    },
    {
      "cell_type": "code",
      "execution_count": null,
      "metadata": {
        "id": "PcDDJXtj5tuB"
      },
      "outputs": [],
      "source": [
        "# process : \n",
        "# - récupération de toutes les cellules à la suite et ajout à une liste\n",
        "# - transformation de la liste en liste de n listes correspondant à chaque pays x nb de variables et stockage dans un dataframe\n",
        "# - pour child_labor : extraction du header par le scraping"
      ]
    },
    {
      "cell_type": "code",
      "execution_count": null,
      "metadata": {
        "id": "_mlg8DA_-Mkh"
      },
      "outputs": [],
      "source": [
        "# ----- 1. manufacturing -----\n",
        "url= 'http://wdi.worldbank.org/table/4.3#'\n",
        "page = requests.get(url)\n",
        "soup =  BeautifulSoup(page.text,'html.parser')\n",
        "conteneur = soup.find_all('table', class_='indicators-table')[1] # extraire le corps (les lignes) de la table\n",
        "tableau_cellules = conteneur.find_all('div', class_='spacer') # extraire toutes les cellules de la table\n",
        "cellules = []\n",
        "for i in tableau_cellules:\n",
        "  cellules.append(i.text)\n",
        "\n",
        "# transformer la liste en liste de 214 listes correspondant à chaque pays x 13 variables et stocker cela dans un dataframe\n",
        "size = 13\n",
        "sub_lists = [cellules[idx: idx+size] for idx in range(0, len(cellules), size)]\n",
        "df_manufacturing = pd.DataFrame(sub_lists, columns = [\"Country\", \n",
        "                                                      \"Val. ajoutée - 2010 (b.$)\", # valeur ajoutée de l'industrie manufacturière (en billions de $)\n",
        "                                                      \"Val. ajoutée - 2020 (b.$)\", # idem en 2020\n",
        "                                                      \"Alimentation, boisson, tabac - 2010 (en %)\", # en % de la valeur ajoutée totale\n",
        "                                                      \"Alimentation, boisson, tabac - 2020 (en %)\", # idem en 2020\n",
        "                                                      \"Textiles, vêtements - 2010 (en %)\", # en % de la valeur ajoutée totale\n",
        "                                                      \"Textiles, vêtements - 2020 (en %)\", # idem en 2020\n",
        "                                                      \"Machines, mat. de transport - 2010 (en %)\", # en % de la valeur ajoutée totale\n",
        "                                                      \"Machines, mat. de transport - 2020 (en %)\", # idem en 2020\n",
        "                                                      \"Prod. chimiques - 2010 (en %)\", # en % de la valeur ajoutée totale\n",
        "                                                      \"Prod. chimiques - 2020 (en %)\", # idem en 2020\n",
        "                                                      \"Autres - 2010 (en %)\", # autres manufactures en 2010 en % de la valeur ajoutée totale\n",
        "                                                      \"Autres - 2020 (en %)\" #  idem en 2020\n",
        "                                                     ]).set_index('Country')"
      ]
    },
    {
      "cell_type": "code",
      "execution_count": null,
      "metadata": {
        "id": "EJmF2bjI51qM"
      },
      "outputs": [],
      "source": [
        "# ----- 2. child_labor -----\n",
        "url= 'http://wdi.worldbank.org/table/2.6'\n",
        "page = requests.get(url)\n",
        "soup = BeautifulSoup(page.text,'html.parser')\n",
        "conteneur = soup.find_all('table', class_='indicators-table')[1] # extraire toutes les lignes de la table\n",
        "tableau_cellules = conteneur.find_all('div', class_='spacer') # extraire toutes les cellules\n",
        "cellules = []\n",
        "for i in tableau_cellules:\n",
        "  cellules.append(i.text)\n",
        "\n",
        "# transformer la liste en liste de 214 listes correspondant à chaque pays x 13 variables et en faire un dataframe\n",
        "size = 13\n",
        "sub_lists = [cellules[idx: idx+size] for idx in range(0, len(cellules), size)]\n",
        "df_child_labor = pd.DataFrame(sub_lists)\n",
        "\n",
        "# extraire le header du tableau\n",
        "header = soup.find_all('table', class_='indicators-table')[0]\n",
        "head = header.find_all('th')[5:18]\n",
        "text_head = [pt.get_text() for pt in head]\n",
        "\n",
        "# remplacement de l'indice vide [0] par le pays et l'indice [1] par l'année pour correspondre au df\n",
        "text_head[0] = \"Country\"\n",
        "text_head[1] = 'Survey year'\n",
        "\n",
        "# obtention du dataframe brut : les données sont représentées en % d'enfants âgés de 7 à 14 ans\n",
        "df_child_labor = pd.DataFrame(sub_lists, columns = text_head).set_index('Country')"
      ]
    },
    {
      "cell_type": "code",
      "execution_count": null,
      "metadata": {
        "id": "ICWIvit6Bd1n"
      },
      "outputs": [],
      "source": [
        "# ----- 3. poverty -----\n",
        "url= 'http://wdi.worldbank.org/table/1.2'\n",
        "page = requests.get(url)\n",
        "soup =  BeautifulSoup(page.text,'html.parser')\n",
        "conteneur = soup.find_all('table', class_='indicators-table')[1] # extraire le corps (les lignes) de la table\n",
        "tableau_cellules = conteneur.find_all('div', class_='spacer') # extraire toutes les cellules de la table\n",
        "cellules = []\n",
        "for i in tableau_cellules:\n",
        "  cellules.append(i.text)\n",
        "\n",
        "# transformer la liste en liste de 214 listes correspondant à chaque pays x 13 variables et stocker cela dans un dataframe\n",
        "size = 5\n",
        "sub_lists = [cellules[idx: idx+size] for idx in range(0, len(cellules), size)]\n",
        "df_poverty = pd.DataFrame(sub_lists, columns = [\"Country\", \n",
        "                                               \"Année de l'étude\",\n",
        "                                               \"Pop. < 2.15$ / jour\", # % de la pop. vivant avec moins de 2.15 $ par jour aux prix ajustés du pouvoir d'achat de 2017\n",
        "                                               \"Pop. < 3.65$ / jour\", # % de la pop. vivant avec moins de 3.65 $ par jour\n",
        "                                               \"Pop. < 6.85$ / jour\" # % de la pop. vivant avec moins de 6.85 $ par jour \n",
        "                                               ]).set_index('Country')"
      ]
    },
    {
      "cell_type": "code",
      "execution_count": null,
      "metadata": {
        "id": "LQu61u2b-WUJ"
      },
      "outputs": [],
      "source": [
        "# ----- 4. water -----\n",
        "url= 'http://wdi.worldbank.org/table/3.5'\n",
        "page = requests.get(url)\n",
        "soup = BeautifulSoup(page.text,'html.parser')\n",
        "conteneur = soup.find_all('table', class_='indicators-table')[1] # extraire toutes les lignes de la table\n",
        "tableau_cellules = conteneur.find_all('div', class_='spacer') # extraire toutes les cellules\n",
        "cellules = []\n",
        "for i in tableau_cellules:\n",
        "  cellules.append(i.text)\n",
        "\n",
        "# transformer la liste en liste de 214 listes correspondant à chaque pays x 13 variables et stocker cela dans un dataframe\n",
        "size = 11\n",
        "sub_lists = [cellules[idx: idx+size] for idx in range(0, len(cellules), size)]\n",
        "df_water = pd.DataFrame(sub_lists, columns = [\"Country\", \n",
        "                                        \"Ressources internes en eau (b.m3)\", #  flux de ressources en eau douce internes renouvelables (issus des fleuves et nappes phréatiques) (en billions de mètres cubes)\n",
        "                                        \"Ressources par habitant (m3)\", #  idem par habitant (en mètres cubes)\n",
        "                                        \"Prélèvements annuels (b.m3)\", # prélèvements annuels d'eau douce (au total : comprenant l'utilisation industrielle ou domestique) (en billions de mètres cubes) \n",
        "                                        \"Ratio prélèvement / ressources (en %)\", #  % total de prélèvements par rapport au total des ressources d'eau \n",
        "                                        \"Prélèvements agriculture (en %)\", # % prélèvements pour l'agriculture par rapport au total des prélèvements\n",
        "                                        \"Prélèvements industrie (en %)\", # % prélèvements pour l'industrie par rapport au total des prélèvements \n",
        "                                        \"Prélèvements domestiques (en %)\", # % prélèvements pour l'usage domestique par rapport au total des prélèvements\n",
        "                                        \"Productivité de l'eau\", # productivité de l'eau calculée comme le PIB à prix constants divisé par le prélèvement annuel total d'eau (mesuré en PIB en dollars par mètre cube) \n",
        "                                        \"% pop. urbaine\", # % de personnes (urbaines) utilisant au moins les services d'eau de base (eau potable provenant d'une source < 30 min de distance A/R, ou eau courante, forage...)\n",
        "                                        \"% pop. rurale\" #  idem personnes rurales\n",
        "                                        ]).set_index('Country')"
      ]
    },
    {
      "cell_type": "code",
      "execution_count": null,
      "metadata": {
        "id": "BevkCBBiBDsE"
      },
      "outputs": [],
      "source": [
        "# ----- 5. energy -----\n",
        "url= 'http://wdi.worldbank.org/table/3.13'\n",
        "page = requests.get(url)\n",
        "soup =  BeautifulSoup(page.text,'html.parser')\n",
        "conteneur = soup.find_all('table', class_='indicators-table')[1] # extraire le corps (les lignes) de la table\n",
        "tableau_cellules = conteneur.find_all('div', class_='spacer') # extraire toutes les cellules de la table\n",
        "cellules = []\n",
        "for i in tableau_cellules:\n",
        "  cellules.append(i.text)\n",
        "\n",
        "# transformer la liste en liste de 214 listes correspondant à chaque pays x 13 variables et stocker cela dans un dataframe\n",
        "size = 11\n",
        "sub_lists = [cellules[idx: idx+size] for idx in range(0, len(cellules), size)]\n",
        "df_energy = pd.DataFrame(sub_lists, columns = [\"Country\", \n",
        "                                               \"Accès à l'électricité - 2000 (en %)\", # en % de la population\n",
        "                                               \"Accès à l'électricité - 2020 (en %)\",\n",
        "                                               \"Accès à l'électricité - Pop. urbaine - 2020 (en %)\", # en % de la population urbaine\n",
        "                                               \"Accès à l'électricité - Pop. rurale - 2020 (en %)\", # en % de la population rurale\n",
        "                                               \"Accès aux énergies propres pour cuisiner - 2000 (en %)\", # en % de la population\n",
        "                                               \"Accès aux énergies propres pour cuisiner - 2020 (en %)\",\n",
        "                                               \"Consommation d'énergie renouvelable - 2000 (en %)\", # en % de l'énergie totale consommée\n",
        "                                               \"Consommation d'énergie renouvelable - 2020 (en %)\",\n",
        "                                               \"Production d'électricité renouvelable - 2000 (en %)\", # en % de l'électricité totale produite\n",
        "                                               \"Production d'électricité renouvelable - 2015 (en %)\",\n",
        "                                               ]).set_index('Country')"
      ]
    },
    {
      "cell_type": "code",
      "execution_count": null,
      "metadata": {
        "id": "4ICNPtRgAqEP"
      },
      "outputs": [],
      "source": [
        "# ----- 6. malnutrition -----\n",
        "url= 'http://wdi.worldbank.org/table/2.15'\n",
        "page = requests.get(url)\n",
        "soup =  BeautifulSoup(page.text,'html.parser')\n",
        "conteneur = soup.find_all('table', class_='indicators-table')[1] # extraire le corps (les lignes) de la table\n",
        "tableau_cellules = conteneur.find_all('div', class_='spacer') # extraire toutes les cellules de la table\n",
        "cellules = []\n",
        "for i in tableau_cellules:\n",
        "  cellules.append(i.text)\n",
        "\n",
        "# transformer la liste en liste de 214 listes correspondant à chaque pays x 13 variables et stocker cela dans un dataframe\n",
        "size = 13\n",
        "sub_lists = [cellules[idx: idx+size] for idx in range(0, len(cellules), size)]\n",
        "df_nutrition = pd.DataFrame(sub_lists, columns = [\"Country\", \n",
        "                                                  \"Prévalence de la malnutrition - 2001 (en %)\", # en % de la population\n",
        "                                                  \"Prévalence de la malnutrition - 2020 (en %)\",\n",
        "                                                  \"Prévalence du retard de croissance - 2000 (en %)\", # en % des enfants < 5 ans\n",
        "                                                  \"Prévalence du retard de croissance - 2020 (en %)\",\n",
        "                                                  \"Prévalence du surpoids - 2000 (en %)\", # en % des enfants < 5 ans\n",
        "                                                  \"Prévalence du surpoids - 2020 (en %)\",\n",
        "                                                  \"Prévalence de l'émaciation - Garçons - 2012/20 (en %)\", # en % des garçons < 5 ans\n",
        "                                                  \"Prévalence de l'émaciation - Filles - 2012/20 (en %)\", # en % des filles < 5 ans\n",
        "                                                  \"Prévalence de l'émaciation sévère - Garçons - 2012/20 (en %)\", # idem\n",
        "                                                  \"Prévalence de l'émaciation sévère - Filles - 2012/20 (en %)\",\n",
        "                                                  \"Prévalence de l'insuffisance pondérale - Garçons - 2012/20 (en %)\",\n",
        "                                                  \"Prévalence de l'insuffisance pondérale - Filles - 2012/20 (en %)\"\n",
        "                                                 ]).set_index('Country')"
      ]
    },
    {
      "cell_type": "code",
      "execution_count": null,
      "metadata": {
        "id": "LaBcZEfjA6II"
      },
      "outputs": [],
      "source": [
        "# ----- 7. mortality -----\n",
        "url= 'http://wdi.worldbank.org/table/2.18#'\n",
        "page = requests.get(url)\n",
        "soup =  BeautifulSoup(page.text,'html.parser')\n",
        "conteneur = soup.find_all('table', class_='indicators-table')[1] # extraire le corps (les lignes) de la table\n",
        "tableau_cellules = conteneur.find_all('div', class_='spacer') # extraire toutes les cellules de la table\n",
        "cellules = []\n",
        "for i in tableau_cellules:\n",
        "  cellules.append(i.text)\n",
        "\n",
        "# transformer la liste en liste de 214 listes correspondant à chaque pays x 13 variables et stocker cela dans un dataframe\n",
        "size = 13\n",
        "sub_lists = [cellules[idx: idx+size] for idx in range(0, len(cellules), size)]\n",
        "df_mortality = pd.DataFrame(sub_lists, columns = [\"Country\", \n",
        "                                                  \"Espérance de vie - 1990\", # en années\n",
        "                                                  \"Espérance de vie - 2020\",\n",
        "                                                  \"Taux de mortalité néonatale - 1990 (en ‰)\", # survenant avant 28 jours (pour 1000 naissances en vie)\n",
        "                                                  \"Taux de mortalité néonatale - 2020 (en ‰)\",\n",
        "                                                  \"Taux de mortalité infantile - 1990 (en ‰)\", # survenant avant 1 an (pour 1000 naissances en vie)\n",
        "                                                  \"Taux de mortalité infantile - 2020 (en ‰)\",\n",
        "                                                  \"Taux de mortalité < 5 ans - 1990 (en ‰)\", # survenant avant 5 ans (pour 1000 naissances en vie)\n",
        "                                                  \"Taux de mortalité < 5 ans - 2020 (en ‰)\",\n",
        "                                                  \"Taux de mortalité < 5 ans - Garçons - 2020 (en ‰)\", # idem\n",
        "                                                  \"Taux de mortalité < 5 ans - Filles - 2020 (en ‰)\",\n",
        "                                                  \"Taux de mortalité adultes - Hommes - 2015/20 (en ‰)\", # pour 1000 adultes hommes\n",
        "                                                  \"Taux de mortalité adultes - Femmes - 2015/20 (en ‰)\" # pour 1000 adultes femmes\n",
        "                                                 ]).set_index('Country')"
      ]
    },
    {
      "cell_type": "code",
      "execution_count": null,
      "metadata": {
        "colab": {
          "base_uri": "https://localhost:8080/",
          "height": 404
        },
        "id": "rxSHlyxs4GW3",
        "outputId": "9fdee107-6a51-4cbc-a0d2-0203f7b043f2"
      },
      "outputs": [
        {
          "output_type": "execute_result",
          "data": {
            "text/plain": [
              "               Val. ajoutée - 2010 (b.$) Val. ajoutée - 2020 (b.$)  \\\n",
              "Country                                                              \n",
              "Afghanistan                          2.0                       1.5   \n",
              "Albania                              0.7                       0.9   \n",
              "Algeria                             62.9                      27.3   \n",
              "American Samoa                       0.0                       0.1   \n",
              "\n",
              "               Alimentation, boisson, tabac - 2010 (en %)  \\\n",
              "Country                                                     \n",
              "Afghanistan                                            ..   \n",
              "Albania                                              15.7   \n",
              "Algeria                                              42.8   \n",
              "American Samoa                                         ..   \n",
              "\n",
              "               Alimentation, boisson, tabac - 2020 (en %)  \\\n",
              "Country                                                     \n",
              "Afghanistan                                            ..   \n",
              "Albania                                              19.6   \n",
              "Algeria                                                ..   \n",
              "American Samoa                                         ..   \n",
              "\n",
              "               Textiles, vêtements - 2010 (en %)  \\\n",
              "Country                                            \n",
              "Afghanistan                                   ..   \n",
              "Albania                                     25.6   \n",
              "Algeria                                      3.3   \n",
              "American Samoa                                ..   \n",
              "\n",
              "               Textiles, vêtements - 2020 (en %)  \\\n",
              "Country                                            \n",
              "Afghanistan                                   ..   \n",
              "Albania                                     36.4   \n",
              "Algeria                                       ..   \n",
              "American Samoa                                ..   \n",
              "\n",
              "               Machines, mat. de transport - 2010 (en %)  \\\n",
              "Country                                                    \n",
              "Afghanistan                                           ..   \n",
              "Albania                                              2.0   \n",
              "Algeria                                               ..   \n",
              "American Samoa                                        ..   \n",
              "\n",
              "               Machines, mat. de transport - 2020 (en %)  \\\n",
              "Country                                                    \n",
              "Afghanistan                                           ..   \n",
              "Albania                                              2.4   \n",
              "Algeria                                               ..   \n",
              "American Samoa                                        ..   \n",
              "\n",
              "               Prod. chimiques - 2010 (en %) Prod. chimiques - 2020 (en %)  \\\n",
              "Country                                                                      \n",
              "Afghanistan                               ..                            ..   \n",
              "Albania                                  4.6                           1.8   \n",
              "Algeria                                  9.7                            ..   \n",
              "American Samoa                            ..                            ..   \n",
              "\n",
              "                ... Taux de mortalité néonatale - 1990 (en ‰)  \\\n",
              "Country         ...                                             \n",
              "Afghanistan     ...                                        74   \n",
              "Albania         ...                                        13   \n",
              "Algeria         ...                                        24   \n",
              "American Samoa  ...                                        ..   \n",
              "\n",
              "               Taux de mortalité néonatale - 2020 (en ‰)  \\\n",
              "Country                                                    \n",
              "Afghanistan                                           35   \n",
              "Albania                                                7   \n",
              "Algeria                                               16   \n",
              "American Samoa                                        ..   \n",
              "\n",
              "               Taux de mortalité infantile - 1990 (en ‰)  \\\n",
              "Country                                                    \n",
              "Afghanistan                                          121   \n",
              "Albania                                               35   \n",
              "Algeria                                               44   \n",
              "American Samoa                                        ..   \n",
              "\n",
              "               Taux de mortalité infantile - 2020 (en ‰)  \\\n",
              "Country                                                    \n",
              "Afghanistan                                           45   \n",
              "Albania                                                8   \n",
              "Algeria                                               20   \n",
              "American Samoa                                        ..   \n",
              "\n",
              "               Taux de mortalité < 5 ans - 1990 (en ‰)  \\\n",
              "Country                                                  \n",
              "Afghanistan                                        179   \n",
              "Albania                                             41   \n",
              "Algeria                                             52   \n",
              "American Samoa                                      ..   \n",
              "\n",
              "               Taux de mortalité < 5 ans - 2020 (en ‰)  \\\n",
              "Country                                                  \n",
              "Afghanistan                                         58   \n",
              "Albania                                              9   \n",
              "Algeria                                             23   \n",
              "American Samoa                                      ..   \n",
              "\n",
              "               Taux de mortalité < 5 ans - Garçons - 2020 (en ‰)  \\\n",
              "Country                                                            \n",
              "Afghanistan                                                   61   \n",
              "Albania                                                       10   \n",
              "Algeria                                                       25   \n",
              "American Samoa                                                ..   \n",
              "\n",
              "               Taux de mortalité < 5 ans - Filles - 2020 (en ‰)  \\\n",
              "Country                                                           \n",
              "Afghanistan                                                  54   \n",
              "Albania                                                       9   \n",
              "Algeria                                                      21   \n",
              "American Samoa                                               ..   \n",
              "\n",
              "               Taux de mortalité adultes - Hommes - 2015/20 (en ‰)  \\\n",
              "Country                                                              \n",
              "Afghanistan                                                   319    \n",
              "Albania                                                       115    \n",
              "Algeria                                                       115    \n",
              "American Samoa                                                 ..    \n",
              "\n",
              "               Taux de mortalité adultes - Femmes - 2015/20 (en ‰)  \n",
              "Country                                                             \n",
              "Afghanistan                                                   210   \n",
              "Albania                                                        56   \n",
              "Algeria                                                        82   \n",
              "American Samoa                                                 ..   \n",
              "\n",
              "[4 rows x 70 columns]"
            ],
            "text/html": [
              "\n",
              "  <div id=\"df-cfae9721-c73f-418b-8c28-33117b5f1ad5\">\n",
              "    <div class=\"colab-df-container\">\n",
              "      <div>\n",
              "<style scoped>\n",
              "    .dataframe tbody tr th:only-of-type {\n",
              "        vertical-align: middle;\n",
              "    }\n",
              "\n",
              "    .dataframe tbody tr th {\n",
              "        vertical-align: top;\n",
              "    }\n",
              "\n",
              "    .dataframe thead th {\n",
              "        text-align: right;\n",
              "    }\n",
              "</style>\n",
              "<table border=\"1\" class=\"dataframe\">\n",
              "  <thead>\n",
              "    <tr style=\"text-align: right;\">\n",
              "      <th></th>\n",
              "      <th>Val. ajoutée - 2010 (b.$)</th>\n",
              "      <th>Val. ajoutée - 2020 (b.$)</th>\n",
              "      <th>Alimentation, boisson, tabac - 2010 (en %)</th>\n",
              "      <th>Alimentation, boisson, tabac - 2020 (en %)</th>\n",
              "      <th>Textiles, vêtements - 2010 (en %)</th>\n",
              "      <th>Textiles, vêtements - 2020 (en %)</th>\n",
              "      <th>Machines, mat. de transport - 2010 (en %)</th>\n",
              "      <th>Machines, mat. de transport - 2020 (en %)</th>\n",
              "      <th>Prod. chimiques - 2010 (en %)</th>\n",
              "      <th>Prod. chimiques - 2020 (en %)</th>\n",
              "      <th>...</th>\n",
              "      <th>Taux de mortalité néonatale - 1990 (en ‰)</th>\n",
              "      <th>Taux de mortalité néonatale - 2020 (en ‰)</th>\n",
              "      <th>Taux de mortalité infantile - 1990 (en ‰)</th>\n",
              "      <th>Taux de mortalité infantile - 2020 (en ‰)</th>\n",
              "      <th>Taux de mortalité &lt; 5 ans - 1990 (en ‰)</th>\n",
              "      <th>Taux de mortalité &lt; 5 ans - 2020 (en ‰)</th>\n",
              "      <th>Taux de mortalité &lt; 5 ans - Garçons - 2020 (en ‰)</th>\n",
              "      <th>Taux de mortalité &lt; 5 ans - Filles - 2020 (en ‰)</th>\n",
              "      <th>Taux de mortalité adultes - Hommes - 2015/20 (en ‰)</th>\n",
              "      <th>Taux de mortalité adultes - Femmes - 2015/20 (en ‰)</th>\n",
              "    </tr>\n",
              "    <tr>\n",
              "      <th>Country</th>\n",
              "      <th></th>\n",
              "      <th></th>\n",
              "      <th></th>\n",
              "      <th></th>\n",
              "      <th></th>\n",
              "      <th></th>\n",
              "      <th></th>\n",
              "      <th></th>\n",
              "      <th></th>\n",
              "      <th></th>\n",
              "      <th></th>\n",
              "      <th></th>\n",
              "      <th></th>\n",
              "      <th></th>\n",
              "      <th></th>\n",
              "      <th></th>\n",
              "      <th></th>\n",
              "      <th></th>\n",
              "      <th></th>\n",
              "      <th></th>\n",
              "      <th></th>\n",
              "    </tr>\n",
              "  </thead>\n",
              "  <tbody>\n",
              "    <tr>\n",
              "      <th>Afghanistan</th>\n",
              "      <td>2.0</td>\n",
              "      <td>1.5</td>\n",
              "      <td>..</td>\n",
              "      <td>..</td>\n",
              "      <td>..</td>\n",
              "      <td>..</td>\n",
              "      <td>..</td>\n",
              "      <td>..</td>\n",
              "      <td>..</td>\n",
              "      <td>..</td>\n",
              "      <td>...</td>\n",
              "      <td>74</td>\n",
              "      <td>35</td>\n",
              "      <td>121</td>\n",
              "      <td>45</td>\n",
              "      <td>179</td>\n",
              "      <td>58</td>\n",
              "      <td>61</td>\n",
              "      <td>54</td>\n",
              "      <td>319</td>\n",
              "      <td>210</td>\n",
              "    </tr>\n",
              "    <tr>\n",
              "      <th>Albania</th>\n",
              "      <td>0.7</td>\n",
              "      <td>0.9</td>\n",
              "      <td>15.7</td>\n",
              "      <td>19.6</td>\n",
              "      <td>25.6</td>\n",
              "      <td>36.4</td>\n",
              "      <td>2.0</td>\n",
              "      <td>2.4</td>\n",
              "      <td>4.6</td>\n",
              "      <td>1.8</td>\n",
              "      <td>...</td>\n",
              "      <td>13</td>\n",
              "      <td>7</td>\n",
              "      <td>35</td>\n",
              "      <td>8</td>\n",
              "      <td>41</td>\n",
              "      <td>9</td>\n",
              "      <td>10</td>\n",
              "      <td>9</td>\n",
              "      <td>115</td>\n",
              "      <td>56</td>\n",
              "    </tr>\n",
              "    <tr>\n",
              "      <th>Algeria</th>\n",
              "      <td>62.9</td>\n",
              "      <td>27.3</td>\n",
              "      <td>42.8</td>\n",
              "      <td>..</td>\n",
              "      <td>3.3</td>\n",
              "      <td>..</td>\n",
              "      <td>..</td>\n",
              "      <td>..</td>\n",
              "      <td>9.7</td>\n",
              "      <td>..</td>\n",
              "      <td>...</td>\n",
              "      <td>24</td>\n",
              "      <td>16</td>\n",
              "      <td>44</td>\n",
              "      <td>20</td>\n",
              "      <td>52</td>\n",
              "      <td>23</td>\n",
              "      <td>25</td>\n",
              "      <td>21</td>\n",
              "      <td>115</td>\n",
              "      <td>82</td>\n",
              "    </tr>\n",
              "    <tr>\n",
              "      <th>American Samoa</th>\n",
              "      <td>0.0</td>\n",
              "      <td>0.1</td>\n",
              "      <td>..</td>\n",
              "      <td>..</td>\n",
              "      <td>..</td>\n",
              "      <td>..</td>\n",
              "      <td>..</td>\n",
              "      <td>..</td>\n",
              "      <td>..</td>\n",
              "      <td>..</td>\n",
              "      <td>...</td>\n",
              "      <td>..</td>\n",
              "      <td>..</td>\n",
              "      <td>..</td>\n",
              "      <td>..</td>\n",
              "      <td>..</td>\n",
              "      <td>..</td>\n",
              "      <td>..</td>\n",
              "      <td>..</td>\n",
              "      <td>..</td>\n",
              "      <td>..</td>\n",
              "    </tr>\n",
              "  </tbody>\n",
              "</table>\n",
              "<p>4 rows × 70 columns</p>\n",
              "</div>\n",
              "      <button class=\"colab-df-convert\" onclick=\"convertToInteractive('df-cfae9721-c73f-418b-8c28-33117b5f1ad5')\"\n",
              "              title=\"Convert this dataframe to an interactive table.\"\n",
              "              style=\"display:none;\">\n",
              "        \n",
              "  <svg xmlns=\"http://www.w3.org/2000/svg\" height=\"24px\"viewBox=\"0 0 24 24\"\n",
              "       width=\"24px\">\n",
              "    <path d=\"M0 0h24v24H0V0z\" fill=\"none\"/>\n",
              "    <path d=\"M18.56 5.44l.94 2.06.94-2.06 2.06-.94-2.06-.94-.94-2.06-.94 2.06-2.06.94zm-11 1L8.5 8.5l.94-2.06 2.06-.94-2.06-.94L8.5 2.5l-.94 2.06-2.06.94zm10 10l.94 2.06.94-2.06 2.06-.94-2.06-.94-.94-2.06-.94 2.06-2.06.94z\"/><path d=\"M17.41 7.96l-1.37-1.37c-.4-.4-.92-.59-1.43-.59-.52 0-1.04.2-1.43.59L10.3 9.45l-7.72 7.72c-.78.78-.78 2.05 0 2.83L4 21.41c.39.39.9.59 1.41.59.51 0 1.02-.2 1.41-.59l7.78-7.78 2.81-2.81c.8-.78.8-2.07 0-2.86zM5.41 20L4 18.59l7.72-7.72 1.47 1.35L5.41 20z\"/>\n",
              "  </svg>\n",
              "      </button>\n",
              "      \n",
              "  <style>\n",
              "    .colab-df-container {\n",
              "      display:flex;\n",
              "      flex-wrap:wrap;\n",
              "      gap: 12px;\n",
              "    }\n",
              "\n",
              "    .colab-df-convert {\n",
              "      background-color: #E8F0FE;\n",
              "      border: none;\n",
              "      border-radius: 50%;\n",
              "      cursor: pointer;\n",
              "      display: none;\n",
              "      fill: #1967D2;\n",
              "      height: 32px;\n",
              "      padding: 0 0 0 0;\n",
              "      width: 32px;\n",
              "    }\n",
              "\n",
              "    .colab-df-convert:hover {\n",
              "      background-color: #E2EBFA;\n",
              "      box-shadow: 0px 1px 2px rgba(60, 64, 67, 0.3), 0px 1px 3px 1px rgba(60, 64, 67, 0.15);\n",
              "      fill: #174EA6;\n",
              "    }\n",
              "\n",
              "    [theme=dark] .colab-df-convert {\n",
              "      background-color: #3B4455;\n",
              "      fill: #D2E3FC;\n",
              "    }\n",
              "\n",
              "    [theme=dark] .colab-df-convert:hover {\n",
              "      background-color: #434B5C;\n",
              "      box-shadow: 0px 1px 3px 1px rgba(0, 0, 0, 0.15);\n",
              "      filter: drop-shadow(0px 1px 2px rgba(0, 0, 0, 0.3));\n",
              "      fill: #FFFFFF;\n",
              "    }\n",
              "  </style>\n",
              "\n",
              "      <script>\n",
              "        const buttonEl =\n",
              "          document.querySelector('#df-cfae9721-c73f-418b-8c28-33117b5f1ad5 button.colab-df-convert');\n",
              "        buttonEl.style.display =\n",
              "          google.colab.kernel.accessAllowed ? 'block' : 'none';\n",
              "\n",
              "        async function convertToInteractive(key) {\n",
              "          const element = document.querySelector('#df-cfae9721-c73f-418b-8c28-33117b5f1ad5');\n",
              "          const dataTable =\n",
              "            await google.colab.kernel.invokeFunction('convertToInteractive',\n",
              "                                                     [key], {});\n",
              "          if (!dataTable) return;\n",
              "\n",
              "          const docLinkHtml = 'Like what you see? Visit the ' +\n",
              "            '<a target=\"_blank\" href=https://colab.research.google.com/notebooks/data_table.ipynb>data table notebook</a>'\n",
              "            + ' to learn more about interactive tables.';\n",
              "          element.innerHTML = '';\n",
              "          dataTable['output_type'] = 'display_data';\n",
              "          await google.colab.output.renderOutput(dataTable, element);\n",
              "          const docLink = document.createElement('div');\n",
              "          docLink.innerHTML = docLinkHtml;\n",
              "          element.appendChild(docLink);\n",
              "        }\n",
              "      </script>\n",
              "    </div>\n",
              "  </div>\n",
              "  "
            ]
          },
          "metadata": {},
          "execution_count": 13
        }
      ],
      "source": [
        "# concaténation de tous les dataframes en privilégiant une 'inner join' afin de faire correspondre tous les index (certains pays sont décalés)\n",
        "df = pd.concat([df_manufacturing, df_child_labor, df_poverty, df_water, df_energy, df_nutrition, df_mortality], axis=1, join='inner')\n",
        "\n",
        "# suppression des colonnes 'dates de l'étude' que nous n'exploiterons pas\n",
        "df = df.drop([\"Survey year\", \"Année de l'étude\"], axis=1)\n",
        "df.head(4)"
      ]
    },
    {
      "cell_type": "code",
      "execution_count": null,
      "metadata": {
        "id": "CVM_qrcT0cco"
      },
      "outputs": [],
      "source": [
        "# transformons les types object en float\n",
        "for col in df.columns:\n",
        "  df[col] = df[col].apply(pd.to_numeric, errors='coerce')"
      ]
    },
    {
      "cell_type": "code",
      "execution_count": null,
      "metadata": {
        "colab": {
          "base_uri": "https://localhost:8080/"
        },
        "id": "uJWtcjxQ5MeN",
        "outputId": "e07f15da-e95c-4031-df9e-c5e2ae361b1c"
      },
      "outputs": [
        {
          "output_type": "execute_result",
          "data": {
            "text/plain": [
              "30.4739652870494"
            ]
          },
          "metadata": {},
          "execution_count": 17
        }
      ],
      "source": [
        "# affichons le % de NaN dans le dataframe\n",
        "df.isna().sum().sum() / df.size * 100"
      ]
    },
    {
      "cell_type": "code",
      "execution_count": null,
      "metadata": {
        "id": "aRHDvN-c4K5S",
        "colab": {
          "base_uri": "https://localhost:8080/",
          "height": 386
        },
        "outputId": "50862b1c-bab5-460a-ec2e-b003669666e9"
      },
      "outputs": [
        {
          "output_type": "execute_result",
          "data": {
            "text/plain": [
              "            Val. ajoutée - 2010 (b.$)  Val. ajoutée - 2020 (b.$)  \\\n",
              "Country                                                            \n",
              "Bangladesh                       18.6                       77.0   \n",
              "China                             NaN                        NaN   \n",
              "India                           285.4                      365.0   \n",
              "Pakistan                         23.2                       34.3   \n",
              "\n",
              "            Alimentation, boisson, tabac - 2010 (en %)  \\\n",
              "Country                                                  \n",
              "Bangladesh                                         NaN   \n",
              "China                                             11.8   \n",
              "India                                              9.5   \n",
              "Pakistan                                           NaN   \n",
              "\n",
              "            Alimentation, boisson, tabac - 2020 (en %)  \\\n",
              "Country                                                  \n",
              "Bangladesh                                        15.4   \n",
              "China                                             11.8   \n",
              "India                                              NaN   \n",
              "Pakistan                                           NaN   \n",
              "\n",
              "            Textiles, vêtements - 2010 (en %)  \\\n",
              "Country                                         \n",
              "Bangladesh                                NaN   \n",
              "China                                    10.0   \n",
              "India                                     8.8   \n",
              "Pakistan                                  NaN   \n",
              "\n",
              "            Textiles, vêtements - 2020 (en %)  \\\n",
              "Country                                         \n",
              "Bangladesh                               56.8   \n",
              "China                                    10.0   \n",
              "India                                     NaN   \n",
              "Pakistan                                  NaN   \n",
              "\n",
              "            Machines, mat. de transport - 2010 (en %)  \\\n",
              "Country                                                 \n",
              "Bangladesh                                        NaN   \n",
              "China                                            24.5   \n",
              "India                                            19.1   \n",
              "Pakistan                                          NaN   \n",
              "\n",
              "            Machines, mat. de transport - 2020 (en %)  \\\n",
              "Country                                                 \n",
              "Bangladesh                                        3.6   \n",
              "China                                            24.5   \n",
              "India                                             NaN   \n",
              "Pakistan                                          NaN   \n",
              "\n",
              "            Prod. chimiques - 2010 (en %)  Prod. chimiques - 2020 (en %)  ...  \\\n",
              "Country                                                                   ...   \n",
              "Bangladesh                            NaN                            3.1  ...   \n",
              "China                                10.8                           10.8  ...   \n",
              "India                                14.9                            NaN  ...   \n",
              "Pakistan                              NaN                            NaN  ...   \n",
              "\n",
              "            Taux de mortalité néonatale - 2020 (en ‰)  \\\n",
              "Country                                                 \n",
              "Bangladesh                                       17.0   \n",
              "China                                             3.0   \n",
              "India                                            20.0   \n",
              "Pakistan                                         40.0   \n",
              "\n",
              "            Taux de mortalité infantile - 1990 (en ‰)  \\\n",
              "Country                                                 \n",
              "Bangladesh                                      101.0   \n",
              "China                                            43.0   \n",
              "India                                            89.0   \n",
              "Pakistan                                        107.0   \n",
              "\n",
              "            Taux de mortalité infantile - 2020 (en ‰)  \\\n",
              "Country                                                 \n",
              "Bangladesh                                       24.0   \n",
              "China                                             6.0   \n",
              "India                                            27.0   \n",
              "Pakistan                                         54.0   \n",
              "\n",
              "            Taux de mortalité < 5 ans - 1990 (en ‰)  \\\n",
              "Country                                               \n",
              "Bangladesh                                    146.0   \n",
              "China                                          54.0   \n",
              "India                                         127.0   \n",
              "Pakistan                                      140.0   \n",
              "\n",
              "            Taux de mortalité < 5 ans - 2020 (en ‰)  \\\n",
              "Country                                               \n",
              "Bangladesh                                     29.0   \n",
              "China                                           7.0   \n",
              "India                                          32.0   \n",
              "Pakistan                                       66.0   \n",
              "\n",
              "            Taux de mortalité < 5 ans - Garçons - 2020 (en ‰)  \\\n",
              "Country                                                         \n",
              "Bangladesh                                               31.0   \n",
              "China                                                     8.0   \n",
              "India                                                    32.0   \n",
              "Pakistan                                                 70.0   \n",
              "\n",
              "            Taux de mortalité < 5 ans - Filles - 2020 (en ‰)  \\\n",
              "Country                                                        \n",
              "Bangladesh                                              27.0   \n",
              "China                                                    7.0   \n",
              "India                                                   33.0   \n",
              "Pakistan                                                61.0   \n",
              "\n",
              "            Taux de mortalité adultes - Hommes - 2015/20 (en ‰)  \\\n",
              "Country                                                           \n",
              "Bangladesh                                              156.0     \n",
              "China                                                   109.0     \n",
              "India                                                   202.0     \n",
              "Pakistan                                                215.0     \n",
              "\n",
              "            Taux de mortalité adultes - Femmes - 2015/20 (en ‰)  NbArticles  \n",
              "Country                                                                      \n",
              "Bangladesh                                              117.0        5047.0  \n",
              "China                                                    55.0           NaN  \n",
              "India                                                   144.0           NaN  \n",
              "Pakistan                                                140.0         570.0  \n",
              "\n",
              "[4 rows x 71 columns]"
            ],
            "text/html": [
              "\n",
              "  <div id=\"df-7b07889b-815c-4577-91eb-f9778aa35e54\">\n",
              "    <div class=\"colab-df-container\">\n",
              "      <div>\n",
              "<style scoped>\n",
              "    .dataframe tbody tr th:only-of-type {\n",
              "        vertical-align: middle;\n",
              "    }\n",
              "\n",
              "    .dataframe tbody tr th {\n",
              "        vertical-align: top;\n",
              "    }\n",
              "\n",
              "    .dataframe thead th {\n",
              "        text-align: right;\n",
              "    }\n",
              "</style>\n",
              "<table border=\"1\" class=\"dataframe\">\n",
              "  <thead>\n",
              "    <tr style=\"text-align: right;\">\n",
              "      <th></th>\n",
              "      <th>Val. ajoutée - 2010 (b.$)</th>\n",
              "      <th>Val. ajoutée - 2020 (b.$)</th>\n",
              "      <th>Alimentation, boisson, tabac - 2010 (en %)</th>\n",
              "      <th>Alimentation, boisson, tabac - 2020 (en %)</th>\n",
              "      <th>Textiles, vêtements - 2010 (en %)</th>\n",
              "      <th>Textiles, vêtements - 2020 (en %)</th>\n",
              "      <th>Machines, mat. de transport - 2010 (en %)</th>\n",
              "      <th>Machines, mat. de transport - 2020 (en %)</th>\n",
              "      <th>Prod. chimiques - 2010 (en %)</th>\n",
              "      <th>Prod. chimiques - 2020 (en %)</th>\n",
              "      <th>...</th>\n",
              "      <th>Taux de mortalité néonatale - 2020 (en ‰)</th>\n",
              "      <th>Taux de mortalité infantile - 1990 (en ‰)</th>\n",
              "      <th>Taux de mortalité infantile - 2020 (en ‰)</th>\n",
              "      <th>Taux de mortalité &lt; 5 ans - 1990 (en ‰)</th>\n",
              "      <th>Taux de mortalité &lt; 5 ans - 2020 (en ‰)</th>\n",
              "      <th>Taux de mortalité &lt; 5 ans - Garçons - 2020 (en ‰)</th>\n",
              "      <th>Taux de mortalité &lt; 5 ans - Filles - 2020 (en ‰)</th>\n",
              "      <th>Taux de mortalité adultes - Hommes - 2015/20 (en ‰)</th>\n",
              "      <th>Taux de mortalité adultes - Femmes - 2015/20 (en ‰)</th>\n",
              "      <th>NbArticles</th>\n",
              "    </tr>\n",
              "    <tr>\n",
              "      <th>Country</th>\n",
              "      <th></th>\n",
              "      <th></th>\n",
              "      <th></th>\n",
              "      <th></th>\n",
              "      <th></th>\n",
              "      <th></th>\n",
              "      <th></th>\n",
              "      <th></th>\n",
              "      <th></th>\n",
              "      <th></th>\n",
              "      <th></th>\n",
              "      <th></th>\n",
              "      <th></th>\n",
              "      <th></th>\n",
              "      <th></th>\n",
              "      <th></th>\n",
              "      <th></th>\n",
              "      <th></th>\n",
              "      <th></th>\n",
              "      <th></th>\n",
              "      <th></th>\n",
              "    </tr>\n",
              "  </thead>\n",
              "  <tbody>\n",
              "    <tr>\n",
              "      <th>Bangladesh</th>\n",
              "      <td>18.6</td>\n",
              "      <td>77.0</td>\n",
              "      <td>NaN</td>\n",
              "      <td>15.4</td>\n",
              "      <td>NaN</td>\n",
              "      <td>56.8</td>\n",
              "      <td>NaN</td>\n",
              "      <td>3.6</td>\n",
              "      <td>NaN</td>\n",
              "      <td>3.1</td>\n",
              "      <td>...</td>\n",
              "      <td>17.0</td>\n",
              "      <td>101.0</td>\n",
              "      <td>24.0</td>\n",
              "      <td>146.0</td>\n",
              "      <td>29.0</td>\n",
              "      <td>31.0</td>\n",
              "      <td>27.0</td>\n",
              "      <td>156.0</td>\n",
              "      <td>117.0</td>\n",
              "      <td>5047.0</td>\n",
              "    </tr>\n",
              "    <tr>\n",
              "      <th>China</th>\n",
              "      <td>NaN</td>\n",
              "      <td>NaN</td>\n",
              "      <td>11.8</td>\n",
              "      <td>11.8</td>\n",
              "      <td>10.0</td>\n",
              "      <td>10.0</td>\n",
              "      <td>24.5</td>\n",
              "      <td>24.5</td>\n",
              "      <td>10.8</td>\n",
              "      <td>10.8</td>\n",
              "      <td>...</td>\n",
              "      <td>3.0</td>\n",
              "      <td>43.0</td>\n",
              "      <td>6.0</td>\n",
              "      <td>54.0</td>\n",
              "      <td>7.0</td>\n",
              "      <td>8.0</td>\n",
              "      <td>7.0</td>\n",
              "      <td>109.0</td>\n",
              "      <td>55.0</td>\n",
              "      <td>NaN</td>\n",
              "    </tr>\n",
              "    <tr>\n",
              "      <th>India</th>\n",
              "      <td>285.4</td>\n",
              "      <td>365.0</td>\n",
              "      <td>9.5</td>\n",
              "      <td>NaN</td>\n",
              "      <td>8.8</td>\n",
              "      <td>NaN</td>\n",
              "      <td>19.1</td>\n",
              "      <td>NaN</td>\n",
              "      <td>14.9</td>\n",
              "      <td>NaN</td>\n",
              "      <td>...</td>\n",
              "      <td>20.0</td>\n",
              "      <td>89.0</td>\n",
              "      <td>27.0</td>\n",
              "      <td>127.0</td>\n",
              "      <td>32.0</td>\n",
              "      <td>32.0</td>\n",
              "      <td>33.0</td>\n",
              "      <td>202.0</td>\n",
              "      <td>144.0</td>\n",
              "      <td>NaN</td>\n",
              "    </tr>\n",
              "    <tr>\n",
              "      <th>Pakistan</th>\n",
              "      <td>23.2</td>\n",
              "      <td>34.3</td>\n",
              "      <td>NaN</td>\n",
              "      <td>NaN</td>\n",
              "      <td>NaN</td>\n",
              "      <td>NaN</td>\n",
              "      <td>NaN</td>\n",
              "      <td>NaN</td>\n",
              "      <td>NaN</td>\n",
              "      <td>NaN</td>\n",
              "      <td>...</td>\n",
              "      <td>40.0</td>\n",
              "      <td>107.0</td>\n",
              "      <td>54.0</td>\n",
              "      <td>140.0</td>\n",
              "      <td>66.0</td>\n",
              "      <td>70.0</td>\n",
              "      <td>61.0</td>\n",
              "      <td>215.0</td>\n",
              "      <td>140.0</td>\n",
              "      <td>570.0</td>\n",
              "    </tr>\n",
              "  </tbody>\n",
              "</table>\n",
              "<p>4 rows × 71 columns</p>\n",
              "</div>\n",
              "      <button class=\"colab-df-convert\" onclick=\"convertToInteractive('df-7b07889b-815c-4577-91eb-f9778aa35e54')\"\n",
              "              title=\"Convert this dataframe to an interactive table.\"\n",
              "              style=\"display:none;\">\n",
              "        \n",
              "  <svg xmlns=\"http://www.w3.org/2000/svg\" height=\"24px\"viewBox=\"0 0 24 24\"\n",
              "       width=\"24px\">\n",
              "    <path d=\"M0 0h24v24H0V0z\" fill=\"none\"/>\n",
              "    <path d=\"M18.56 5.44l.94 2.06.94-2.06 2.06-.94-2.06-.94-.94-2.06-.94 2.06-2.06.94zm-11 1L8.5 8.5l.94-2.06 2.06-.94-2.06-.94L8.5 2.5l-.94 2.06-2.06.94zm10 10l.94 2.06.94-2.06 2.06-.94-2.06-.94-.94-2.06-.94 2.06-2.06.94z\"/><path d=\"M17.41 7.96l-1.37-1.37c-.4-.4-.92-.59-1.43-.59-.52 0-1.04.2-1.43.59L10.3 9.45l-7.72 7.72c-.78.78-.78 2.05 0 2.83L4 21.41c.39.39.9.59 1.41.59.51 0 1.02-.2 1.41-.59l7.78-7.78 2.81-2.81c.8-.78.8-2.07 0-2.86zM5.41 20L4 18.59l7.72-7.72 1.47 1.35L5.41 20z\"/>\n",
              "  </svg>\n",
              "      </button>\n",
              "      \n",
              "  <style>\n",
              "    .colab-df-container {\n",
              "      display:flex;\n",
              "      flex-wrap:wrap;\n",
              "      gap: 12px;\n",
              "    }\n",
              "\n",
              "    .colab-df-convert {\n",
              "      background-color: #E8F0FE;\n",
              "      border: none;\n",
              "      border-radius: 50%;\n",
              "      cursor: pointer;\n",
              "      display: none;\n",
              "      fill: #1967D2;\n",
              "      height: 32px;\n",
              "      padding: 0 0 0 0;\n",
              "      width: 32px;\n",
              "    }\n",
              "\n",
              "    .colab-df-convert:hover {\n",
              "      background-color: #E2EBFA;\n",
              "      box-shadow: 0px 1px 2px rgba(60, 64, 67, 0.3), 0px 1px 3px 1px rgba(60, 64, 67, 0.15);\n",
              "      fill: #174EA6;\n",
              "    }\n",
              "\n",
              "    [theme=dark] .colab-df-convert {\n",
              "      background-color: #3B4455;\n",
              "      fill: #D2E3FC;\n",
              "    }\n",
              "\n",
              "    [theme=dark] .colab-df-convert:hover {\n",
              "      background-color: #434B5C;\n",
              "      box-shadow: 0px 1px 3px 1px rgba(0, 0, 0, 0.15);\n",
              "      filter: drop-shadow(0px 1px 2px rgba(0, 0, 0, 0.3));\n",
              "      fill: #FFFFFF;\n",
              "    }\n",
              "  </style>\n",
              "\n",
              "      <script>\n",
              "        const buttonEl =\n",
              "          document.querySelector('#df-7b07889b-815c-4577-91eb-f9778aa35e54 button.colab-df-convert');\n",
              "        buttonEl.style.display =\n",
              "          google.colab.kernel.accessAllowed ? 'block' : 'none';\n",
              "\n",
              "        async function convertToInteractive(key) {\n",
              "          const element = document.querySelector('#df-7b07889b-815c-4577-91eb-f9778aa35e54');\n",
              "          const dataTable =\n",
              "            await google.colab.kernel.invokeFunction('convertToInteractive',\n",
              "                                                     [key], {});\n",
              "          if (!dataTable) return;\n",
              "\n",
              "          const docLinkHtml = 'Like what you see? Visit the ' +\n",
              "            '<a target=\"_blank\" href=https://colab.research.google.com/notebooks/data_table.ipynb>data table notebook</a>'\n",
              "            + ' to learn more about interactive tables.';\n",
              "          element.innerHTML = '';\n",
              "          dataTable['output_type'] = 'display_data';\n",
              "          await google.colab.output.renderOutput(dataTable, element);\n",
              "          const docLink = document.createElement('div');\n",
              "          docLink.innerHTML = docLinkHtml;\n",
              "          element.appendChild(docLink);\n",
              "        }\n",
              "      </script>\n",
              "    </div>\n",
              "  </div>\n",
              "  "
            ]
          },
          "metadata": {},
          "execution_count": 18
        }
      ],
      "source": [
        "# préparons un dataframe contenant uniquement les pays de fabrication, sur lesquels nous centrerons notre travail d'analyse\n",
        "df_countries_selected = df.loc[[\"Bangladesh\", \"China\", \"India\", \"Pakistan\", \"Portugal\", \"Turkiye\", \"Vietnam\", \"Morocco\", \"Poland\", \"Brazil\"],]\n",
        "df_countries_selected = df_countries_selected.assign(NbArticles=occurrences_pays) # ajoutons la série de notre 1re partie : 'Référence article' soit le nb d'articles produits\n",
        "df_countries_selected.head(4)"
      ]
    },
    {
      "cell_type": "code",
      "execution_count": null,
      "metadata": {
        "id": "1Q-0Kvrxzj5q"
      },
      "outputs": [],
      "source": [
        "# ajoutons des données qui n'ont pas été gérées par le scraping du fait d'un séparateur de milliers (pour les données sur l'eau)\n",
        "df_countries_selected.loc[\"China\", \"Ressources internes en eau (b.m3)\"] = 2812.9\n",
        "df_countries_selected.loc[\"China\", \"Ressources par habitant (m3)\"] = 1998\n",
        "df_countries_selected.loc[\"India\", \"Ressources internes en eau (b.m3)\"] = 1146\n",
        "df_countries_selected.loc[\"India\", \"Ressources par habitant (m3)\"] = 1045\n",
        "df_countries_selected.loc[\"Brazil\", \"Ressources internes en eau (b.m3)\"] = 5661\n",
        "df_countries_selected.loc[\"Brazil\", \"Ressources par habitant (m3)\"] = 26730"
      ]
    },
    {
      "cell_type": "code",
      "execution_count": null,
      "metadata": {
        "colab": {
          "base_uri": "https://localhost:8080/"
        },
        "id": "WAC6ZBZQ6cmI",
        "outputId": "78024310-24b0-41aa-bfc0-74dfce8a3eca"
      },
      "outputs": [
        {
          "output_type": "execute_result",
          "data": {
            "text/plain": [
              "0.5767940979208585"
            ]
          },
          "metadata": {},
          "execution_count": 15
        }
      ],
      "source": [
        "# % de NaN dans le sous ensemble\n",
        "df_countries_selected.isna().sum().sum() / df.size * 100"
      ]
    },
    {
      "cell_type": "markdown",
      "metadata": {
        "id": "PMuAfXSL6zCP"
      },
      "source": [
        "Pour chaque indicateur, nous utiliserons le dataset contenant l'ensemble des pays, puis le dataset des pays de fabrication de la marque Vertbaudet pour observer les tendances."
      ]
    },
    {
      "cell_type": "markdown",
      "metadata": {
        "id": "s0sy4HyuVpFU"
      },
      "source": [
        "### Zoom sur l'industrie manufacturière"
      ]
    },
    {
      "cell_type": "markdown",
      "metadata": {
        "id": "rBWHIx-VnWu-"
      },
      "source": [
        "Commençons par visualiser la manière dont se distribue **la valeur ajoutée de l'industrie manufacturière (qui comprend l'industrie textile)**, selon le type de secteur, et ce pour l'ensemble du dataset mondial. Pour cela, réalisons des boxplot pour chaque secteur. La valeur ajoutée est exprimée pour chaque secteur en % par rapport à la valeur ajoutée totale de l'industrie manufacturière."
      ]
    },
    {
      "cell_type": "code",
      "execution_count": null,
      "metadata": {
        "colab": {
          "base_uri": "https://localhost:8080/",
          "height": 562
        },
        "id": "-8l4sxjvZUKW",
        "outputId": "e24cc12b-8787-4ea4-9f84-90fd0405bcd3"
      },
      "outputs": [
        {
          "output_type": "display_data",
          "data": {
            "text/html": [
              "<html>\n",
              "<head><meta charset=\"utf-8\" /></head>\n",
              "<body>\n",
              "    <div>            <script src=\"https://cdnjs.cloudflare.com/ajax/libs/mathjax/2.7.5/MathJax.js?config=TeX-AMS-MML_SVG\"></script><script type=\"text/javascript\">if (window.MathJax && window.MathJax.Hub && window.MathJax.Hub.Config) {window.MathJax.Hub.Config({SVG: {font: \"STIX-Web\"}});}</script>                <script type=\"text/javascript\">window.PlotlyConfig = {MathJaxConfig: 'local'};</script>\n",
              "        <script src=\"https://cdn.plot.ly/plotly-2.18.2.min.js\"></script>                <div id=\"361c97b0-b9de-4a41-bd8e-3ce456924946\" class=\"plotly-graph-div\" style=\"height:525px; width:2200px;\"></div>            <script type=\"text/javascript\">                                    window.PLOTLYENV=window.PLOTLYENV || {};                                    if (document.getElementById(\"361c97b0-b9de-4a41-bd8e-3ce456924946\")) {                    Plotly.newPlot(                        \"361c97b0-b9de-4a41-bd8e-3ce456924946\",                        [{\"opacity\":0.5,\"y\":[null,19.6,null,null,null,null,null,36.5,62.5,null,26.1,11.0,26.0,null,null,15.4,null,23.5,16.0,null,null,null,null,null,17.9,22.6,19.0,null,16.1,null,null,null,null,18.3,null,null,null,null,null,null,11.8,34.1,null,34.6,null,null,null,37.8,null,23.9,null,null,34.1,12.1,null,null,null,null,null,null,null,null,13.0,null,null,null,49.1,10.2,17.4,null,null,null,41.3,8.1,null,31.3,null,null,null,null,null,null,null,null,null,10.5,48.0,null,23.9,null,null,5.6,null,null,11.4,null,null,26.1,null,37.7,null,null,null,null,null,14.0,null,16.5,null,null,null,null,null,16.8,9.6,null,null,11.6,null,null,17.5,null,null,40.0,21.6,null,36.1,null,62.7,null,null,null,null,null,null,17.2,null,36.3,52.5,null,null,21.9,null,21.4,7.1,null,null,null,null,null,27.0,32.8,16.3,15.5,null,3.4,13.5,13.8,58.9,null,null,null,13.1,41.7,22.1,null,null,4.8,null,6.7,6.7,null,null,22.2,null,19.5,36.1,null,null,null,null,null,null,7.9,8.9,null,null,57.6,null,null,null,null,null,22.3,10.8,null,null,null,null,28.3,null,13.3,17.8,null,15.0,null,null,12.4,null,23.6,null,null,null],\"type\":\"box\",\"xaxis\":\"x\",\"yaxis\":\"y\"},{\"opacity\":0.5,\"y\":[null,36.4,null,null,null,null,null,4.0,4.4,null,2.2,1.5,4.1,null,null,56.8,null,5.6,1.9,null,null,null,null,null,12.2,1.9,5.8,null,9.4,null,null,null,null,1.3,null,null,null,null,null,null,10.0,3.2,null,7.0,null,null,null,2.3,null,5.6,null,null,1.4,1.1,null,null,null,null,null,null,null,null,5.0,null,null,null,11.7,1.3,2.9,null,null,null,3.6,1.1,null,3.6,null,null,null,null,null,null,null,null,null,1.9,1.1,null,12.9,null,null,0.1,null,null,9.3,null,null,7.7,null,18.1,null,null,null,null,null,3.9,null,4.1,null,null,null,null,null,6.4,null,null,null,2.0,null,null,0.7,null,null,31.6,2.6,null,14.0,null,11.3,null,null,null,null,null,null,1.5,null,2.2,21.3,null,null,20.1,null,1.5,0.1,null,null,null,null,null,7.4,3.4,2.9,14.4,null,1.4,8.8,1.7,9.0,null,null,null,2.7,0.8,6.8,null,null,0.2,null,3.2,2.0,null,null,1.8,null,3.3,36.4,null,null,null,null,null,null,0.6,0.9,null,null,6.6,null,null,null,null,null,17.6,16.1,null,null,null,null,3.3,null,2.3,1.2,null,13.2,null,null,16.2,null,7.3,null,null,null],\"type\":\"box\",\"xaxis\":\"x2\",\"yaxis\":\"y2\"},{\"opacity\":0.5,\"y\":[null,2.4,null,null,null,null,null,10.3,3.4,null,19.0,30.2,8.7,null,null,3.6,null,19.0,16.3,null,null,null,null,null,8.5,null,17.0,null,19.3,null,null,null,null,25.6,null,null,null,null,null,null,24.5,26.5,null,4.3,null,null,null,4.4,null,16.2,null,null,14.8,29.1,null,null,null,null,null,null,null,null,21.1,null,null,null,1.6,29.1,33.5,null,null,null,3.2,44.0,null,8.0,null,null,null,null,null,null,null,null,null,37.7,12.7,null,15.9,null,null,0.3,null,null,29.6,null,null,3.0,null,4.4,null,null,null,null,null,1.2,null,9.8,null,null,null,null,null,16.1,14.5,null,null,31.0,null,null,21.7,null,null,4.6,34.5,null,12.5,null,0.9,null,null,null,null,null,null,32.7,null,17.0,8.9,null,null,25.8,null,24.9,5.0,null,null,null,null,null,7.0,39.6,22.6,18.3,null,2.2,36.7,14.0,null,null,null,null,4.2,0.8,13.9,null,null,62.5,null,43.4,23.0,null,null,14.6,null,24.0,1.3,null,null,null,null,null,null,36.6,32.2,null,null,1.7,null,null,null,null,null,12.7,21.7,null,null,null,null,21.4,null,35.9,26.7,null,9.6,null,null,30.3,null,2.1,null,null,null],\"type\":\"box\",\"xaxis\":\"x3\",\"yaxis\":\"y3\"},{\"opacity\":0.5,\"y\":[null,1.8,null,null,null,null,null,13.0,2.9,null,8.7,8.1,5.3,null,null,3.1,null,19.4,33.3,null,null,null,null,null,6.5,null,14.7,null,7.4,null,null,null,null,9.9,null,null,null,null,null,null,10.8,10.8,null,17.5,null,null,null,7.2,null,9.8,null,null,13.3,null,null,null,null,null,null,null,null,null,3.4,null,null,null,6.1,null,15.0,null,null,null,8.4,10.5,null,10.8,null,null,null,null,null,null,null,null,null,9.8,1.4,null,10.8,null,null,null,null,null,9.1,null,null,19.5,null,8.7,null,null,null,null,null,0.6,null,2.5,null,null,null,null,null,11.1,null,null,null,9.3,null,null,8.0,null,null,null,7.9,null,5.8,null,2.9,null,null,null,null,null,null,15.2,null,4.7,2.8,null,null,5.9,null,12.9,37.2,null,null,null,null,null,6.4,5.8,null,5.9,null,57.1,3.0,9.0,6.9,null,null,null,28.9,19.7,8.0,null,null,18.5,null,2.8,null,null,null,7.0,null,12.0,4.9,null,null,null,null,null,null,null,null,null,null,4.7,null,null,null,null,null,9.0,9.3,null,null,null,null,8.6,null,9.3,16.8,null,9.0,null,null,4.2,null,4.7,null,null,null],\"type\":\"box\",\"xaxis\":\"x4\",\"yaxis\":\"y4\"},{\"opacity\":0.5,\"y\":[null,39.8,null,null,null,null,null,36.3,26.8,null,43.9,49.2,56.0,null,null,21.1,null,32.6,32.5,null,null,null,null,null,54.9,75.5,43.5,null,47.7,null,null,null,null,44.9,null,null,null,null,null,null,42.8,25.3,null,36.5,null,null,null,48.2,null,44.5,null,null,36.4,57.8,null,null,null,null,null,null,null,null,57.5,null,null,null,31.5,59.4,31.2,null,null,null,43.6,36.3,null,46.3,null,null,null,null,null,null,null,null,null,40.2,36.8,null,36.5,null,null,94.0,null,null,40.6,null,null,43.7,null,31.0,null,null,null,null,null,80.4,null,67.0,null,null,null,null,null,49.6,75.8,null,null,46.0,null,null,52.2,null,null,23.7,33.3,null,31.6,null,22.2,null,null,null,null,null,null,33.4,null,39.8,14.4,null,null,26.2,null,39.3,50.6,null,null,null,null,null,52.2,18.5,58.1,45.9,null,35.9,38.0,61.4,25.2,null,null,null,51.1,37.1,49.2,null,null,14.1,null,43.8,68.2,null,null,54.4,null,41.2,21.2,null,null,null,null,null,null,54.9,58.0,null,null,29.4,null,null,null,null,null,38.4,42.1,null,null,null,null,38.4,null,39.2,37.6,null,53.2,null,null,37.0,null,62.2,null,null,null],\"type\":\"box\",\"xaxis\":\"x5\",\"yaxis\":\"y5\"}],                        {\"template\":{\"data\":{\"histogram2dcontour\":[{\"type\":\"histogram2dcontour\",\"colorbar\":{\"outlinewidth\":0,\"ticks\":\"\"},\"colorscale\":[[0.0,\"#0d0887\"],[0.1111111111111111,\"#46039f\"],[0.2222222222222222,\"#7201a8\"],[0.3333333333333333,\"#9c179e\"],[0.4444444444444444,\"#bd3786\"],[0.5555555555555556,\"#d8576b\"],[0.6666666666666666,\"#ed7953\"],[0.7777777777777778,\"#fb9f3a\"],[0.8888888888888888,\"#fdca26\"],[1.0,\"#f0f921\"]]}],\"choropleth\":[{\"type\":\"choropleth\",\"colorbar\":{\"outlinewidth\":0,\"ticks\":\"\"}}],\"histogram2d\":[{\"type\":\"histogram2d\",\"colorbar\":{\"outlinewidth\":0,\"ticks\":\"\"},\"colorscale\":[[0.0,\"#0d0887\"],[0.1111111111111111,\"#46039f\"],[0.2222222222222222,\"#7201a8\"],[0.3333333333333333,\"#9c179e\"],[0.4444444444444444,\"#bd3786\"],[0.5555555555555556,\"#d8576b\"],[0.6666666666666666,\"#ed7953\"],[0.7777777777777778,\"#fb9f3a\"],[0.8888888888888888,\"#fdca26\"],[1.0,\"#f0f921\"]]}],\"heatmap\":[{\"type\":\"heatmap\",\"colorbar\":{\"outlinewidth\":0,\"ticks\":\"\"},\"colorscale\":[[0.0,\"#0d0887\"],[0.1111111111111111,\"#46039f\"],[0.2222222222222222,\"#7201a8\"],[0.3333333333333333,\"#9c179e\"],[0.4444444444444444,\"#bd3786\"],[0.5555555555555556,\"#d8576b\"],[0.6666666666666666,\"#ed7953\"],[0.7777777777777778,\"#fb9f3a\"],[0.8888888888888888,\"#fdca26\"],[1.0,\"#f0f921\"]]}],\"heatmapgl\":[{\"type\":\"heatmapgl\",\"colorbar\":{\"outlinewidth\":0,\"ticks\":\"\"},\"colorscale\":[[0.0,\"#0d0887\"],[0.1111111111111111,\"#46039f\"],[0.2222222222222222,\"#7201a8\"],[0.3333333333333333,\"#9c179e\"],[0.4444444444444444,\"#bd3786\"],[0.5555555555555556,\"#d8576b\"],[0.6666666666666666,\"#ed7953\"],[0.7777777777777778,\"#fb9f3a\"],[0.8888888888888888,\"#fdca26\"],[1.0,\"#f0f921\"]]}],\"contourcarpet\":[{\"type\":\"contourcarpet\",\"colorbar\":{\"outlinewidth\":0,\"ticks\":\"\"}}],\"contour\":[{\"type\":\"contour\",\"colorbar\":{\"outlinewidth\":0,\"ticks\":\"\"},\"colorscale\":[[0.0,\"#0d0887\"],[0.1111111111111111,\"#46039f\"],[0.2222222222222222,\"#7201a8\"],[0.3333333333333333,\"#9c179e\"],[0.4444444444444444,\"#bd3786\"],[0.5555555555555556,\"#d8576b\"],[0.6666666666666666,\"#ed7953\"],[0.7777777777777778,\"#fb9f3a\"],[0.8888888888888888,\"#fdca26\"],[1.0,\"#f0f921\"]]}],\"surface\":[{\"type\":\"surface\",\"colorbar\":{\"outlinewidth\":0,\"ticks\":\"\"},\"colorscale\":[[0.0,\"#0d0887\"],[0.1111111111111111,\"#46039f\"],[0.2222222222222222,\"#7201a8\"],[0.3333333333333333,\"#9c179e\"],[0.4444444444444444,\"#bd3786\"],[0.5555555555555556,\"#d8576b\"],[0.6666666666666666,\"#ed7953\"],[0.7777777777777778,\"#fb9f3a\"],[0.8888888888888888,\"#fdca26\"],[1.0,\"#f0f921\"]]}],\"mesh3d\":[{\"type\":\"mesh3d\",\"colorbar\":{\"outlinewidth\":0,\"ticks\":\"\"}}],\"scatter\":[{\"fillpattern\":{\"fillmode\":\"overlay\",\"size\":10,\"solidity\":0.2},\"type\":\"scatter\"}],\"parcoords\":[{\"type\":\"parcoords\",\"line\":{\"colorbar\":{\"outlinewidth\":0,\"ticks\":\"\"}}}],\"scatterpolargl\":[{\"type\":\"scatterpolargl\",\"marker\":{\"colorbar\":{\"outlinewidth\":0,\"ticks\":\"\"}}}],\"bar\":[{\"error_x\":{\"color\":\"#2a3f5f\"},\"error_y\":{\"color\":\"#2a3f5f\"},\"marker\":{\"line\":{\"color\":\"#E5ECF6\",\"width\":0.5},\"pattern\":{\"fillmode\":\"overlay\",\"size\":10,\"solidity\":0.2}},\"type\":\"bar\"}],\"scattergeo\":[{\"type\":\"scattergeo\",\"marker\":{\"colorbar\":{\"outlinewidth\":0,\"ticks\":\"\"}}}],\"scatterpolar\":[{\"type\":\"scatterpolar\",\"marker\":{\"colorbar\":{\"outlinewidth\":0,\"ticks\":\"\"}}}],\"histogram\":[{\"marker\":{\"pattern\":{\"fillmode\":\"overlay\",\"size\":10,\"solidity\":0.2}},\"type\":\"histogram\"}],\"scattergl\":[{\"type\":\"scattergl\",\"marker\":{\"colorbar\":{\"outlinewidth\":0,\"ticks\":\"\"}}}],\"scatter3d\":[{\"type\":\"scatter3d\",\"line\":{\"colorbar\":{\"outlinewidth\":0,\"ticks\":\"\"}},\"marker\":{\"colorbar\":{\"outlinewidth\":0,\"ticks\":\"\"}}}],\"scattermapbox\":[{\"type\":\"scattermapbox\",\"marker\":{\"colorbar\":{\"outlinewidth\":0,\"ticks\":\"\"}}}],\"scatterternary\":[{\"type\":\"scatterternary\",\"marker\":{\"colorbar\":{\"outlinewidth\":0,\"ticks\":\"\"}}}],\"scattercarpet\":[{\"type\":\"scattercarpet\",\"marker\":{\"colorbar\":{\"outlinewidth\":0,\"ticks\":\"\"}}}],\"carpet\":[{\"aaxis\":{\"endlinecolor\":\"#2a3f5f\",\"gridcolor\":\"white\",\"linecolor\":\"white\",\"minorgridcolor\":\"white\",\"startlinecolor\":\"#2a3f5f\"},\"baxis\":{\"endlinecolor\":\"#2a3f5f\",\"gridcolor\":\"white\",\"linecolor\":\"white\",\"minorgridcolor\":\"white\",\"startlinecolor\":\"#2a3f5f\"},\"type\":\"carpet\"}],\"table\":[{\"cells\":{\"fill\":{\"color\":\"#EBF0F8\"},\"line\":{\"color\":\"white\"}},\"header\":{\"fill\":{\"color\":\"#C8D4E3\"},\"line\":{\"color\":\"white\"}},\"type\":\"table\"}],\"barpolar\":[{\"marker\":{\"line\":{\"color\":\"#E5ECF6\",\"width\":0.5},\"pattern\":{\"fillmode\":\"overlay\",\"size\":10,\"solidity\":0.2}},\"type\":\"barpolar\"}],\"pie\":[{\"automargin\":true,\"type\":\"pie\"}]},\"layout\":{\"autotypenumbers\":\"strict\",\"colorway\":[\"#636efa\",\"#EF553B\",\"#00cc96\",\"#ab63fa\",\"#FFA15A\",\"#19d3f3\",\"#FF6692\",\"#B6E880\",\"#FF97FF\",\"#FECB52\"],\"font\":{\"color\":\"#2a3f5f\"},\"hovermode\":\"closest\",\"hoverlabel\":{\"align\":\"left\"},\"paper_bgcolor\":\"white\",\"plot_bgcolor\":\"#E5ECF6\",\"polar\":{\"bgcolor\":\"#E5ECF6\",\"angularaxis\":{\"gridcolor\":\"white\",\"linecolor\":\"white\",\"ticks\":\"\"},\"radialaxis\":{\"gridcolor\":\"white\",\"linecolor\":\"white\",\"ticks\":\"\"}},\"ternary\":{\"bgcolor\":\"#E5ECF6\",\"aaxis\":{\"gridcolor\":\"white\",\"linecolor\":\"white\",\"ticks\":\"\"},\"baxis\":{\"gridcolor\":\"white\",\"linecolor\":\"white\",\"ticks\":\"\"},\"caxis\":{\"gridcolor\":\"white\",\"linecolor\":\"white\",\"ticks\":\"\"}},\"coloraxis\":{\"colorbar\":{\"outlinewidth\":0,\"ticks\":\"\"}},\"colorscale\":{\"sequential\":[[0.0,\"#0d0887\"],[0.1111111111111111,\"#46039f\"],[0.2222222222222222,\"#7201a8\"],[0.3333333333333333,\"#9c179e\"],[0.4444444444444444,\"#bd3786\"],[0.5555555555555556,\"#d8576b\"],[0.6666666666666666,\"#ed7953\"],[0.7777777777777778,\"#fb9f3a\"],[0.8888888888888888,\"#fdca26\"],[1.0,\"#f0f921\"]],\"sequentialminus\":[[0.0,\"#0d0887\"],[0.1111111111111111,\"#46039f\"],[0.2222222222222222,\"#7201a8\"],[0.3333333333333333,\"#9c179e\"],[0.4444444444444444,\"#bd3786\"],[0.5555555555555556,\"#d8576b\"],[0.6666666666666666,\"#ed7953\"],[0.7777777777777778,\"#fb9f3a\"],[0.8888888888888888,\"#fdca26\"],[1.0,\"#f0f921\"]],\"diverging\":[[0,\"#8e0152\"],[0.1,\"#c51b7d\"],[0.2,\"#de77ae\"],[0.3,\"#f1b6da\"],[0.4,\"#fde0ef\"],[0.5,\"#f7f7f7\"],[0.6,\"#e6f5d0\"],[0.7,\"#b8e186\"],[0.8,\"#7fbc41\"],[0.9,\"#4d9221\"],[1,\"#276419\"]]},\"xaxis\":{\"gridcolor\":\"white\",\"linecolor\":\"white\",\"ticks\":\"\",\"title\":{\"standoff\":15},\"zerolinecolor\":\"white\",\"automargin\":true,\"zerolinewidth\":2},\"yaxis\":{\"gridcolor\":\"white\",\"linecolor\":\"white\",\"ticks\":\"\",\"title\":{\"standoff\":15},\"zerolinecolor\":\"white\",\"automargin\":true,\"zerolinewidth\":2},\"scene\":{\"xaxis\":{\"backgroundcolor\":\"#E5ECF6\",\"gridcolor\":\"white\",\"linecolor\":\"white\",\"showbackground\":true,\"ticks\":\"\",\"zerolinecolor\":\"white\",\"gridwidth\":2},\"yaxis\":{\"backgroundcolor\":\"#E5ECF6\",\"gridcolor\":\"white\",\"linecolor\":\"white\",\"showbackground\":true,\"ticks\":\"\",\"zerolinecolor\":\"white\",\"gridwidth\":2},\"zaxis\":{\"backgroundcolor\":\"#E5ECF6\",\"gridcolor\":\"white\",\"linecolor\":\"white\",\"showbackground\":true,\"ticks\":\"\",\"zerolinecolor\":\"white\",\"gridwidth\":2}},\"shapedefaults\":{\"line\":{\"color\":\"#2a3f5f\"}},\"annotationdefaults\":{\"arrowcolor\":\"#2a3f5f\",\"arrowhead\":0,\"arrowwidth\":1},\"geo\":{\"bgcolor\":\"white\",\"landcolor\":\"#E5ECF6\",\"subunitcolor\":\"white\",\"showland\":true,\"showlakes\":true,\"lakecolor\":\"white\"},\"title\":{\"x\":0.05},\"mapbox\":{\"style\":\"light\"}}},\"xaxis\":{\"anchor\":\"y\",\"domain\":[0.0,0.103125],\"showticklabels\":false},\"yaxis\":{\"anchor\":\"x\",\"domain\":[0.0,1.0],\"title\":{\"text\":\"% par rapport \\u00e0 la val. ajout\\u00e9e totale\"},\"range\":[0,100]},\"xaxis2\":{\"anchor\":\"y2\",\"domain\":[0.128125,0.23124999999999998],\"showticklabels\":false},\"yaxis2\":{\"anchor\":\"x2\",\"domain\":[0.0,1.0],\"range\":[0,100]},\"xaxis3\":{\"anchor\":\"y3\",\"domain\":[0.25625,0.359375],\"showticklabels\":false},\"yaxis3\":{\"anchor\":\"x3\",\"domain\":[0.0,1.0],\"range\":[0,100]},\"xaxis4\":{\"anchor\":\"y4\",\"domain\":[0.38437499999999997,0.48749999999999993],\"showticklabels\":false},\"yaxis4\":{\"anchor\":\"x4\",\"domain\":[0.0,1.0],\"range\":[0,100]},\"xaxis5\":{\"anchor\":\"y5\",\"domain\":[0.5125,0.615625],\"showticklabels\":false},\"yaxis5\":{\"anchor\":\"x5\",\"domain\":[0.0,1.0],\"range\":[0,100]},\"xaxis6\":{\"anchor\":\"y6\",\"domain\":[0.640625,0.74375],\"showticklabels\":false},\"yaxis6\":{\"anchor\":\"x6\",\"domain\":[0.0,1.0],\"range\":[0,100]},\"xaxis7\":{\"anchor\":\"y7\",\"domain\":[0.76875,0.8718750000000001],\"showticklabels\":false},\"yaxis7\":{\"anchor\":\"x7\",\"domain\":[0.0,1.0],\"range\":[0,100]},\"xaxis8\":{\"anchor\":\"y8\",\"domain\":[0.8968750000000001,1.0],\"showticklabels\":false},\"yaxis8\":{\"anchor\":\"x8\",\"domain\":[0.0,1.0],\"range\":[0,100]},\"annotations\":[{\"font\":{\"size\":16},\"showarrow\":false,\"text\":\"Alimentation, boisson, tabac\",\"x\":0.0515625,\"xanchor\":\"center\",\"xref\":\"paper\",\"y\":1.0,\"yanchor\":\"bottom\",\"yref\":\"paper\"},{\"font\":{\"size\":16},\"showarrow\":false,\"text\":\"Texiles, v\\u00eatements\",\"x\":0.1796875,\"xanchor\":\"center\",\"xref\":\"paper\",\"y\":1.0,\"yanchor\":\"bottom\",\"yref\":\"paper\"},{\"font\":{\"size\":16},\"showarrow\":false,\"text\":\"Machines, transport\",\"x\":0.3078125,\"xanchor\":\"center\",\"xref\":\"paper\",\"y\":1.0,\"yanchor\":\"bottom\",\"yref\":\"paper\"},{\"font\":{\"size\":16},\"showarrow\":false,\"text\":\"Produits chimiques\",\"x\":0.4359375,\"xanchor\":\"center\",\"xref\":\"paper\",\"y\":1.0,\"yanchor\":\"bottom\",\"yref\":\"paper\"},{\"font\":{\"size\":16},\"showarrow\":false,\"text\":\"Autres\",\"x\":0.5640624999999999,\"xanchor\":\"center\",\"xref\":\"paper\",\"y\":1.0,\"yanchor\":\"bottom\",\"yref\":\"paper\"}],\"title\":{\"text\":\"Distributions de la valeur ajout\\u00e9e mondiale de l'industrie manufacturi\\u00e8re selon le type en 2020\"},\"showlegend\":false,\"plot_bgcolor\":\"rgba(0,0,0,0)\",\"width\":2200},                        {\"responsive\": true}                    ).then(function(){\n",
              "                            \n",
              "var gd = document.getElementById('361c97b0-b9de-4a41-bd8e-3ce456924946');\n",
              "var x = new MutationObserver(function (mutations, observer) {{\n",
              "        var display = window.getComputedStyle(gd).display;\n",
              "        if (!display || display === 'none') {{\n",
              "            console.log([gd, 'removed!']);\n",
              "            Plotly.purge(gd);\n",
              "            observer.disconnect();\n",
              "        }}\n",
              "}});\n",
              "\n",
              "// Listen for the removal of the full notebook cells\n",
              "var notebookContainer = gd.closest('#notebook-container');\n",
              "if (notebookContainer) {{\n",
              "    x.observe(notebookContainer, {childList: true});\n",
              "}}\n",
              "\n",
              "// Listen for the clearing of the current output cell\n",
              "var outputEl = gd.closest('.output');\n",
              "if (outputEl) {{\n",
              "    x.observe(outputEl, {childList: true});\n",
              "}}\n",
              "\n",
              "                        })                };                            </script>        </div>\n",
              "</body>\n",
              "</html>"
            ]
          },
          "metadata": {}
        }
      ],
      "source": [
        "# visualisons les distributions sur des boxplots\n",
        "boxplot_manufacturing = make_subplots(rows=1, cols=8, subplot_titles=(\"Alimentation, boisson, tabac\", \"Texiles, vêtements\", \"Machines, transport\", \"Produits chimiques\", \"Autres\"))\n",
        "boxplot_manufacturing.add_trace(go.Box(y=df[\"Alimentation, boisson, tabac - 2020 (en %)\"], opacity=0.5), row=1, col=1)\n",
        "boxplot_manufacturing.add_trace(go.Box(y=df[\"Textiles, vêtements - 2020 (en %)\"], opacity=0.5), row=1, col=2)\n",
        "boxplot_manufacturing.add_trace(go.Box(y=df[\"Machines, mat. de transport - 2020 (en %)\"], opacity=0.5), row=1, col=3)\n",
        "boxplot_manufacturing.add_trace(go.Box(y=df[\"Prod. chimiques - 2020 (en %)\"], opacity=0.5), row=1, col=4)\n",
        "boxplot_manufacturing.add_trace(go.Box(y=df[\"Autres - 2020 (en %)\"], opacity=0.5), row=1, col=5)\n",
        "boxplot_manufacturing.update_layout(title=\"Distributions de la valeur ajoutée mondiale de l'industrie manufacturière selon le type en 2020\", showlegend=False, plot_bgcolor=\"rgba(0,0,0,0)\"),\n",
        "boxplot_manufacturing.update_layout(width=2200, yaxis_title=\"% par rapport à la val. ajoutée totale\")\n",
        "boxplot_manufacturing.update_xaxes(showticklabels=False)\n",
        "boxplot_manufacturing.update_yaxes(range=[0, 100])\n",
        "boxplot_manufacturing.show()"
      ]
    },
    {
      "cell_type": "markdown",
      "metadata": {
        "id": "nBMh-xoedPjX"
      },
      "source": [
        "Nous observons que le % de valeur ajoutée pour l'industrie textile se trouve en-dessous des valeurs des autres types. Avec des outliers très supérieurs (allant jusqu'à **56.8%**) par rapport à la médiane (**3.6%**). Un premier constat intéressant est que, pour les mêmes indicateurs en 2010, la médiane était à **4.2%** et la valeur maximale à **34%**. Cela signifie que les écarts se sont creusés entre les valeurs centrales et les valeurs extrèmes. Le pays avec le maximum de part de valeur ajoutée en 2020 dans le textile n'est autre que le **Bangladesh**, le pays que nous avons vu apparaître en première position dans notre dataset des pays de fabrication de la marque Vertbaudet. Sa valeur avoisinne les valeurs ajoutées maximales pour les autres secteurs présentés. "
      ]
    },
    {
      "cell_type": "code",
      "execution_count": null,
      "metadata": {
        "colab": {
          "base_uri": "https://localhost:8080/"
        },
        "id": "ZxORaso6Vfhw",
        "outputId": "3ffa0ae6-68f9-4ed8-cad0-2dea0ef9cc7f"
      },
      "outputs": [
        {
          "name": "stdout",
          "output_type": "stream",
          "text": [
            "Albania Mauritius Nicaragua\n"
          ]
        }
      ],
      "source": [
        "# cherchons les 3 autres pays 'outliers', qui ne figurent pas parmi nos pays de fabrication\n",
        "country_outlier_2 = df.index[df[\"Textiles, vêtements - 2020 (en %)\"] == 36.4][0]\n",
        "country_outlier_3 = df.index[df[\"Textiles, vêtements - 2020 (en %)\"] == 31.6][0]\n",
        "country_outlier_4 = df.index[df[\"Textiles, vêtements - 2020 (en %)\"] == 21.3][0]\n",
        "print(country_outlier_2, country_outlier_3, country_outlier_4)"
      ]
    },
    {
      "cell_type": "markdown",
      "metadata": {
        "id": "S4bCEZ8Bici2"
      },
      "source": [
        "L'industrie du textile, comme on peut le voir sur les boxplot, est celle qui présente le plus, avec l'industrie des produits chimiques, de deltas importants entre les outliers et les valeurs de la boîte.</br></br>\n",
        "Il va être intéressant à présent de nous pencher sur le dataset des pays de fabrication, afin de pouvoir effectuer un comparatif. Observons dans un 1er temps **l'évolution de la valeur ajoutée totale de l'industrie manufacturière entre 2010 et 2020**. La valeur ajoutée est ici mesurée en billions de dollars."
      ]
    },
    {
      "cell_type": "code",
      "execution_count": null,
      "metadata": {
        "colab": {
          "base_uri": "https://localhost:8080/",
          "height": 542
        },
        "id": "8faYJs5J00r9",
        "outputId": "615ad485-9db9-4aaa-9b4a-efbf22c9a594"
      },
      "outputs": [
        {
          "data": {
            "text/html": [
              "<html>\n",
              "<head><meta charset=\"utf-8\" /></head>\n",
              "<body>\n",
              "    <div>            <script src=\"https://cdnjs.cloudflare.com/ajax/libs/mathjax/2.7.5/MathJax.js?config=TeX-AMS-MML_SVG\"></script><script type=\"text/javascript\">if (window.MathJax && window.MathJax.Hub && window.MathJax.Hub.Config) {window.MathJax.Hub.Config({SVG: {font: \"STIX-Web\"}});}</script>                <script type=\"text/javascript\">window.PlotlyConfig = {MathJaxConfig: 'local'};</script>\n",
              "        <script src=\"https://cdn.plot.ly/plotly-2.18.2.min.js\"></script>                <div id=\"45015498-4c4d-414b-9b6d-09afbe17d84b\" class=\"plotly-graph-div\" style=\"height:525px; width:100%;\"></div>            <script type=\"text/javascript\">                                    window.PLOTLYENV=window.PLOTLYENV || {};                                    if (document.getElementById(\"45015498-4c4d-414b-9b6d-09afbe17d84b\")) {                    Plotly.newPlot(                        \"45015498-4c4d-414b-9b6d-09afbe17d84b\",                        [{\"hoverinfo\":\"text\",\"line\":{\"width\":4},\"mode\":\"lines+markers\",\"name\":\"Bangladesh\",\"text\":[\"Bangladesh: 18.60 b.$\",\"Bangladesh: 77.00 b.$\"],\"textposition\":\"top center\",\"x\":[2010,2020],\"y\":[18.6,77.0],\"type\":\"scatter\"},{\"hoverinfo\":\"text\",\"line\":{\"width\":4},\"mode\":\"lines+markers\",\"name\":\"China\",\"text\":[\"China: nan b.$\",\"China: nan b.$\"],\"textposition\":\"top center\",\"x\":[2010,2020],\"y\":[null,null],\"type\":\"scatter\"},{\"hoverinfo\":\"text\",\"line\":{\"width\":4},\"mode\":\"lines+markers\",\"name\":\"India\",\"text\":[\"India: 285.40 b.$\",\"India: 365.00 b.$\"],\"textposition\":\"top center\",\"x\":[2010,2020],\"y\":[285.4,365.0],\"type\":\"scatter\"},{\"hoverinfo\":\"text\",\"line\":{\"width\":4},\"mode\":\"lines+markers\",\"name\":\"Pakistan\",\"text\":[\"Pakistan: 23.20 b.$\",\"Pakistan: 34.30 b.$\"],\"textposition\":\"top center\",\"x\":[2010,2020],\"y\":[23.2,34.3],\"type\":\"scatter\"},{\"hoverinfo\":\"text\",\"line\":{\"width\":4},\"mode\":\"lines+markers\",\"name\":\"Portugal\",\"text\":[\"Portugal: 27.60 b.$\",\"Portugal: 27.10 b.$\"],\"textposition\":\"top center\",\"x\":[2010,2020],\"y\":[27.6,27.1],\"type\":\"scatter\"},{\"hoverinfo\":\"text\",\"line\":{\"width\":4},\"mode\":\"lines+markers\",\"name\":\"Turkiye\",\"text\":[\"Turkiye: 117.00 b.$\",\"Turkiye: 137.70 b.$\"],\"textposition\":\"top center\",\"x\":[2010,2020],\"y\":[117.0,137.7],\"type\":\"scatter\"},{\"hoverinfo\":\"text\",\"line\":{\"width\":4},\"mode\":\"lines+markers\",\"name\":\"Vietnam\",\"text\":[\"Vietnam: nan b.$\",\"Vietnam: nan b.$\"],\"textposition\":\"top center\",\"x\":[2010,2020],\"y\":[null,null],\"type\":\"scatter\"},{\"hoverinfo\":\"text\",\"line\":{\"width\":4},\"mode\":\"lines+markers\",\"name\":\"Morocco\",\"text\":[\"Morocco: 14.50 b.$\",\"Morocco: 17.50 b.$\"],\"textposition\":\"top center\",\"x\":[2010,2020],\"y\":[14.5,17.5],\"type\":\"scatter\"},{\"hoverinfo\":\"text\",\"line\":{\"width\":4},\"mode\":\"lines+markers\",\"name\":\"Poland\",\"text\":[\"Poland: 73.60 b.$\",\"Poland: 95.60 b.$\"],\"textposition\":\"top center\",\"x\":[2010,2020],\"y\":[73.6,95.6],\"type\":\"scatter\"},{\"hoverinfo\":\"text\",\"line\":{\"width\":4},\"mode\":\"lines+markers\",\"name\":\"Brazil\",\"text\":[\"Brazil: 281.00 b.$\",\"Brazil: 140.00 b.$\"],\"textposition\":\"top center\",\"x\":[2010,2020],\"y\":[281.0,140.0],\"type\":\"scatter\"}],                        {\"template\":{\"data\":{\"histogram2dcontour\":[{\"type\":\"histogram2dcontour\",\"colorbar\":{\"outlinewidth\":0,\"ticks\":\"\"},\"colorscale\":[[0.0,\"#0d0887\"],[0.1111111111111111,\"#46039f\"],[0.2222222222222222,\"#7201a8\"],[0.3333333333333333,\"#9c179e\"],[0.4444444444444444,\"#bd3786\"],[0.5555555555555556,\"#d8576b\"],[0.6666666666666666,\"#ed7953\"],[0.7777777777777778,\"#fb9f3a\"],[0.8888888888888888,\"#fdca26\"],[1.0,\"#f0f921\"]]}],\"choropleth\":[{\"type\":\"choropleth\",\"colorbar\":{\"outlinewidth\":0,\"ticks\":\"\"}}],\"histogram2d\":[{\"type\":\"histogram2d\",\"colorbar\":{\"outlinewidth\":0,\"ticks\":\"\"},\"colorscale\":[[0.0,\"#0d0887\"],[0.1111111111111111,\"#46039f\"],[0.2222222222222222,\"#7201a8\"],[0.3333333333333333,\"#9c179e\"],[0.4444444444444444,\"#bd3786\"],[0.5555555555555556,\"#d8576b\"],[0.6666666666666666,\"#ed7953\"],[0.7777777777777778,\"#fb9f3a\"],[0.8888888888888888,\"#fdca26\"],[1.0,\"#f0f921\"]]}],\"heatmap\":[{\"type\":\"heatmap\",\"colorbar\":{\"outlinewidth\":0,\"ticks\":\"\"},\"colorscale\":[[0.0,\"#0d0887\"],[0.1111111111111111,\"#46039f\"],[0.2222222222222222,\"#7201a8\"],[0.3333333333333333,\"#9c179e\"],[0.4444444444444444,\"#bd3786\"],[0.5555555555555556,\"#d8576b\"],[0.6666666666666666,\"#ed7953\"],[0.7777777777777778,\"#fb9f3a\"],[0.8888888888888888,\"#fdca26\"],[1.0,\"#f0f921\"]]}],\"heatmapgl\":[{\"type\":\"heatmapgl\",\"colorbar\":{\"outlinewidth\":0,\"ticks\":\"\"},\"colorscale\":[[0.0,\"#0d0887\"],[0.1111111111111111,\"#46039f\"],[0.2222222222222222,\"#7201a8\"],[0.3333333333333333,\"#9c179e\"],[0.4444444444444444,\"#bd3786\"],[0.5555555555555556,\"#d8576b\"],[0.6666666666666666,\"#ed7953\"],[0.7777777777777778,\"#fb9f3a\"],[0.8888888888888888,\"#fdca26\"],[1.0,\"#f0f921\"]]}],\"contourcarpet\":[{\"type\":\"contourcarpet\",\"colorbar\":{\"outlinewidth\":0,\"ticks\":\"\"}}],\"contour\":[{\"type\":\"contour\",\"colorbar\":{\"outlinewidth\":0,\"ticks\":\"\"},\"colorscale\":[[0.0,\"#0d0887\"],[0.1111111111111111,\"#46039f\"],[0.2222222222222222,\"#7201a8\"],[0.3333333333333333,\"#9c179e\"],[0.4444444444444444,\"#bd3786\"],[0.5555555555555556,\"#d8576b\"],[0.6666666666666666,\"#ed7953\"],[0.7777777777777778,\"#fb9f3a\"],[0.8888888888888888,\"#fdca26\"],[1.0,\"#f0f921\"]]}],\"surface\":[{\"type\":\"surface\",\"colorbar\":{\"outlinewidth\":0,\"ticks\":\"\"},\"colorscale\":[[0.0,\"#0d0887\"],[0.1111111111111111,\"#46039f\"],[0.2222222222222222,\"#7201a8\"],[0.3333333333333333,\"#9c179e\"],[0.4444444444444444,\"#bd3786\"],[0.5555555555555556,\"#d8576b\"],[0.6666666666666666,\"#ed7953\"],[0.7777777777777778,\"#fb9f3a\"],[0.8888888888888888,\"#fdca26\"],[1.0,\"#f0f921\"]]}],\"mesh3d\":[{\"type\":\"mesh3d\",\"colorbar\":{\"outlinewidth\":0,\"ticks\":\"\"}}],\"scatter\":[{\"fillpattern\":{\"fillmode\":\"overlay\",\"size\":10,\"solidity\":0.2},\"type\":\"scatter\"}],\"parcoords\":[{\"type\":\"parcoords\",\"line\":{\"colorbar\":{\"outlinewidth\":0,\"ticks\":\"\"}}}],\"scatterpolargl\":[{\"type\":\"scatterpolargl\",\"marker\":{\"colorbar\":{\"outlinewidth\":0,\"ticks\":\"\"}}}],\"bar\":[{\"error_x\":{\"color\":\"#2a3f5f\"},\"error_y\":{\"color\":\"#2a3f5f\"},\"marker\":{\"line\":{\"color\":\"#E5ECF6\",\"width\":0.5},\"pattern\":{\"fillmode\":\"overlay\",\"size\":10,\"solidity\":0.2}},\"type\":\"bar\"}],\"scattergeo\":[{\"type\":\"scattergeo\",\"marker\":{\"colorbar\":{\"outlinewidth\":0,\"ticks\":\"\"}}}],\"scatterpolar\":[{\"type\":\"scatterpolar\",\"marker\":{\"colorbar\":{\"outlinewidth\":0,\"ticks\":\"\"}}}],\"histogram\":[{\"marker\":{\"pattern\":{\"fillmode\":\"overlay\",\"size\":10,\"solidity\":0.2}},\"type\":\"histogram\"}],\"scattergl\":[{\"type\":\"scattergl\",\"marker\":{\"colorbar\":{\"outlinewidth\":0,\"ticks\":\"\"}}}],\"scatter3d\":[{\"type\":\"scatter3d\",\"line\":{\"colorbar\":{\"outlinewidth\":0,\"ticks\":\"\"}},\"marker\":{\"colorbar\":{\"outlinewidth\":0,\"ticks\":\"\"}}}],\"scattermapbox\":[{\"type\":\"scattermapbox\",\"marker\":{\"colorbar\":{\"outlinewidth\":0,\"ticks\":\"\"}}}],\"scatterternary\":[{\"type\":\"scatterternary\",\"marker\":{\"colorbar\":{\"outlinewidth\":0,\"ticks\":\"\"}}}],\"scattercarpet\":[{\"type\":\"scattercarpet\",\"marker\":{\"colorbar\":{\"outlinewidth\":0,\"ticks\":\"\"}}}],\"carpet\":[{\"aaxis\":{\"endlinecolor\":\"#2a3f5f\",\"gridcolor\":\"white\",\"linecolor\":\"white\",\"minorgridcolor\":\"white\",\"startlinecolor\":\"#2a3f5f\"},\"baxis\":{\"endlinecolor\":\"#2a3f5f\",\"gridcolor\":\"white\",\"linecolor\":\"white\",\"minorgridcolor\":\"white\",\"startlinecolor\":\"#2a3f5f\"},\"type\":\"carpet\"}],\"table\":[{\"cells\":{\"fill\":{\"color\":\"#EBF0F8\"},\"line\":{\"color\":\"white\"}},\"header\":{\"fill\":{\"color\":\"#C8D4E3\"},\"line\":{\"color\":\"white\"}},\"type\":\"table\"}],\"barpolar\":[{\"marker\":{\"line\":{\"color\":\"#E5ECF6\",\"width\":0.5},\"pattern\":{\"fillmode\":\"overlay\",\"size\":10,\"solidity\":0.2}},\"type\":\"barpolar\"}],\"pie\":[{\"automargin\":true,\"type\":\"pie\"}]},\"layout\":{\"autotypenumbers\":\"strict\",\"colorway\":[\"#636efa\",\"#EF553B\",\"#00cc96\",\"#ab63fa\",\"#FFA15A\",\"#19d3f3\",\"#FF6692\",\"#B6E880\",\"#FF97FF\",\"#FECB52\"],\"font\":{\"color\":\"#2a3f5f\"},\"hovermode\":\"closest\",\"hoverlabel\":{\"align\":\"left\"},\"paper_bgcolor\":\"white\",\"plot_bgcolor\":\"#E5ECF6\",\"polar\":{\"bgcolor\":\"#E5ECF6\",\"angularaxis\":{\"gridcolor\":\"white\",\"linecolor\":\"white\",\"ticks\":\"\"},\"radialaxis\":{\"gridcolor\":\"white\",\"linecolor\":\"white\",\"ticks\":\"\"}},\"ternary\":{\"bgcolor\":\"#E5ECF6\",\"aaxis\":{\"gridcolor\":\"white\",\"linecolor\":\"white\",\"ticks\":\"\"},\"baxis\":{\"gridcolor\":\"white\",\"linecolor\":\"white\",\"ticks\":\"\"},\"caxis\":{\"gridcolor\":\"white\",\"linecolor\":\"white\",\"ticks\":\"\"}},\"coloraxis\":{\"colorbar\":{\"outlinewidth\":0,\"ticks\":\"\"}},\"colorscale\":{\"sequential\":[[0.0,\"#0d0887\"],[0.1111111111111111,\"#46039f\"],[0.2222222222222222,\"#7201a8\"],[0.3333333333333333,\"#9c179e\"],[0.4444444444444444,\"#bd3786\"],[0.5555555555555556,\"#d8576b\"],[0.6666666666666666,\"#ed7953\"],[0.7777777777777778,\"#fb9f3a\"],[0.8888888888888888,\"#fdca26\"],[1.0,\"#f0f921\"]],\"sequentialminus\":[[0.0,\"#0d0887\"],[0.1111111111111111,\"#46039f\"],[0.2222222222222222,\"#7201a8\"],[0.3333333333333333,\"#9c179e\"],[0.4444444444444444,\"#bd3786\"],[0.5555555555555556,\"#d8576b\"],[0.6666666666666666,\"#ed7953\"],[0.7777777777777778,\"#fb9f3a\"],[0.8888888888888888,\"#fdca26\"],[1.0,\"#f0f921\"]],\"diverging\":[[0,\"#8e0152\"],[0.1,\"#c51b7d\"],[0.2,\"#de77ae\"],[0.3,\"#f1b6da\"],[0.4,\"#fde0ef\"],[0.5,\"#f7f7f7\"],[0.6,\"#e6f5d0\"],[0.7,\"#b8e186\"],[0.8,\"#7fbc41\"],[0.9,\"#4d9221\"],[1,\"#276419\"]]},\"xaxis\":{\"gridcolor\":\"white\",\"linecolor\":\"white\",\"ticks\":\"\",\"title\":{\"standoff\":15},\"zerolinecolor\":\"white\",\"automargin\":true,\"zerolinewidth\":2},\"yaxis\":{\"gridcolor\":\"white\",\"linecolor\":\"white\",\"ticks\":\"\",\"title\":{\"standoff\":15},\"zerolinecolor\":\"white\",\"automargin\":true,\"zerolinewidth\":2},\"scene\":{\"xaxis\":{\"backgroundcolor\":\"#E5ECF6\",\"gridcolor\":\"white\",\"linecolor\":\"white\",\"showbackground\":true,\"ticks\":\"\",\"zerolinecolor\":\"white\",\"gridwidth\":2},\"yaxis\":{\"backgroundcolor\":\"#E5ECF6\",\"gridcolor\":\"white\",\"linecolor\":\"white\",\"showbackground\":true,\"ticks\":\"\",\"zerolinecolor\":\"white\",\"gridwidth\":2},\"zaxis\":{\"backgroundcolor\":\"#E5ECF6\",\"gridcolor\":\"white\",\"linecolor\":\"white\",\"showbackground\":true,\"ticks\":\"\",\"zerolinecolor\":\"white\",\"gridwidth\":2}},\"shapedefaults\":{\"line\":{\"color\":\"#2a3f5f\"}},\"annotationdefaults\":{\"arrowcolor\":\"#2a3f5f\",\"arrowhead\":0,\"arrowwidth\":1},\"geo\":{\"bgcolor\":\"white\",\"landcolor\":\"#E5ECF6\",\"subunitcolor\":\"white\",\"showland\":true,\"showlakes\":true,\"lakecolor\":\"white\"},\"title\":{\"x\":0.05},\"mapbox\":{\"style\":\"light\"}}},\"xaxis\":{\"showgrid\":true,\"gridcolor\":\"lightgray\",\"title\":{\"text\":\"Ann\\u00e9e\"},\"tickvals\":[2010,2020]},\"yaxis\":{\"showgrid\":true,\"gridcolor\":\"lightgray\",\"title\":{\"text\":\"Val. ajout\\u00e9e en billions de $\"}},\"title\":{\"text\":\"Valeur ajout\\u00e9e de l'industrie manufacturi\\u00e8re en 2010 et 2020, tous secteurs confondus\"},\"plot_bgcolor\":\"rgba(0,0,0,0)\",\"hovermode\":\"closest\"},                        {\"responsive\": true}                    ).then(function(){\n",
              "                            \n",
              "var gd = document.getElementById('45015498-4c4d-414b-9b6d-09afbe17d84b');\n",
              "var x = new MutationObserver(function (mutations, observer) {{\n",
              "        var display = window.getComputedStyle(gd).display;\n",
              "        if (!display || display === 'none') {{\n",
              "            console.log([gd, 'removed!']);\n",
              "            Plotly.purge(gd);\n",
              "            observer.disconnect();\n",
              "        }}\n",
              "}});\n",
              "\n",
              "// Listen for the removal of the full notebook cells\n",
              "var notebookContainer = gd.closest('#notebook-container');\n",
              "if (notebookContainer) {{\n",
              "    x.observe(notebookContainer, {childList: true});\n",
              "}}\n",
              "\n",
              "// Listen for the clearing of the current output cell\n",
              "var outputEl = gd.closest('.output');\n",
              "if (outputEl) {{\n",
              "    x.observe(outputEl, {childList: true});\n",
              "}}\n",
              "\n",
              "                        })                };                            </script>        </div>\n",
              "</body>\n",
              "</html>"
            ]
          },
          "metadata": {},
          "output_type": "display_data"
        }
      ],
      "source": [
        "# réalisons un graphique d'évolution de la valeur ajoutée entre 2010 et 2020\n",
        "traces = []\n",
        "for country in df_countries_selected.index:\n",
        "    trace = go.Scatter(x=[2010, 2020], y=[df_countries_selected.loc[country, \"Val. ajoutée - 2010 (b.$)\"], df_countries_selected.loc[country, \"Val. ajoutée - 2020 (b.$)\"]], mode='lines+markers', name=country, text=[f\"{country}: {val:,.2f} b.$\" for val in [df_countries_selected.loc[country, \"Val. ajoutée - 2010 (b.$)\"], df_countries_selected.loc[country, \"Val. ajoutée - 2020 (b.$)\"]]], textposition='top center', hoverinfo='text', line=dict(width=4))\n",
        "    traces.append(trace)\n",
        "fig_evolution = go.Figure(data=traces)\n",
        "fig_evolution.update_layout(title=\"Valeur ajoutée de l'industrie manufacturière en 2010 et 2020, tous secteurs confondus\", xaxis=dict(showgrid=True, gridcolor='lightgray', title='Année', tickvals=[2010, 2020]), yaxis=dict(showgrid=True, gridcolor='lightgray', title=\"Val. ajoutée en billions de $\"), plot_bgcolor=\"rgba(0,0,0,0)\", hovermode='closest')\n",
        "fig_evolution.show()"
      ]
    },
    {
      "cell_type": "markdown",
      "metadata": {
        "id": "NwIgfZ9NpS9Y"
      },
      "source": [
        "**Concernant la valeur ajoutée à l'intérieur des pays** : nous constatons que c'est le **Bangladesh**, pays se trouvant dans notre top 4 sur la production de textile pour notre marque, qui réalise le plus de hausse en valeur ajoutée dans son industrie manufacturière en 10 ans (**+ 313.9%)**. Malheureusement la Chine, notre 2e pays de fabrication, ne fournit pas de données sur cet indicateur. Nous remarquons la tendance inverse pour le Brésil (**- 50.1%** en 10 ans). Les autres pays présentent des hausses plus légères mais qui ne sont toutefois pas négligeables puisqu'il s'agit de billions de $.</br>\n",
        "**Concernant la valeur ajoutée entre les pays** : nous constatons que l'Inde surpasse les autres pays en terme de volume. Par exemple elle réalise **5x plus de valeur ajoutée que le Bangladesh en 2020**. Si le Bangladesh est caractérisé par un fort taux d'évolution, l'Inde surpasse les chiffres en terme de valeur absolue.</br></br>\n",
        "Qu'en est-il à présent de la répartition des valeurs ajoutées selon le secteur manufacturier pour nos pays d'intérêt ?"
      ]
    },
    {
      "cell_type": "code",
      "execution_count": null,
      "metadata": {
        "colab": {
          "base_uri": "https://localhost:8080/",
          "height": 542
        },
        "id": "lxAW_OqYrU3W",
        "outputId": "039924ce-c950-4e29-9c48-ede7fe034b05"
      },
      "outputs": [
        {
          "data": {
            "text/html": [
              "<html>\n",
              "<head><meta charset=\"utf-8\" /></head>\n",
              "<body>\n",
              "    <div>            <script src=\"https://cdnjs.cloudflare.com/ajax/libs/mathjax/2.7.5/MathJax.js?config=TeX-AMS-MML_SVG\"></script><script type=\"text/javascript\">if (window.MathJax && window.MathJax.Hub && window.MathJax.Hub.Config) {window.MathJax.Hub.Config({SVG: {font: \"STIX-Web\"}});}</script>                <script type=\"text/javascript\">window.PlotlyConfig = {MathJaxConfig: 'local'};</script>\n",
              "        <script src=\"https://cdn.plot.ly/plotly-2.18.2.min.js\"></script>                <div id=\"bb2914b2-45c1-43f3-9938-e253bf97d964\" class=\"plotly-graph-div\" style=\"height:525px; width:100%;\"></div>            <script type=\"text/javascript\">                                    window.PLOTLYENV=window.PLOTLYENV || {};                                    if (document.getElementById(\"bb2914b2-45c1-43f3-9938-e253bf97d964\")) {                    Plotly.newPlot(                        \"bb2914b2-45c1-43f3-9938-e253bf97d964\",                        [{\"marker\":{\"color\":\"lightblue\"},\"name\":\"Alimentation, boisson, tabac\",\"text\":[\"15.4\",\"11.8\",\"nan\",\"nan\",\"15.5\",\"10.8\",\"12.4\",\"nan\",\"16.3\",\"19\"],\"textposition\":\"inside\",\"x\":[\"Bangladesh\",\"China\",\"India\",\"Pakistan\",\"Portugal\",\"Turkiye\",\"Vietnam\",\"Morocco\",\"Poland\",\"Brazil\"],\"y\":[15.4,11.8,null,null,15.5,10.8,12.4,null,16.3,19.0],\"type\":\"bar\"},{\"marker\":{\"color\":\"skyblue\"},\"name\":\"Textiles, v\\u00eatements\",\"text\":[\"56.8\",\"10\",\"nan\",\"nan\",\"14.4\",\"16.1\",\"16.2\",\"nan\",\"2.9\",\"5.8\"],\"textposition\":\"inside\",\"x\":[\"Bangladesh\",\"China\",\"India\",\"Pakistan\",\"Portugal\",\"Turkiye\",\"Vietnam\",\"Morocco\",\"Poland\",\"Brazil\"],\"y\":[56.8,10.0,null,null,14.4,16.1,16.2,null,2.9,5.8],\"type\":\"bar\"},{\"marker\":{\"color\":\"steelblue\"},\"name\":\"Machines, transport\",\"text\":[\"3.6\",\"24.5\",\"nan\",\"nan\",\"18.3\",\"21.7\",\"30.3\",\"nan\",\"22.6\",\"17\"],\"textposition\":\"inside\",\"x\":[\"Bangladesh\",\"China\",\"India\",\"Pakistan\",\"Portugal\",\"Turkiye\",\"Vietnam\",\"Morocco\",\"Poland\",\"Brazil\"],\"y\":[3.6,24.5,null,null,18.3,21.7,30.3,null,22.6,17.0],\"type\":\"bar\"},{\"marker\":{\"color\":\"darkblue\"},\"name\":\"Prod. chimiques\",\"text\":[\"3.1\",\"10.8\",\"nan\",\"nan\",\"5.9\",\"9.3\",\"4.2\",\"nan\",\"nan\",\"14.7\"],\"textposition\":\"inside\",\"x\":[\"Bangladesh\",\"China\",\"India\",\"Pakistan\",\"Portugal\",\"Turkiye\",\"Vietnam\",\"Morocco\",\"Poland\",\"Brazil\"],\"y\":[3.1,10.8,null,null,5.9,9.3,4.2,null,null,14.7],\"type\":\"bar\"},{\"marker\":{\"color\":\"black\"},\"name\":\"Autres\",\"text\":[\"21.1\",\"42.8\",\"nan\",\"nan\",\"45.9\",\"42.1\",\"37\",\"nan\",\"58.1\",\"43.5\"],\"textposition\":\"inside\",\"x\":[\"Bangladesh\",\"China\",\"India\",\"Pakistan\",\"Portugal\",\"Turkiye\",\"Vietnam\",\"Morocco\",\"Poland\",\"Brazil\"],\"y\":[21.1,42.8,null,null,45.9,42.1,37.0,null,58.1,43.5],\"type\":\"bar\"}],                        {\"template\":{\"data\":{\"histogram2dcontour\":[{\"type\":\"histogram2dcontour\",\"colorbar\":{\"outlinewidth\":0,\"ticks\":\"\"},\"colorscale\":[[0.0,\"#0d0887\"],[0.1111111111111111,\"#46039f\"],[0.2222222222222222,\"#7201a8\"],[0.3333333333333333,\"#9c179e\"],[0.4444444444444444,\"#bd3786\"],[0.5555555555555556,\"#d8576b\"],[0.6666666666666666,\"#ed7953\"],[0.7777777777777778,\"#fb9f3a\"],[0.8888888888888888,\"#fdca26\"],[1.0,\"#f0f921\"]]}],\"choropleth\":[{\"type\":\"choropleth\",\"colorbar\":{\"outlinewidth\":0,\"ticks\":\"\"}}],\"histogram2d\":[{\"type\":\"histogram2d\",\"colorbar\":{\"outlinewidth\":0,\"ticks\":\"\"},\"colorscale\":[[0.0,\"#0d0887\"],[0.1111111111111111,\"#46039f\"],[0.2222222222222222,\"#7201a8\"],[0.3333333333333333,\"#9c179e\"],[0.4444444444444444,\"#bd3786\"],[0.5555555555555556,\"#d8576b\"],[0.6666666666666666,\"#ed7953\"],[0.7777777777777778,\"#fb9f3a\"],[0.8888888888888888,\"#fdca26\"],[1.0,\"#f0f921\"]]}],\"heatmap\":[{\"type\":\"heatmap\",\"colorbar\":{\"outlinewidth\":0,\"ticks\":\"\"},\"colorscale\":[[0.0,\"#0d0887\"],[0.1111111111111111,\"#46039f\"],[0.2222222222222222,\"#7201a8\"],[0.3333333333333333,\"#9c179e\"],[0.4444444444444444,\"#bd3786\"],[0.5555555555555556,\"#d8576b\"],[0.6666666666666666,\"#ed7953\"],[0.7777777777777778,\"#fb9f3a\"],[0.8888888888888888,\"#fdca26\"],[1.0,\"#f0f921\"]]}],\"heatmapgl\":[{\"type\":\"heatmapgl\",\"colorbar\":{\"outlinewidth\":0,\"ticks\":\"\"},\"colorscale\":[[0.0,\"#0d0887\"],[0.1111111111111111,\"#46039f\"],[0.2222222222222222,\"#7201a8\"],[0.3333333333333333,\"#9c179e\"],[0.4444444444444444,\"#bd3786\"],[0.5555555555555556,\"#d8576b\"],[0.6666666666666666,\"#ed7953\"],[0.7777777777777778,\"#fb9f3a\"],[0.8888888888888888,\"#fdca26\"],[1.0,\"#f0f921\"]]}],\"contourcarpet\":[{\"type\":\"contourcarpet\",\"colorbar\":{\"outlinewidth\":0,\"ticks\":\"\"}}],\"contour\":[{\"type\":\"contour\",\"colorbar\":{\"outlinewidth\":0,\"ticks\":\"\"},\"colorscale\":[[0.0,\"#0d0887\"],[0.1111111111111111,\"#46039f\"],[0.2222222222222222,\"#7201a8\"],[0.3333333333333333,\"#9c179e\"],[0.4444444444444444,\"#bd3786\"],[0.5555555555555556,\"#d8576b\"],[0.6666666666666666,\"#ed7953\"],[0.7777777777777778,\"#fb9f3a\"],[0.8888888888888888,\"#fdca26\"],[1.0,\"#f0f921\"]]}],\"surface\":[{\"type\":\"surface\",\"colorbar\":{\"outlinewidth\":0,\"ticks\":\"\"},\"colorscale\":[[0.0,\"#0d0887\"],[0.1111111111111111,\"#46039f\"],[0.2222222222222222,\"#7201a8\"],[0.3333333333333333,\"#9c179e\"],[0.4444444444444444,\"#bd3786\"],[0.5555555555555556,\"#d8576b\"],[0.6666666666666666,\"#ed7953\"],[0.7777777777777778,\"#fb9f3a\"],[0.8888888888888888,\"#fdca26\"],[1.0,\"#f0f921\"]]}],\"mesh3d\":[{\"type\":\"mesh3d\",\"colorbar\":{\"outlinewidth\":0,\"ticks\":\"\"}}],\"scatter\":[{\"fillpattern\":{\"fillmode\":\"overlay\",\"size\":10,\"solidity\":0.2},\"type\":\"scatter\"}],\"parcoords\":[{\"type\":\"parcoords\",\"line\":{\"colorbar\":{\"outlinewidth\":0,\"ticks\":\"\"}}}],\"scatterpolargl\":[{\"type\":\"scatterpolargl\",\"marker\":{\"colorbar\":{\"outlinewidth\":0,\"ticks\":\"\"}}}],\"bar\":[{\"error_x\":{\"color\":\"#2a3f5f\"},\"error_y\":{\"color\":\"#2a3f5f\"},\"marker\":{\"line\":{\"color\":\"#E5ECF6\",\"width\":0.5},\"pattern\":{\"fillmode\":\"overlay\",\"size\":10,\"solidity\":0.2}},\"type\":\"bar\"}],\"scattergeo\":[{\"type\":\"scattergeo\",\"marker\":{\"colorbar\":{\"outlinewidth\":0,\"ticks\":\"\"}}}],\"scatterpolar\":[{\"type\":\"scatterpolar\",\"marker\":{\"colorbar\":{\"outlinewidth\":0,\"ticks\":\"\"}}}],\"histogram\":[{\"marker\":{\"pattern\":{\"fillmode\":\"overlay\",\"size\":10,\"solidity\":0.2}},\"type\":\"histogram\"}],\"scattergl\":[{\"type\":\"scattergl\",\"marker\":{\"colorbar\":{\"outlinewidth\":0,\"ticks\":\"\"}}}],\"scatter3d\":[{\"type\":\"scatter3d\",\"line\":{\"colorbar\":{\"outlinewidth\":0,\"ticks\":\"\"}},\"marker\":{\"colorbar\":{\"outlinewidth\":0,\"ticks\":\"\"}}}],\"scattermapbox\":[{\"type\":\"scattermapbox\",\"marker\":{\"colorbar\":{\"outlinewidth\":0,\"ticks\":\"\"}}}],\"scatterternary\":[{\"type\":\"scatterternary\",\"marker\":{\"colorbar\":{\"outlinewidth\":0,\"ticks\":\"\"}}}],\"scattercarpet\":[{\"type\":\"scattercarpet\",\"marker\":{\"colorbar\":{\"outlinewidth\":0,\"ticks\":\"\"}}}],\"carpet\":[{\"aaxis\":{\"endlinecolor\":\"#2a3f5f\",\"gridcolor\":\"white\",\"linecolor\":\"white\",\"minorgridcolor\":\"white\",\"startlinecolor\":\"#2a3f5f\"},\"baxis\":{\"endlinecolor\":\"#2a3f5f\",\"gridcolor\":\"white\",\"linecolor\":\"white\",\"minorgridcolor\":\"white\",\"startlinecolor\":\"#2a3f5f\"},\"type\":\"carpet\"}],\"table\":[{\"cells\":{\"fill\":{\"color\":\"#EBF0F8\"},\"line\":{\"color\":\"white\"}},\"header\":{\"fill\":{\"color\":\"#C8D4E3\"},\"line\":{\"color\":\"white\"}},\"type\":\"table\"}],\"barpolar\":[{\"marker\":{\"line\":{\"color\":\"#E5ECF6\",\"width\":0.5},\"pattern\":{\"fillmode\":\"overlay\",\"size\":10,\"solidity\":0.2}},\"type\":\"barpolar\"}],\"pie\":[{\"automargin\":true,\"type\":\"pie\"}]},\"layout\":{\"autotypenumbers\":\"strict\",\"colorway\":[\"#636efa\",\"#EF553B\",\"#00cc96\",\"#ab63fa\",\"#FFA15A\",\"#19d3f3\",\"#FF6692\",\"#B6E880\",\"#FF97FF\",\"#FECB52\"],\"font\":{\"color\":\"#2a3f5f\"},\"hovermode\":\"closest\",\"hoverlabel\":{\"align\":\"left\"},\"paper_bgcolor\":\"white\",\"plot_bgcolor\":\"#E5ECF6\",\"polar\":{\"bgcolor\":\"#E5ECF6\",\"angularaxis\":{\"gridcolor\":\"white\",\"linecolor\":\"white\",\"ticks\":\"\"},\"radialaxis\":{\"gridcolor\":\"white\",\"linecolor\":\"white\",\"ticks\":\"\"}},\"ternary\":{\"bgcolor\":\"#E5ECF6\",\"aaxis\":{\"gridcolor\":\"white\",\"linecolor\":\"white\",\"ticks\":\"\"},\"baxis\":{\"gridcolor\":\"white\",\"linecolor\":\"white\",\"ticks\":\"\"},\"caxis\":{\"gridcolor\":\"white\",\"linecolor\":\"white\",\"ticks\":\"\"}},\"coloraxis\":{\"colorbar\":{\"outlinewidth\":0,\"ticks\":\"\"}},\"colorscale\":{\"sequential\":[[0.0,\"#0d0887\"],[0.1111111111111111,\"#46039f\"],[0.2222222222222222,\"#7201a8\"],[0.3333333333333333,\"#9c179e\"],[0.4444444444444444,\"#bd3786\"],[0.5555555555555556,\"#d8576b\"],[0.6666666666666666,\"#ed7953\"],[0.7777777777777778,\"#fb9f3a\"],[0.8888888888888888,\"#fdca26\"],[1.0,\"#f0f921\"]],\"sequentialminus\":[[0.0,\"#0d0887\"],[0.1111111111111111,\"#46039f\"],[0.2222222222222222,\"#7201a8\"],[0.3333333333333333,\"#9c179e\"],[0.4444444444444444,\"#bd3786\"],[0.5555555555555556,\"#d8576b\"],[0.6666666666666666,\"#ed7953\"],[0.7777777777777778,\"#fb9f3a\"],[0.8888888888888888,\"#fdca26\"],[1.0,\"#f0f921\"]],\"diverging\":[[0,\"#8e0152\"],[0.1,\"#c51b7d\"],[0.2,\"#de77ae\"],[0.3,\"#f1b6da\"],[0.4,\"#fde0ef\"],[0.5,\"#f7f7f7\"],[0.6,\"#e6f5d0\"],[0.7,\"#b8e186\"],[0.8,\"#7fbc41\"],[0.9,\"#4d9221\"],[1,\"#276419\"]]},\"xaxis\":{\"gridcolor\":\"white\",\"linecolor\":\"white\",\"ticks\":\"\",\"title\":{\"standoff\":15},\"zerolinecolor\":\"white\",\"automargin\":true,\"zerolinewidth\":2},\"yaxis\":{\"gridcolor\":\"white\",\"linecolor\":\"white\",\"ticks\":\"\",\"title\":{\"standoff\":15},\"zerolinecolor\":\"white\",\"automargin\":true,\"zerolinewidth\":2},\"scene\":{\"xaxis\":{\"backgroundcolor\":\"#E5ECF6\",\"gridcolor\":\"white\",\"linecolor\":\"white\",\"showbackground\":true,\"ticks\":\"\",\"zerolinecolor\":\"white\",\"gridwidth\":2},\"yaxis\":{\"backgroundcolor\":\"#E5ECF6\",\"gridcolor\":\"white\",\"linecolor\":\"white\",\"showbackground\":true,\"ticks\":\"\",\"zerolinecolor\":\"white\",\"gridwidth\":2},\"zaxis\":{\"backgroundcolor\":\"#E5ECF6\",\"gridcolor\":\"white\",\"linecolor\":\"white\",\"showbackground\":true,\"ticks\":\"\",\"zerolinecolor\":\"white\",\"gridwidth\":2}},\"shapedefaults\":{\"line\":{\"color\":\"#2a3f5f\"}},\"annotationdefaults\":{\"arrowcolor\":\"#2a3f5f\",\"arrowhead\":0,\"arrowwidth\":1},\"geo\":{\"bgcolor\":\"white\",\"landcolor\":\"#E5ECF6\",\"subunitcolor\":\"white\",\"showland\":true,\"showlakes\":true,\"lakecolor\":\"white\"},\"title\":{\"x\":0.05},\"mapbox\":{\"style\":\"light\"}}},\"yaxis\":{\"showgrid\":true,\"gridcolor\":\"lightgray\",\"range\":[0,100],\"tickformat\":\".%\",\"title\":{\"text\":\"% par rapport \\u00e0 la val. ajout\\u00e9e totale\"}},\"title\":{\"text\":\"Valeur ajout\\u00e9e par type d'industrie manufacturi\\u00e8re en 2020\"},\"barmode\":\"stack\",\"plot_bgcolor\":\"rgba(0,0,0,0)\",\"annotations\":[{\"font\":{\"color\":\"red\"},\"showarrow\":false,\"text\":\"M\\u00e9diane industrie textile : 3.6%\",\"x\":2.5,\"y\":0.1,\"yshift\":10}]},                        {\"responsive\": true}                    ).then(function(){\n",
              "                            \n",
              "var gd = document.getElementById('bb2914b2-45c1-43f3-9938-e253bf97d964');\n",
              "var x = new MutationObserver(function (mutations, observer) {{\n",
              "        var display = window.getComputedStyle(gd).display;\n",
              "        if (!display || display === 'none') {{\n",
              "            console.log([gd, 'removed!']);\n",
              "            Plotly.purge(gd);\n",
              "            observer.disconnect();\n",
              "        }}\n",
              "}});\n",
              "\n",
              "// Listen for the removal of the full notebook cells\n",
              "var notebookContainer = gd.closest('#notebook-container');\n",
              "if (notebookContainer) {{\n",
              "    x.observe(notebookContainer, {childList: true});\n",
              "}}\n",
              "\n",
              "// Listen for the clearing of the current output cell\n",
              "var outputEl = gd.closest('.output');\n",
              "if (outputEl) {{\n",
              "    x.observe(outputEl, {childList: true});\n",
              "}}\n",
              "\n",
              "                        })                };                            </script>        </div>\n",
              "</body>\n",
              "</html>"
            ]
          },
          "metadata": {},
          "output_type": "display_data"
        }
      ],
      "source": [
        "# stacked bar des secteurs manufacturiers\n",
        "y1 = [15.4, 11.8, math.nan, math.nan, 15.5, 10.8, 12.4, math.nan, 16.3, 19] # liste qui contient les valeurs brutes pour obtenir un affichage cohérent\n",
        "y2 = [56.8, 10, math.nan, math.nan, 14.4, 16.1, 16.2, math.nan, 2.9, 5.8]\n",
        "y3 = [3.6, 24.5, math.nan, math.nan, 18.3, 21.7, 30.3, math.nan, 22.6, 17]\n",
        "y4 = [3.1, 10.8, math.nan, math.nan, 5.9, 9.3, 4.2, math.nan, math.nan, 14.7]\n",
        "y5 = [21.1, 42.8, math.nan, math.nan, 45.9, 42.1, 37, math.nan, 58.1, 43.5]\n",
        "\n",
        "trace_alimentation = go.Bar(name='Alimentation, boisson, tabac', x=df_countries_selected.index, y=df_countries_selected[\"Alimentation, boisson, tabac - 2020 (en %)\"], text=y1, textposition='inside', marker_color='lightblue')\n",
        "trace_textiles = go.Bar(name='Textiles, vêtements', x=df_countries_selected.index, y=df_countries_selected[\"Textiles, vêtements - 2020 (en %)\"], text=y2, textposition='inside', marker_color='skyblue')\n",
        "trace_machines = go.Bar(name='Machines, transport', x=df_countries_selected.index, y=df_countries_selected[\"Machines, mat. de transport - 2020 (en %)\"], text=y3, textposition='inside', marker_color='steelblue')\n",
        "trace_chimiques = go.Bar(name='Prod. chimiques', x=df_countries_selected.index, y=df_countries_selected[\"Prod. chimiques - 2020 (en %)\"], text=y4, textposition='inside', marker_color='darkblue')\n",
        "trace_autres = go.Bar(name='Autres', x=df_countries_selected.index, y=df_countries_selected[\"Autres - 2020 (en %)\"], text=y5, textposition='inside', marker_color='black')\n",
        "\n",
        "stacked_bar_manufacturing = go.Figure(data=[trace_alimentation, trace_textiles, trace_machines, trace_chimiques, trace_autres])\n",
        "stacked_bar_manufacturing.update_layout(title=\"Valeur ajoutée par type d'industrie manufacturière en 2020\", barmode='stack', plot_bgcolor=\"rgba(0,0,0,0)\", yaxis=dict(showgrid=True, gridcolor='lightgray', range=[0, 100], tickformat='.%'), yaxis_title=\"% par rapport à la val. ajoutée totale\")\n",
        "stacked_bar_manufacturing.add_annotation(x=2.5, y=0.1, text=\"Médiane industrie textile : 3.6%\", showarrow=False, font=dict(color='red'), yshift=10)\n",
        "stacked_bar_manufacturing.show()"
      ]
    },
    {
      "cell_type": "markdown",
      "metadata": {
        "id": "rnEeoMySuZKU"
      },
      "source": [
        "C'est à nouveau le **Bangladesh** qui présente le taux le plus important de valeur ajoutée quant à son industrie textile (**56.8%** de la val. ajoutée totale tous secteurs confondus). La Chine présente cette fois-ci des données mais l'industrie textile est la moins représentée, comparativement à la catégorie \"autres\" (**42.8%**). Malheureusement nous n'avons pas de données pour l'Inde et le Pakistan. Les autres pays sont surtout caractérisés par une importante représentation de la catégorie \"autres\". Il est intéressant de visualiser la différence entre la valeur du Bangladesh par rapport à la médiane mondiale (**+56.8% contre 3.6% !**)"
      ]
    },
    {
      "cell_type": "markdown",
      "metadata": {
        "id": "IlVnavbe9fup"
      },
      "source": [
        "### Zoom sur le travail des enfants et leur accès à l'éducation"
      ]
    },
    {
      "cell_type": "markdown",
      "metadata": {
        "id": "mLifHkt7-ayV"
      },
      "source": [
        "Effectuons un rapide aperçu de nos données concernant le travail des enfants à l'aide de la fonction describe(). Nous précisons qu'à l'issue d'un travail exploratoire réalisé en amont, nous ne sélectionnons que les données qui, à notre sens, apportent une information pertinente à notre étude (par ex. nous excluons toutes les comparaisons liées au genre car elles n'indiquent pas de différences significatives, et il en sera de même pour tout notre rapport)."
      ]
    },
    {
      "cell_type": "code",
      "execution_count": null,
      "metadata": {
        "colab": {
          "base_uri": "https://localhost:8080/",
          "height": 300
        },
        "id": "x4B7K-FN-8bX",
        "outputId": "af596048-e41a-4d30-d04f-5ef8e3271059"
      },
      "outputs": [
        {
          "data": {
            "text/html": [
              "\n",
              "  <div id=\"df-21e5f718-5d51-4043-a7e5-4fa7cbda3908\">\n",
              "    <div class=\"colab-df-container\">\n",
              "      <div>\n",
              "<style scoped>\n",
              "    .dataframe tbody tr th:only-of-type {\n",
              "        vertical-align: middle;\n",
              "    }\n",
              "\n",
              "    .dataframe tbody tr th {\n",
              "        vertical-align: top;\n",
              "    }\n",
              "\n",
              "    .dataframe thead th {\n",
              "        text-align: right;\n",
              "    }\n",
              "</style>\n",
              "<table border=\"1\" class=\"dataframe\">\n",
              "  <thead>\n",
              "    <tr style=\"text-align: right;\">\n",
              "      <th></th>\n",
              "      <th>Total</th>\n",
              "      <th>Work only</th>\n",
              "      <th>Study and work</th>\n",
              "      <th>Agriculture</th>\n",
              "      <th>Manufacturing</th>\n",
              "      <th>Services</th>\n",
              "    </tr>\n",
              "  </thead>\n",
              "  <tbody>\n",
              "    <tr>\n",
              "      <th>count</th>\n",
              "      <td>97.00</td>\n",
              "      <td>97.00</td>\n",
              "      <td>97.00</td>\n",
              "      <td>63.00</td>\n",
              "      <td>63.00</td>\n",
              "      <td>63.00</td>\n",
              "    </tr>\n",
              "    <tr>\n",
              "      <th>mean</th>\n",
              "      <td>19.70</td>\n",
              "      <td>24.04</td>\n",
              "      <td>75.96</td>\n",
              "      <td>67.44</td>\n",
              "      <td>6.06</td>\n",
              "      <td>24.07</td>\n",
              "    </tr>\n",
              "    <tr>\n",
              "      <th>std</th>\n",
              "      <td>16.48</td>\n",
              "      <td>22.67</td>\n",
              "      <td>22.67</td>\n",
              "      <td>21.08</td>\n",
              "      <td>6.27</td>\n",
              "      <td>18.05</td>\n",
              "    </tr>\n",
              "    <tr>\n",
              "      <th>min</th>\n",
              "      <td>1.20</td>\n",
              "      <td>0.00</td>\n",
              "      <td>10.70</td>\n",
              "      <td>14.40</td>\n",
              "      <td>0.00</td>\n",
              "      <td>0.80</td>\n",
              "    </tr>\n",
              "    <tr>\n",
              "      <th>25%</th>\n",
              "      <td>5.60</td>\n",
              "      <td>5.00</td>\n",
              "      <td>63.40</td>\n",
              "      <td>55.10</td>\n",
              "      <td>1.35</td>\n",
              "      <td>9.75</td>\n",
              "    </tr>\n",
              "    <tr>\n",
              "      <th>50%</th>\n",
              "      <td>13.30</td>\n",
              "      <td>18.20</td>\n",
              "      <td>81.80</td>\n",
              "      <td>69.80</td>\n",
              "      <td>3.30</td>\n",
              "      <td>22.20</td>\n",
              "    </tr>\n",
              "    <tr>\n",
              "      <th>75%</th>\n",
              "      <td>31.80</td>\n",
              "      <td>36.60</td>\n",
              "      <td>95.00</td>\n",
              "      <td>85.10</td>\n",
              "      <td>9.50</td>\n",
              "      <td>34.30</td>\n",
              "    </tr>\n",
              "    <tr>\n",
              "      <th>max</th>\n",
              "      <td>63.90</td>\n",
              "      <td>89.30</td>\n",
              "      <td>100.00</td>\n",
              "      <td>98.90</td>\n",
              "      <td>27.60</td>\n",
              "      <td>81.00</td>\n",
              "    </tr>\n",
              "  </tbody>\n",
              "</table>\n",
              "</div>\n",
              "      <button class=\"colab-df-convert\" onclick=\"convertToInteractive('df-21e5f718-5d51-4043-a7e5-4fa7cbda3908')\"\n",
              "              title=\"Convert this dataframe to an interactive table.\"\n",
              "              style=\"display:none;\">\n",
              "        \n",
              "  <svg xmlns=\"http://www.w3.org/2000/svg\" height=\"24px\"viewBox=\"0 0 24 24\"\n",
              "       width=\"24px\">\n",
              "    <path d=\"M0 0h24v24H0V0z\" fill=\"none\"/>\n",
              "    <path d=\"M18.56 5.44l.94 2.06.94-2.06 2.06-.94-2.06-.94-.94-2.06-.94 2.06-2.06.94zm-11 1L8.5 8.5l.94-2.06 2.06-.94-2.06-.94L8.5 2.5l-.94 2.06-2.06.94zm10 10l.94 2.06.94-2.06 2.06-.94-2.06-.94-.94-2.06-.94 2.06-2.06.94z\"/><path d=\"M17.41 7.96l-1.37-1.37c-.4-.4-.92-.59-1.43-.59-.52 0-1.04.2-1.43.59L10.3 9.45l-7.72 7.72c-.78.78-.78 2.05 0 2.83L4 21.41c.39.39.9.59 1.41.59.51 0 1.02-.2 1.41-.59l7.78-7.78 2.81-2.81c.8-.78.8-2.07 0-2.86zM5.41 20L4 18.59l7.72-7.72 1.47 1.35L5.41 20z\"/>\n",
              "  </svg>\n",
              "      </button>\n",
              "      \n",
              "  <style>\n",
              "    .colab-df-container {\n",
              "      display:flex;\n",
              "      flex-wrap:wrap;\n",
              "      gap: 12px;\n",
              "    }\n",
              "\n",
              "    .colab-df-convert {\n",
              "      background-color: #E8F0FE;\n",
              "      border: none;\n",
              "      border-radius: 50%;\n",
              "      cursor: pointer;\n",
              "      display: none;\n",
              "      fill: #1967D2;\n",
              "      height: 32px;\n",
              "      padding: 0 0 0 0;\n",
              "      width: 32px;\n",
              "    }\n",
              "\n",
              "    .colab-df-convert:hover {\n",
              "      background-color: #E2EBFA;\n",
              "      box-shadow: 0px 1px 2px rgba(60, 64, 67, 0.3), 0px 1px 3px 1px rgba(60, 64, 67, 0.15);\n",
              "      fill: #174EA6;\n",
              "    }\n",
              "\n",
              "    [theme=dark] .colab-df-convert {\n",
              "      background-color: #3B4455;\n",
              "      fill: #D2E3FC;\n",
              "    }\n",
              "\n",
              "    [theme=dark] .colab-df-convert:hover {\n",
              "      background-color: #434B5C;\n",
              "      box-shadow: 0px 1px 3px 1px rgba(0, 0, 0, 0.15);\n",
              "      filter: drop-shadow(0px 1px 2px rgba(0, 0, 0, 0.3));\n",
              "      fill: #FFFFFF;\n",
              "    }\n",
              "  </style>\n",
              "\n",
              "      <script>\n",
              "        const buttonEl =\n",
              "          document.querySelector('#df-21e5f718-5d51-4043-a7e5-4fa7cbda3908 button.colab-df-convert');\n",
              "        buttonEl.style.display =\n",
              "          google.colab.kernel.accessAllowed ? 'block' : 'none';\n",
              "\n",
              "        async function convertToInteractive(key) {\n",
              "          const element = document.querySelector('#df-21e5f718-5d51-4043-a7e5-4fa7cbda3908');\n",
              "          const dataTable =\n",
              "            await google.colab.kernel.invokeFunction('convertToInteractive',\n",
              "                                                     [key], {});\n",
              "          if (!dataTable) return;\n",
              "\n",
              "          const docLinkHtml = 'Like what you see? Visit the ' +\n",
              "            '<a target=\"_blank\" href=https://colab.research.google.com/notebooks/data_table.ipynb>data table notebook</a>'\n",
              "            + ' to learn more about interactive tables.';\n",
              "          element.innerHTML = '';\n",
              "          dataTable['output_type'] = 'display_data';\n",
              "          await google.colab.output.renderOutput(dataTable, element);\n",
              "          const docLink = document.createElement('div');\n",
              "          docLink.innerHTML = docLinkHtml;\n",
              "          element.appendChild(docLink);\n",
              "        }\n",
              "      </script>\n",
              "    </div>\n",
              "  </div>\n",
              "  "
            ],
            "text/plain": [
              "       Total  Work only  Study and work  Agriculture  Manufacturing  Services\n",
              "count  97.00      97.00           97.00        63.00          63.00     63.00\n",
              "mean   19.70      24.04           75.96        67.44           6.06     24.07\n",
              "std    16.48      22.67           22.67        21.08           6.27     18.05\n",
              "min     1.20       0.00           10.70        14.40           0.00      0.80\n",
              "25%     5.60       5.00           63.40        55.10           1.35      9.75\n",
              "50%    13.30      18.20           81.80        69.80           3.30     22.20\n",
              "75%    31.80      36.60           95.00        85.10           9.50     34.30\n",
              "max    63.90      89.30          100.00        98.90          27.60     81.00"
            ]
          },
          "execution_count": 102,
          "metadata": {},
          "output_type": "execute_result"
        }
      ],
      "source": [
        "df[[\"Total\", \"Work only\", \"Study and work\", \"Agriculture\", \"Manufacturing\", \"Services\"]].describe().round(2)"
      ]
    },
    {
      "cell_type": "markdown",
      "metadata": {
        "id": "UI8pm8mm_13n"
      },
      "source": [
        "Un comparatif nous laisse entrevoir à nouveau l'écart entre certaines médianes et le max des distributions. En moyenne, dans le monde, **19.70%** des enfants travaillent. Parmi eux, **24%** ne font que travailler alors que **76%** d'entre eux travaillent et vont en parallèle à l'école. Le secteur le plus représenté est l'**agriculture**, puis les **services**, et enfin la **manufacture**. Les moyennes sont certainement influencées par les valeurs extrèmes, aussi, nous choisissons encore une fois de regarder préférentiellement les médianes. Les coefficients de variation (sd / moy * 100) sont tous très élevés, largement supérieurs à 50% ce qui signifie que les distributions sont très hétérogènes, ce qui semble normal puisque nous considérons dans un même ensemble tous les pays du monde. C'est un autre argument pour éviter d'utiliser la moyenne comme un référentiel.</br></br>\n",
        "Nous allons nous pencher sur les pays de fabrication des vêtements Vertbaudet. Qu'en est-il de l'indicateur de travail des enfants ?"
      ]
    },
    {
      "cell_type": "code",
      "execution_count": null,
      "metadata": {
        "colab": {
          "base_uri": "https://localhost:8080/",
          "height": 542
        },
        "id": "D2FSqY14wvAi",
        "outputId": "8d421fd8-ce9c-4293-fff7-03b7e033e1fd"
      },
      "outputs": [
        {
          "output_type": "display_data",
          "data": {
            "text/html": [
              "<html>\n",
              "<head><meta charset=\"utf-8\" /></head>\n",
              "<body>\n",
              "    <div>            <script src=\"https://cdnjs.cloudflare.com/ajax/libs/mathjax/2.7.5/MathJax.js?config=TeX-AMS-MML_SVG\"></script><script type=\"text/javascript\">if (window.MathJax && window.MathJax.Hub && window.MathJax.Hub.Config) {window.MathJax.Hub.Config({SVG: {font: \"STIX-Web\"}});}</script>                <script type=\"text/javascript\">window.PlotlyConfig = {MathJaxConfig: 'local'};</script>\n",
              "        <script src=\"https://cdn.plot.ly/plotly-2.18.2.min.js\"></script>                <div id=\"e3be1abf-05f4-403c-8164-c8349244d692\" class=\"plotly-graph-div\" style=\"height:525px; width:100%;\"></div>            <script type=\"text/javascript\">                                    window.PLOTLYENV=window.PLOTLYENV || {};                                    if (document.getElementById(\"e3be1abf-05f4-403c-8164-c8349244d692\")) {                    Plotly.newPlot(                        \"e3be1abf-05f4-403c-8164-c8349244d692\",                        [{\"marker\":{\"color\":\"lightblue\"},\"text\":[5.0,null,1.7,13.0,3.6,2.6,10.9,4.5,null,2.5],\"textposition\":\"outside\",\"x\":[\"Bangladesh\",\"China\",\"India\",\"Pakistan\",\"Portugal\",\"Turkiye\",\"Vietnam\",\"Morocco\",\"Poland\",\"Brazil\"],\"y\":[5.0,null,1.7,13.0,3.6,2.6,10.9,4.5,null,2.5],\"type\":\"bar\"}],                        {\"template\":{\"data\":{\"histogram2dcontour\":[{\"type\":\"histogram2dcontour\",\"colorbar\":{\"outlinewidth\":0,\"ticks\":\"\"},\"colorscale\":[[0.0,\"#0d0887\"],[0.1111111111111111,\"#46039f\"],[0.2222222222222222,\"#7201a8\"],[0.3333333333333333,\"#9c179e\"],[0.4444444444444444,\"#bd3786\"],[0.5555555555555556,\"#d8576b\"],[0.6666666666666666,\"#ed7953\"],[0.7777777777777778,\"#fb9f3a\"],[0.8888888888888888,\"#fdca26\"],[1.0,\"#f0f921\"]]}],\"choropleth\":[{\"type\":\"choropleth\",\"colorbar\":{\"outlinewidth\":0,\"ticks\":\"\"}}],\"histogram2d\":[{\"type\":\"histogram2d\",\"colorbar\":{\"outlinewidth\":0,\"ticks\":\"\"},\"colorscale\":[[0.0,\"#0d0887\"],[0.1111111111111111,\"#46039f\"],[0.2222222222222222,\"#7201a8\"],[0.3333333333333333,\"#9c179e\"],[0.4444444444444444,\"#bd3786\"],[0.5555555555555556,\"#d8576b\"],[0.6666666666666666,\"#ed7953\"],[0.7777777777777778,\"#fb9f3a\"],[0.8888888888888888,\"#fdca26\"],[1.0,\"#f0f921\"]]}],\"heatmap\":[{\"type\":\"heatmap\",\"colorbar\":{\"outlinewidth\":0,\"ticks\":\"\"},\"colorscale\":[[0.0,\"#0d0887\"],[0.1111111111111111,\"#46039f\"],[0.2222222222222222,\"#7201a8\"],[0.3333333333333333,\"#9c179e\"],[0.4444444444444444,\"#bd3786\"],[0.5555555555555556,\"#d8576b\"],[0.6666666666666666,\"#ed7953\"],[0.7777777777777778,\"#fb9f3a\"],[0.8888888888888888,\"#fdca26\"],[1.0,\"#f0f921\"]]}],\"heatmapgl\":[{\"type\":\"heatmapgl\",\"colorbar\":{\"outlinewidth\":0,\"ticks\":\"\"},\"colorscale\":[[0.0,\"#0d0887\"],[0.1111111111111111,\"#46039f\"],[0.2222222222222222,\"#7201a8\"],[0.3333333333333333,\"#9c179e\"],[0.4444444444444444,\"#bd3786\"],[0.5555555555555556,\"#d8576b\"],[0.6666666666666666,\"#ed7953\"],[0.7777777777777778,\"#fb9f3a\"],[0.8888888888888888,\"#fdca26\"],[1.0,\"#f0f921\"]]}],\"contourcarpet\":[{\"type\":\"contourcarpet\",\"colorbar\":{\"outlinewidth\":0,\"ticks\":\"\"}}],\"contour\":[{\"type\":\"contour\",\"colorbar\":{\"outlinewidth\":0,\"ticks\":\"\"},\"colorscale\":[[0.0,\"#0d0887\"],[0.1111111111111111,\"#46039f\"],[0.2222222222222222,\"#7201a8\"],[0.3333333333333333,\"#9c179e\"],[0.4444444444444444,\"#bd3786\"],[0.5555555555555556,\"#d8576b\"],[0.6666666666666666,\"#ed7953\"],[0.7777777777777778,\"#fb9f3a\"],[0.8888888888888888,\"#fdca26\"],[1.0,\"#f0f921\"]]}],\"surface\":[{\"type\":\"surface\",\"colorbar\":{\"outlinewidth\":0,\"ticks\":\"\"},\"colorscale\":[[0.0,\"#0d0887\"],[0.1111111111111111,\"#46039f\"],[0.2222222222222222,\"#7201a8\"],[0.3333333333333333,\"#9c179e\"],[0.4444444444444444,\"#bd3786\"],[0.5555555555555556,\"#d8576b\"],[0.6666666666666666,\"#ed7953\"],[0.7777777777777778,\"#fb9f3a\"],[0.8888888888888888,\"#fdca26\"],[1.0,\"#f0f921\"]]}],\"mesh3d\":[{\"type\":\"mesh3d\",\"colorbar\":{\"outlinewidth\":0,\"ticks\":\"\"}}],\"scatter\":[{\"fillpattern\":{\"fillmode\":\"overlay\",\"size\":10,\"solidity\":0.2},\"type\":\"scatter\"}],\"parcoords\":[{\"type\":\"parcoords\",\"line\":{\"colorbar\":{\"outlinewidth\":0,\"ticks\":\"\"}}}],\"scatterpolargl\":[{\"type\":\"scatterpolargl\",\"marker\":{\"colorbar\":{\"outlinewidth\":0,\"ticks\":\"\"}}}],\"bar\":[{\"error_x\":{\"color\":\"#2a3f5f\"},\"error_y\":{\"color\":\"#2a3f5f\"},\"marker\":{\"line\":{\"color\":\"#E5ECF6\",\"width\":0.5},\"pattern\":{\"fillmode\":\"overlay\",\"size\":10,\"solidity\":0.2}},\"type\":\"bar\"}],\"scattergeo\":[{\"type\":\"scattergeo\",\"marker\":{\"colorbar\":{\"outlinewidth\":0,\"ticks\":\"\"}}}],\"scatterpolar\":[{\"type\":\"scatterpolar\",\"marker\":{\"colorbar\":{\"outlinewidth\":0,\"ticks\":\"\"}}}],\"histogram\":[{\"marker\":{\"pattern\":{\"fillmode\":\"overlay\",\"size\":10,\"solidity\":0.2}},\"type\":\"histogram\"}],\"scattergl\":[{\"type\":\"scattergl\",\"marker\":{\"colorbar\":{\"outlinewidth\":0,\"ticks\":\"\"}}}],\"scatter3d\":[{\"type\":\"scatter3d\",\"line\":{\"colorbar\":{\"outlinewidth\":0,\"ticks\":\"\"}},\"marker\":{\"colorbar\":{\"outlinewidth\":0,\"ticks\":\"\"}}}],\"scattermapbox\":[{\"type\":\"scattermapbox\",\"marker\":{\"colorbar\":{\"outlinewidth\":0,\"ticks\":\"\"}}}],\"scatterternary\":[{\"type\":\"scatterternary\",\"marker\":{\"colorbar\":{\"outlinewidth\":0,\"ticks\":\"\"}}}],\"scattercarpet\":[{\"type\":\"scattercarpet\",\"marker\":{\"colorbar\":{\"outlinewidth\":0,\"ticks\":\"\"}}}],\"carpet\":[{\"aaxis\":{\"endlinecolor\":\"#2a3f5f\",\"gridcolor\":\"white\",\"linecolor\":\"white\",\"minorgridcolor\":\"white\",\"startlinecolor\":\"#2a3f5f\"},\"baxis\":{\"endlinecolor\":\"#2a3f5f\",\"gridcolor\":\"white\",\"linecolor\":\"white\",\"minorgridcolor\":\"white\",\"startlinecolor\":\"#2a3f5f\"},\"type\":\"carpet\"}],\"table\":[{\"cells\":{\"fill\":{\"color\":\"#EBF0F8\"},\"line\":{\"color\":\"white\"}},\"header\":{\"fill\":{\"color\":\"#C8D4E3\"},\"line\":{\"color\":\"white\"}},\"type\":\"table\"}],\"barpolar\":[{\"marker\":{\"line\":{\"color\":\"#E5ECF6\",\"width\":0.5},\"pattern\":{\"fillmode\":\"overlay\",\"size\":10,\"solidity\":0.2}},\"type\":\"barpolar\"}],\"pie\":[{\"automargin\":true,\"type\":\"pie\"}]},\"layout\":{\"autotypenumbers\":\"strict\",\"colorway\":[\"#636efa\",\"#EF553B\",\"#00cc96\",\"#ab63fa\",\"#FFA15A\",\"#19d3f3\",\"#FF6692\",\"#B6E880\",\"#FF97FF\",\"#FECB52\"],\"font\":{\"color\":\"#2a3f5f\"},\"hovermode\":\"closest\",\"hoverlabel\":{\"align\":\"left\"},\"paper_bgcolor\":\"white\",\"plot_bgcolor\":\"#E5ECF6\",\"polar\":{\"bgcolor\":\"#E5ECF6\",\"angularaxis\":{\"gridcolor\":\"white\",\"linecolor\":\"white\",\"ticks\":\"\"},\"radialaxis\":{\"gridcolor\":\"white\",\"linecolor\":\"white\",\"ticks\":\"\"}},\"ternary\":{\"bgcolor\":\"#E5ECF6\",\"aaxis\":{\"gridcolor\":\"white\",\"linecolor\":\"white\",\"ticks\":\"\"},\"baxis\":{\"gridcolor\":\"white\",\"linecolor\":\"white\",\"ticks\":\"\"},\"caxis\":{\"gridcolor\":\"white\",\"linecolor\":\"white\",\"ticks\":\"\"}},\"coloraxis\":{\"colorbar\":{\"outlinewidth\":0,\"ticks\":\"\"}},\"colorscale\":{\"sequential\":[[0.0,\"#0d0887\"],[0.1111111111111111,\"#46039f\"],[0.2222222222222222,\"#7201a8\"],[0.3333333333333333,\"#9c179e\"],[0.4444444444444444,\"#bd3786\"],[0.5555555555555556,\"#d8576b\"],[0.6666666666666666,\"#ed7953\"],[0.7777777777777778,\"#fb9f3a\"],[0.8888888888888888,\"#fdca26\"],[1.0,\"#f0f921\"]],\"sequentialminus\":[[0.0,\"#0d0887\"],[0.1111111111111111,\"#46039f\"],[0.2222222222222222,\"#7201a8\"],[0.3333333333333333,\"#9c179e\"],[0.4444444444444444,\"#bd3786\"],[0.5555555555555556,\"#d8576b\"],[0.6666666666666666,\"#ed7953\"],[0.7777777777777778,\"#fb9f3a\"],[0.8888888888888888,\"#fdca26\"],[1.0,\"#f0f921\"]],\"diverging\":[[0,\"#8e0152\"],[0.1,\"#c51b7d\"],[0.2,\"#de77ae\"],[0.3,\"#f1b6da\"],[0.4,\"#fde0ef\"],[0.5,\"#f7f7f7\"],[0.6,\"#e6f5d0\"],[0.7,\"#b8e186\"],[0.8,\"#7fbc41\"],[0.9,\"#4d9221\"],[1,\"#276419\"]]},\"xaxis\":{\"gridcolor\":\"white\",\"linecolor\":\"white\",\"ticks\":\"\",\"title\":{\"standoff\":15},\"zerolinecolor\":\"white\",\"automargin\":true,\"zerolinewidth\":2},\"yaxis\":{\"gridcolor\":\"white\",\"linecolor\":\"white\",\"ticks\":\"\",\"title\":{\"standoff\":15},\"zerolinecolor\":\"white\",\"automargin\":true,\"zerolinewidth\":2},\"scene\":{\"xaxis\":{\"backgroundcolor\":\"#E5ECF6\",\"gridcolor\":\"white\",\"linecolor\":\"white\",\"showbackground\":true,\"ticks\":\"\",\"zerolinecolor\":\"white\",\"gridwidth\":2},\"yaxis\":{\"backgroundcolor\":\"#E5ECF6\",\"gridcolor\":\"white\",\"linecolor\":\"white\",\"showbackground\":true,\"ticks\":\"\",\"zerolinecolor\":\"white\",\"gridwidth\":2},\"zaxis\":{\"backgroundcolor\":\"#E5ECF6\",\"gridcolor\":\"white\",\"linecolor\":\"white\",\"showbackground\":true,\"ticks\":\"\",\"zerolinecolor\":\"white\",\"gridwidth\":2}},\"shapedefaults\":{\"line\":{\"color\":\"#2a3f5f\"}},\"annotationdefaults\":{\"arrowcolor\":\"#2a3f5f\",\"arrowhead\":0,\"arrowwidth\":1},\"geo\":{\"bgcolor\":\"white\",\"landcolor\":\"#E5ECF6\",\"subunitcolor\":\"white\",\"showland\":true,\"showlakes\":true,\"lakecolor\":\"white\"},\"title\":{\"x\":0.05},\"mapbox\":{\"style\":\"light\"}}},\"yaxis\":{\"showgrid\":true,\"gridcolor\":\"lightgray\",\"title\":{\"text\":\"% par rapport \\u00e0 la population des 7-14 ans\"}},\"title\":{\"text\":\"Proportion d'enfants \\u00e2g\\u00e9s de 7 \\u00e0 14 ans impliqu\\u00e9s dans une activit\\u00e9 \\u00e9conomique au moins 1h par semaine\"},\"plot_bgcolor\":\"rgba(0,0,0,0)\"},                        {\"responsive\": true}                    ).then(function(){\n",
              "                            \n",
              "var gd = document.getElementById('e3be1abf-05f4-403c-8164-c8349244d692');\n",
              "var x = new MutationObserver(function (mutations, observer) {{\n",
              "        var display = window.getComputedStyle(gd).display;\n",
              "        if (!display || display === 'none') {{\n",
              "            console.log([gd, 'removed!']);\n",
              "            Plotly.purge(gd);\n",
              "            observer.disconnect();\n",
              "        }}\n",
              "}});\n",
              "\n",
              "// Listen for the removal of the full notebook cells\n",
              "var notebookContainer = gd.closest('#notebook-container');\n",
              "if (notebookContainer) {{\n",
              "    x.observe(notebookContainer, {childList: true});\n",
              "}}\n",
              "\n",
              "// Listen for the clearing of the current output cell\n",
              "var outputEl = gd.closest('.output');\n",
              "if (outputEl) {{\n",
              "    x.observe(outputEl, {childList: true});\n",
              "}}\n",
              "\n",
              "                        })                };                            </script>        </div>\n",
              "</body>\n",
              "</html>"
            ]
          },
          "metadata": {}
        }
      ],
      "source": [
        "# réalisons un barplot sur le travail des enfants\n",
        "total_child_labor = go.Figure(data=go.Bar(x=df_countries_selected.index, y=df_countries_selected[\"Total\"], text=df_countries_selected[\"Total\"], textposition='outside', marker_color='lightblue'))\n",
        "total_child_labor.update_layout(title=\"Proportion d'enfants âgés de 7 à 14 ans impliqués dans une activité économique au moins 1h par semaine\", plot_bgcolor=\"rgba(0,0,0,0)\", yaxis=dict(showgrid=True, gridcolor='lightgray'), yaxis_title=\"% par rapport à la population des 7-14 ans\")\n",
        "total_child_labor.show()"
      ]
    },
    {
      "cell_type": "markdown",
      "metadata": {
        "id": "TZx3RZGOK9Qu"
      },
      "source": [
        "Le pays qui comporte le plus d'enfants travailleurs est le **Pakistan**, puis arrivent le **Vietnam** et le **Bangladesh**. Il est à noter que tous les pays de fabrication des vêtements Vertbaudet, présentent un taux de travail infantile inférieur à la médiane mondiale qui est de **13.30%**."
      ]
    },
    {
      "cell_type": "code",
      "execution_count": null,
      "metadata": {
        "colab": {
          "base_uri": "https://localhost:8080/"
        },
        "id": "1DehcuksnWVk",
        "outputId": "9fd3fbf6-e5fa-4993-bb44-a9bee9cffd5d"
      },
      "outputs": [
        {
          "name": "stdout",
          "output_type": "stream",
          "text": [
            "Guinea-Bissau 63.9\n"
          ]
        }
      ],
      "source": [
        "# cherchons quel est le pays du dataset qui emploie le plus d'enfants et quel est le %\n",
        "country_max = df.index[df[\"Total\"] == max(df[\"Total\"])][0]\n",
        "print(country_max, max(df[\"Total\"]))"
      ]
    },
    {
      "cell_type": "markdown",
      "metadata": {
        "id": "rs-biO3iPWTn"
      },
      "source": [
        "Dans quels secteurs d'activité travaillent ces enfants ?"
      ]
    },
    {
      "cell_type": "code",
      "execution_count": null,
      "metadata": {
        "colab": {
          "base_uri": "https://localhost:8080/",
          "height": 542
        },
        "id": "4lVfbAC8plOr",
        "outputId": "dca47fd0-d34b-41f7-bc6d-6a1a5038ebb9"
      },
      "outputs": [
        {
          "output_type": "display_data",
          "data": {
            "text/html": [
              "<html>\n",
              "<head><meta charset=\"utf-8\" /></head>\n",
              "<body>\n",
              "    <div>            <script src=\"https://cdnjs.cloudflare.com/ajax/libs/mathjax/2.7.5/MathJax.js?config=TeX-AMS-MML_SVG\"></script><script type=\"text/javascript\">if (window.MathJax && window.MathJax.Hub && window.MathJax.Hub.Config) {window.MathJax.Hub.Config({SVG: {font: \"STIX-Web\"}});}</script>                <script type=\"text/javascript\">window.PlotlyConfig = {MathJaxConfig: 'local'};</script>\n",
              "        <script src=\"https://cdn.plot.ly/plotly-2.18.2.min.js\"></script>                <div id=\"00ef4944-78a8-4bdf-99ed-6490a79b863c\" class=\"plotly-graph-div\" style=\"height:525px; width:100%;\"></div>            <script type=\"text/javascript\">                                    window.PLOTLYENV=window.PLOTLYENV || {};                                    if (document.getElementById(\"00ef4944-78a8-4bdf-99ed-6490a79b863c\")) {                    Plotly.newPlot(                        \"00ef4944-78a8-4bdf-99ed-6490a79b863c\",                        [{\"marker\":{\"color\":\"lightblue\"},\"name\":\"Agriculture\",\"text\":[\"39.3\",\"nan\",\"56.5\",\"76.1\",\"48.5\",\"57.1\",\"77.1\",\"55.5\",\"nan\",\"56.1\"],\"textposition\":\"inside\",\"x\":[\"Bangladesh\",\"China\",\"India\",\"Pakistan\",\"Portugal\",\"Turkiye\",\"Vietnam\",\"Morocco\",\"Poland\",\"Brazil\"],\"y\":[39.3,null,56.5,76.1,48.5,57.1,77.1,55.5,null,56.1],\"type\":\"bar\"},{\"marker\":{\"color\":\"steelblue\"},\"name\":\"Manufacture\",\"text\":[\"27.3\",\"nan\",\"27.6\",\"6.7\",\"11.2\",\"14.3\",\"5.9\",\"17.9\",\"nan\",\"8.4\"],\"textposition\":\"inside\",\"x\":[\"Bangladesh\",\"China\",\"India\",\"Pakistan\",\"Portugal\",\"Turkiye\",\"Vietnam\",\"Morocco\",\"Poland\",\"Brazil\"],\"y\":[27.3,null,27.6,6.7,11.2,14.3,5.9,17.9,null,8.4],\"type\":\"bar\"},{\"marker\":{\"color\":\"darkblue\"},\"name\":\"Services\",\"text\":[\"33.3\",\"nan\",\"10.4\",\"14.6\",\"33.3\",\"27.1\",\"16.2\",\"21.9\",\"nan\",\"35.6\"],\"textposition\":\"inside\",\"x\":[\"Bangladesh\",\"China\",\"India\",\"Pakistan\",\"Portugal\",\"Turkiye\",\"Vietnam\",\"Morocco\",\"Poland\",\"Brazil\"],\"y\":[33.3,null,10.4,14.6,33.3,27.1,16.2,21.9,null,35.6],\"type\":\"bar\"}],                        {\"template\":{\"data\":{\"histogram2dcontour\":[{\"type\":\"histogram2dcontour\",\"colorbar\":{\"outlinewidth\":0,\"ticks\":\"\"},\"colorscale\":[[0.0,\"#0d0887\"],[0.1111111111111111,\"#46039f\"],[0.2222222222222222,\"#7201a8\"],[0.3333333333333333,\"#9c179e\"],[0.4444444444444444,\"#bd3786\"],[0.5555555555555556,\"#d8576b\"],[0.6666666666666666,\"#ed7953\"],[0.7777777777777778,\"#fb9f3a\"],[0.8888888888888888,\"#fdca26\"],[1.0,\"#f0f921\"]]}],\"choropleth\":[{\"type\":\"choropleth\",\"colorbar\":{\"outlinewidth\":0,\"ticks\":\"\"}}],\"histogram2d\":[{\"type\":\"histogram2d\",\"colorbar\":{\"outlinewidth\":0,\"ticks\":\"\"},\"colorscale\":[[0.0,\"#0d0887\"],[0.1111111111111111,\"#46039f\"],[0.2222222222222222,\"#7201a8\"],[0.3333333333333333,\"#9c179e\"],[0.4444444444444444,\"#bd3786\"],[0.5555555555555556,\"#d8576b\"],[0.6666666666666666,\"#ed7953\"],[0.7777777777777778,\"#fb9f3a\"],[0.8888888888888888,\"#fdca26\"],[1.0,\"#f0f921\"]]}],\"heatmap\":[{\"type\":\"heatmap\",\"colorbar\":{\"outlinewidth\":0,\"ticks\":\"\"},\"colorscale\":[[0.0,\"#0d0887\"],[0.1111111111111111,\"#46039f\"],[0.2222222222222222,\"#7201a8\"],[0.3333333333333333,\"#9c179e\"],[0.4444444444444444,\"#bd3786\"],[0.5555555555555556,\"#d8576b\"],[0.6666666666666666,\"#ed7953\"],[0.7777777777777778,\"#fb9f3a\"],[0.8888888888888888,\"#fdca26\"],[1.0,\"#f0f921\"]]}],\"heatmapgl\":[{\"type\":\"heatmapgl\",\"colorbar\":{\"outlinewidth\":0,\"ticks\":\"\"},\"colorscale\":[[0.0,\"#0d0887\"],[0.1111111111111111,\"#46039f\"],[0.2222222222222222,\"#7201a8\"],[0.3333333333333333,\"#9c179e\"],[0.4444444444444444,\"#bd3786\"],[0.5555555555555556,\"#d8576b\"],[0.6666666666666666,\"#ed7953\"],[0.7777777777777778,\"#fb9f3a\"],[0.8888888888888888,\"#fdca26\"],[1.0,\"#f0f921\"]]}],\"contourcarpet\":[{\"type\":\"contourcarpet\",\"colorbar\":{\"outlinewidth\":0,\"ticks\":\"\"}}],\"contour\":[{\"type\":\"contour\",\"colorbar\":{\"outlinewidth\":0,\"ticks\":\"\"},\"colorscale\":[[0.0,\"#0d0887\"],[0.1111111111111111,\"#46039f\"],[0.2222222222222222,\"#7201a8\"],[0.3333333333333333,\"#9c179e\"],[0.4444444444444444,\"#bd3786\"],[0.5555555555555556,\"#d8576b\"],[0.6666666666666666,\"#ed7953\"],[0.7777777777777778,\"#fb9f3a\"],[0.8888888888888888,\"#fdca26\"],[1.0,\"#f0f921\"]]}],\"surface\":[{\"type\":\"surface\",\"colorbar\":{\"outlinewidth\":0,\"ticks\":\"\"},\"colorscale\":[[0.0,\"#0d0887\"],[0.1111111111111111,\"#46039f\"],[0.2222222222222222,\"#7201a8\"],[0.3333333333333333,\"#9c179e\"],[0.4444444444444444,\"#bd3786\"],[0.5555555555555556,\"#d8576b\"],[0.6666666666666666,\"#ed7953\"],[0.7777777777777778,\"#fb9f3a\"],[0.8888888888888888,\"#fdca26\"],[1.0,\"#f0f921\"]]}],\"mesh3d\":[{\"type\":\"mesh3d\",\"colorbar\":{\"outlinewidth\":0,\"ticks\":\"\"}}],\"scatter\":[{\"fillpattern\":{\"fillmode\":\"overlay\",\"size\":10,\"solidity\":0.2},\"type\":\"scatter\"}],\"parcoords\":[{\"type\":\"parcoords\",\"line\":{\"colorbar\":{\"outlinewidth\":0,\"ticks\":\"\"}}}],\"scatterpolargl\":[{\"type\":\"scatterpolargl\",\"marker\":{\"colorbar\":{\"outlinewidth\":0,\"ticks\":\"\"}}}],\"bar\":[{\"error_x\":{\"color\":\"#2a3f5f\"},\"error_y\":{\"color\":\"#2a3f5f\"},\"marker\":{\"line\":{\"color\":\"#E5ECF6\",\"width\":0.5},\"pattern\":{\"fillmode\":\"overlay\",\"size\":10,\"solidity\":0.2}},\"type\":\"bar\"}],\"scattergeo\":[{\"type\":\"scattergeo\",\"marker\":{\"colorbar\":{\"outlinewidth\":0,\"ticks\":\"\"}}}],\"scatterpolar\":[{\"type\":\"scatterpolar\",\"marker\":{\"colorbar\":{\"outlinewidth\":0,\"ticks\":\"\"}}}],\"histogram\":[{\"marker\":{\"pattern\":{\"fillmode\":\"overlay\",\"size\":10,\"solidity\":0.2}},\"type\":\"histogram\"}],\"scattergl\":[{\"type\":\"scattergl\",\"marker\":{\"colorbar\":{\"outlinewidth\":0,\"ticks\":\"\"}}}],\"scatter3d\":[{\"type\":\"scatter3d\",\"line\":{\"colorbar\":{\"outlinewidth\":0,\"ticks\":\"\"}},\"marker\":{\"colorbar\":{\"outlinewidth\":0,\"ticks\":\"\"}}}],\"scattermapbox\":[{\"type\":\"scattermapbox\",\"marker\":{\"colorbar\":{\"outlinewidth\":0,\"ticks\":\"\"}}}],\"scatterternary\":[{\"type\":\"scatterternary\",\"marker\":{\"colorbar\":{\"outlinewidth\":0,\"ticks\":\"\"}}}],\"scattercarpet\":[{\"type\":\"scattercarpet\",\"marker\":{\"colorbar\":{\"outlinewidth\":0,\"ticks\":\"\"}}}],\"carpet\":[{\"aaxis\":{\"endlinecolor\":\"#2a3f5f\",\"gridcolor\":\"white\",\"linecolor\":\"white\",\"minorgridcolor\":\"white\",\"startlinecolor\":\"#2a3f5f\"},\"baxis\":{\"endlinecolor\":\"#2a3f5f\",\"gridcolor\":\"white\",\"linecolor\":\"white\",\"minorgridcolor\":\"white\",\"startlinecolor\":\"#2a3f5f\"},\"type\":\"carpet\"}],\"table\":[{\"cells\":{\"fill\":{\"color\":\"#EBF0F8\"},\"line\":{\"color\":\"white\"}},\"header\":{\"fill\":{\"color\":\"#C8D4E3\"},\"line\":{\"color\":\"white\"}},\"type\":\"table\"}],\"barpolar\":[{\"marker\":{\"line\":{\"color\":\"#E5ECF6\",\"width\":0.5},\"pattern\":{\"fillmode\":\"overlay\",\"size\":10,\"solidity\":0.2}},\"type\":\"barpolar\"}],\"pie\":[{\"automargin\":true,\"type\":\"pie\"}]},\"layout\":{\"autotypenumbers\":\"strict\",\"colorway\":[\"#636efa\",\"#EF553B\",\"#00cc96\",\"#ab63fa\",\"#FFA15A\",\"#19d3f3\",\"#FF6692\",\"#B6E880\",\"#FF97FF\",\"#FECB52\"],\"font\":{\"color\":\"#2a3f5f\"},\"hovermode\":\"closest\",\"hoverlabel\":{\"align\":\"left\"},\"paper_bgcolor\":\"white\",\"plot_bgcolor\":\"#E5ECF6\",\"polar\":{\"bgcolor\":\"#E5ECF6\",\"angularaxis\":{\"gridcolor\":\"white\",\"linecolor\":\"white\",\"ticks\":\"\"},\"radialaxis\":{\"gridcolor\":\"white\",\"linecolor\":\"white\",\"ticks\":\"\"}},\"ternary\":{\"bgcolor\":\"#E5ECF6\",\"aaxis\":{\"gridcolor\":\"white\",\"linecolor\":\"white\",\"ticks\":\"\"},\"baxis\":{\"gridcolor\":\"white\",\"linecolor\":\"white\",\"ticks\":\"\"},\"caxis\":{\"gridcolor\":\"white\",\"linecolor\":\"white\",\"ticks\":\"\"}},\"coloraxis\":{\"colorbar\":{\"outlinewidth\":0,\"ticks\":\"\"}},\"colorscale\":{\"sequential\":[[0.0,\"#0d0887\"],[0.1111111111111111,\"#46039f\"],[0.2222222222222222,\"#7201a8\"],[0.3333333333333333,\"#9c179e\"],[0.4444444444444444,\"#bd3786\"],[0.5555555555555556,\"#d8576b\"],[0.6666666666666666,\"#ed7953\"],[0.7777777777777778,\"#fb9f3a\"],[0.8888888888888888,\"#fdca26\"],[1.0,\"#f0f921\"]],\"sequentialminus\":[[0.0,\"#0d0887\"],[0.1111111111111111,\"#46039f\"],[0.2222222222222222,\"#7201a8\"],[0.3333333333333333,\"#9c179e\"],[0.4444444444444444,\"#bd3786\"],[0.5555555555555556,\"#d8576b\"],[0.6666666666666666,\"#ed7953\"],[0.7777777777777778,\"#fb9f3a\"],[0.8888888888888888,\"#fdca26\"],[1.0,\"#f0f921\"]],\"diverging\":[[0,\"#8e0152\"],[0.1,\"#c51b7d\"],[0.2,\"#de77ae\"],[0.3,\"#f1b6da\"],[0.4,\"#fde0ef\"],[0.5,\"#f7f7f7\"],[0.6,\"#e6f5d0\"],[0.7,\"#b8e186\"],[0.8,\"#7fbc41\"],[0.9,\"#4d9221\"],[1,\"#276419\"]]},\"xaxis\":{\"gridcolor\":\"white\",\"linecolor\":\"white\",\"ticks\":\"\",\"title\":{\"standoff\":15},\"zerolinecolor\":\"white\",\"automargin\":true,\"zerolinewidth\":2},\"yaxis\":{\"gridcolor\":\"white\",\"linecolor\":\"white\",\"ticks\":\"\",\"title\":{\"standoff\":15},\"zerolinecolor\":\"white\",\"automargin\":true,\"zerolinewidth\":2},\"scene\":{\"xaxis\":{\"backgroundcolor\":\"#E5ECF6\",\"gridcolor\":\"white\",\"linecolor\":\"white\",\"showbackground\":true,\"ticks\":\"\",\"zerolinecolor\":\"white\",\"gridwidth\":2},\"yaxis\":{\"backgroundcolor\":\"#E5ECF6\",\"gridcolor\":\"white\",\"linecolor\":\"white\",\"showbackground\":true,\"ticks\":\"\",\"zerolinecolor\":\"white\",\"gridwidth\":2},\"zaxis\":{\"backgroundcolor\":\"#E5ECF6\",\"gridcolor\":\"white\",\"linecolor\":\"white\",\"showbackground\":true,\"ticks\":\"\",\"zerolinecolor\":\"white\",\"gridwidth\":2}},\"shapedefaults\":{\"line\":{\"color\":\"#2a3f5f\"}},\"annotationdefaults\":{\"arrowcolor\":\"#2a3f5f\",\"arrowhead\":0,\"arrowwidth\":1},\"geo\":{\"bgcolor\":\"white\",\"landcolor\":\"#E5ECF6\",\"subunitcolor\":\"white\",\"showland\":true,\"showlakes\":true,\"lakecolor\":\"white\"},\"title\":{\"x\":0.05},\"mapbox\":{\"style\":\"light\"}}},\"yaxis\":{\"showgrid\":true,\"gridcolor\":\"lightgray\",\"title\":{\"text\":\"% par rapport \\u00e0 la pop. d'enfants travailleurs\"}},\"title\":{\"text\":\"R\\u00e9partition des enfants travailleurs selon le secteur en 2020\"},\"barmode\":\"stack\",\"plot_bgcolor\":\"rgba(0,0,0,0)\"},                        {\"responsive\": true}                    ).then(function(){\n",
              "                            \n",
              "var gd = document.getElementById('00ef4944-78a8-4bdf-99ed-6490a79b863c');\n",
              "var x = new MutationObserver(function (mutations, observer) {{\n",
              "        var display = window.getComputedStyle(gd).display;\n",
              "        if (!display || display === 'none') {{\n",
              "            console.log([gd, 'removed!']);\n",
              "            Plotly.purge(gd);\n",
              "            observer.disconnect();\n",
              "        }}\n",
              "}});\n",
              "\n",
              "// Listen for the removal of the full notebook cells\n",
              "var notebookContainer = gd.closest('#notebook-container');\n",
              "if (notebookContainer) {{\n",
              "    x.observe(notebookContainer, {childList: true});\n",
              "}}\n",
              "\n",
              "// Listen for the clearing of the current output cell\n",
              "var outputEl = gd.closest('.output');\n",
              "if (outputEl) {{\n",
              "    x.observe(outputEl, {childList: true});\n",
              "}}\n",
              "\n",
              "                        })                };                            </script>        </div>\n",
              "</body>\n",
              "</html>"
            ]
          },
          "metadata": {}
        }
      ],
      "source": [
        "# visualisons cela sur un stacked bar\n",
        "y1 = [39.3, math.nan, 56.5, 76.1, 48.5, 57.1, 77.1, 55.5, math.nan, 56.1]\n",
        "y2 = [27.3, math.nan, 27.6, 6.7, 11.2, 14.3, 5.9, 17.9, math.nan, 8.4]\n",
        "y3 = [33.3, math.nan, 10.4, 14.6, 33.3, 27.1, 16.2, 21.9, math.nan, 35.6]\n",
        "\n",
        "trace_agriculture = go.Bar(name='Agriculture', x=df_countries_selected.index, y=df_countries_selected[\"Agriculture\"], text=y1, textposition='inside', marker_color='lightblue')\n",
        "trace_manufacture = go.Bar(name='Manufacture', x=df_countries_selected.index, y=df_countries_selected[\"Manufacturing\"], text=y2, textposition='inside', marker_color='steelblue')\n",
        "trace_services = go.Bar(name='Services', x=df_countries_selected.index, y=df_countries_selected[\"Services\"], text=y3, textposition='inside', marker_color='darkblue')\n",
        "\n",
        "stacked_bar_labor = go.Figure(data=[trace_agriculture, trace_manufacture, trace_services])\n",
        "stacked_bar_labor.update_layout(title=\"Répartition des enfants travailleurs selon le secteur en 2020\", barmode='stack', plot_bgcolor=\"rgba(0,0,0,0)\", yaxis=dict(showgrid=True, gridcolor='lightgray'), yaxis_title=\"% par rapport à la pop. d'enfants travailleurs\")\n",
        "stacked_bar_labor.show()"
      ]
    },
    {
      "cell_type": "markdown",
      "metadata": {
        "id": "RUsVDrpW-8Hd"
      },
      "source": [
        "C'est dans l'**agriculture** que la majorité des enfants travaillent, quel que soit le pays, puis dans la **manufacture** et les **services**. C'est l'**Inde** et le **Bangladesh** qui présentent le plus fort taux de travail des enfants dans l'industrie manufacturière (**27.6% et 27.3%** respectivement). Notons un biais dans les données présentées qui n'atteignent pas toutes la barre des 100% en terme de proportions, cela étant probablement dû à un biais d'arrondissement des données brutes, à moins qu'une catégorie soit manquante dans le dataset de départ (une catégorie 'Autres'). Nous avons tout de même privilégié cette représentation qui nous semble la plus visuelle."
      ]
    },
    {
      "cell_type": "markdown",
      "metadata": {
        "id": "raVqGvNhN_x5"
      },
      "source": [
        "Voyons maintenant la répartition d'enfants selon leur activité : travail uniquement ou activité mixte travail/école."
      ]
    },
    {
      "cell_type": "code",
      "execution_count": null,
      "metadata": {
        "colab": {
          "base_uri": "https://localhost:8080/",
          "height": 542
        },
        "id": "iQ05rHun7M_d",
        "outputId": "796fb8e8-4045-4ce1-ceb6-ea1ace4faa9e"
      },
      "outputs": [
        {
          "output_type": "display_data",
          "data": {
            "text/html": [
              "<html>\n",
              "<head><meta charset=\"utf-8\" /></head>\n",
              "<body>\n",
              "    <div>            <script src=\"https://cdnjs.cloudflare.com/ajax/libs/mathjax/2.7.5/MathJax.js?config=TeX-AMS-MML_SVG\"></script><script type=\"text/javascript\">if (window.MathJax && window.MathJax.Hub && window.MathJax.Hub.Config) {window.MathJax.Hub.Config({SVG: {font: \"STIX-Web\"}});}</script>                <script type=\"text/javascript\">window.PlotlyConfig = {MathJaxConfig: 'local'};</script>\n",
              "        <script src=\"https://cdn.plot.ly/plotly-2.18.2.min.js\"></script>                <div id=\"2e7a5f00-7dd6-4b0d-abab-2fbb9b0cc33d\" class=\"plotly-graph-div\" style=\"height:525px; width:100%;\"></div>            <script type=\"text/javascript\">                                    window.PLOTLYENV=window.PLOTLYENV || {};                                    if (document.getElementById(\"2e7a5f00-7dd6-4b0d-abab-2fbb9b0cc33d\")) {                    Plotly.newPlot(                        \"2e7a5f00-7dd6-4b0d-abab-2fbb9b0cc33d\",                        [{\"fill\":\"toself\",\"line\":{\"color\":\"steelblue\"},\"name\":\"Travail unique\",\"r\":[87.4,84.5,82.5,58.1,38.8,19.0,4.0,3.6,null,null],\"theta\":[\"Pakistan\",\"Morocco\",\"India\",\"Bangladesh\",\"Turkiye\",\"Vietnam\",\"Brazil\",\"Portugal\",\"China\",\"Poland\"],\"type\":\"scatterpolar\"},{\"fill\":\"toself\",\"line\":{\"color\":\"darkblue\"},\"name\":\"Travail et \\u00e9cole\",\"r\":[12.6,15.5,17.5,41.9,61.2,81.0,96.0,96.4,null,null],\"theta\":[\"Pakistan\",\"Morocco\",\"India\",\"Bangladesh\",\"Turkiye\",\"Vietnam\",\"Brazil\",\"Portugal\",\"China\",\"Poland\"],\"type\":\"scatterpolar\"},{\"marker\":{\"color\":\"red\",\"line\":{\"color\":\"black\",\"width\":2},\"size\":10},\"mode\":\"markers\",\"name\":\"Maroc\",\"r\":[84.5],\"theta\":[\"Morocco\"],\"type\":\"scatterpolar\"},{\"marker\":{\"color\":\"red\",\"line\":{\"color\":\"black\",\"width\":2},\"size\":10},\"mode\":\"markers\",\"name\":\"Pakistan\",\"r\":[87.4],\"theta\":[\"Pakistan\"],\"type\":\"scatterpolar\"}],                        {\"template\":{\"data\":{\"histogram2dcontour\":[{\"type\":\"histogram2dcontour\",\"colorbar\":{\"outlinewidth\":0,\"ticks\":\"\"},\"colorscale\":[[0.0,\"#0d0887\"],[0.1111111111111111,\"#46039f\"],[0.2222222222222222,\"#7201a8\"],[0.3333333333333333,\"#9c179e\"],[0.4444444444444444,\"#bd3786\"],[0.5555555555555556,\"#d8576b\"],[0.6666666666666666,\"#ed7953\"],[0.7777777777777778,\"#fb9f3a\"],[0.8888888888888888,\"#fdca26\"],[1.0,\"#f0f921\"]]}],\"choropleth\":[{\"type\":\"choropleth\",\"colorbar\":{\"outlinewidth\":0,\"ticks\":\"\"}}],\"histogram2d\":[{\"type\":\"histogram2d\",\"colorbar\":{\"outlinewidth\":0,\"ticks\":\"\"},\"colorscale\":[[0.0,\"#0d0887\"],[0.1111111111111111,\"#46039f\"],[0.2222222222222222,\"#7201a8\"],[0.3333333333333333,\"#9c179e\"],[0.4444444444444444,\"#bd3786\"],[0.5555555555555556,\"#d8576b\"],[0.6666666666666666,\"#ed7953\"],[0.7777777777777778,\"#fb9f3a\"],[0.8888888888888888,\"#fdca26\"],[1.0,\"#f0f921\"]]}],\"heatmap\":[{\"type\":\"heatmap\",\"colorbar\":{\"outlinewidth\":0,\"ticks\":\"\"},\"colorscale\":[[0.0,\"#0d0887\"],[0.1111111111111111,\"#46039f\"],[0.2222222222222222,\"#7201a8\"],[0.3333333333333333,\"#9c179e\"],[0.4444444444444444,\"#bd3786\"],[0.5555555555555556,\"#d8576b\"],[0.6666666666666666,\"#ed7953\"],[0.7777777777777778,\"#fb9f3a\"],[0.8888888888888888,\"#fdca26\"],[1.0,\"#f0f921\"]]}],\"heatmapgl\":[{\"type\":\"heatmapgl\",\"colorbar\":{\"outlinewidth\":0,\"ticks\":\"\"},\"colorscale\":[[0.0,\"#0d0887\"],[0.1111111111111111,\"#46039f\"],[0.2222222222222222,\"#7201a8\"],[0.3333333333333333,\"#9c179e\"],[0.4444444444444444,\"#bd3786\"],[0.5555555555555556,\"#d8576b\"],[0.6666666666666666,\"#ed7953\"],[0.7777777777777778,\"#fb9f3a\"],[0.8888888888888888,\"#fdca26\"],[1.0,\"#f0f921\"]]}],\"contourcarpet\":[{\"type\":\"contourcarpet\",\"colorbar\":{\"outlinewidth\":0,\"ticks\":\"\"}}],\"contour\":[{\"type\":\"contour\",\"colorbar\":{\"outlinewidth\":0,\"ticks\":\"\"},\"colorscale\":[[0.0,\"#0d0887\"],[0.1111111111111111,\"#46039f\"],[0.2222222222222222,\"#7201a8\"],[0.3333333333333333,\"#9c179e\"],[0.4444444444444444,\"#bd3786\"],[0.5555555555555556,\"#d8576b\"],[0.6666666666666666,\"#ed7953\"],[0.7777777777777778,\"#fb9f3a\"],[0.8888888888888888,\"#fdca26\"],[1.0,\"#f0f921\"]]}],\"surface\":[{\"type\":\"surface\",\"colorbar\":{\"outlinewidth\":0,\"ticks\":\"\"},\"colorscale\":[[0.0,\"#0d0887\"],[0.1111111111111111,\"#46039f\"],[0.2222222222222222,\"#7201a8\"],[0.3333333333333333,\"#9c179e\"],[0.4444444444444444,\"#bd3786\"],[0.5555555555555556,\"#d8576b\"],[0.6666666666666666,\"#ed7953\"],[0.7777777777777778,\"#fb9f3a\"],[0.8888888888888888,\"#fdca26\"],[1.0,\"#f0f921\"]]}],\"mesh3d\":[{\"type\":\"mesh3d\",\"colorbar\":{\"outlinewidth\":0,\"ticks\":\"\"}}],\"scatter\":[{\"fillpattern\":{\"fillmode\":\"overlay\",\"size\":10,\"solidity\":0.2},\"type\":\"scatter\"}],\"parcoords\":[{\"type\":\"parcoords\",\"line\":{\"colorbar\":{\"outlinewidth\":0,\"ticks\":\"\"}}}],\"scatterpolargl\":[{\"type\":\"scatterpolargl\",\"marker\":{\"colorbar\":{\"outlinewidth\":0,\"ticks\":\"\"}}}],\"bar\":[{\"error_x\":{\"color\":\"#2a3f5f\"},\"error_y\":{\"color\":\"#2a3f5f\"},\"marker\":{\"line\":{\"color\":\"#E5ECF6\",\"width\":0.5},\"pattern\":{\"fillmode\":\"overlay\",\"size\":10,\"solidity\":0.2}},\"type\":\"bar\"}],\"scattergeo\":[{\"type\":\"scattergeo\",\"marker\":{\"colorbar\":{\"outlinewidth\":0,\"ticks\":\"\"}}}],\"scatterpolar\":[{\"type\":\"scatterpolar\",\"marker\":{\"colorbar\":{\"outlinewidth\":0,\"ticks\":\"\"}}}],\"histogram\":[{\"marker\":{\"pattern\":{\"fillmode\":\"overlay\",\"size\":10,\"solidity\":0.2}},\"type\":\"histogram\"}],\"scattergl\":[{\"type\":\"scattergl\",\"marker\":{\"colorbar\":{\"outlinewidth\":0,\"ticks\":\"\"}}}],\"scatter3d\":[{\"type\":\"scatter3d\",\"line\":{\"colorbar\":{\"outlinewidth\":0,\"ticks\":\"\"}},\"marker\":{\"colorbar\":{\"outlinewidth\":0,\"ticks\":\"\"}}}],\"scattermapbox\":[{\"type\":\"scattermapbox\",\"marker\":{\"colorbar\":{\"outlinewidth\":0,\"ticks\":\"\"}}}],\"scatterternary\":[{\"type\":\"scatterternary\",\"marker\":{\"colorbar\":{\"outlinewidth\":0,\"ticks\":\"\"}}}],\"scattercarpet\":[{\"type\":\"scattercarpet\",\"marker\":{\"colorbar\":{\"outlinewidth\":0,\"ticks\":\"\"}}}],\"carpet\":[{\"aaxis\":{\"endlinecolor\":\"#2a3f5f\",\"gridcolor\":\"white\",\"linecolor\":\"white\",\"minorgridcolor\":\"white\",\"startlinecolor\":\"#2a3f5f\"},\"baxis\":{\"endlinecolor\":\"#2a3f5f\",\"gridcolor\":\"white\",\"linecolor\":\"white\",\"minorgridcolor\":\"white\",\"startlinecolor\":\"#2a3f5f\"},\"type\":\"carpet\"}],\"table\":[{\"cells\":{\"fill\":{\"color\":\"#EBF0F8\"},\"line\":{\"color\":\"white\"}},\"header\":{\"fill\":{\"color\":\"#C8D4E3\"},\"line\":{\"color\":\"white\"}},\"type\":\"table\"}],\"barpolar\":[{\"marker\":{\"line\":{\"color\":\"#E5ECF6\",\"width\":0.5},\"pattern\":{\"fillmode\":\"overlay\",\"size\":10,\"solidity\":0.2}},\"type\":\"barpolar\"}],\"pie\":[{\"automargin\":true,\"type\":\"pie\"}]},\"layout\":{\"autotypenumbers\":\"strict\",\"colorway\":[\"#636efa\",\"#EF553B\",\"#00cc96\",\"#ab63fa\",\"#FFA15A\",\"#19d3f3\",\"#FF6692\",\"#B6E880\",\"#FF97FF\",\"#FECB52\"],\"font\":{\"color\":\"#2a3f5f\"},\"hovermode\":\"closest\",\"hoverlabel\":{\"align\":\"left\"},\"paper_bgcolor\":\"white\",\"plot_bgcolor\":\"#E5ECF6\",\"polar\":{\"bgcolor\":\"#E5ECF6\",\"angularaxis\":{\"gridcolor\":\"white\",\"linecolor\":\"white\",\"ticks\":\"\"},\"radialaxis\":{\"gridcolor\":\"white\",\"linecolor\":\"white\",\"ticks\":\"\"}},\"ternary\":{\"bgcolor\":\"#E5ECF6\",\"aaxis\":{\"gridcolor\":\"white\",\"linecolor\":\"white\",\"ticks\":\"\"},\"baxis\":{\"gridcolor\":\"white\",\"linecolor\":\"white\",\"ticks\":\"\"},\"caxis\":{\"gridcolor\":\"white\",\"linecolor\":\"white\",\"ticks\":\"\"}},\"coloraxis\":{\"colorbar\":{\"outlinewidth\":0,\"ticks\":\"\"}},\"colorscale\":{\"sequential\":[[0.0,\"#0d0887\"],[0.1111111111111111,\"#46039f\"],[0.2222222222222222,\"#7201a8\"],[0.3333333333333333,\"#9c179e\"],[0.4444444444444444,\"#bd3786\"],[0.5555555555555556,\"#d8576b\"],[0.6666666666666666,\"#ed7953\"],[0.7777777777777778,\"#fb9f3a\"],[0.8888888888888888,\"#fdca26\"],[1.0,\"#f0f921\"]],\"sequentialminus\":[[0.0,\"#0d0887\"],[0.1111111111111111,\"#46039f\"],[0.2222222222222222,\"#7201a8\"],[0.3333333333333333,\"#9c179e\"],[0.4444444444444444,\"#bd3786\"],[0.5555555555555556,\"#d8576b\"],[0.6666666666666666,\"#ed7953\"],[0.7777777777777778,\"#fb9f3a\"],[0.8888888888888888,\"#fdca26\"],[1.0,\"#f0f921\"]],\"diverging\":[[0,\"#8e0152\"],[0.1,\"#c51b7d\"],[0.2,\"#de77ae\"],[0.3,\"#f1b6da\"],[0.4,\"#fde0ef\"],[0.5,\"#f7f7f7\"],[0.6,\"#e6f5d0\"],[0.7,\"#b8e186\"],[0.8,\"#7fbc41\"],[0.9,\"#4d9221\"],[1,\"#276419\"]]},\"xaxis\":{\"gridcolor\":\"white\",\"linecolor\":\"white\",\"ticks\":\"\",\"title\":{\"standoff\":15},\"zerolinecolor\":\"white\",\"automargin\":true,\"zerolinewidth\":2},\"yaxis\":{\"gridcolor\":\"white\",\"linecolor\":\"white\",\"ticks\":\"\",\"title\":{\"standoff\":15},\"zerolinecolor\":\"white\",\"automargin\":true,\"zerolinewidth\":2},\"scene\":{\"xaxis\":{\"backgroundcolor\":\"#E5ECF6\",\"gridcolor\":\"white\",\"linecolor\":\"white\",\"showbackground\":true,\"ticks\":\"\",\"zerolinecolor\":\"white\",\"gridwidth\":2},\"yaxis\":{\"backgroundcolor\":\"#E5ECF6\",\"gridcolor\":\"white\",\"linecolor\":\"white\",\"showbackground\":true,\"ticks\":\"\",\"zerolinecolor\":\"white\",\"gridwidth\":2},\"zaxis\":{\"backgroundcolor\":\"#E5ECF6\",\"gridcolor\":\"white\",\"linecolor\":\"white\",\"showbackground\":true,\"ticks\":\"\",\"zerolinecolor\":\"white\",\"gridwidth\":2}},\"shapedefaults\":{\"line\":{\"color\":\"#2a3f5f\"}},\"annotationdefaults\":{\"arrowcolor\":\"#2a3f5f\",\"arrowhead\":0,\"arrowwidth\":1},\"geo\":{\"bgcolor\":\"white\",\"landcolor\":\"#E5ECF6\",\"subunitcolor\":\"white\",\"showland\":true,\"showlakes\":true,\"lakecolor\":\"white\"},\"title\":{\"x\":0.05},\"mapbox\":{\"style\":\"light\"}}},\"polar\":{\"radialaxis\":{\"visible\":true,\"range\":[0,100]}},\"title\":{\"text\":\"R\\u00e9partition des enfants travailleurs selon une activit\\u00e9 unique ou mixte (en %)\"},\"plot_bgcolor\":\"white\"},                        {\"responsive\": true}                    ).then(function(){\n",
              "                            \n",
              "var gd = document.getElementById('2e7a5f00-7dd6-4b0d-abab-2fbb9b0cc33d');\n",
              "var x = new MutationObserver(function (mutations, observer) {{\n",
              "        var display = window.getComputedStyle(gd).display;\n",
              "        if (!display || display === 'none') {{\n",
              "            console.log([gd, 'removed!']);\n",
              "            Plotly.purge(gd);\n",
              "            observer.disconnect();\n",
              "        }}\n",
              "}});\n",
              "\n",
              "// Listen for the removal of the full notebook cells\n",
              "var notebookContainer = gd.closest('#notebook-container');\n",
              "if (notebookContainer) {{\n",
              "    x.observe(notebookContainer, {childList: true});\n",
              "}}\n",
              "\n",
              "// Listen for the clearing of the current output cell\n",
              "var outputEl = gd.closest('.output');\n",
              "if (outputEl) {{\n",
              "    x.observe(outputEl, {childList: true});\n",
              "}}\n",
              "\n",
              "                        })                };                            </script>        </div>\n",
              "</body>\n",
              "</html>"
            ]
          },
          "metadata": {}
        }
      ],
      "source": [
        "# réalisons un graphique en radar pour les répartitions d'activités\n",
        "df_countries_selected_sorted_labor = df_countries_selected.sort_values(by=['Work only'], ascending=False)\n",
        "\n",
        "morocco_index = df_countries_selected_sorted_labor.index.get_loc('Morocco') # renvoie l'index associé au pays dans le dataframe\n",
        "pakistan_index = df_countries_selected_sorted_labor.index.get_loc('Pakistan')\n",
        "\n",
        "labor_radar = go.Figure()\n",
        "labor_radar.add_trace(go.Scatterpolar(r=[df_countries_selected_sorted_labor[\"Work only\"][i] for i in range(len(df_countries_selected_sorted_labor))], theta=df_countries_selected_sorted_labor.index, fill='toself', name='Travail unique', line_color='steelblue'))\n",
        "labor_radar.add_trace(go.Scatterpolar(r=[df_countries_selected_sorted_labor[\"Study and work\"][i] for i in range(len(df_countries_selected_sorted_labor))], theta=df_countries_selected_sorted_labor.index, fill='toself', name='Travail et école', line_color='darkblue'))\n",
        "labor_radar.update_layout(title=\"Répartition des enfants travailleurs selon une activité unique ou mixte (en %)\", polar=dict(radialaxis=dict(visible=True, range=[0, 100])), plot_bgcolor=\"white\")\n",
        "\n",
        "# ajoutons des marqueurs pour le Maroc et le Pakistan\n",
        "labor_radar.add_trace(go.Scatterpolar(r=[df_countries_selected_sorted_labor[\"Work only\"][morocco_index]], theta=[df_countries_selected_sorted_labor.index[morocco_index]], mode='markers', name='Maroc', marker=dict(color='red', size=10, line=dict(color='black', width=2))))\n",
        "labor_radar.add_trace(go.Scatterpolar(r=[df_countries_selected_sorted_labor[\"Work only\"][pakistan_index]], theta=[df_countries_selected_sorted_labor.index[pakistan_index]], mode='markers', name='Pakistan', marker=dict(color='red', size=10, line=dict(color='black', width=2))))\n",
        "labor_radar.show()"
      ]
    },
    {
      "cell_type": "markdown",
      "metadata": {
        "id": "LgmzAxQ89xxq"
      },
      "source": [
        "Ce graphique en 'radar' représente la proportion d'enfants, parmi l'ensemble des enfants travailleurs, qui travaillent uniquement, et ceux qui travaillent et vont à l'école. Les valeurs sont situées sur les axes radiaux (échelle de 0 à 100%). Parmi les enfants travailleurs, nous observons que dans des pays comme le **Bangladesh**, le **Pakistan**, l'**Inde** et le **Maroc**, la majorité des enfants qui travaillent ne vont pas à l'école (respectivement **58.1%, 87.4%, 82.5% et 84.5%**). Nous avons pointé le Maroc et le Pakistan qui présentent les plus forts taux de travail unique. La tendance diffère pour le **Portugal**, la **Turquie**, le **Vietnam** et le **Brésil** (**respectivement 96.4%, 61.2%, 81% et 96%** des enfants vont à l'école en parallèle dans ces pays).</br></br>\n",
        "Nous pouvons conclure de ce tour d'horizon sur le travail des enfants, que les pays les plus producteurs de textile présentent encore actuellement des taux de travail infantile non négligeables, ce qui porte atteinte aux droits des enfants. Par ailleurs, la majorité des enfants ont le travail comme unique occupation et une minorité vont aussi à l'école.</br>\n",
        "Comme nous l'avons évoqué dans notre introduction, il existe dans ces pays une causalité circulaire entre diverses variables concernant la pauvreté et le travail forcé, celui des enfants en faisant partie. Même si ces phénomènes sont multifactoriels, il est intéressant pour nous de relever ici une sorte de contingence.</br></br>\n",
        "Nous avons évoqué à travers les sources mentionnées, que le travail infantile est le résultat de l'extrême pauvreté existant dans certains pays, obligeant les enfants à travailler pour apporter un revenu supplémentaire à leur famille. Observons les données sur la pauvreté pour comparer nos pays."
      ]
    },
    {
      "cell_type": "markdown",
      "metadata": {
        "id": "qkNMNYOzgNZ4"
      },
      "source": [
        "### Zoom sur la pauvreté"
      ]
    },
    {
      "cell_type": "code",
      "execution_count": null,
      "metadata": {
        "colab": {
          "base_uri": "https://localhost:8080/",
          "height": 542
        },
        "id": "O87hzgfDvVeW",
        "outputId": "75c70f8f-a034-4102-a8e9-ca577520d9dd"
      },
      "outputs": [
        {
          "output_type": "display_data",
          "data": {
            "text/html": [
              "<html>\n",
              "<head><meta charset=\"utf-8\" /></head>\n",
              "<body>\n",
              "    <div>            <script src=\"https://cdnjs.cloudflare.com/ajax/libs/mathjax/2.7.5/MathJax.js?config=TeX-AMS-MML_SVG\"></script><script type=\"text/javascript\">if (window.MathJax && window.MathJax.Hub && window.MathJax.Hub.Config) {window.MathJax.Hub.Config({SVG: {font: \"STIX-Web\"}});}</script>                <script type=\"text/javascript\">window.PlotlyConfig = {MathJaxConfig: 'local'};</script>\n",
              "        <script src=\"https://cdn.plot.ly/plotly-2.18.2.min.js\"></script>                <div id=\"923041bc-e23a-4512-b327-f7b4383da127\" class=\"plotly-graph-div\" style=\"height:525px; width:100%;\"></div>            <script type=\"text/javascript\">                                    window.PLOTLYENV=window.PLOTLYENV || {};                                    if (document.getElementById(\"923041bc-e23a-4512-b327-f7b4383da127\")) {                    Plotly.newPlot(                        \"923041bc-e23a-4512-b327-f7b4383da127\",                        [{\"fill\":\"toself\",\"line\":{\"color\":\"darkblue\"},\"name\":\"<2.15$/jr.\",\"r\":[13.5,4.9,10.0,1.4,5.8,0.1,0.7,0.4,0.5,0.1],\"theta\":[\"Bangladesh\",\"Pakistan\",\"India\",\"Morocco\",\"Brazil\",\"China\",\"Vietnam\",\"Turkiye\",\"Portugal\",\"Poland\"],\"type\":\"scatterpolar\"},{\"fill\":\"toself\",\"line\":{\"color\":\"steelblue\"},\"name\":\"<3.65$/jr.\",\"r\":[51.6,39.8,44.8,9.8,11.3,3.0,3.8,2.2,1.0,0.2],\"theta\":[\"Bangladesh\",\"Pakistan\",\"India\",\"Morocco\",\"Brazil\",\"China\",\"Vietnam\",\"Turkiye\",\"Portugal\",\"Poland\"],\"type\":\"scatterpolar\"},{\"fill\":\"toself\",\"line\":{\"color\":\"lightblue\"},\"name\":\"<6.85$/jr.\",\"r\":[86.9,84.5,83.8,42.1,28.4,24.7,18.7,12.6,2.6,0.8],\"theta\":[\"Bangladesh\",\"Pakistan\",\"India\",\"Morocco\",\"Brazil\",\"China\",\"Vietnam\",\"Turkiye\",\"Portugal\",\"Poland\"],\"type\":\"scatterpolar\"},{\"marker\":{\"color\":\"red\",\"line\":{\"color\":\"black\",\"width\":2},\"size\":10},\"mode\":\"markers\",\"name\":\"Inde\",\"r\":[83.8],\"theta\":[\"India\"],\"type\":\"scatterpolar\"},{\"marker\":{\"color\":\"red\",\"line\":{\"color\":\"black\",\"width\":2},\"size\":10},\"mode\":\"markers\",\"name\":\"Pakistan\",\"r\":[84.5],\"theta\":[\"Pakistan\"],\"type\":\"scatterpolar\"},{\"marker\":{\"color\":\"red\",\"line\":{\"color\":\"black\",\"width\":2},\"size\":10},\"mode\":\"markers\",\"name\":\"Bangladesh\",\"r\":[86.9],\"theta\":[\"Bangladesh\"],\"type\":\"scatterpolar\"}],                        {\"template\":{\"data\":{\"histogram2dcontour\":[{\"type\":\"histogram2dcontour\",\"colorbar\":{\"outlinewidth\":0,\"ticks\":\"\"},\"colorscale\":[[0.0,\"#0d0887\"],[0.1111111111111111,\"#46039f\"],[0.2222222222222222,\"#7201a8\"],[0.3333333333333333,\"#9c179e\"],[0.4444444444444444,\"#bd3786\"],[0.5555555555555556,\"#d8576b\"],[0.6666666666666666,\"#ed7953\"],[0.7777777777777778,\"#fb9f3a\"],[0.8888888888888888,\"#fdca26\"],[1.0,\"#f0f921\"]]}],\"choropleth\":[{\"type\":\"choropleth\",\"colorbar\":{\"outlinewidth\":0,\"ticks\":\"\"}}],\"histogram2d\":[{\"type\":\"histogram2d\",\"colorbar\":{\"outlinewidth\":0,\"ticks\":\"\"},\"colorscale\":[[0.0,\"#0d0887\"],[0.1111111111111111,\"#46039f\"],[0.2222222222222222,\"#7201a8\"],[0.3333333333333333,\"#9c179e\"],[0.4444444444444444,\"#bd3786\"],[0.5555555555555556,\"#d8576b\"],[0.6666666666666666,\"#ed7953\"],[0.7777777777777778,\"#fb9f3a\"],[0.8888888888888888,\"#fdca26\"],[1.0,\"#f0f921\"]]}],\"heatmap\":[{\"type\":\"heatmap\",\"colorbar\":{\"outlinewidth\":0,\"ticks\":\"\"},\"colorscale\":[[0.0,\"#0d0887\"],[0.1111111111111111,\"#46039f\"],[0.2222222222222222,\"#7201a8\"],[0.3333333333333333,\"#9c179e\"],[0.4444444444444444,\"#bd3786\"],[0.5555555555555556,\"#d8576b\"],[0.6666666666666666,\"#ed7953\"],[0.7777777777777778,\"#fb9f3a\"],[0.8888888888888888,\"#fdca26\"],[1.0,\"#f0f921\"]]}],\"heatmapgl\":[{\"type\":\"heatmapgl\",\"colorbar\":{\"outlinewidth\":0,\"ticks\":\"\"},\"colorscale\":[[0.0,\"#0d0887\"],[0.1111111111111111,\"#46039f\"],[0.2222222222222222,\"#7201a8\"],[0.3333333333333333,\"#9c179e\"],[0.4444444444444444,\"#bd3786\"],[0.5555555555555556,\"#d8576b\"],[0.6666666666666666,\"#ed7953\"],[0.7777777777777778,\"#fb9f3a\"],[0.8888888888888888,\"#fdca26\"],[1.0,\"#f0f921\"]]}],\"contourcarpet\":[{\"type\":\"contourcarpet\",\"colorbar\":{\"outlinewidth\":0,\"ticks\":\"\"}}],\"contour\":[{\"type\":\"contour\",\"colorbar\":{\"outlinewidth\":0,\"ticks\":\"\"},\"colorscale\":[[0.0,\"#0d0887\"],[0.1111111111111111,\"#46039f\"],[0.2222222222222222,\"#7201a8\"],[0.3333333333333333,\"#9c179e\"],[0.4444444444444444,\"#bd3786\"],[0.5555555555555556,\"#d8576b\"],[0.6666666666666666,\"#ed7953\"],[0.7777777777777778,\"#fb9f3a\"],[0.8888888888888888,\"#fdca26\"],[1.0,\"#f0f921\"]]}],\"surface\":[{\"type\":\"surface\",\"colorbar\":{\"outlinewidth\":0,\"ticks\":\"\"},\"colorscale\":[[0.0,\"#0d0887\"],[0.1111111111111111,\"#46039f\"],[0.2222222222222222,\"#7201a8\"],[0.3333333333333333,\"#9c179e\"],[0.4444444444444444,\"#bd3786\"],[0.5555555555555556,\"#d8576b\"],[0.6666666666666666,\"#ed7953\"],[0.7777777777777778,\"#fb9f3a\"],[0.8888888888888888,\"#fdca26\"],[1.0,\"#f0f921\"]]}],\"mesh3d\":[{\"type\":\"mesh3d\",\"colorbar\":{\"outlinewidth\":0,\"ticks\":\"\"}}],\"scatter\":[{\"fillpattern\":{\"fillmode\":\"overlay\",\"size\":10,\"solidity\":0.2},\"type\":\"scatter\"}],\"parcoords\":[{\"type\":\"parcoords\",\"line\":{\"colorbar\":{\"outlinewidth\":0,\"ticks\":\"\"}}}],\"scatterpolargl\":[{\"type\":\"scatterpolargl\",\"marker\":{\"colorbar\":{\"outlinewidth\":0,\"ticks\":\"\"}}}],\"bar\":[{\"error_x\":{\"color\":\"#2a3f5f\"},\"error_y\":{\"color\":\"#2a3f5f\"},\"marker\":{\"line\":{\"color\":\"#E5ECF6\",\"width\":0.5},\"pattern\":{\"fillmode\":\"overlay\",\"size\":10,\"solidity\":0.2}},\"type\":\"bar\"}],\"scattergeo\":[{\"type\":\"scattergeo\",\"marker\":{\"colorbar\":{\"outlinewidth\":0,\"ticks\":\"\"}}}],\"scatterpolar\":[{\"type\":\"scatterpolar\",\"marker\":{\"colorbar\":{\"outlinewidth\":0,\"ticks\":\"\"}}}],\"histogram\":[{\"marker\":{\"pattern\":{\"fillmode\":\"overlay\",\"size\":10,\"solidity\":0.2}},\"type\":\"histogram\"}],\"scattergl\":[{\"type\":\"scattergl\",\"marker\":{\"colorbar\":{\"outlinewidth\":0,\"ticks\":\"\"}}}],\"scatter3d\":[{\"type\":\"scatter3d\",\"line\":{\"colorbar\":{\"outlinewidth\":0,\"ticks\":\"\"}},\"marker\":{\"colorbar\":{\"outlinewidth\":0,\"ticks\":\"\"}}}],\"scattermapbox\":[{\"type\":\"scattermapbox\",\"marker\":{\"colorbar\":{\"outlinewidth\":0,\"ticks\":\"\"}}}],\"scatterternary\":[{\"type\":\"scatterternary\",\"marker\":{\"colorbar\":{\"outlinewidth\":0,\"ticks\":\"\"}}}],\"scattercarpet\":[{\"type\":\"scattercarpet\",\"marker\":{\"colorbar\":{\"outlinewidth\":0,\"ticks\":\"\"}}}],\"carpet\":[{\"aaxis\":{\"endlinecolor\":\"#2a3f5f\",\"gridcolor\":\"white\",\"linecolor\":\"white\",\"minorgridcolor\":\"white\",\"startlinecolor\":\"#2a3f5f\"},\"baxis\":{\"endlinecolor\":\"#2a3f5f\",\"gridcolor\":\"white\",\"linecolor\":\"white\",\"minorgridcolor\":\"white\",\"startlinecolor\":\"#2a3f5f\"},\"type\":\"carpet\"}],\"table\":[{\"cells\":{\"fill\":{\"color\":\"#EBF0F8\"},\"line\":{\"color\":\"white\"}},\"header\":{\"fill\":{\"color\":\"#C8D4E3\"},\"line\":{\"color\":\"white\"}},\"type\":\"table\"}],\"barpolar\":[{\"marker\":{\"line\":{\"color\":\"#E5ECF6\",\"width\":0.5},\"pattern\":{\"fillmode\":\"overlay\",\"size\":10,\"solidity\":0.2}},\"type\":\"barpolar\"}],\"pie\":[{\"automargin\":true,\"type\":\"pie\"}]},\"layout\":{\"autotypenumbers\":\"strict\",\"colorway\":[\"#636efa\",\"#EF553B\",\"#00cc96\",\"#ab63fa\",\"#FFA15A\",\"#19d3f3\",\"#FF6692\",\"#B6E880\",\"#FF97FF\",\"#FECB52\"],\"font\":{\"color\":\"#2a3f5f\"},\"hovermode\":\"closest\",\"hoverlabel\":{\"align\":\"left\"},\"paper_bgcolor\":\"white\",\"plot_bgcolor\":\"#E5ECF6\",\"polar\":{\"bgcolor\":\"#E5ECF6\",\"angularaxis\":{\"gridcolor\":\"white\",\"linecolor\":\"white\",\"ticks\":\"\"},\"radialaxis\":{\"gridcolor\":\"white\",\"linecolor\":\"white\",\"ticks\":\"\"}},\"ternary\":{\"bgcolor\":\"#E5ECF6\",\"aaxis\":{\"gridcolor\":\"white\",\"linecolor\":\"white\",\"ticks\":\"\"},\"baxis\":{\"gridcolor\":\"white\",\"linecolor\":\"white\",\"ticks\":\"\"},\"caxis\":{\"gridcolor\":\"white\",\"linecolor\":\"white\",\"ticks\":\"\"}},\"coloraxis\":{\"colorbar\":{\"outlinewidth\":0,\"ticks\":\"\"}},\"colorscale\":{\"sequential\":[[0.0,\"#0d0887\"],[0.1111111111111111,\"#46039f\"],[0.2222222222222222,\"#7201a8\"],[0.3333333333333333,\"#9c179e\"],[0.4444444444444444,\"#bd3786\"],[0.5555555555555556,\"#d8576b\"],[0.6666666666666666,\"#ed7953\"],[0.7777777777777778,\"#fb9f3a\"],[0.8888888888888888,\"#fdca26\"],[1.0,\"#f0f921\"]],\"sequentialminus\":[[0.0,\"#0d0887\"],[0.1111111111111111,\"#46039f\"],[0.2222222222222222,\"#7201a8\"],[0.3333333333333333,\"#9c179e\"],[0.4444444444444444,\"#bd3786\"],[0.5555555555555556,\"#d8576b\"],[0.6666666666666666,\"#ed7953\"],[0.7777777777777778,\"#fb9f3a\"],[0.8888888888888888,\"#fdca26\"],[1.0,\"#f0f921\"]],\"diverging\":[[0,\"#8e0152\"],[0.1,\"#c51b7d\"],[0.2,\"#de77ae\"],[0.3,\"#f1b6da\"],[0.4,\"#fde0ef\"],[0.5,\"#f7f7f7\"],[0.6,\"#e6f5d0\"],[0.7,\"#b8e186\"],[0.8,\"#7fbc41\"],[0.9,\"#4d9221\"],[1,\"#276419\"]]},\"xaxis\":{\"gridcolor\":\"white\",\"linecolor\":\"white\",\"ticks\":\"\",\"title\":{\"standoff\":15},\"zerolinecolor\":\"white\",\"automargin\":true,\"zerolinewidth\":2},\"yaxis\":{\"gridcolor\":\"white\",\"linecolor\":\"white\",\"ticks\":\"\",\"title\":{\"standoff\":15},\"zerolinecolor\":\"white\",\"automargin\":true,\"zerolinewidth\":2},\"scene\":{\"xaxis\":{\"backgroundcolor\":\"#E5ECF6\",\"gridcolor\":\"white\",\"linecolor\":\"white\",\"showbackground\":true,\"ticks\":\"\",\"zerolinecolor\":\"white\",\"gridwidth\":2},\"yaxis\":{\"backgroundcolor\":\"#E5ECF6\",\"gridcolor\":\"white\",\"linecolor\":\"white\",\"showbackground\":true,\"ticks\":\"\",\"zerolinecolor\":\"white\",\"gridwidth\":2},\"zaxis\":{\"backgroundcolor\":\"#E5ECF6\",\"gridcolor\":\"white\",\"linecolor\":\"white\",\"showbackground\":true,\"ticks\":\"\",\"zerolinecolor\":\"white\",\"gridwidth\":2}},\"shapedefaults\":{\"line\":{\"color\":\"#2a3f5f\"}},\"annotationdefaults\":{\"arrowcolor\":\"#2a3f5f\",\"arrowhead\":0,\"arrowwidth\":1},\"geo\":{\"bgcolor\":\"white\",\"landcolor\":\"#E5ECF6\",\"subunitcolor\":\"white\",\"showland\":true,\"showlakes\":true,\"lakecolor\":\"white\"},\"title\":{\"x\":0.05},\"mapbox\":{\"style\":\"light\"}}},\"polar\":{\"radialaxis\":{\"visible\":true,\"range\":[0,100]}},\"title\":{\"text\":\"Taux de pauvret\\u00e9 selon trois seuils (en % de la pop. totale)\"},\"plot_bgcolor\":\"white\"},                        {\"responsive\": true}                    ).then(function(){\n",
              "                            \n",
              "var gd = document.getElementById('923041bc-e23a-4512-b327-f7b4383da127');\n",
              "var x = new MutationObserver(function (mutations, observer) {{\n",
              "        var display = window.getComputedStyle(gd).display;\n",
              "        if (!display || display === 'none') {{\n",
              "            console.log([gd, 'removed!']);\n",
              "            Plotly.purge(gd);\n",
              "            observer.disconnect();\n",
              "        }}\n",
              "}});\n",
              "\n",
              "// Listen for the removal of the full notebook cells\n",
              "var notebookContainer = gd.closest('#notebook-container');\n",
              "if (notebookContainer) {{\n",
              "    x.observe(notebookContainer, {childList: true});\n",
              "}}\n",
              "\n",
              "// Listen for the clearing of the current output cell\n",
              "var outputEl = gd.closest('.output');\n",
              "if (outputEl) {{\n",
              "    x.observe(outputEl, {childList: true});\n",
              "}}\n",
              "\n",
              "                        })                };                            </script>        </div>\n",
              "</body>\n",
              "</html>"
            ]
          },
          "metadata": {}
        }
      ],
      "source": [
        "# réalisons un graphique en radar sur la pauvreté\n",
        "df_countries_selected_sorted_poverty = df_countries_selected.sort_values(by=[\"Pop. < 6.85$ / jour\"], ascending=False)\n",
        "\n",
        "india_index = df_countries_selected_sorted_poverty.index.get_loc('India')\n",
        "pakistan_index = df_countries_selected_sorted_poverty.index.get_loc('Pakistan')\n",
        "bangladesh_index = df_countries_selected_sorted_poverty.index.get_loc('Bangladesh')\n",
        "\n",
        "poverty_radar = go.Figure()\n",
        "poverty_radar.add_trace(go.Scatterpolar(r=[df_countries_selected_sorted_poverty[\"Pop. < 2.15$ / jour\"][i] for i in range(len(df_countries_selected_sorted_poverty))], theta=df_countries_selected_sorted_poverty.index, fill='toself', name='<2.15$/jr.', line_color='darkblue'))\n",
        "poverty_radar.add_trace(go.Scatterpolar(r=[df_countries_selected_sorted_poverty[\"Pop. < 3.65$ / jour\"][i] for i in range(len(df_countries_selected_sorted_poverty))], theta=df_countries_selected_sorted_poverty.index, fill='toself', name='<3.65$/jr.', line_color='steelblue'))\n",
        "poverty_radar.add_trace(go.Scatterpolar(r=[df_countries_selected_sorted_poverty[\"Pop. < 6.85$ / jour\"][i] for i in range(len(df_countries_selected_sorted_poverty))], theta=df_countries_selected_sorted_poverty.index, fill='toself', name='<6.85$/jr.', line_color='lightblue'))\n",
        "poverty_radar.update_layout(title=\"Taux de pauvreté selon trois seuils (en % de la pop. totale)\", polar=dict(radialaxis=dict(visible=True, range=[0, 100])), plot_bgcolor=\"white\")\n",
        "poverty_radar.add_trace(go.Scatterpolar(r=[df_countries_selected_sorted_poverty[\"Pop. < 6.85$ / jour\"][india_index]], theta=[df_countries_selected_sorted_poverty.index[india_index]], mode='markers', name='Inde', marker=dict(color='red', size=10, line=dict(color='black', width=2))))\n",
        "poverty_radar.add_trace(go.Scatterpolar(r=[df_countries_selected_sorted_poverty[\"Pop. < 6.85$ / jour\"][pakistan_index]], theta=[df_countries_selected_sorted_poverty.index[pakistan_index]], mode='markers', name='Pakistan', marker=dict(color='red', size=10, line=dict(color='black', width=2))))\n",
        "poverty_radar.add_trace(go.Scatterpolar(r=[df_countries_selected_sorted_poverty[\"Pop. < 6.85$ / jour\"][bangladesh_index]], theta=[df_countries_selected_sorted_poverty.index[bangladesh_index]], mode='markers', name='Bangladesh', marker=dict(color='red', size=10, line=dict(color='black', width=2))))\n",
        "poverty_radar.show()"
      ]
    },
    {
      "cell_type": "markdown",
      "metadata": {
        "id": "XQOB9pgHxX9d"
      },
      "source": [
        "Ce graphique en radar présente les taux de pauvreté selon différents seuils pour les pays sélectionnés. Les axes radiaux représentent les seuils de pauvreté, allant du seuil le plus bas (moins de 2.15 dollars par jour) au seuil le plus élevé (moins de 6.85 dollars par jour). Ce qui est intéressant et flagrant à observer sur ce radar, c'est que les 3 premiers pays producteurs de textile chez Vertbaudet (**Bangladesh, Inde, Pakistan**) sont encore une fois regroupés, ce sont eux qui concentrent le plus de populations pauvres."
      ]
    },
    {
      "cell_type": "markdown",
      "metadata": {
        "id": "gqyUzgadhHAf"
      },
      "source": [
        "### Zoom sur l'accès à l'eau potable"
      ]
    },
    {
      "cell_type": "markdown",
      "metadata": {
        "id": "i-kBVwE-BDSg"
      },
      "source": [
        "L'industrie du textile et en particulier la fast fashion consomme énormément d'eau ; nous souhaiterions savoir si les populations (donc, les enfants) vivant dans les pays de fabrication ont des difficultés d'accès à l'eau potable, comparativement à d'autres pays."
      ]
    },
    {
      "cell_type": "code",
      "execution_count": null,
      "metadata": {
        "colab": {
          "base_uri": "https://localhost:8080/",
          "height": 542
        },
        "id": "AfpM3guBHW6O",
        "outputId": "a73c27ba-b176-47dc-e943-1df6caf3e94c"
      },
      "outputs": [
        {
          "output_type": "display_data",
          "data": {
            "text/html": [
              "<html>\n",
              "<head><meta charset=\"utf-8\" /></head>\n",
              "<body>\n",
              "    <div>            <script src=\"https://cdnjs.cloudflare.com/ajax/libs/mathjax/2.7.5/MathJax.js?config=TeX-AMS-MML_SVG\"></script><script type=\"text/javascript\">if (window.MathJax && window.MathJax.Hub && window.MathJax.Hub.Config) {window.MathJax.Hub.Config({SVG: {font: \"STIX-Web\"}});}</script>                <script type=\"text/javascript\">window.PlotlyConfig = {MathJaxConfig: 'local'};</script>\n",
              "        <script src=\"https://cdn.plot.ly/plotly-2.18.2.min.js\"></script>                <div id=\"4d85b9d1-7fc7-48a5-b267-ad980e1e5dd1\" class=\"plotly-graph-div\" style=\"height:525px; width:100%;\"></div>            <script type=\"text/javascript\">                                    window.PLOTLYENV=window.PLOTLYENV || {};                                    if (document.getElementById(\"4d85b9d1-7fc7-48a5-b267-ad980e1e5dd1\")) {                    Plotly.newPlot(                        \"4d85b9d1-7fc7-48a5-b267-ad980e1e5dd1\",                        [{\"marker\":{\"color\":\"lightblue\"},\"name\":\"Eau disponible\",\"offsetgroup\":\"1\",\"text\":[105.0,2812.9,1146.0,55.0,38.0,227.0,359.4,29.0,53.6,5661.0],\"textposition\":\"outside\",\"x\":[\"Bangladesh\",\"China\",\"India\",\"Pakistan\",\"Portugal\",\"Turkiye\",\"Vietnam\",\"Morocco\",\"Poland\",\"Brazil\"],\"y\":[105.0,2812.9,1146.0,55.0,38.0,227.0,359.4,29.0,53.6,5661.0],\"yaxis\":\"y\",\"type\":\"bar\"},{\"marker\":{\"color\":\"steelblue\"},\"name\":\"Eau pr\\u00e9lev\\u00e9e\",\"offsetgroup\":\"2\",\"text\":[35.9,591.8,647.5,177.1,6.1,61.5,81.9,10.6,9.0,70.4],\"textposition\":\"outside\",\"x\":[\"Bangladesh\",\"China\",\"India\",\"Pakistan\",\"Portugal\",\"Turkiye\",\"Vietnam\",\"Morocco\",\"Poland\",\"Brazil\"],\"y\":[35.9,591.8,647.5,177.1,6.1,61.5,81.9,10.6,9.0,70.4],\"yaxis\":\"y\",\"type\":\"bar\"}],                        {\"template\":{\"data\":{\"histogram2dcontour\":[{\"type\":\"histogram2dcontour\",\"colorbar\":{\"outlinewidth\":0,\"ticks\":\"\"},\"colorscale\":[[0.0,\"#0d0887\"],[0.1111111111111111,\"#46039f\"],[0.2222222222222222,\"#7201a8\"],[0.3333333333333333,\"#9c179e\"],[0.4444444444444444,\"#bd3786\"],[0.5555555555555556,\"#d8576b\"],[0.6666666666666666,\"#ed7953\"],[0.7777777777777778,\"#fb9f3a\"],[0.8888888888888888,\"#fdca26\"],[1.0,\"#f0f921\"]]}],\"choropleth\":[{\"type\":\"choropleth\",\"colorbar\":{\"outlinewidth\":0,\"ticks\":\"\"}}],\"histogram2d\":[{\"type\":\"histogram2d\",\"colorbar\":{\"outlinewidth\":0,\"ticks\":\"\"},\"colorscale\":[[0.0,\"#0d0887\"],[0.1111111111111111,\"#46039f\"],[0.2222222222222222,\"#7201a8\"],[0.3333333333333333,\"#9c179e\"],[0.4444444444444444,\"#bd3786\"],[0.5555555555555556,\"#d8576b\"],[0.6666666666666666,\"#ed7953\"],[0.7777777777777778,\"#fb9f3a\"],[0.8888888888888888,\"#fdca26\"],[1.0,\"#f0f921\"]]}],\"heatmap\":[{\"type\":\"heatmap\",\"colorbar\":{\"outlinewidth\":0,\"ticks\":\"\"},\"colorscale\":[[0.0,\"#0d0887\"],[0.1111111111111111,\"#46039f\"],[0.2222222222222222,\"#7201a8\"],[0.3333333333333333,\"#9c179e\"],[0.4444444444444444,\"#bd3786\"],[0.5555555555555556,\"#d8576b\"],[0.6666666666666666,\"#ed7953\"],[0.7777777777777778,\"#fb9f3a\"],[0.8888888888888888,\"#fdca26\"],[1.0,\"#f0f921\"]]}],\"heatmapgl\":[{\"type\":\"heatmapgl\",\"colorbar\":{\"outlinewidth\":0,\"ticks\":\"\"},\"colorscale\":[[0.0,\"#0d0887\"],[0.1111111111111111,\"#46039f\"],[0.2222222222222222,\"#7201a8\"],[0.3333333333333333,\"#9c179e\"],[0.4444444444444444,\"#bd3786\"],[0.5555555555555556,\"#d8576b\"],[0.6666666666666666,\"#ed7953\"],[0.7777777777777778,\"#fb9f3a\"],[0.8888888888888888,\"#fdca26\"],[1.0,\"#f0f921\"]]}],\"contourcarpet\":[{\"type\":\"contourcarpet\",\"colorbar\":{\"outlinewidth\":0,\"ticks\":\"\"}}],\"contour\":[{\"type\":\"contour\",\"colorbar\":{\"outlinewidth\":0,\"ticks\":\"\"},\"colorscale\":[[0.0,\"#0d0887\"],[0.1111111111111111,\"#46039f\"],[0.2222222222222222,\"#7201a8\"],[0.3333333333333333,\"#9c179e\"],[0.4444444444444444,\"#bd3786\"],[0.5555555555555556,\"#d8576b\"],[0.6666666666666666,\"#ed7953\"],[0.7777777777777778,\"#fb9f3a\"],[0.8888888888888888,\"#fdca26\"],[1.0,\"#f0f921\"]]}],\"surface\":[{\"type\":\"surface\",\"colorbar\":{\"outlinewidth\":0,\"ticks\":\"\"},\"colorscale\":[[0.0,\"#0d0887\"],[0.1111111111111111,\"#46039f\"],[0.2222222222222222,\"#7201a8\"],[0.3333333333333333,\"#9c179e\"],[0.4444444444444444,\"#bd3786\"],[0.5555555555555556,\"#d8576b\"],[0.6666666666666666,\"#ed7953\"],[0.7777777777777778,\"#fb9f3a\"],[0.8888888888888888,\"#fdca26\"],[1.0,\"#f0f921\"]]}],\"mesh3d\":[{\"type\":\"mesh3d\",\"colorbar\":{\"outlinewidth\":0,\"ticks\":\"\"}}],\"scatter\":[{\"fillpattern\":{\"fillmode\":\"overlay\",\"size\":10,\"solidity\":0.2},\"type\":\"scatter\"}],\"parcoords\":[{\"type\":\"parcoords\",\"line\":{\"colorbar\":{\"outlinewidth\":0,\"ticks\":\"\"}}}],\"scatterpolargl\":[{\"type\":\"scatterpolargl\",\"marker\":{\"colorbar\":{\"outlinewidth\":0,\"ticks\":\"\"}}}],\"bar\":[{\"error_x\":{\"color\":\"#2a3f5f\"},\"error_y\":{\"color\":\"#2a3f5f\"},\"marker\":{\"line\":{\"color\":\"#E5ECF6\",\"width\":0.5},\"pattern\":{\"fillmode\":\"overlay\",\"size\":10,\"solidity\":0.2}},\"type\":\"bar\"}],\"scattergeo\":[{\"type\":\"scattergeo\",\"marker\":{\"colorbar\":{\"outlinewidth\":0,\"ticks\":\"\"}}}],\"scatterpolar\":[{\"type\":\"scatterpolar\",\"marker\":{\"colorbar\":{\"outlinewidth\":0,\"ticks\":\"\"}}}],\"histogram\":[{\"marker\":{\"pattern\":{\"fillmode\":\"overlay\",\"size\":10,\"solidity\":0.2}},\"type\":\"histogram\"}],\"scattergl\":[{\"type\":\"scattergl\",\"marker\":{\"colorbar\":{\"outlinewidth\":0,\"ticks\":\"\"}}}],\"scatter3d\":[{\"type\":\"scatter3d\",\"line\":{\"colorbar\":{\"outlinewidth\":0,\"ticks\":\"\"}},\"marker\":{\"colorbar\":{\"outlinewidth\":0,\"ticks\":\"\"}}}],\"scattermapbox\":[{\"type\":\"scattermapbox\",\"marker\":{\"colorbar\":{\"outlinewidth\":0,\"ticks\":\"\"}}}],\"scatterternary\":[{\"type\":\"scatterternary\",\"marker\":{\"colorbar\":{\"outlinewidth\":0,\"ticks\":\"\"}}}],\"scattercarpet\":[{\"type\":\"scattercarpet\",\"marker\":{\"colorbar\":{\"outlinewidth\":0,\"ticks\":\"\"}}}],\"carpet\":[{\"aaxis\":{\"endlinecolor\":\"#2a3f5f\",\"gridcolor\":\"white\",\"linecolor\":\"white\",\"minorgridcolor\":\"white\",\"startlinecolor\":\"#2a3f5f\"},\"baxis\":{\"endlinecolor\":\"#2a3f5f\",\"gridcolor\":\"white\",\"linecolor\":\"white\",\"minorgridcolor\":\"white\",\"startlinecolor\":\"#2a3f5f\"},\"type\":\"carpet\"}],\"table\":[{\"cells\":{\"fill\":{\"color\":\"#EBF0F8\"},\"line\":{\"color\":\"white\"}},\"header\":{\"fill\":{\"color\":\"#C8D4E3\"},\"line\":{\"color\":\"white\"}},\"type\":\"table\"}],\"barpolar\":[{\"marker\":{\"line\":{\"color\":\"#E5ECF6\",\"width\":0.5},\"pattern\":{\"fillmode\":\"overlay\",\"size\":10,\"solidity\":0.2}},\"type\":\"barpolar\"}],\"pie\":[{\"automargin\":true,\"type\":\"pie\"}]},\"layout\":{\"autotypenumbers\":\"strict\",\"colorway\":[\"#636efa\",\"#EF553B\",\"#00cc96\",\"#ab63fa\",\"#FFA15A\",\"#19d3f3\",\"#FF6692\",\"#B6E880\",\"#FF97FF\",\"#FECB52\"],\"font\":{\"color\":\"#2a3f5f\"},\"hovermode\":\"closest\",\"hoverlabel\":{\"align\":\"left\"},\"paper_bgcolor\":\"white\",\"plot_bgcolor\":\"#E5ECF6\",\"polar\":{\"bgcolor\":\"#E5ECF6\",\"angularaxis\":{\"gridcolor\":\"white\",\"linecolor\":\"white\",\"ticks\":\"\"},\"radialaxis\":{\"gridcolor\":\"white\",\"linecolor\":\"white\",\"ticks\":\"\"}},\"ternary\":{\"bgcolor\":\"#E5ECF6\",\"aaxis\":{\"gridcolor\":\"white\",\"linecolor\":\"white\",\"ticks\":\"\"},\"baxis\":{\"gridcolor\":\"white\",\"linecolor\":\"white\",\"ticks\":\"\"},\"caxis\":{\"gridcolor\":\"white\",\"linecolor\":\"white\",\"ticks\":\"\"}},\"coloraxis\":{\"colorbar\":{\"outlinewidth\":0,\"ticks\":\"\"}},\"colorscale\":{\"sequential\":[[0.0,\"#0d0887\"],[0.1111111111111111,\"#46039f\"],[0.2222222222222222,\"#7201a8\"],[0.3333333333333333,\"#9c179e\"],[0.4444444444444444,\"#bd3786\"],[0.5555555555555556,\"#d8576b\"],[0.6666666666666666,\"#ed7953\"],[0.7777777777777778,\"#fb9f3a\"],[0.8888888888888888,\"#fdca26\"],[1.0,\"#f0f921\"]],\"sequentialminus\":[[0.0,\"#0d0887\"],[0.1111111111111111,\"#46039f\"],[0.2222222222222222,\"#7201a8\"],[0.3333333333333333,\"#9c179e\"],[0.4444444444444444,\"#bd3786\"],[0.5555555555555556,\"#d8576b\"],[0.6666666666666666,\"#ed7953\"],[0.7777777777777778,\"#fb9f3a\"],[0.8888888888888888,\"#fdca26\"],[1.0,\"#f0f921\"]],\"diverging\":[[0,\"#8e0152\"],[0.1,\"#c51b7d\"],[0.2,\"#de77ae\"],[0.3,\"#f1b6da\"],[0.4,\"#fde0ef\"],[0.5,\"#f7f7f7\"],[0.6,\"#e6f5d0\"],[0.7,\"#b8e186\"],[0.8,\"#7fbc41\"],[0.9,\"#4d9221\"],[1,\"#276419\"]]},\"xaxis\":{\"gridcolor\":\"white\",\"linecolor\":\"white\",\"ticks\":\"\",\"title\":{\"standoff\":15},\"zerolinecolor\":\"white\",\"automargin\":true,\"zerolinewidth\":2},\"yaxis\":{\"gridcolor\":\"white\",\"linecolor\":\"white\",\"ticks\":\"\",\"title\":{\"standoff\":15},\"zerolinecolor\":\"white\",\"automargin\":true,\"zerolinewidth\":2},\"scene\":{\"xaxis\":{\"backgroundcolor\":\"#E5ECF6\",\"gridcolor\":\"white\",\"linecolor\":\"white\",\"showbackground\":true,\"ticks\":\"\",\"zerolinecolor\":\"white\",\"gridwidth\":2},\"yaxis\":{\"backgroundcolor\":\"#E5ECF6\",\"gridcolor\":\"white\",\"linecolor\":\"white\",\"showbackground\":true,\"ticks\":\"\",\"zerolinecolor\":\"white\",\"gridwidth\":2},\"zaxis\":{\"backgroundcolor\":\"#E5ECF6\",\"gridcolor\":\"white\",\"linecolor\":\"white\",\"showbackground\":true,\"ticks\":\"\",\"zerolinecolor\":\"white\",\"gridwidth\":2}},\"shapedefaults\":{\"line\":{\"color\":\"#2a3f5f\"}},\"annotationdefaults\":{\"arrowcolor\":\"#2a3f5f\",\"arrowhead\":0,\"arrowwidth\":1},\"geo\":{\"bgcolor\":\"white\",\"landcolor\":\"#E5ECF6\",\"subunitcolor\":\"white\",\"showland\":true,\"showlakes\":true,\"lakecolor\":\"white\"},\"title\":{\"x\":0.05},\"mapbox\":{\"style\":\"light\"}}},\"yaxis\":{\"showgrid\":true,\"gridcolor\":\"lightgray\",\"range\":[0,3000],\"title\":{\"text\":\"Vol. d'eau disponible vs. pr\\u00e9lev\\u00e9e par an (en b. m3)\"}},\"title\":{\"text\":\"Comparatif de l'eau disponible vs. pr\\u00e9lev\\u00e9e annuellement pour les pays de fabrication\"},\"barmode\":\"group\",\"plot_bgcolor\":\"rgba(0,0,0,0)\",\"shapes\":[{\"line\":{\"color\":\"red\"},\"type\":\"line\",\"x0\":0,\"x1\":1,\"xref\":\"paper\",\"y0\":26.9,\"y1\":26.9,\"yref\":\"y\"},{\"line\":{\"color\":\"red\"},\"type\":\"line\",\"x0\":0,\"x1\":1,\"xref\":\"paper\",\"y0\":2.2,\"y1\":2.2,\"yref\":\"y\"}],\"annotations\":[{\"font\":{\"color\":\"red\"},\"showarrow\":false,\"text\":\"26.9 disp\",\"x\":-1,\"y\":90,\"yshift\":10},{\"font\":{\"color\":\"red\"},\"showarrow\":false,\"text\":\"2.2 prel\",\"x\":-1,\"y\":2.2,\"yshift\":10},{\"align\":\"center\",\"bgcolor\":\"darkblue\",\"font\":{\"color\":\"white\",\"size\":12},\"opacity\":0.7,\"showarrow\":false,\"text\":\"Par habitant : 634 m3\",\"x\":\"Bangladesh\",\"y\":400},{\"align\":\"center\",\"bgcolor\":\"darkblue\",\"font\":{\"color\":\"white\",\"size\":12},\"opacity\":0.7,\"showarrow\":false,\"text\":\"Par habitant : 246 m3\",\"x\":\"Pakistan\",\"y\":400},{\"align\":\"center\",\"bgcolor\":\"darkblue\",\"font\":{\"color\":\"white\",\"size\":12},\"opacity\":0.7,\"showarrow\":false,\"text\":\"Par habitant : 799 m3\",\"x\":\"Morocco\",\"y\":400}]},                        {\"responsive\": true}                    ).then(function(){\n",
              "                            \n",
              "var gd = document.getElementById('4d85b9d1-7fc7-48a5-b267-ad980e1e5dd1');\n",
              "var x = new MutationObserver(function (mutations, observer) {{\n",
              "        var display = window.getComputedStyle(gd).display;\n",
              "        if (!display || display === 'none') {{\n",
              "            console.log([gd, 'removed!']);\n",
              "            Plotly.purge(gd);\n",
              "            observer.disconnect();\n",
              "        }}\n",
              "}});\n",
              "\n",
              "// Listen for the removal of the full notebook cells\n",
              "var notebookContainer = gd.closest('#notebook-container');\n",
              "if (notebookContainer) {{\n",
              "    x.observe(notebookContainer, {childList: true});\n",
              "}}\n",
              "\n",
              "// Listen for the clearing of the current output cell\n",
              "var outputEl = gd.closest('.output');\n",
              "if (outputEl) {{\n",
              "    x.observe(outputEl, {childList: true});\n",
              "}}\n",
              "\n",
              "                        })                };                            </script>        </div>\n",
              "</body>\n",
              "</html>"
            ]
          },
          "metadata": {}
        }
      ],
      "source": [
        "# barplot sur l'accès à l'eau potable par rapport à l'eau prélevée\n",
        "compare_water = go.Figure(data=[go.Bar(name='Eau disponible', x=df_countries_selected.index, y=df_countries_selected[\"Ressources internes en eau (b.m3)\"], yaxis='y', offsetgroup=1, text=df_countries_selected[\"Ressources internes en eau (b.m3)\"], textposition='outside', marker_color='lightblue'),\n",
        "                                go.Bar(name='Eau prélevée', x=df_countries_selected.index, y=df_countries_selected[\"Prélèvements annuels (b.m3)\"], yaxis='y', offsetgroup=2, text=df_countries_selected[\"Prélèvements annuels (b.m3)\"], textposition='outside', marker_color='steelblue')])\n",
        "compare_water.update_layout(title=\"Comparatif de l'eau disponible vs. prélevée annuellement pour les pays de fabrication\", barmode='group', plot_bgcolor=\"rgba(0,0,0,0)\", yaxis=dict(showgrid=True, gridcolor='lightgray', range=[0, 3000]), yaxis_title=\"Vol. d'eau disponible vs. prélevée par an (en b. m3)\",\n",
        "    shapes=[dict(type=\"line\", yref=\"y\", y0=26.9, y1=26.9, xref=\"paper\", x0=0, x1=1, line=dict(color=\"red\")), dict(type=\"line\", yref=\"y\", y0=2.2, y1=2.2, xref=\"paper\", x0=0, x1=1, line=dict(color=\"red\"))])\n",
        "compare_water.add_annotation(x=-1, y=90, text=\"26.9 disp\", showarrow=False, font=dict(color='red'), yshift=10)\n",
        "compare_water.add_annotation(x=-1, y=2.2, text=\"2.2 prel\", showarrow=False, font=dict(color='red'), yshift=10)\n",
        "compare_water.add_annotation(x='Bangladesh', y=400, text=\"Par habitant : 634 m3\", showarrow=False, font=dict(color='white', size=12), align='center', bgcolor='darkblue', opacity=0.7)\n",
        "compare_water.add_annotation(x='Pakistan', y=400, text=\"Par habitant : 246 m3\", showarrow=False, font=dict(color='white', size=12), align='center', bgcolor='darkblue', opacity=0.7)\n",
        "compare_water.add_annotation(x='Morocco', y=400, text=\"Par habitant : 799 m3\", showarrow=False, font=dict(color='white', size=12), align='center', bgcolor='darkblue', opacity=0.7)\n",
        "compare_water.show()"
      ]
    },
    {
      "cell_type": "markdown",
      "metadata": {
        "id": "LlBLfSKeDTwv"
      },
      "source": [
        "Ce graphique présente les quantités d'eau disponible dans les ressources du pays, c'est-à-dire issues des fleuves et nappes phréatiques, comparativement aux eaux prélevées dans les bassins de stockage, en billions de mètres cubes. Nous y avons également fait figurer les ressources en eau par habitant pour les 4 pays les plus producteurs. Il est intéressant de constater les volumes considérables d'eau prélevée pour la **Chine**, l'**Inde** et le **Pakistan**. Ce dernier d'ailleurs prélève plus de 3x le volume d'eau disponible, ce qui est interpelant concernant l'accès à l'eau pour les populations (car c'est aussi le pays qui comporte le moins de ressources en eau par habitant : 246 m3 seulement). En effet, nous avons vu dans la partie précédente, l'ampleur de l'empreinte eau dans les pays les plus producteurs, et il est inquiétant de se projeter si l'industrie continue sur ce modèle, sachant que l'eau deviendra de plus en plus rare."
      ]
    },
    {
      "cell_type": "markdown",
      "metadata": {
        "id": "V04hi9BAGubU"
      },
      "source": [
        "Voyons à présent pour quel usage l'eau est prélevée."
      ]
    },
    {
      "cell_type": "code",
      "execution_count": null,
      "metadata": {
        "colab": {
          "base_uri": "https://localhost:8080/",
          "height": 542
        },
        "id": "-NiNN0PgkSZj",
        "outputId": "3b61aa4d-86d2-4b91-f74e-9a136ca55c31"
      },
      "outputs": [
        {
          "data": {
            "text/html": [
              "<html>\n",
              "<head><meta charset=\"utf-8\" /></head>\n",
              "<body>\n",
              "    <div>            <script src=\"https://cdnjs.cloudflare.com/ajax/libs/mathjax/2.7.5/MathJax.js?config=TeX-AMS-MML_SVG\"></script><script type=\"text/javascript\">if (window.MathJax && window.MathJax.Hub && window.MathJax.Hub.Config) {window.MathJax.Hub.Config({SVG: {font: \"STIX-Web\"}});}</script>                <script type=\"text/javascript\">window.PlotlyConfig = {MathJaxConfig: 'local'};</script>\n",
              "        <script src=\"https://cdn.plot.ly/plotly-2.18.2.min.js\"></script>                <div id=\"f941c500-1566-4c48-9d62-eb6de4606851\" class=\"plotly-graph-div\" style=\"height:525px; width:100%;\"></div>            <script type=\"text/javascript\">                                    window.PLOTLYENV=window.PLOTLYENV || {};                                    if (document.getElementById(\"f941c500-1566-4c48-9d62-eb6de4606851\")) {                    Plotly.newPlot(                        \"f941c500-1566-4c48-9d62-eb6de4606851\",                        [{\"marker\":{\"color\":\"lightblue\"},\"name\":\"Agriculture\",\"offsetgroup\":\"1\",\"text\":[88.0,64.0,94.0,90.0,88.0,96.0,88.0,95.0,56.0,61.0],\"x\":[\"Bangladesh\",\"China\",\"Pakistan\",\"India\",\"Turkiye\",\"Madagascar\",\"Morocco\",\"Vietnam\",\"Portugal\",\"Brazil\"],\"y\":[88.0,64.0,94.0,90.0,88.0,96.0,88.0,95.0,56.0,61.0],\"yaxis\":\"y\",\"type\":\"bar\"},{\"marker\":{\"color\":\"steelblue\"},\"name\":\"Industrie\",\"offsetgroup\":\"2\",\"text\":[2.0,22.0,1.0,2.0,2.0,1.0,2.0,4.0,30.0,15.0],\"x\":[\"Bangladesh\",\"China\",\"Pakistan\",\"India\",\"Turkiye\",\"Madagascar\",\"Morocco\",\"Vietnam\",\"Portugal\",\"Brazil\"],\"y\":[2.0,22.0,1.0,2.0,2.0,1.0,2.0,4.0,30.0,15.0],\"yaxis\":\"y\",\"type\":\"bar\"},{\"marker\":{\"color\":\"darkblue\"},\"name\":\"Domestique\",\"offsetgroup\":\"3\",\"text\":[10.0,13.0,5.0,7.0,11.0,3.0,10.0,1.0,14.0,24.0],\"x\":[\"Bangladesh\",\"China\",\"Pakistan\",\"India\",\"Turkiye\",\"Madagascar\",\"Morocco\",\"Vietnam\",\"Portugal\",\"Brazil\"],\"y\":[10.0,13.0,5.0,7.0,11.0,3.0,10.0,1.0,14.0,24.0],\"yaxis\":\"y\",\"type\":\"bar\"}],                        {\"template\":{\"data\":{\"histogram2dcontour\":[{\"type\":\"histogram2dcontour\",\"colorbar\":{\"outlinewidth\":0,\"ticks\":\"\"},\"colorscale\":[[0.0,\"#0d0887\"],[0.1111111111111111,\"#46039f\"],[0.2222222222222222,\"#7201a8\"],[0.3333333333333333,\"#9c179e\"],[0.4444444444444444,\"#bd3786\"],[0.5555555555555556,\"#d8576b\"],[0.6666666666666666,\"#ed7953\"],[0.7777777777777778,\"#fb9f3a\"],[0.8888888888888888,\"#fdca26\"],[1.0,\"#f0f921\"]]}],\"choropleth\":[{\"type\":\"choropleth\",\"colorbar\":{\"outlinewidth\":0,\"ticks\":\"\"}}],\"histogram2d\":[{\"type\":\"histogram2d\",\"colorbar\":{\"outlinewidth\":0,\"ticks\":\"\"},\"colorscale\":[[0.0,\"#0d0887\"],[0.1111111111111111,\"#46039f\"],[0.2222222222222222,\"#7201a8\"],[0.3333333333333333,\"#9c179e\"],[0.4444444444444444,\"#bd3786\"],[0.5555555555555556,\"#d8576b\"],[0.6666666666666666,\"#ed7953\"],[0.7777777777777778,\"#fb9f3a\"],[0.8888888888888888,\"#fdca26\"],[1.0,\"#f0f921\"]]}],\"heatmap\":[{\"type\":\"heatmap\",\"colorbar\":{\"outlinewidth\":0,\"ticks\":\"\"},\"colorscale\":[[0.0,\"#0d0887\"],[0.1111111111111111,\"#46039f\"],[0.2222222222222222,\"#7201a8\"],[0.3333333333333333,\"#9c179e\"],[0.4444444444444444,\"#bd3786\"],[0.5555555555555556,\"#d8576b\"],[0.6666666666666666,\"#ed7953\"],[0.7777777777777778,\"#fb9f3a\"],[0.8888888888888888,\"#fdca26\"],[1.0,\"#f0f921\"]]}],\"heatmapgl\":[{\"type\":\"heatmapgl\",\"colorbar\":{\"outlinewidth\":0,\"ticks\":\"\"},\"colorscale\":[[0.0,\"#0d0887\"],[0.1111111111111111,\"#46039f\"],[0.2222222222222222,\"#7201a8\"],[0.3333333333333333,\"#9c179e\"],[0.4444444444444444,\"#bd3786\"],[0.5555555555555556,\"#d8576b\"],[0.6666666666666666,\"#ed7953\"],[0.7777777777777778,\"#fb9f3a\"],[0.8888888888888888,\"#fdca26\"],[1.0,\"#f0f921\"]]}],\"contourcarpet\":[{\"type\":\"contourcarpet\",\"colorbar\":{\"outlinewidth\":0,\"ticks\":\"\"}}],\"contour\":[{\"type\":\"contour\",\"colorbar\":{\"outlinewidth\":0,\"ticks\":\"\"},\"colorscale\":[[0.0,\"#0d0887\"],[0.1111111111111111,\"#46039f\"],[0.2222222222222222,\"#7201a8\"],[0.3333333333333333,\"#9c179e\"],[0.4444444444444444,\"#bd3786\"],[0.5555555555555556,\"#d8576b\"],[0.6666666666666666,\"#ed7953\"],[0.7777777777777778,\"#fb9f3a\"],[0.8888888888888888,\"#fdca26\"],[1.0,\"#f0f921\"]]}],\"surface\":[{\"type\":\"surface\",\"colorbar\":{\"outlinewidth\":0,\"ticks\":\"\"},\"colorscale\":[[0.0,\"#0d0887\"],[0.1111111111111111,\"#46039f\"],[0.2222222222222222,\"#7201a8\"],[0.3333333333333333,\"#9c179e\"],[0.4444444444444444,\"#bd3786\"],[0.5555555555555556,\"#d8576b\"],[0.6666666666666666,\"#ed7953\"],[0.7777777777777778,\"#fb9f3a\"],[0.8888888888888888,\"#fdca26\"],[1.0,\"#f0f921\"]]}],\"mesh3d\":[{\"type\":\"mesh3d\",\"colorbar\":{\"outlinewidth\":0,\"ticks\":\"\"}}],\"scatter\":[{\"fillpattern\":{\"fillmode\":\"overlay\",\"size\":10,\"solidity\":0.2},\"type\":\"scatter\"}],\"parcoords\":[{\"type\":\"parcoords\",\"line\":{\"colorbar\":{\"outlinewidth\":0,\"ticks\":\"\"}}}],\"scatterpolargl\":[{\"type\":\"scatterpolargl\",\"marker\":{\"colorbar\":{\"outlinewidth\":0,\"ticks\":\"\"}}}],\"bar\":[{\"error_x\":{\"color\":\"#2a3f5f\"},\"error_y\":{\"color\":\"#2a3f5f\"},\"marker\":{\"line\":{\"color\":\"#E5ECF6\",\"width\":0.5},\"pattern\":{\"fillmode\":\"overlay\",\"size\":10,\"solidity\":0.2}},\"type\":\"bar\"}],\"scattergeo\":[{\"type\":\"scattergeo\",\"marker\":{\"colorbar\":{\"outlinewidth\":0,\"ticks\":\"\"}}}],\"scatterpolar\":[{\"type\":\"scatterpolar\",\"marker\":{\"colorbar\":{\"outlinewidth\":0,\"ticks\":\"\"}}}],\"histogram\":[{\"marker\":{\"pattern\":{\"fillmode\":\"overlay\",\"size\":10,\"solidity\":0.2}},\"type\":\"histogram\"}],\"scattergl\":[{\"type\":\"scattergl\",\"marker\":{\"colorbar\":{\"outlinewidth\":0,\"ticks\":\"\"}}}],\"scatter3d\":[{\"type\":\"scatter3d\",\"line\":{\"colorbar\":{\"outlinewidth\":0,\"ticks\":\"\"}},\"marker\":{\"colorbar\":{\"outlinewidth\":0,\"ticks\":\"\"}}}],\"scattermapbox\":[{\"type\":\"scattermapbox\",\"marker\":{\"colorbar\":{\"outlinewidth\":0,\"ticks\":\"\"}}}],\"scatterternary\":[{\"type\":\"scatterternary\",\"marker\":{\"colorbar\":{\"outlinewidth\":0,\"ticks\":\"\"}}}],\"scattercarpet\":[{\"type\":\"scattercarpet\",\"marker\":{\"colorbar\":{\"outlinewidth\":0,\"ticks\":\"\"}}}],\"carpet\":[{\"aaxis\":{\"endlinecolor\":\"#2a3f5f\",\"gridcolor\":\"white\",\"linecolor\":\"white\",\"minorgridcolor\":\"white\",\"startlinecolor\":\"#2a3f5f\"},\"baxis\":{\"endlinecolor\":\"#2a3f5f\",\"gridcolor\":\"white\",\"linecolor\":\"white\",\"minorgridcolor\":\"white\",\"startlinecolor\":\"#2a3f5f\"},\"type\":\"carpet\"}],\"table\":[{\"cells\":{\"fill\":{\"color\":\"#EBF0F8\"},\"line\":{\"color\":\"white\"}},\"header\":{\"fill\":{\"color\":\"#C8D4E3\"},\"line\":{\"color\":\"white\"}},\"type\":\"table\"}],\"barpolar\":[{\"marker\":{\"line\":{\"color\":\"#E5ECF6\",\"width\":0.5},\"pattern\":{\"fillmode\":\"overlay\",\"size\":10,\"solidity\":0.2}},\"type\":\"barpolar\"}],\"pie\":[{\"automargin\":true,\"type\":\"pie\"}]},\"layout\":{\"autotypenumbers\":\"strict\",\"colorway\":[\"#636efa\",\"#EF553B\",\"#00cc96\",\"#ab63fa\",\"#FFA15A\",\"#19d3f3\",\"#FF6692\",\"#B6E880\",\"#FF97FF\",\"#FECB52\"],\"font\":{\"color\":\"#2a3f5f\"},\"hovermode\":\"closest\",\"hoverlabel\":{\"align\":\"left\"},\"paper_bgcolor\":\"white\",\"plot_bgcolor\":\"#E5ECF6\",\"polar\":{\"bgcolor\":\"#E5ECF6\",\"angularaxis\":{\"gridcolor\":\"white\",\"linecolor\":\"white\",\"ticks\":\"\"},\"radialaxis\":{\"gridcolor\":\"white\",\"linecolor\":\"white\",\"ticks\":\"\"}},\"ternary\":{\"bgcolor\":\"#E5ECF6\",\"aaxis\":{\"gridcolor\":\"white\",\"linecolor\":\"white\",\"ticks\":\"\"},\"baxis\":{\"gridcolor\":\"white\",\"linecolor\":\"white\",\"ticks\":\"\"},\"caxis\":{\"gridcolor\":\"white\",\"linecolor\":\"white\",\"ticks\":\"\"}},\"coloraxis\":{\"colorbar\":{\"outlinewidth\":0,\"ticks\":\"\"}},\"colorscale\":{\"sequential\":[[0.0,\"#0d0887\"],[0.1111111111111111,\"#46039f\"],[0.2222222222222222,\"#7201a8\"],[0.3333333333333333,\"#9c179e\"],[0.4444444444444444,\"#bd3786\"],[0.5555555555555556,\"#d8576b\"],[0.6666666666666666,\"#ed7953\"],[0.7777777777777778,\"#fb9f3a\"],[0.8888888888888888,\"#fdca26\"],[1.0,\"#f0f921\"]],\"sequentialminus\":[[0.0,\"#0d0887\"],[0.1111111111111111,\"#46039f\"],[0.2222222222222222,\"#7201a8\"],[0.3333333333333333,\"#9c179e\"],[0.4444444444444444,\"#bd3786\"],[0.5555555555555556,\"#d8576b\"],[0.6666666666666666,\"#ed7953\"],[0.7777777777777778,\"#fb9f3a\"],[0.8888888888888888,\"#fdca26\"],[1.0,\"#f0f921\"]],\"diverging\":[[0,\"#8e0152\"],[0.1,\"#c51b7d\"],[0.2,\"#de77ae\"],[0.3,\"#f1b6da\"],[0.4,\"#fde0ef\"],[0.5,\"#f7f7f7\"],[0.6,\"#e6f5d0\"],[0.7,\"#b8e186\"],[0.8,\"#7fbc41\"],[0.9,\"#4d9221\"],[1,\"#276419\"]]},\"xaxis\":{\"gridcolor\":\"white\",\"linecolor\":\"white\",\"ticks\":\"\",\"title\":{\"standoff\":15},\"zerolinecolor\":\"white\",\"automargin\":true,\"zerolinewidth\":2},\"yaxis\":{\"gridcolor\":\"white\",\"linecolor\":\"white\",\"ticks\":\"\",\"title\":{\"standoff\":15},\"zerolinecolor\":\"white\",\"automargin\":true,\"zerolinewidth\":2},\"scene\":{\"xaxis\":{\"backgroundcolor\":\"#E5ECF6\",\"gridcolor\":\"white\",\"linecolor\":\"white\",\"showbackground\":true,\"ticks\":\"\",\"zerolinecolor\":\"white\",\"gridwidth\":2},\"yaxis\":{\"backgroundcolor\":\"#E5ECF6\",\"gridcolor\":\"white\",\"linecolor\":\"white\",\"showbackground\":true,\"ticks\":\"\",\"zerolinecolor\":\"white\",\"gridwidth\":2},\"zaxis\":{\"backgroundcolor\":\"#E5ECF6\",\"gridcolor\":\"white\",\"linecolor\":\"white\",\"showbackground\":true,\"ticks\":\"\",\"zerolinecolor\":\"white\",\"gridwidth\":2}},\"shapedefaults\":{\"line\":{\"color\":\"#2a3f5f\"}},\"annotationdefaults\":{\"arrowcolor\":\"#2a3f5f\",\"arrowhead\":0,\"arrowwidth\":1},\"geo\":{\"bgcolor\":\"white\",\"landcolor\":\"#E5ECF6\",\"subunitcolor\":\"white\",\"showland\":true,\"showlakes\":true,\"lakecolor\":\"white\"},\"title\":{\"x\":0.05},\"mapbox\":{\"style\":\"light\"}}},\"yaxis\":{\"showgrid\":true,\"gridcolor\":\"lightgray\",\"title\":{\"text\":\"% d'eau pr\\u00e9lev\\u00e9e par rapport au total\"}},\"title\":{\"text\":\"Usage des pr\\u00e9l\\u00e8vements en eau\"},\"barmode\":\"group\",\"plot_bgcolor\":\"rgba(0,0,0,0)\"},                        {\"responsive\": true}                    ).then(function(){\n",
              "                            \n",
              "var gd = document.getElementById('f941c500-1566-4c48-9d62-eb6de4606851');\n",
              "var x = new MutationObserver(function (mutations, observer) {{\n",
              "        var display = window.getComputedStyle(gd).display;\n",
              "        if (!display || display === 'none') {{\n",
              "            console.log([gd, 'removed!']);\n",
              "            Plotly.purge(gd);\n",
              "            observer.disconnect();\n",
              "        }}\n",
              "}});\n",
              "\n",
              "// Listen for the removal of the full notebook cells\n",
              "var notebookContainer = gd.closest('#notebook-container');\n",
              "if (notebookContainer) {{\n",
              "    x.observe(notebookContainer, {childList: true});\n",
              "}}\n",
              "\n",
              "// Listen for the clearing of the current output cell\n",
              "var outputEl = gd.closest('.output');\n",
              "if (outputEl) {{\n",
              "    x.observe(outputEl, {childList: true});\n",
              "}}\n",
              "\n",
              "                        })                };                            </script>        </div>\n",
              "</body>\n",
              "</html>"
            ]
          },
          "metadata": {},
          "output_type": "display_data"
        }
      ],
      "source": [
        "# visualisons sur un barplot\n",
        "compare_withdrawals = go.Figure(data=[go.Bar(name='Agriculture', x=df_countries_selected.index, y=df_countries_selected[\"Prélèvements agriculture (en %)\"], yaxis='y', offsetgroup=1, text=df_countries_selected[\"Prélèvements agriculture (en %)\"], marker_color='lightblue'),\n",
        "                                      go.Bar(name='Industrie', x=df_countries_selected.index, y=df_countries_selected[\"Prélèvements industrie (en %)\"], yaxis='y', offsetgroup=2, text=df_countries_selected[\"Prélèvements industrie (en %)\"], marker_color='steelblue'),\n",
        "                                      go.Bar(name='Domestique', x=df_countries_selected.index, y=df_countries_selected[\"Prélèvements domestiques (en %)\"], yaxis='y', offsetgroup=3, text=df_countries_selected[\"Prélèvements domestiques (en %)\"], marker_color='darkblue')])\n",
        "compare_withdrawals.update_layout(title=\"Usage des prélèvements en eau\", barmode='group', plot_bgcolor=\"rgba(0,0,0,0)\", yaxis=dict(showgrid=True, gridcolor='lightgray'), yaxis_title=\"% d'eau prélevée par rapport au total\")\n",
        "compare_withdrawals.show()"
      ]
    },
    {
      "cell_type": "markdown",
      "metadata": {
        "id": "XVad24zcIGtS"
      },
      "source": [
        "Nous observons que c'est en grande majorité l'agriculture, et ce dans tous les pays sélectionnés, qui pompe l'eau disponible en grandes quantités."
      ]
    },
    {
      "cell_type": "markdown",
      "metadata": {
        "id": "_JOu0DDml71t"
      },
      "source": [
        "### Zoom sur l'accès à l'énergie"
      ]
    },
    {
      "cell_type": "code",
      "execution_count": null,
      "metadata": {
        "colab": {
          "base_uri": "https://localhost:8080/",
          "height": 542
        },
        "id": "9tTZZjJ4aza6",
        "outputId": "e7ebafad-2cdb-457d-d606-49c619588f78"
      },
      "outputs": [
        {
          "output_type": "display_data",
          "data": {
            "text/html": [
              "<html>\n",
              "<head><meta charset=\"utf-8\" /></head>\n",
              "<body>\n",
              "    <div>            <script src=\"https://cdnjs.cloudflare.com/ajax/libs/mathjax/2.7.5/MathJax.js?config=TeX-AMS-MML_SVG\"></script><script type=\"text/javascript\">if (window.MathJax && window.MathJax.Hub && window.MathJax.Hub.Config) {window.MathJax.Hub.Config({SVG: {font: \"STIX-Web\"}});}</script>                <script type=\"text/javascript\">window.PlotlyConfig = {MathJaxConfig: 'local'};</script>\n",
              "        <script src=\"https://cdn.plot.ly/plotly-2.18.2.min.js\"></script>                <div id=\"a0b246f1-0774-4034-835b-d0b41fb1803e\" class=\"plotly-graph-div\" style=\"height:525px; width:100%;\"></div>            <script type=\"text/javascript\">                                    window.PLOTLYENV=window.PLOTLYENV || {};                                    if (document.getElementById(\"a0b246f1-0774-4034-835b-d0b41fb1803e\")) {                    Plotly.newPlot(                        \"a0b246f1-0774-4034-835b-d0b41fb1803e\",                        [{\"marker\":{\"color\":\"lightblue\"},\"name\":\"Cuisine\",\"offsetgroup\":\"1\",\"text\":[25.0,79.4,67.9,49.3,100.0,95.2,65.3,98.1,100.0,95.9],\"x\":[\"Bangladesh\",\"China\",\"India\",\"Pakistan\",\"Portugal\",\"Turkiye\",\"Vietnam\",\"Morocco\",\"Poland\",\"Brazil\"],\"y\":[25.0,79.4,67.9,49.3,100.0,95.2,65.3,98.1,100.0,95.9],\"yaxis\":\"y\",\"type\":\"bar\"},{\"marker\":{\"color\":\"steelblue\"},\"name\":\"Energ. renouv.\",\"offsetgroup\":\"2\",\"text\":[24.8,14.5,32.9,43.4,28.2,14.1,18.7,10.7,12.2,47.6],\"x\":[\"Bangladesh\",\"China\",\"India\",\"Pakistan\",\"Portugal\",\"Turkiye\",\"Vietnam\",\"Morocco\",\"Poland\",\"Brazil\"],\"y\":[24.8,14.5,32.9,43.4,28.2,14.1,18.7,10.7,12.2,47.6],\"yaxis\":\"y\",\"type\":\"bar\"}],                        {\"template\":{\"data\":{\"histogram2dcontour\":[{\"type\":\"histogram2dcontour\",\"colorbar\":{\"outlinewidth\":0,\"ticks\":\"\"},\"colorscale\":[[0.0,\"#0d0887\"],[0.1111111111111111,\"#46039f\"],[0.2222222222222222,\"#7201a8\"],[0.3333333333333333,\"#9c179e\"],[0.4444444444444444,\"#bd3786\"],[0.5555555555555556,\"#d8576b\"],[0.6666666666666666,\"#ed7953\"],[0.7777777777777778,\"#fb9f3a\"],[0.8888888888888888,\"#fdca26\"],[1.0,\"#f0f921\"]]}],\"choropleth\":[{\"type\":\"choropleth\",\"colorbar\":{\"outlinewidth\":0,\"ticks\":\"\"}}],\"histogram2d\":[{\"type\":\"histogram2d\",\"colorbar\":{\"outlinewidth\":0,\"ticks\":\"\"},\"colorscale\":[[0.0,\"#0d0887\"],[0.1111111111111111,\"#46039f\"],[0.2222222222222222,\"#7201a8\"],[0.3333333333333333,\"#9c179e\"],[0.4444444444444444,\"#bd3786\"],[0.5555555555555556,\"#d8576b\"],[0.6666666666666666,\"#ed7953\"],[0.7777777777777778,\"#fb9f3a\"],[0.8888888888888888,\"#fdca26\"],[1.0,\"#f0f921\"]]}],\"heatmap\":[{\"type\":\"heatmap\",\"colorbar\":{\"outlinewidth\":0,\"ticks\":\"\"},\"colorscale\":[[0.0,\"#0d0887\"],[0.1111111111111111,\"#46039f\"],[0.2222222222222222,\"#7201a8\"],[0.3333333333333333,\"#9c179e\"],[0.4444444444444444,\"#bd3786\"],[0.5555555555555556,\"#d8576b\"],[0.6666666666666666,\"#ed7953\"],[0.7777777777777778,\"#fb9f3a\"],[0.8888888888888888,\"#fdca26\"],[1.0,\"#f0f921\"]]}],\"heatmapgl\":[{\"type\":\"heatmapgl\",\"colorbar\":{\"outlinewidth\":0,\"ticks\":\"\"},\"colorscale\":[[0.0,\"#0d0887\"],[0.1111111111111111,\"#46039f\"],[0.2222222222222222,\"#7201a8\"],[0.3333333333333333,\"#9c179e\"],[0.4444444444444444,\"#bd3786\"],[0.5555555555555556,\"#d8576b\"],[0.6666666666666666,\"#ed7953\"],[0.7777777777777778,\"#fb9f3a\"],[0.8888888888888888,\"#fdca26\"],[1.0,\"#f0f921\"]]}],\"contourcarpet\":[{\"type\":\"contourcarpet\",\"colorbar\":{\"outlinewidth\":0,\"ticks\":\"\"}}],\"contour\":[{\"type\":\"contour\",\"colorbar\":{\"outlinewidth\":0,\"ticks\":\"\"},\"colorscale\":[[0.0,\"#0d0887\"],[0.1111111111111111,\"#46039f\"],[0.2222222222222222,\"#7201a8\"],[0.3333333333333333,\"#9c179e\"],[0.4444444444444444,\"#bd3786\"],[0.5555555555555556,\"#d8576b\"],[0.6666666666666666,\"#ed7953\"],[0.7777777777777778,\"#fb9f3a\"],[0.8888888888888888,\"#fdca26\"],[1.0,\"#f0f921\"]]}],\"surface\":[{\"type\":\"surface\",\"colorbar\":{\"outlinewidth\":0,\"ticks\":\"\"},\"colorscale\":[[0.0,\"#0d0887\"],[0.1111111111111111,\"#46039f\"],[0.2222222222222222,\"#7201a8\"],[0.3333333333333333,\"#9c179e\"],[0.4444444444444444,\"#bd3786\"],[0.5555555555555556,\"#d8576b\"],[0.6666666666666666,\"#ed7953\"],[0.7777777777777778,\"#fb9f3a\"],[0.8888888888888888,\"#fdca26\"],[1.0,\"#f0f921\"]]}],\"mesh3d\":[{\"type\":\"mesh3d\",\"colorbar\":{\"outlinewidth\":0,\"ticks\":\"\"}}],\"scatter\":[{\"fillpattern\":{\"fillmode\":\"overlay\",\"size\":10,\"solidity\":0.2},\"type\":\"scatter\"}],\"parcoords\":[{\"type\":\"parcoords\",\"line\":{\"colorbar\":{\"outlinewidth\":0,\"ticks\":\"\"}}}],\"scatterpolargl\":[{\"type\":\"scatterpolargl\",\"marker\":{\"colorbar\":{\"outlinewidth\":0,\"ticks\":\"\"}}}],\"bar\":[{\"error_x\":{\"color\":\"#2a3f5f\"},\"error_y\":{\"color\":\"#2a3f5f\"},\"marker\":{\"line\":{\"color\":\"#E5ECF6\",\"width\":0.5},\"pattern\":{\"fillmode\":\"overlay\",\"size\":10,\"solidity\":0.2}},\"type\":\"bar\"}],\"scattergeo\":[{\"type\":\"scattergeo\",\"marker\":{\"colorbar\":{\"outlinewidth\":0,\"ticks\":\"\"}}}],\"scatterpolar\":[{\"type\":\"scatterpolar\",\"marker\":{\"colorbar\":{\"outlinewidth\":0,\"ticks\":\"\"}}}],\"histogram\":[{\"marker\":{\"pattern\":{\"fillmode\":\"overlay\",\"size\":10,\"solidity\":0.2}},\"type\":\"histogram\"}],\"scattergl\":[{\"type\":\"scattergl\",\"marker\":{\"colorbar\":{\"outlinewidth\":0,\"ticks\":\"\"}}}],\"scatter3d\":[{\"type\":\"scatter3d\",\"line\":{\"colorbar\":{\"outlinewidth\":0,\"ticks\":\"\"}},\"marker\":{\"colorbar\":{\"outlinewidth\":0,\"ticks\":\"\"}}}],\"scattermapbox\":[{\"type\":\"scattermapbox\",\"marker\":{\"colorbar\":{\"outlinewidth\":0,\"ticks\":\"\"}}}],\"scatterternary\":[{\"type\":\"scatterternary\",\"marker\":{\"colorbar\":{\"outlinewidth\":0,\"ticks\":\"\"}}}],\"scattercarpet\":[{\"type\":\"scattercarpet\",\"marker\":{\"colorbar\":{\"outlinewidth\":0,\"ticks\":\"\"}}}],\"carpet\":[{\"aaxis\":{\"endlinecolor\":\"#2a3f5f\",\"gridcolor\":\"white\",\"linecolor\":\"white\",\"minorgridcolor\":\"white\",\"startlinecolor\":\"#2a3f5f\"},\"baxis\":{\"endlinecolor\":\"#2a3f5f\",\"gridcolor\":\"white\",\"linecolor\":\"white\",\"minorgridcolor\":\"white\",\"startlinecolor\":\"#2a3f5f\"},\"type\":\"carpet\"}],\"table\":[{\"cells\":{\"fill\":{\"color\":\"#EBF0F8\"},\"line\":{\"color\":\"white\"}},\"header\":{\"fill\":{\"color\":\"#C8D4E3\"},\"line\":{\"color\":\"white\"}},\"type\":\"table\"}],\"barpolar\":[{\"marker\":{\"line\":{\"color\":\"#E5ECF6\",\"width\":0.5},\"pattern\":{\"fillmode\":\"overlay\",\"size\":10,\"solidity\":0.2}},\"type\":\"barpolar\"}],\"pie\":[{\"automargin\":true,\"type\":\"pie\"}]},\"layout\":{\"autotypenumbers\":\"strict\",\"colorway\":[\"#636efa\",\"#EF553B\",\"#00cc96\",\"#ab63fa\",\"#FFA15A\",\"#19d3f3\",\"#FF6692\",\"#B6E880\",\"#FF97FF\",\"#FECB52\"],\"font\":{\"color\":\"#2a3f5f\"},\"hovermode\":\"closest\",\"hoverlabel\":{\"align\":\"left\"},\"paper_bgcolor\":\"white\",\"plot_bgcolor\":\"#E5ECF6\",\"polar\":{\"bgcolor\":\"#E5ECF6\",\"angularaxis\":{\"gridcolor\":\"white\",\"linecolor\":\"white\",\"ticks\":\"\"},\"radialaxis\":{\"gridcolor\":\"white\",\"linecolor\":\"white\",\"ticks\":\"\"}},\"ternary\":{\"bgcolor\":\"#E5ECF6\",\"aaxis\":{\"gridcolor\":\"white\",\"linecolor\":\"white\",\"ticks\":\"\"},\"baxis\":{\"gridcolor\":\"white\",\"linecolor\":\"white\",\"ticks\":\"\"},\"caxis\":{\"gridcolor\":\"white\",\"linecolor\":\"white\",\"ticks\":\"\"}},\"coloraxis\":{\"colorbar\":{\"outlinewidth\":0,\"ticks\":\"\"}},\"colorscale\":{\"sequential\":[[0.0,\"#0d0887\"],[0.1111111111111111,\"#46039f\"],[0.2222222222222222,\"#7201a8\"],[0.3333333333333333,\"#9c179e\"],[0.4444444444444444,\"#bd3786\"],[0.5555555555555556,\"#d8576b\"],[0.6666666666666666,\"#ed7953\"],[0.7777777777777778,\"#fb9f3a\"],[0.8888888888888888,\"#fdca26\"],[1.0,\"#f0f921\"]],\"sequentialminus\":[[0.0,\"#0d0887\"],[0.1111111111111111,\"#46039f\"],[0.2222222222222222,\"#7201a8\"],[0.3333333333333333,\"#9c179e\"],[0.4444444444444444,\"#bd3786\"],[0.5555555555555556,\"#d8576b\"],[0.6666666666666666,\"#ed7953\"],[0.7777777777777778,\"#fb9f3a\"],[0.8888888888888888,\"#fdca26\"],[1.0,\"#f0f921\"]],\"diverging\":[[0,\"#8e0152\"],[0.1,\"#c51b7d\"],[0.2,\"#de77ae\"],[0.3,\"#f1b6da\"],[0.4,\"#fde0ef\"],[0.5,\"#f7f7f7\"],[0.6,\"#e6f5d0\"],[0.7,\"#b8e186\"],[0.8,\"#7fbc41\"],[0.9,\"#4d9221\"],[1,\"#276419\"]]},\"xaxis\":{\"gridcolor\":\"white\",\"linecolor\":\"white\",\"ticks\":\"\",\"title\":{\"standoff\":15},\"zerolinecolor\":\"white\",\"automargin\":true,\"zerolinewidth\":2},\"yaxis\":{\"gridcolor\":\"white\",\"linecolor\":\"white\",\"ticks\":\"\",\"title\":{\"standoff\":15},\"zerolinecolor\":\"white\",\"automargin\":true,\"zerolinewidth\":2},\"scene\":{\"xaxis\":{\"backgroundcolor\":\"#E5ECF6\",\"gridcolor\":\"white\",\"linecolor\":\"white\",\"showbackground\":true,\"ticks\":\"\",\"zerolinecolor\":\"white\",\"gridwidth\":2},\"yaxis\":{\"backgroundcolor\":\"#E5ECF6\",\"gridcolor\":\"white\",\"linecolor\":\"white\",\"showbackground\":true,\"ticks\":\"\",\"zerolinecolor\":\"white\",\"gridwidth\":2},\"zaxis\":{\"backgroundcolor\":\"#E5ECF6\",\"gridcolor\":\"white\",\"linecolor\":\"white\",\"showbackground\":true,\"ticks\":\"\",\"zerolinecolor\":\"white\",\"gridwidth\":2}},\"shapedefaults\":{\"line\":{\"color\":\"#2a3f5f\"}},\"annotationdefaults\":{\"arrowcolor\":\"#2a3f5f\",\"arrowhead\":0,\"arrowwidth\":1},\"geo\":{\"bgcolor\":\"white\",\"landcolor\":\"#E5ECF6\",\"subunitcolor\":\"white\",\"showland\":true,\"showlakes\":true,\"lakecolor\":\"white\"},\"title\":{\"x\":0.05},\"mapbox\":{\"style\":\"light\"}}},\"yaxis\":{\"showgrid\":true,\"gridcolor\":\"lightgray\",\"title\":{\"text\":\"% de la pop. totale\"}},\"title\":{\"text\":\"Acc\\u00e8s aux \\u00e9nergies propres pour cuisiner et aux \\u00e9nergies renouvelables\"},\"barmode\":\"group\",\"plot_bgcolor\":\"rgba(0,0,0,0)\"},                        {\"responsive\": true}                    ).then(function(){\n",
              "                            \n",
              "var gd = document.getElementById('a0b246f1-0774-4034-835b-d0b41fb1803e');\n",
              "var x = new MutationObserver(function (mutations, observer) {{\n",
              "        var display = window.getComputedStyle(gd).display;\n",
              "        if (!display || display === 'none') {{\n",
              "            console.log([gd, 'removed!']);\n",
              "            Plotly.purge(gd);\n",
              "            observer.disconnect();\n",
              "        }}\n",
              "}});\n",
              "\n",
              "// Listen for the removal of the full notebook cells\n",
              "var notebookContainer = gd.closest('#notebook-container');\n",
              "if (notebookContainer) {{\n",
              "    x.observe(notebookContainer, {childList: true});\n",
              "}}\n",
              "\n",
              "// Listen for the clearing of the current output cell\n",
              "var outputEl = gd.closest('.output');\n",
              "if (outputEl) {{\n",
              "    x.observe(outputEl, {childList: true});\n",
              "}}\n",
              "\n",
              "                        })                };                            </script>        </div>\n",
              "</body>\n",
              "</html>"
            ]
          },
          "metadata": {}
        }
      ],
      "source": [
        "# visualisons sur un barplot\n",
        "compare_electricity = go.Figure(data=[go.Bar(name='Cuisine', x=df_countries_selected.index, y=df_countries_selected[\"Accès aux énergies propres pour cuisiner - 2020 (en %)\"], yaxis='y', offsetgroup=1, text=df_countries_selected[\"Accès aux énergies propres pour cuisiner - 2020 (en %)\"], marker_color='lightblue'),\n",
        "                                      go.Bar(name='Energ. renouv.', x=df_countries_selected.index, y=df_countries_selected[\"Consommation d'énergie renouvelable - 2020 (en %)\"], yaxis='y', offsetgroup=2, text=df_countries_selected[\"Consommation d'énergie renouvelable - 2020 (en %)\"], marker_color='steelblue')])\n",
        "compare_electricity.update_layout(title=\"Accès aux énergies propres pour cuisiner et aux énergies renouvelables\", barmode='group', plot_bgcolor=\"rgba(0,0,0,0)\", yaxis=dict(showgrid=True, gridcolor='lightgray'), yaxis_title=\"% de la pop. totale\")\n",
        "compare_electricity.show()"
      ]
    },
    {
      "cell_type": "markdown",
      "metadata": {
        "id": "z9djNTKa0HSJ"
      },
      "source": [
        "### Zoom sur la malnutrition"
      ]
    },
    {
      "cell_type": "markdown",
      "metadata": {
        "id": "VBAFYFW84pqb"
      },
      "source": [
        "Intéressons-nous à la malnutrition et au retard de croissance, qui selon nous sont des conséquences de la pauvreté. Nous ne retenons pas le surpoids que nous considérons comme un trouble qui revêt une dimension différente et n'est peut-être pas la problématique la plus préoccupante pour les populations qui nous intéressent."
      ]
    },
    {
      "cell_type": "code",
      "execution_count": null,
      "metadata": {
        "colab": {
          "base_uri": "https://localhost:8080/",
          "height": 542
        },
        "id": "pM2tOsAm5ZyM",
        "outputId": "edbed0a9-a5c2-40cf-81fd-6611ca937289"
      },
      "outputs": [
        {
          "output_type": "display_data",
          "data": {
            "text/html": [
              "<html>\n",
              "<head><meta charset=\"utf-8\" /></head>\n",
              "<body>\n",
              "    <div>            <script src=\"https://cdnjs.cloudflare.com/ajax/libs/mathjax/2.7.5/MathJax.js?config=TeX-AMS-MML_SVG\"></script><script type=\"text/javascript\">if (window.MathJax && window.MathJax.Hub && window.MathJax.Hub.Config) {window.MathJax.Hub.Config({SVG: {font: \"STIX-Web\"}});}</script>                <script type=\"text/javascript\">window.PlotlyConfig = {MathJaxConfig: 'local'};</script>\n",
              "        <script src=\"https://cdn.plot.ly/plotly-2.18.2.min.js\"></script>                <div id=\"4a7a5d74-a624-46ac-9380-b224471c27ab\" class=\"plotly-graph-div\" style=\"height:525px; width:100%;\"></div>            <script type=\"text/javascript\">                                    window.PLOTLYENV=window.PLOTLYENV || {};                                    if (document.getElementById(\"4a7a5d74-a624-46ac-9380-b224471c27ab\")) {                    Plotly.newPlot(                        \"4a7a5d74-a624-46ac-9380-b224471c27ab\",                        [{\"fill\":\"toself\",\"line\":{\"color\":\"darkblue\"},\"name\":\"Malnutrition\",\"r\":[16.9,16.3,11.4,5.7,5.6,4.1,2.5,2.5,2.5,2.5],\"theta\":[\"Pakistan\",\"India\",\"Bangladesh\",\"Vietnam\",\"Morocco\",\"Brazil\",\"China\",\"Portugal\",\"Poland\",\"Turkiye\"],\"type\":\"scatterpolar\"},{\"fill\":\"toself\",\"line\":{\"color\":\"lightblue\"},\"name\":\"Retard croiss.\",\"r\":[36.7,30.9,30.2,22.3,12.9,6.1,4.7,3.3,2.3,null],\"theta\":[\"Pakistan\",\"India\",\"Bangladesh\",\"Vietnam\",\"Morocco\",\"Brazil\",\"China\",\"Portugal\",\"Poland\",\"Turkiye\"],\"type\":\"scatterpolar\"},{\"marker\":{\"color\":\"red\",\"line\":{\"color\":\"black\",\"width\":2},\"size\":10},\"mode\":\"markers\",\"name\":\"Bangladesh\",\"r\":[30.2],\"theta\":[\"Bangladesh\"],\"type\":\"scatterpolar\"},{\"marker\":{\"color\":\"red\",\"line\":{\"color\":\"black\",\"width\":2},\"size\":10},\"mode\":\"markers\",\"name\":\"India\",\"r\":[30.9],\"theta\":[\"India\"],\"type\":\"scatterpolar\"},{\"marker\":{\"color\":\"red\",\"line\":{\"color\":\"black\",\"width\":2},\"size\":10},\"mode\":\"markers\",\"name\":\"Pakistan\",\"r\":[36.7],\"theta\":[\"Pakistan\"],\"type\":\"scatterpolar\"}],                        {\"template\":{\"data\":{\"histogram2dcontour\":[{\"type\":\"histogram2dcontour\",\"colorbar\":{\"outlinewidth\":0,\"ticks\":\"\"},\"colorscale\":[[0.0,\"#0d0887\"],[0.1111111111111111,\"#46039f\"],[0.2222222222222222,\"#7201a8\"],[0.3333333333333333,\"#9c179e\"],[0.4444444444444444,\"#bd3786\"],[0.5555555555555556,\"#d8576b\"],[0.6666666666666666,\"#ed7953\"],[0.7777777777777778,\"#fb9f3a\"],[0.8888888888888888,\"#fdca26\"],[1.0,\"#f0f921\"]]}],\"choropleth\":[{\"type\":\"choropleth\",\"colorbar\":{\"outlinewidth\":0,\"ticks\":\"\"}}],\"histogram2d\":[{\"type\":\"histogram2d\",\"colorbar\":{\"outlinewidth\":0,\"ticks\":\"\"},\"colorscale\":[[0.0,\"#0d0887\"],[0.1111111111111111,\"#46039f\"],[0.2222222222222222,\"#7201a8\"],[0.3333333333333333,\"#9c179e\"],[0.4444444444444444,\"#bd3786\"],[0.5555555555555556,\"#d8576b\"],[0.6666666666666666,\"#ed7953\"],[0.7777777777777778,\"#fb9f3a\"],[0.8888888888888888,\"#fdca26\"],[1.0,\"#f0f921\"]]}],\"heatmap\":[{\"type\":\"heatmap\",\"colorbar\":{\"outlinewidth\":0,\"ticks\":\"\"},\"colorscale\":[[0.0,\"#0d0887\"],[0.1111111111111111,\"#46039f\"],[0.2222222222222222,\"#7201a8\"],[0.3333333333333333,\"#9c179e\"],[0.4444444444444444,\"#bd3786\"],[0.5555555555555556,\"#d8576b\"],[0.6666666666666666,\"#ed7953\"],[0.7777777777777778,\"#fb9f3a\"],[0.8888888888888888,\"#fdca26\"],[1.0,\"#f0f921\"]]}],\"heatmapgl\":[{\"type\":\"heatmapgl\",\"colorbar\":{\"outlinewidth\":0,\"ticks\":\"\"},\"colorscale\":[[0.0,\"#0d0887\"],[0.1111111111111111,\"#46039f\"],[0.2222222222222222,\"#7201a8\"],[0.3333333333333333,\"#9c179e\"],[0.4444444444444444,\"#bd3786\"],[0.5555555555555556,\"#d8576b\"],[0.6666666666666666,\"#ed7953\"],[0.7777777777777778,\"#fb9f3a\"],[0.8888888888888888,\"#fdca26\"],[1.0,\"#f0f921\"]]}],\"contourcarpet\":[{\"type\":\"contourcarpet\",\"colorbar\":{\"outlinewidth\":0,\"ticks\":\"\"}}],\"contour\":[{\"type\":\"contour\",\"colorbar\":{\"outlinewidth\":0,\"ticks\":\"\"},\"colorscale\":[[0.0,\"#0d0887\"],[0.1111111111111111,\"#46039f\"],[0.2222222222222222,\"#7201a8\"],[0.3333333333333333,\"#9c179e\"],[0.4444444444444444,\"#bd3786\"],[0.5555555555555556,\"#d8576b\"],[0.6666666666666666,\"#ed7953\"],[0.7777777777777778,\"#fb9f3a\"],[0.8888888888888888,\"#fdca26\"],[1.0,\"#f0f921\"]]}],\"surface\":[{\"type\":\"surface\",\"colorbar\":{\"outlinewidth\":0,\"ticks\":\"\"},\"colorscale\":[[0.0,\"#0d0887\"],[0.1111111111111111,\"#46039f\"],[0.2222222222222222,\"#7201a8\"],[0.3333333333333333,\"#9c179e\"],[0.4444444444444444,\"#bd3786\"],[0.5555555555555556,\"#d8576b\"],[0.6666666666666666,\"#ed7953\"],[0.7777777777777778,\"#fb9f3a\"],[0.8888888888888888,\"#fdca26\"],[1.0,\"#f0f921\"]]}],\"mesh3d\":[{\"type\":\"mesh3d\",\"colorbar\":{\"outlinewidth\":0,\"ticks\":\"\"}}],\"scatter\":[{\"fillpattern\":{\"fillmode\":\"overlay\",\"size\":10,\"solidity\":0.2},\"type\":\"scatter\"}],\"parcoords\":[{\"type\":\"parcoords\",\"line\":{\"colorbar\":{\"outlinewidth\":0,\"ticks\":\"\"}}}],\"scatterpolargl\":[{\"type\":\"scatterpolargl\",\"marker\":{\"colorbar\":{\"outlinewidth\":0,\"ticks\":\"\"}}}],\"bar\":[{\"error_x\":{\"color\":\"#2a3f5f\"},\"error_y\":{\"color\":\"#2a3f5f\"},\"marker\":{\"line\":{\"color\":\"#E5ECF6\",\"width\":0.5},\"pattern\":{\"fillmode\":\"overlay\",\"size\":10,\"solidity\":0.2}},\"type\":\"bar\"}],\"scattergeo\":[{\"type\":\"scattergeo\",\"marker\":{\"colorbar\":{\"outlinewidth\":0,\"ticks\":\"\"}}}],\"scatterpolar\":[{\"type\":\"scatterpolar\",\"marker\":{\"colorbar\":{\"outlinewidth\":0,\"ticks\":\"\"}}}],\"histogram\":[{\"marker\":{\"pattern\":{\"fillmode\":\"overlay\",\"size\":10,\"solidity\":0.2}},\"type\":\"histogram\"}],\"scattergl\":[{\"type\":\"scattergl\",\"marker\":{\"colorbar\":{\"outlinewidth\":0,\"ticks\":\"\"}}}],\"scatter3d\":[{\"type\":\"scatter3d\",\"line\":{\"colorbar\":{\"outlinewidth\":0,\"ticks\":\"\"}},\"marker\":{\"colorbar\":{\"outlinewidth\":0,\"ticks\":\"\"}}}],\"scattermapbox\":[{\"type\":\"scattermapbox\",\"marker\":{\"colorbar\":{\"outlinewidth\":0,\"ticks\":\"\"}}}],\"scatterternary\":[{\"type\":\"scatterternary\",\"marker\":{\"colorbar\":{\"outlinewidth\":0,\"ticks\":\"\"}}}],\"scattercarpet\":[{\"type\":\"scattercarpet\",\"marker\":{\"colorbar\":{\"outlinewidth\":0,\"ticks\":\"\"}}}],\"carpet\":[{\"aaxis\":{\"endlinecolor\":\"#2a3f5f\",\"gridcolor\":\"white\",\"linecolor\":\"white\",\"minorgridcolor\":\"white\",\"startlinecolor\":\"#2a3f5f\"},\"baxis\":{\"endlinecolor\":\"#2a3f5f\",\"gridcolor\":\"white\",\"linecolor\":\"white\",\"minorgridcolor\":\"white\",\"startlinecolor\":\"#2a3f5f\"},\"type\":\"carpet\"}],\"table\":[{\"cells\":{\"fill\":{\"color\":\"#EBF0F8\"},\"line\":{\"color\":\"white\"}},\"header\":{\"fill\":{\"color\":\"#C8D4E3\"},\"line\":{\"color\":\"white\"}},\"type\":\"table\"}],\"barpolar\":[{\"marker\":{\"line\":{\"color\":\"#E5ECF6\",\"width\":0.5},\"pattern\":{\"fillmode\":\"overlay\",\"size\":10,\"solidity\":0.2}},\"type\":\"barpolar\"}],\"pie\":[{\"automargin\":true,\"type\":\"pie\"}]},\"layout\":{\"autotypenumbers\":\"strict\",\"colorway\":[\"#636efa\",\"#EF553B\",\"#00cc96\",\"#ab63fa\",\"#FFA15A\",\"#19d3f3\",\"#FF6692\",\"#B6E880\",\"#FF97FF\",\"#FECB52\"],\"font\":{\"color\":\"#2a3f5f\"},\"hovermode\":\"closest\",\"hoverlabel\":{\"align\":\"left\"},\"paper_bgcolor\":\"white\",\"plot_bgcolor\":\"#E5ECF6\",\"polar\":{\"bgcolor\":\"#E5ECF6\",\"angularaxis\":{\"gridcolor\":\"white\",\"linecolor\":\"white\",\"ticks\":\"\"},\"radialaxis\":{\"gridcolor\":\"white\",\"linecolor\":\"white\",\"ticks\":\"\"}},\"ternary\":{\"bgcolor\":\"#E5ECF6\",\"aaxis\":{\"gridcolor\":\"white\",\"linecolor\":\"white\",\"ticks\":\"\"},\"baxis\":{\"gridcolor\":\"white\",\"linecolor\":\"white\",\"ticks\":\"\"},\"caxis\":{\"gridcolor\":\"white\",\"linecolor\":\"white\",\"ticks\":\"\"}},\"coloraxis\":{\"colorbar\":{\"outlinewidth\":0,\"ticks\":\"\"}},\"colorscale\":{\"sequential\":[[0.0,\"#0d0887\"],[0.1111111111111111,\"#46039f\"],[0.2222222222222222,\"#7201a8\"],[0.3333333333333333,\"#9c179e\"],[0.4444444444444444,\"#bd3786\"],[0.5555555555555556,\"#d8576b\"],[0.6666666666666666,\"#ed7953\"],[0.7777777777777778,\"#fb9f3a\"],[0.8888888888888888,\"#fdca26\"],[1.0,\"#f0f921\"]],\"sequentialminus\":[[0.0,\"#0d0887\"],[0.1111111111111111,\"#46039f\"],[0.2222222222222222,\"#7201a8\"],[0.3333333333333333,\"#9c179e\"],[0.4444444444444444,\"#bd3786\"],[0.5555555555555556,\"#d8576b\"],[0.6666666666666666,\"#ed7953\"],[0.7777777777777778,\"#fb9f3a\"],[0.8888888888888888,\"#fdca26\"],[1.0,\"#f0f921\"]],\"diverging\":[[0,\"#8e0152\"],[0.1,\"#c51b7d\"],[0.2,\"#de77ae\"],[0.3,\"#f1b6da\"],[0.4,\"#fde0ef\"],[0.5,\"#f7f7f7\"],[0.6,\"#e6f5d0\"],[0.7,\"#b8e186\"],[0.8,\"#7fbc41\"],[0.9,\"#4d9221\"],[1,\"#276419\"]]},\"xaxis\":{\"gridcolor\":\"white\",\"linecolor\":\"white\",\"ticks\":\"\",\"title\":{\"standoff\":15},\"zerolinecolor\":\"white\",\"automargin\":true,\"zerolinewidth\":2},\"yaxis\":{\"gridcolor\":\"white\",\"linecolor\":\"white\",\"ticks\":\"\",\"title\":{\"standoff\":15},\"zerolinecolor\":\"white\",\"automargin\":true,\"zerolinewidth\":2},\"scene\":{\"xaxis\":{\"backgroundcolor\":\"#E5ECF6\",\"gridcolor\":\"white\",\"linecolor\":\"white\",\"showbackground\":true,\"ticks\":\"\",\"zerolinecolor\":\"white\",\"gridwidth\":2},\"yaxis\":{\"backgroundcolor\":\"#E5ECF6\",\"gridcolor\":\"white\",\"linecolor\":\"white\",\"showbackground\":true,\"ticks\":\"\",\"zerolinecolor\":\"white\",\"gridwidth\":2},\"zaxis\":{\"backgroundcolor\":\"#E5ECF6\",\"gridcolor\":\"white\",\"linecolor\":\"white\",\"showbackground\":true,\"ticks\":\"\",\"zerolinecolor\":\"white\",\"gridwidth\":2}},\"shapedefaults\":{\"line\":{\"color\":\"#2a3f5f\"}},\"annotationdefaults\":{\"arrowcolor\":\"#2a3f5f\",\"arrowhead\":0,\"arrowwidth\":1},\"geo\":{\"bgcolor\":\"white\",\"landcolor\":\"#E5ECF6\",\"subunitcolor\":\"white\",\"showland\":true,\"showlakes\":true,\"lakecolor\":\"white\"},\"title\":{\"x\":0.05},\"mapbox\":{\"style\":\"light\"}}},\"polar\":{\"radialaxis\":{\"visible\":true,\"range\":[0,40]}},\"title\":{\"text\":\"Pr\\u00e9valences de la malnutrition et du retard de croissance (en %)\"},\"plot_bgcolor\":\"white\"},                        {\"responsive\": true}                    ).then(function(){\n",
              "                            \n",
              "var gd = document.getElementById('4a7a5d74-a624-46ac-9380-b224471c27ab');\n",
              "var x = new MutationObserver(function (mutations, observer) {{\n",
              "        var display = window.getComputedStyle(gd).display;\n",
              "        if (!display || display === 'none') {{\n",
              "            console.log([gd, 'removed!']);\n",
              "            Plotly.purge(gd);\n",
              "            observer.disconnect();\n",
              "        }}\n",
              "}});\n",
              "\n",
              "// Listen for the removal of the full notebook cells\n",
              "var notebookContainer = gd.closest('#notebook-container');\n",
              "if (notebookContainer) {{\n",
              "    x.observe(notebookContainer, {childList: true});\n",
              "}}\n",
              "\n",
              "// Listen for the clearing of the current output cell\n",
              "var outputEl = gd.closest('.output');\n",
              "if (outputEl) {{\n",
              "    x.observe(outputEl, {childList: true});\n",
              "}}\n",
              "\n",
              "                        })                };                            </script>        </div>\n",
              "</body>\n",
              "</html>"
            ]
          },
          "metadata": {}
        }
      ],
      "source": [
        "# réalisons un radar pour la prévalence de la malnutrition et du retard de croissance\n",
        "df_countries_selected_sorted_nutrition = df_countries_selected.sort_values(by=[\"Prévalence du retard de croissance - 2020 (en %)\"], ascending=False)\n",
        "\n",
        "bangladesh_index = df_countries_selected_sorted_nutrition.index.get_loc('Bangladesh')\n",
        "india_index = df_countries_selected_sorted_nutrition.index.get_loc('India')\n",
        "pakistan_index = df_countries_selected_sorted_nutrition.index.get_loc('Pakistan')\n",
        "\n",
        "nutrition_radar = go.Figure()\n",
        "nutrition_radar.add_trace(go.Scatterpolar(r=[df_countries_selected_sorted_nutrition[\"Prévalence de la malnutrition - 2020 (en %)\"][i] for i in range(len(df_countries_selected_sorted_nutrition))], theta=df_countries_selected_sorted_nutrition.index, fill='toself', name='Malnutrition', line_color='darkblue'))\n",
        "nutrition_radar.add_trace(go.Scatterpolar(r=[df_countries_selected_sorted_nutrition[\"Prévalence du retard de croissance - 2020 (en %)\"][i] for i in range(len(df_countries_selected_sorted_nutrition))], theta=df_countries_selected_sorted_nutrition.index, fill='toself', name='Retard croiss.', line_color='lightblue'))\n",
        "nutrition_radar.update_layout(title=\"Prévalences de la malnutrition et du retard de croissance (en %)\", polar=dict(radialaxis=dict(visible=True, range=[0, 40])), plot_bgcolor=\"white\")\n",
        "nutrition_radar.add_trace(go.Scatterpolar(r=[df_countries_selected_sorted_nutrition[\"Prévalence du retard de croissance - 2020 (en %)\"][bangladesh_index]], theta=[df_countries_selected_sorted_nutrition.index[bangladesh_index]], mode='markers', name='Bangladesh', marker=dict(color='red', size=10, line=dict(color='black', width=2))))\n",
        "nutrition_radar.add_trace(go.Scatterpolar(r=[df_countries_selected_sorted_nutrition[\"Prévalence du retard de croissance - 2020 (en %)\"][india_index]], theta=[df_countries_selected_sorted_nutrition.index[india_index]], mode='markers', name='India', marker=dict(color='red', size=10, line=dict(color='black', width=2))))\n",
        "nutrition_radar.add_trace(go.Scatterpolar(r=[df_countries_selected_sorted_nutrition[\"Prévalence du retard de croissance - 2020 (en %)\"][pakistan_index]], theta=[df_countries_selected_sorted_nutrition.index[pakistan_index]], mode='markers', name='Pakistan', marker=dict(color='red', size=10, line=dict(color='black', width=2))))\n",
        "nutrition_radar.show()"
      ]
    },
    {
      "cell_type": "markdown",
      "metadata": {
        "id": "e72fuSYe8ve-"
      },
      "source": [
        "Ce radar pointe à nouveau le **Bangladesh**, l'**Inde** et le **Pakistan** comme dominants concernant la proportion d'enfants malnutris (respectivement **30.2%, 30.9% et 36.7%**), ou présentant un retard de croissance (respectivement **11.4%, 16.3% et 16.9%**)."
      ]
    },
    {
      "cell_type": "markdown",
      "metadata": {
        "id": "RHKsRUGzmX5V"
      },
      "source": [
        "### Zoom sur la mortalité"
      ]
    },
    {
      "cell_type": "code",
      "execution_count": null,
      "metadata": {
        "colab": {
          "base_uri": "https://localhost:8080/",
          "height": 542
        },
        "id": "LWCmejEyOpPQ",
        "outputId": "cbef5127-5e28-42e5-8734-6089dd1017e8"
      },
      "outputs": [
        {
          "output_type": "display_data",
          "data": {
            "text/html": [
              "<html>\n",
              "<head><meta charset=\"utf-8\" /></head>\n",
              "<body>\n",
              "    <div>            <script src=\"https://cdnjs.cloudflare.com/ajax/libs/mathjax/2.7.5/MathJax.js?config=TeX-AMS-MML_SVG\"></script><script type=\"text/javascript\">if (window.MathJax && window.MathJax.Hub && window.MathJax.Hub.Config) {window.MathJax.Hub.Config({SVG: {font: \"STIX-Web\"}});}</script>                <script type=\"text/javascript\">window.PlotlyConfig = {MathJaxConfig: 'local'};</script>\n",
              "        <script src=\"https://cdn.plot.ly/plotly-2.18.2.min.js\"></script>                <div id=\"bf8bef2a-f758-446b-842a-af75b5f88ebd\" class=\"plotly-graph-div\" style=\"height:525px; width:1300px;\"></div>            <script type=\"text/javascript\">                                    window.PLOTLYENV=window.PLOTLYENV || {};                                    if (document.getElementById(\"bf8bef2a-f758-446b-842a-af75b5f88ebd\")) {                    Plotly.newPlot(                        \"bf8bef2a-f758-446b-842a-af75b5f88ebd\",                        [{\"marker\":{\"color\":\"pink\"},\"name\":\"2020\",\"offsetgroup\":\"1\",\"orientation\":\"h\",\"text\":[73.0,77.0,70.0,67.0,81.0,78.0,75.0,77.0,77.0,76.0],\"x\":[73.0,77.0,70.0,67.0,81.0,78.0,75.0,77.0,77.0,76.0],\"xaxis\":\"x\",\"y\":[\"Bangladesh\",\"China\",\"India\",\"Pakistan\",\"Portugal\",\"Turkiye\",\"Vietnam\",\"Morocco\",\"Poland\",\"Brazil\"],\"type\":\"bar\"}],                        {\"template\":{\"data\":{\"histogram2dcontour\":[{\"type\":\"histogram2dcontour\",\"colorbar\":{\"outlinewidth\":0,\"ticks\":\"\"},\"colorscale\":[[0.0,\"#0d0887\"],[0.1111111111111111,\"#46039f\"],[0.2222222222222222,\"#7201a8\"],[0.3333333333333333,\"#9c179e\"],[0.4444444444444444,\"#bd3786\"],[0.5555555555555556,\"#d8576b\"],[0.6666666666666666,\"#ed7953\"],[0.7777777777777778,\"#fb9f3a\"],[0.8888888888888888,\"#fdca26\"],[1.0,\"#f0f921\"]]}],\"choropleth\":[{\"type\":\"choropleth\",\"colorbar\":{\"outlinewidth\":0,\"ticks\":\"\"}}],\"histogram2d\":[{\"type\":\"histogram2d\",\"colorbar\":{\"outlinewidth\":0,\"ticks\":\"\"},\"colorscale\":[[0.0,\"#0d0887\"],[0.1111111111111111,\"#46039f\"],[0.2222222222222222,\"#7201a8\"],[0.3333333333333333,\"#9c179e\"],[0.4444444444444444,\"#bd3786\"],[0.5555555555555556,\"#d8576b\"],[0.6666666666666666,\"#ed7953\"],[0.7777777777777778,\"#fb9f3a\"],[0.8888888888888888,\"#fdca26\"],[1.0,\"#f0f921\"]]}],\"heatmap\":[{\"type\":\"heatmap\",\"colorbar\":{\"outlinewidth\":0,\"ticks\":\"\"},\"colorscale\":[[0.0,\"#0d0887\"],[0.1111111111111111,\"#46039f\"],[0.2222222222222222,\"#7201a8\"],[0.3333333333333333,\"#9c179e\"],[0.4444444444444444,\"#bd3786\"],[0.5555555555555556,\"#d8576b\"],[0.6666666666666666,\"#ed7953\"],[0.7777777777777778,\"#fb9f3a\"],[0.8888888888888888,\"#fdca26\"],[1.0,\"#f0f921\"]]}],\"heatmapgl\":[{\"type\":\"heatmapgl\",\"colorbar\":{\"outlinewidth\":0,\"ticks\":\"\"},\"colorscale\":[[0.0,\"#0d0887\"],[0.1111111111111111,\"#46039f\"],[0.2222222222222222,\"#7201a8\"],[0.3333333333333333,\"#9c179e\"],[0.4444444444444444,\"#bd3786\"],[0.5555555555555556,\"#d8576b\"],[0.6666666666666666,\"#ed7953\"],[0.7777777777777778,\"#fb9f3a\"],[0.8888888888888888,\"#fdca26\"],[1.0,\"#f0f921\"]]}],\"contourcarpet\":[{\"type\":\"contourcarpet\",\"colorbar\":{\"outlinewidth\":0,\"ticks\":\"\"}}],\"contour\":[{\"type\":\"contour\",\"colorbar\":{\"outlinewidth\":0,\"ticks\":\"\"},\"colorscale\":[[0.0,\"#0d0887\"],[0.1111111111111111,\"#46039f\"],[0.2222222222222222,\"#7201a8\"],[0.3333333333333333,\"#9c179e\"],[0.4444444444444444,\"#bd3786\"],[0.5555555555555556,\"#d8576b\"],[0.6666666666666666,\"#ed7953\"],[0.7777777777777778,\"#fb9f3a\"],[0.8888888888888888,\"#fdca26\"],[1.0,\"#f0f921\"]]}],\"surface\":[{\"type\":\"surface\",\"colorbar\":{\"outlinewidth\":0,\"ticks\":\"\"},\"colorscale\":[[0.0,\"#0d0887\"],[0.1111111111111111,\"#46039f\"],[0.2222222222222222,\"#7201a8\"],[0.3333333333333333,\"#9c179e\"],[0.4444444444444444,\"#bd3786\"],[0.5555555555555556,\"#d8576b\"],[0.6666666666666666,\"#ed7953\"],[0.7777777777777778,\"#fb9f3a\"],[0.8888888888888888,\"#fdca26\"],[1.0,\"#f0f921\"]]}],\"mesh3d\":[{\"type\":\"mesh3d\",\"colorbar\":{\"outlinewidth\":0,\"ticks\":\"\"}}],\"scatter\":[{\"fillpattern\":{\"fillmode\":\"overlay\",\"size\":10,\"solidity\":0.2},\"type\":\"scatter\"}],\"parcoords\":[{\"type\":\"parcoords\",\"line\":{\"colorbar\":{\"outlinewidth\":0,\"ticks\":\"\"}}}],\"scatterpolargl\":[{\"type\":\"scatterpolargl\",\"marker\":{\"colorbar\":{\"outlinewidth\":0,\"ticks\":\"\"}}}],\"bar\":[{\"error_x\":{\"color\":\"#2a3f5f\"},\"error_y\":{\"color\":\"#2a3f5f\"},\"marker\":{\"line\":{\"color\":\"#E5ECF6\",\"width\":0.5},\"pattern\":{\"fillmode\":\"overlay\",\"size\":10,\"solidity\":0.2}},\"type\":\"bar\"}],\"scattergeo\":[{\"type\":\"scattergeo\",\"marker\":{\"colorbar\":{\"outlinewidth\":0,\"ticks\":\"\"}}}],\"scatterpolar\":[{\"type\":\"scatterpolar\",\"marker\":{\"colorbar\":{\"outlinewidth\":0,\"ticks\":\"\"}}}],\"histogram\":[{\"marker\":{\"pattern\":{\"fillmode\":\"overlay\",\"size\":10,\"solidity\":0.2}},\"type\":\"histogram\"}],\"scattergl\":[{\"type\":\"scattergl\",\"marker\":{\"colorbar\":{\"outlinewidth\":0,\"ticks\":\"\"}}}],\"scatter3d\":[{\"type\":\"scatter3d\",\"line\":{\"colorbar\":{\"outlinewidth\":0,\"ticks\":\"\"}},\"marker\":{\"colorbar\":{\"outlinewidth\":0,\"ticks\":\"\"}}}],\"scattermapbox\":[{\"type\":\"scattermapbox\",\"marker\":{\"colorbar\":{\"outlinewidth\":0,\"ticks\":\"\"}}}],\"scatterternary\":[{\"type\":\"scatterternary\",\"marker\":{\"colorbar\":{\"outlinewidth\":0,\"ticks\":\"\"}}}],\"scattercarpet\":[{\"type\":\"scattercarpet\",\"marker\":{\"colorbar\":{\"outlinewidth\":0,\"ticks\":\"\"}}}],\"carpet\":[{\"aaxis\":{\"endlinecolor\":\"#2a3f5f\",\"gridcolor\":\"white\",\"linecolor\":\"white\",\"minorgridcolor\":\"white\",\"startlinecolor\":\"#2a3f5f\"},\"baxis\":{\"endlinecolor\":\"#2a3f5f\",\"gridcolor\":\"white\",\"linecolor\":\"white\",\"minorgridcolor\":\"white\",\"startlinecolor\":\"#2a3f5f\"},\"type\":\"carpet\"}],\"table\":[{\"cells\":{\"fill\":{\"color\":\"#EBF0F8\"},\"line\":{\"color\":\"white\"}},\"header\":{\"fill\":{\"color\":\"#C8D4E3\"},\"line\":{\"color\":\"white\"}},\"type\":\"table\"}],\"barpolar\":[{\"marker\":{\"line\":{\"color\":\"#E5ECF6\",\"width\":0.5},\"pattern\":{\"fillmode\":\"overlay\",\"size\":10,\"solidity\":0.2}},\"type\":\"barpolar\"}],\"pie\":[{\"automargin\":true,\"type\":\"pie\"}]},\"layout\":{\"autotypenumbers\":\"strict\",\"colorway\":[\"#636efa\",\"#EF553B\",\"#00cc96\",\"#ab63fa\",\"#FFA15A\",\"#19d3f3\",\"#FF6692\",\"#B6E880\",\"#FF97FF\",\"#FECB52\"],\"font\":{\"color\":\"#2a3f5f\"},\"hovermode\":\"closest\",\"hoverlabel\":{\"align\":\"left\"},\"paper_bgcolor\":\"white\",\"plot_bgcolor\":\"#E5ECF6\",\"polar\":{\"bgcolor\":\"#E5ECF6\",\"angularaxis\":{\"gridcolor\":\"white\",\"linecolor\":\"white\",\"ticks\":\"\"},\"radialaxis\":{\"gridcolor\":\"white\",\"linecolor\":\"white\",\"ticks\":\"\"}},\"ternary\":{\"bgcolor\":\"#E5ECF6\",\"aaxis\":{\"gridcolor\":\"white\",\"linecolor\":\"white\",\"ticks\":\"\"},\"baxis\":{\"gridcolor\":\"white\",\"linecolor\":\"white\",\"ticks\":\"\"},\"caxis\":{\"gridcolor\":\"white\",\"linecolor\":\"white\",\"ticks\":\"\"}},\"coloraxis\":{\"colorbar\":{\"outlinewidth\":0,\"ticks\":\"\"}},\"colorscale\":{\"sequential\":[[0.0,\"#0d0887\"],[0.1111111111111111,\"#46039f\"],[0.2222222222222222,\"#7201a8\"],[0.3333333333333333,\"#9c179e\"],[0.4444444444444444,\"#bd3786\"],[0.5555555555555556,\"#d8576b\"],[0.6666666666666666,\"#ed7953\"],[0.7777777777777778,\"#fb9f3a\"],[0.8888888888888888,\"#fdca26\"],[1.0,\"#f0f921\"]],\"sequentialminus\":[[0.0,\"#0d0887\"],[0.1111111111111111,\"#46039f\"],[0.2222222222222222,\"#7201a8\"],[0.3333333333333333,\"#9c179e\"],[0.4444444444444444,\"#bd3786\"],[0.5555555555555556,\"#d8576b\"],[0.6666666666666666,\"#ed7953\"],[0.7777777777777778,\"#fb9f3a\"],[0.8888888888888888,\"#fdca26\"],[1.0,\"#f0f921\"]],\"diverging\":[[0,\"#8e0152\"],[0.1,\"#c51b7d\"],[0.2,\"#de77ae\"],[0.3,\"#f1b6da\"],[0.4,\"#fde0ef\"],[0.5,\"#f7f7f7\"],[0.6,\"#e6f5d0\"],[0.7,\"#b8e186\"],[0.8,\"#7fbc41\"],[0.9,\"#4d9221\"],[1,\"#276419\"]]},\"xaxis\":{\"gridcolor\":\"white\",\"linecolor\":\"white\",\"ticks\":\"\",\"title\":{\"standoff\":15},\"zerolinecolor\":\"white\",\"automargin\":true,\"zerolinewidth\":2},\"yaxis\":{\"gridcolor\":\"white\",\"linecolor\":\"white\",\"ticks\":\"\",\"title\":{\"standoff\":15},\"zerolinecolor\":\"white\",\"automargin\":true,\"zerolinewidth\":2},\"scene\":{\"xaxis\":{\"backgroundcolor\":\"#E5ECF6\",\"gridcolor\":\"white\",\"linecolor\":\"white\",\"showbackground\":true,\"ticks\":\"\",\"zerolinecolor\":\"white\",\"gridwidth\":2},\"yaxis\":{\"backgroundcolor\":\"#E5ECF6\",\"gridcolor\":\"white\",\"linecolor\":\"white\",\"showbackground\":true,\"ticks\":\"\",\"zerolinecolor\":\"white\",\"gridwidth\":2},\"zaxis\":{\"backgroundcolor\":\"#E5ECF6\",\"gridcolor\":\"white\",\"linecolor\":\"white\",\"showbackground\":true,\"ticks\":\"\",\"zerolinecolor\":\"white\",\"gridwidth\":2}},\"shapedefaults\":{\"line\":{\"color\":\"#2a3f5f\"}},\"annotationdefaults\":{\"arrowcolor\":\"#2a3f5f\",\"arrowhead\":0,\"arrowwidth\":1},\"geo\":{\"bgcolor\":\"white\",\"landcolor\":\"#E5ECF6\",\"subunitcolor\":\"white\",\"showland\":true,\"showlakes\":true,\"lakecolor\":\"white\"},\"title\":{\"x\":0.05},\"mapbox\":{\"style\":\"light\"}}},\"yaxis\":{\"categoryorder\":\"total descending\",\"title\":{\"text\":\"Pays\"}},\"title\":{\"text\":\"Esp\\u00e9rance de vie en 2020 pour chaque pays\"},\"barmode\":\"group\",\"plot_bgcolor\":\"rgba(0,0,0,0)\",\"xaxis\":{\"title\":{\"text\":\"Esp\\u00e9rance de vie (en ann\\u00e9es)\"}},\"width\":1300,\"shapes\":[{\"line\":{\"color\":\"red\"},\"type\":\"line\",\"x0\":82.25,\"x1\":82.25,\"xref\":\"x\",\"y0\":0,\"y1\":1,\"yref\":\"paper\"}],\"annotations\":[{\"font\":{\"color\":\"red\"},\"showarrow\":false,\"text\":\"France : 82.25 ans\",\"x\":77,\"y\":10,\"yshift\":10}]},                        {\"responsive\": true}                    ).then(function(){\n",
              "                            \n",
              "var gd = document.getElementById('bf8bef2a-f758-446b-842a-af75b5f88ebd');\n",
              "var x = new MutationObserver(function (mutations, observer) {{\n",
              "        var display = window.getComputedStyle(gd).display;\n",
              "        if (!display || display === 'none') {{\n",
              "            console.log([gd, 'removed!']);\n",
              "            Plotly.purge(gd);\n",
              "            observer.disconnect();\n",
              "        }}\n",
              "}});\n",
              "\n",
              "// Listen for the removal of the full notebook cells\n",
              "var notebookContainer = gd.closest('#notebook-container');\n",
              "if (notebookContainer) {{\n",
              "    x.observe(notebookContainer, {childList: true});\n",
              "}}\n",
              "\n",
              "// Listen for the clearing of the current output cell\n",
              "var outputEl = gd.closest('.output');\n",
              "if (outputEl) {{\n",
              "    x.observe(outputEl, {childList: true});\n",
              "}}\n",
              "\n",
              "                        })                };                            </script>        </div>\n",
              "</body>\n",
              "</html>"
            ]
          },
          "metadata": {}
        }
      ],
      "source": [
        "# barplot de comparaison des espérances de vie avec le référentiel de la France\n",
        "compare_life_expectancy = go.Figure(data=[go.Bar(name='2020', y=df_countries_selected.index, x=df_countries_selected[\"Espérance de vie - 2020\"], xaxis='x', offsetgroup=1, text=df_countries_selected[\"Espérance de vie - 2020\"], marker_color='pink', orientation='h')])\n",
        "compare_life_expectancy.update_layout(title=\"Espérance de vie en 2020 pour chaque pays\", barmode='group', plot_bgcolor=\"rgba(0,0,0,0)\", xaxis_title=\"Espérance de vie (en années)\", yaxis_categoryorder='total descending', yaxis_title=\"Pays\", width=1300, shapes=[dict(type=\"line\", yref=\"paper\", y0=0, y1=1, xref=\"x\", x0=82.25, x1=82.25, line=dict(color=\"red\"))])\n",
        "compare_life_expectancy.add_annotation(x=77, y=10, text=\"France : 82.25 ans\", showarrow=False, font=dict(color='red'), yshift=10)\n",
        "compare_life_expectancy.show()"
      ]
    },
    {
      "cell_type": "markdown",
      "metadata": {
        "id": "BfoX2awkXO7D"
      },
      "source": [
        "Nous voyons à nouveau que les pays les plus reculés de la France en terme d'espérance de vie sont : **Pakistan** (**67 ans**), **Inde** (**70 ans**), **Bangladesh** (**73 ans**). Soir respectivement **15.25, 12.25 et 9.25** points de moins que la France."
      ]
    },
    {
      "cell_type": "code",
      "execution_count": null,
      "metadata": {
        "colab": {
          "base_uri": "https://localhost:8080/",
          "height": 542
        },
        "id": "2zAhcoNdYCF9",
        "outputId": "041cdc29-39ca-41b6-c4cd-cf9bd210ff80"
      },
      "outputs": [
        {
          "output_type": "display_data",
          "data": {
            "text/html": [
              "<html>\n",
              "<head><meta charset=\"utf-8\" /></head>\n",
              "<body>\n",
              "    <div>            <script src=\"https://cdnjs.cloudflare.com/ajax/libs/mathjax/2.7.5/MathJax.js?config=TeX-AMS-MML_SVG\"></script><script type=\"text/javascript\">if (window.MathJax && window.MathJax.Hub && window.MathJax.Hub.Config) {window.MathJax.Hub.Config({SVG: {font: \"STIX-Web\"}});}</script>                <script type=\"text/javascript\">window.PlotlyConfig = {MathJaxConfig: 'local'};</script>\n",
              "        <script src=\"https://cdn.plot.ly/plotly-2.18.2.min.js\"></script>                <div id=\"1c733c4c-b6ff-4d6d-a5be-bf6fd9f79674\" class=\"plotly-graph-div\" style=\"height:525px; width:100%;\"></div>            <script type=\"text/javascript\">                                    window.PLOTLYENV=window.PLOTLYENV || {};                                    if (document.getElementById(\"1c733c4c-b6ff-4d6d-a5be-bf6fd9f79674\")) {                    Plotly.newPlot(                        \"1c733c4c-b6ff-4d6d-a5be-bf6fd9f79674\",                        [{\"fill\":\"toself\",\"line\":{\"color\":\"darkblue\"},\"name\":\"N\\u00e9onatale\",\"r\":[40.0,20.0,18.0,10.0,12.0,9.0,5.0,4.0,3.0,2.0],\"theta\":[\"Pakistan\",\"India\",\"Bangladesh\",\"Vietnam\",\"Morocco\",\"Brazil\",\"Turkiye\",\"China\",\"Poland\",\"Portugal\"],\"type\":\"scatterpolar\"},{\"fill\":\"toself\",\"line\":{\"color\":\"steelblue\"},\"name\":\"Infantile\",\"r\":[54.0,27.0,24.0,17.0,16.0,13.0,8.0,6.0,4.0,3.0],\"theta\":[\"Pakistan\",\"India\",\"Bangladesh\",\"Vietnam\",\"Morocco\",\"Brazil\",\"Turkiye\",\"China\",\"Poland\",\"Portugal\"],\"type\":\"scatterpolar\"},{\"fill\":\"toself\",\"line\":{\"color\":\"lightblue\"},\"name\":\"< 5 ans\",\"r\":[65.0,33.0,29.0,21.0,19.0,15.0,10.0,7.0,4.0,3.0],\"theta\":[\"Pakistan\",\"India\",\"Bangladesh\",\"Vietnam\",\"Morocco\",\"Brazil\",\"Turkiye\",\"China\",\"Poland\",\"Portugal\"],\"type\":\"scatterpolar\"},{\"marker\":{\"color\":\"red\",\"line\":{\"color\":\"black\",\"width\":2},\"size\":10},\"mode\":\"markers\",\"name\":\"Bangladesh\",\"r\":[29.0],\"theta\":[\"Bangladesh\"],\"type\":\"scatterpolar\"},{\"marker\":{\"color\":\"red\",\"line\":{\"color\":\"black\",\"width\":2},\"size\":10},\"mode\":\"markers\",\"name\":\"Inde\",\"r\":[33.0],\"theta\":[\"India\"],\"type\":\"scatterpolar\"},{\"marker\":{\"color\":\"red\",\"line\":{\"color\":\"black\",\"width\":2},\"size\":10},\"mode\":\"markers\",\"name\":\"Pakistan\",\"r\":[65.0],\"theta\":[\"Pakistan\"],\"type\":\"scatterpolar\"}],                        {\"template\":{\"data\":{\"histogram2dcontour\":[{\"type\":\"histogram2dcontour\",\"colorbar\":{\"outlinewidth\":0,\"ticks\":\"\"},\"colorscale\":[[0.0,\"#0d0887\"],[0.1111111111111111,\"#46039f\"],[0.2222222222222222,\"#7201a8\"],[0.3333333333333333,\"#9c179e\"],[0.4444444444444444,\"#bd3786\"],[0.5555555555555556,\"#d8576b\"],[0.6666666666666666,\"#ed7953\"],[0.7777777777777778,\"#fb9f3a\"],[0.8888888888888888,\"#fdca26\"],[1.0,\"#f0f921\"]]}],\"choropleth\":[{\"type\":\"choropleth\",\"colorbar\":{\"outlinewidth\":0,\"ticks\":\"\"}}],\"histogram2d\":[{\"type\":\"histogram2d\",\"colorbar\":{\"outlinewidth\":0,\"ticks\":\"\"},\"colorscale\":[[0.0,\"#0d0887\"],[0.1111111111111111,\"#46039f\"],[0.2222222222222222,\"#7201a8\"],[0.3333333333333333,\"#9c179e\"],[0.4444444444444444,\"#bd3786\"],[0.5555555555555556,\"#d8576b\"],[0.6666666666666666,\"#ed7953\"],[0.7777777777777778,\"#fb9f3a\"],[0.8888888888888888,\"#fdca26\"],[1.0,\"#f0f921\"]]}],\"heatmap\":[{\"type\":\"heatmap\",\"colorbar\":{\"outlinewidth\":0,\"ticks\":\"\"},\"colorscale\":[[0.0,\"#0d0887\"],[0.1111111111111111,\"#46039f\"],[0.2222222222222222,\"#7201a8\"],[0.3333333333333333,\"#9c179e\"],[0.4444444444444444,\"#bd3786\"],[0.5555555555555556,\"#d8576b\"],[0.6666666666666666,\"#ed7953\"],[0.7777777777777778,\"#fb9f3a\"],[0.8888888888888888,\"#fdca26\"],[1.0,\"#f0f921\"]]}],\"heatmapgl\":[{\"type\":\"heatmapgl\",\"colorbar\":{\"outlinewidth\":0,\"ticks\":\"\"},\"colorscale\":[[0.0,\"#0d0887\"],[0.1111111111111111,\"#46039f\"],[0.2222222222222222,\"#7201a8\"],[0.3333333333333333,\"#9c179e\"],[0.4444444444444444,\"#bd3786\"],[0.5555555555555556,\"#d8576b\"],[0.6666666666666666,\"#ed7953\"],[0.7777777777777778,\"#fb9f3a\"],[0.8888888888888888,\"#fdca26\"],[1.0,\"#f0f921\"]]}],\"contourcarpet\":[{\"type\":\"contourcarpet\",\"colorbar\":{\"outlinewidth\":0,\"ticks\":\"\"}}],\"contour\":[{\"type\":\"contour\",\"colorbar\":{\"outlinewidth\":0,\"ticks\":\"\"},\"colorscale\":[[0.0,\"#0d0887\"],[0.1111111111111111,\"#46039f\"],[0.2222222222222222,\"#7201a8\"],[0.3333333333333333,\"#9c179e\"],[0.4444444444444444,\"#bd3786\"],[0.5555555555555556,\"#d8576b\"],[0.6666666666666666,\"#ed7953\"],[0.7777777777777778,\"#fb9f3a\"],[0.8888888888888888,\"#fdca26\"],[1.0,\"#f0f921\"]]}],\"surface\":[{\"type\":\"surface\",\"colorbar\":{\"outlinewidth\":0,\"ticks\":\"\"},\"colorscale\":[[0.0,\"#0d0887\"],[0.1111111111111111,\"#46039f\"],[0.2222222222222222,\"#7201a8\"],[0.3333333333333333,\"#9c179e\"],[0.4444444444444444,\"#bd3786\"],[0.5555555555555556,\"#d8576b\"],[0.6666666666666666,\"#ed7953\"],[0.7777777777777778,\"#fb9f3a\"],[0.8888888888888888,\"#fdca26\"],[1.0,\"#f0f921\"]]}],\"mesh3d\":[{\"type\":\"mesh3d\",\"colorbar\":{\"outlinewidth\":0,\"ticks\":\"\"}}],\"scatter\":[{\"fillpattern\":{\"fillmode\":\"overlay\",\"size\":10,\"solidity\":0.2},\"type\":\"scatter\"}],\"parcoords\":[{\"type\":\"parcoords\",\"line\":{\"colorbar\":{\"outlinewidth\":0,\"ticks\":\"\"}}}],\"scatterpolargl\":[{\"type\":\"scatterpolargl\",\"marker\":{\"colorbar\":{\"outlinewidth\":0,\"ticks\":\"\"}}}],\"bar\":[{\"error_x\":{\"color\":\"#2a3f5f\"},\"error_y\":{\"color\":\"#2a3f5f\"},\"marker\":{\"line\":{\"color\":\"#E5ECF6\",\"width\":0.5},\"pattern\":{\"fillmode\":\"overlay\",\"size\":10,\"solidity\":0.2}},\"type\":\"bar\"}],\"scattergeo\":[{\"type\":\"scattergeo\",\"marker\":{\"colorbar\":{\"outlinewidth\":0,\"ticks\":\"\"}}}],\"scatterpolar\":[{\"type\":\"scatterpolar\",\"marker\":{\"colorbar\":{\"outlinewidth\":0,\"ticks\":\"\"}}}],\"histogram\":[{\"marker\":{\"pattern\":{\"fillmode\":\"overlay\",\"size\":10,\"solidity\":0.2}},\"type\":\"histogram\"}],\"scattergl\":[{\"type\":\"scattergl\",\"marker\":{\"colorbar\":{\"outlinewidth\":0,\"ticks\":\"\"}}}],\"scatter3d\":[{\"type\":\"scatter3d\",\"line\":{\"colorbar\":{\"outlinewidth\":0,\"ticks\":\"\"}},\"marker\":{\"colorbar\":{\"outlinewidth\":0,\"ticks\":\"\"}}}],\"scattermapbox\":[{\"type\":\"scattermapbox\",\"marker\":{\"colorbar\":{\"outlinewidth\":0,\"ticks\":\"\"}}}],\"scatterternary\":[{\"type\":\"scatterternary\",\"marker\":{\"colorbar\":{\"outlinewidth\":0,\"ticks\":\"\"}}}],\"scattercarpet\":[{\"type\":\"scattercarpet\",\"marker\":{\"colorbar\":{\"outlinewidth\":0,\"ticks\":\"\"}}}],\"carpet\":[{\"aaxis\":{\"endlinecolor\":\"#2a3f5f\",\"gridcolor\":\"white\",\"linecolor\":\"white\",\"minorgridcolor\":\"white\",\"startlinecolor\":\"#2a3f5f\"},\"baxis\":{\"endlinecolor\":\"#2a3f5f\",\"gridcolor\":\"white\",\"linecolor\":\"white\",\"minorgridcolor\":\"white\",\"startlinecolor\":\"#2a3f5f\"},\"type\":\"carpet\"}],\"table\":[{\"cells\":{\"fill\":{\"color\":\"#EBF0F8\"},\"line\":{\"color\":\"white\"}},\"header\":{\"fill\":{\"color\":\"#C8D4E3\"},\"line\":{\"color\":\"white\"}},\"type\":\"table\"}],\"barpolar\":[{\"marker\":{\"line\":{\"color\":\"#E5ECF6\",\"width\":0.5},\"pattern\":{\"fillmode\":\"overlay\",\"size\":10,\"solidity\":0.2}},\"type\":\"barpolar\"}],\"pie\":[{\"automargin\":true,\"type\":\"pie\"}]},\"layout\":{\"autotypenumbers\":\"strict\",\"colorway\":[\"#636efa\",\"#EF553B\",\"#00cc96\",\"#ab63fa\",\"#FFA15A\",\"#19d3f3\",\"#FF6692\",\"#B6E880\",\"#FF97FF\",\"#FECB52\"],\"font\":{\"color\":\"#2a3f5f\"},\"hovermode\":\"closest\",\"hoverlabel\":{\"align\":\"left\"},\"paper_bgcolor\":\"white\",\"plot_bgcolor\":\"#E5ECF6\",\"polar\":{\"bgcolor\":\"#E5ECF6\",\"angularaxis\":{\"gridcolor\":\"white\",\"linecolor\":\"white\",\"ticks\":\"\"},\"radialaxis\":{\"gridcolor\":\"white\",\"linecolor\":\"white\",\"ticks\":\"\"}},\"ternary\":{\"bgcolor\":\"#E5ECF6\",\"aaxis\":{\"gridcolor\":\"white\",\"linecolor\":\"white\",\"ticks\":\"\"},\"baxis\":{\"gridcolor\":\"white\",\"linecolor\":\"white\",\"ticks\":\"\"},\"caxis\":{\"gridcolor\":\"white\",\"linecolor\":\"white\",\"ticks\":\"\"}},\"coloraxis\":{\"colorbar\":{\"outlinewidth\":0,\"ticks\":\"\"}},\"colorscale\":{\"sequential\":[[0.0,\"#0d0887\"],[0.1111111111111111,\"#46039f\"],[0.2222222222222222,\"#7201a8\"],[0.3333333333333333,\"#9c179e\"],[0.4444444444444444,\"#bd3786\"],[0.5555555555555556,\"#d8576b\"],[0.6666666666666666,\"#ed7953\"],[0.7777777777777778,\"#fb9f3a\"],[0.8888888888888888,\"#fdca26\"],[1.0,\"#f0f921\"]],\"sequentialminus\":[[0.0,\"#0d0887\"],[0.1111111111111111,\"#46039f\"],[0.2222222222222222,\"#7201a8\"],[0.3333333333333333,\"#9c179e\"],[0.4444444444444444,\"#bd3786\"],[0.5555555555555556,\"#d8576b\"],[0.6666666666666666,\"#ed7953\"],[0.7777777777777778,\"#fb9f3a\"],[0.8888888888888888,\"#fdca26\"],[1.0,\"#f0f921\"]],\"diverging\":[[0,\"#8e0152\"],[0.1,\"#c51b7d\"],[0.2,\"#de77ae\"],[0.3,\"#f1b6da\"],[0.4,\"#fde0ef\"],[0.5,\"#f7f7f7\"],[0.6,\"#e6f5d0\"],[0.7,\"#b8e186\"],[0.8,\"#7fbc41\"],[0.9,\"#4d9221\"],[1,\"#276419\"]]},\"xaxis\":{\"gridcolor\":\"white\",\"linecolor\":\"white\",\"ticks\":\"\",\"title\":{\"standoff\":15},\"zerolinecolor\":\"white\",\"automargin\":true,\"zerolinewidth\":2},\"yaxis\":{\"gridcolor\":\"white\",\"linecolor\":\"white\",\"ticks\":\"\",\"title\":{\"standoff\":15},\"zerolinecolor\":\"white\",\"automargin\":true,\"zerolinewidth\":2},\"scene\":{\"xaxis\":{\"backgroundcolor\":\"#E5ECF6\",\"gridcolor\":\"white\",\"linecolor\":\"white\",\"showbackground\":true,\"ticks\":\"\",\"zerolinecolor\":\"white\",\"gridwidth\":2},\"yaxis\":{\"backgroundcolor\":\"#E5ECF6\",\"gridcolor\":\"white\",\"linecolor\":\"white\",\"showbackground\":true,\"ticks\":\"\",\"zerolinecolor\":\"white\",\"gridwidth\":2},\"zaxis\":{\"backgroundcolor\":\"#E5ECF6\",\"gridcolor\":\"white\",\"linecolor\":\"white\",\"showbackground\":true,\"ticks\":\"\",\"zerolinecolor\":\"white\",\"gridwidth\":2}},\"shapedefaults\":{\"line\":{\"color\":\"#2a3f5f\"}},\"annotationdefaults\":{\"arrowcolor\":\"#2a3f5f\",\"arrowhead\":0,\"arrowwidth\":1},\"geo\":{\"bgcolor\":\"white\",\"landcolor\":\"#E5ECF6\",\"subunitcolor\":\"white\",\"showland\":true,\"showlakes\":true,\"lakecolor\":\"white\"},\"title\":{\"x\":0.05},\"mapbox\":{\"style\":\"light\"}}},\"polar\":{\"radialaxis\":{\"visible\":true,\"range\":[0,70]}},\"title\":{\"text\":\"Taux de mortalit\\u00e9 selon l'\\u00e2ge de l'enfant (pour 1000 naissances en un an)\"},\"plot_bgcolor\":\"white\"},                        {\"responsive\": true}                    ).then(function(){\n",
              "                            \n",
              "var gd = document.getElementById('1c733c4c-b6ff-4d6d-a5be-bf6fd9f79674');\n",
              "var x = new MutationObserver(function (mutations, observer) {{\n",
              "        var display = window.getComputedStyle(gd).display;\n",
              "        if (!display || display === 'none') {{\n",
              "            console.log([gd, 'removed!']);\n",
              "            Plotly.purge(gd);\n",
              "            observer.disconnect();\n",
              "        }}\n",
              "}});\n",
              "\n",
              "// Listen for the removal of the full notebook cells\n",
              "var notebookContainer = gd.closest('#notebook-container');\n",
              "if (notebookContainer) {{\n",
              "    x.observe(notebookContainer, {childList: true});\n",
              "}}\n",
              "\n",
              "// Listen for the clearing of the current output cell\n",
              "var outputEl = gd.closest('.output');\n",
              "if (outputEl) {{\n",
              "    x.observe(outputEl, {childList: true});\n",
              "}}\n",
              "\n",
              "                        })                };                            </script>        </div>\n",
              "</body>\n",
              "</html>"
            ]
          },
          "metadata": {}
        }
      ],
      "source": [
        "# scatterpolar pour les taux de mortalité selon les âges des enfants\n",
        "df_countries_selected_sorted_mortality = df_countries_selected.sort_values(by=['Taux de mortalité < 5 ans - 2020 (en ‰)'], ascending=False)\n",
        "\n",
        "bangladesh_index = df_countries_selected_sorted_mortality.index.get_loc('Bangladesh') # renvoie la position de l'index correspondant\n",
        "india_index = df_countries_selected_sorted_mortality.index.get_loc('India')\n",
        "pakistan_index = df_countries_selected_sorted_mortality.index.get_loc('Pakistan')\n",
        "\n",
        "mortality_radar = go.Figure()\n",
        "mortality_radar.add_trace(go.Scatterpolar(r=[df_countries_selected_sorted_mortality[\"Taux de mortalité néonatale - 2020 (en ‰)\"][i] for i in range(len(df_countries_selected_sorted_mortality))], theta=df_countries_selected_sorted_mortality.index, fill='toself', name='Néonatale', line_color='darkblue'))\n",
        "mortality_radar.add_trace(go.Scatterpolar(r=[df_countries_selected_sorted_mortality[\"Taux de mortalité infantile - 2020 (en ‰)\"][i] for i in range(len(df_countries_selected_sorted_mortality))], theta=df_countries_selected_sorted_mortality.index, fill='toself', name='Infantile', line_color='steelblue'))\n",
        "mortality_radar.add_trace(go.Scatterpolar(r=[df_countries_selected_sorted_mortality[\"Taux de mortalité < 5 ans - 2020 (en ‰)\"][i] for i in range(len(df_countries_selected_sorted_mortality))], theta=df_countries_selected_sorted_mortality.index, fill='toself', name='< 5 ans', line_color='lightblue'))\n",
        "mortality_radar.update_layout(title=\"Taux de mortalité selon l'âge de l'enfant (pour 1000 naissances en un an)\", polar=dict(radialaxis=dict(visible=True, range=[0, 70])), plot_bgcolor=\"white\")\n",
        "mortality_radar.add_trace(go.Scatterpolar(r=[df_countries_selected_sorted_mortality[\"Taux de mortalité < 5 ans - 2020 (en ‰)\"][bangladesh_index]], theta=[df_countries_selected_sorted_mortality.index[bangladesh_index]], mode='markers', name='Bangladesh', marker=dict(color='red', size=10, line=dict(color='black', width=2))))\n",
        "mortality_radar.add_trace(go.Scatterpolar(r=[df_countries_selected_sorted_mortality[\"Taux de mortalité < 5 ans - 2020 (en ‰)\"][india_index]], theta=[df_countries_selected_sorted_mortality.index[india_index]], mode='markers', name='Inde', marker=dict(color='red', size=10, line=dict(color='black', width=2))))\n",
        "mortality_radar.add_trace(go.Scatterpolar(r=[df_countries_selected_sorted_mortality[\"Taux de mortalité < 5 ans - 2020 (en ‰)\"][pakistan_index]], theta=[df_countries_selected_sorted_mortality.index[pakistan_index]], mode='markers', name='Pakistan', marker=dict(color='red', size=10, line=dict(color='black', width=2))))\n",
        "mortality_radar.show()"
      ]
    },
    {
      "cell_type": "markdown",
      "metadata": {
        "id": "3xYAQoxv9__D"
      },
      "source": [
        "Nous observons que les plus hauts taux de mortalité, à tous les âges des enfants, se situent au **Bangladesh**, **Inde**, **Pakistan** : pour la mortalité néonatale on mesure respectivement **18‰, 20‰ et 40‰** ; pour la mortalité infantile on note respectivement **24‰, 27‰ et 54‰** ; pour la mortalité < 5 ans, on relève respectivement **29‰, 33‰ et 65‰**."
      ]
    },
    {
      "cell_type": "markdown",
      "source": [
        "**Dans cette première partie sur les liens entre la fast fashion et les données sur les populations de la Banque Mondiale, nous avons mis en évidence à mesure de notre progression, un pattern de résultats similaire concernant les pays figurant dans notre top 3 (si l'on élimine la Chine qui est plutôt un pays riche) des pays les plus gros producteurs de vêtements pour Vertbaudet, à savoir le Bangladesh, l'Inde et le Pakistan. Nous avons vu dans un premier temps l'ampleur de leur empreinte carbone et eau, et dans un deuxième temps, que ce sont ces pays qui, alors qu'ils génèrent de la richesse (forte valeur ajoutée) de par leur industrie, présentent aussi les plus hauts taux de travail infantile unique sans scolarisation, pauvreté, malnutrition, mortalité infantile, et les plus bas taux d'accès aux énergies pour cuisiner. Nous avons vu la quantité d'eau prélevée par ces pays, alors que les ressources en eau par habitant y sont moindres que dans les autres pays. Notre constat ne souligne pas, bien entendu, de relation de cause à effet, mais simplement une contigence importante à relever. Notre interprétation met en évidence des inégalités dans ces pays producteurs, entre l'importance accordée à la production pour générer richesse et profit, au détriment des populations qui y vivent. Outre cette inégalité, nos calculs initiaux sur l'empreinte carbone et eau de ces pays nous montre à quel point cette industrie est néfaste pour l'environnement dans lequel vivent les enfants qui y habitent, portant atteinte à leur droit à évoluer dans un milieu sain. Nous allons à présent, dans notre seconde partie, nous focaliser sur la composition de ces vêtements et étudier le lien avec la santé des enfants qui les portent.**"
      ],
      "metadata": {
        "id": "bR-iCDXTebLv"
      }
    },
    {
      "cell_type": "markdown",
      "metadata": {
        "id": "B3OHDE--qLmj"
      },
      "source": [
        "# **Axe 2. La fast fashion et la santé des enfants consommateurs**"
      ]
    },
    {
      "cell_type": "markdown",
      "metadata": {
        "id": "hLECO3iPrkI8"
      },
      "source": [
        "Nous avons pointé dans la partie précédente les pays de fabrication des vêtements Vertbaudet, et mis en évidence les tendances communes des 4 pays les plus producteurs, concernant leurs indicateurs environnementaux et sociaux négatifs.</br>\n",
        "Nous souhaitons à présent nous pencher sur les enfants consommateurs (indirects, qui portent les vêtements achetés par leurs parents). \n",
        "\n",
        "Pour étudier cette question, nous nous pencherons sur la composition des vêtements du site Vertbaudet pour en extraire les types de matières (coton, laine, polyester, élasthanne, etc.) et en déterminer des taux, à partir des poids que nous aurons définis pour chaque vêtement. **Puis, nous définirons un score de toxicité pour chaque matière que nous assignerons à chaque vêtement, selon des critères que nous expliciterons**. "
      ]
    },
    {
      "cell_type": "markdown",
      "metadata": {
        "id": "iwUK_xcssmPw"
      },
      "source": [
        "## Scraping des vêtements et leurs composés sur le site Vertbaudet et calcul d'un score de toxicité"
      ]
    },
    {
      "cell_type": "markdown",
      "metadata": {
        "id": "1hWuHpc73Ck-"
      },
      "source": [
        "Nous allons récupérer l'ensemble des articles disponibles sur les pages bébés, filles et garçons du site, les stocker dans des dataframes et concaténer les trois dataframes obtenus en un unique. Puis nous nettoierons les données de manière à obtenir un résultat exploitable, et nous définirons un **score de toxicité** pour chaque matière. Méthodologiquement, il n'a pas été possible de récupérer des chiffres précis et tangibles mesurant la présence d'agents toxiques dans chaque matière. Les articles mentionnant ces idées présentent les matières synthétiques, comme nous l'avons vu, comme les plus néfastes, sans toutefois donner de chiffres, ou sans différencier les matières entre elles, ce qui n'est pas suffisamment précis pour nous offrir un référentiel calculatoire. Les études portant sur la présence d'agents chimiques et leurs effets sur la santé portent toutes sur des tests en laboratoire à partir d'échantillons de vêtements, ce qui ne nous permet pas d'extrapoler sur les collections présentes chez Vertbaudet. Aussi, nous allons nous baser sur des ressources afin de nous forger des critères pour placer chaque matière sur une échelle allant de **0 (pas du tout toxique)** à **5 (extrêmement toxique)**. Nous les expliciterons plus loin dans notre code."
      ]
    },
    {
      "cell_type": "code",
      "execution_count": null,
      "metadata": {
        "colab": {
          "base_uri": "https://localhost:8080/"
        },
        "id": "WBhYg5piixTy",
        "outputId": "05281566-1f45-4c6f-a8cd-f42fa52de673"
      },
      "outputs": [
        {
          "name": "stdout",
          "output_type": "stream",
          "text": [
            "Request: 27; Frequency: 0.08054661753530698 requests/s\n"
          ]
        }
      ],
      "source": [
        "# ----- pages bébés -----\n",
        "\n",
        "# récupérons les titres et les URL de chaque article pour les 27 pages\n",
        "pages_bebes = [str(i) for i in range(1,28)]\n",
        "all_titres = []\n",
        "start_time = time()\n",
        "page_count = 0\n",
        "req = 0\n",
        "\n",
        "for page in pages_bebes:\n",
        "  url = 'https://www.vertbaudet.fr/bebe/page'+ page +'.htm'\n",
        "  response = requests.get(url, allow_redirects=False)\n",
        "  sleep(randint(8,15))\n",
        "  req += 1\n",
        "  elapsed_time = time() - start_time\n",
        "  print('Request: {}; Frequency: {} requests/s'.format(req, req/elapsed_time))\n",
        "  clear_output(wait = True)\n",
        "  if response.status_code == 200:\n",
        "    page_count += 1\n",
        "  soup = BeautifulSoup(response.text, 'html.parser')\n",
        "  body = soup.body\n",
        "  container = body.find_all('a', class_='omnitureproductlink product-image-link')\n",
        "  all_titres = all_titres + container"
      ]
    },
    {
      "cell_type": "code",
      "execution_count": null,
      "metadata": {
        "colab": {
          "base_uri": "https://localhost:8080/"
        },
        "id": "T2ssXQgIRz0O",
        "outputId": "6b74be16-c1b2-4168-c4f8-5cbdaf94ffd4"
      },
      "outputs": [
        {
          "name": "stdout",
          "output_type": "stream",
          "text": [
            "Request: 1555; Frequency: 0.5391694849351871 requests/s\n"
          ]
        }
      ],
      "source": [
        "# récupérons les compositions pour chaque article bébé pour les 27 pages\n",
        "liens = [l[\"href\"] for l in all_titres] # pour avoir les contenus de la balise href\n",
        "pages_liens = [str(i) for i in liens] # pour automatiser les URL dans la boucle\n",
        "page_line_count = len(pages_liens) # pour baliser le nb de requêtes\n",
        "composants = []\n",
        "composes = []\n",
        "composants_final = []\n",
        "start_time = time()\n",
        "req = 0\n",
        "\n",
        "for page in pages_liens:\n",
        "  url = 'https://www.vertbaudet.fr'+ page\n",
        "  response = requests.get(url)\n",
        "  sleep(1)\n",
        "  req += 1\n",
        "  elapsed_time = time() - start_time\n",
        "  print('Request: {}; Frequency: {} requests/s'.format(req, req/elapsed_time))\n",
        "  clear_output(wait = True)\n",
        "  if response.status_code != 200:\n",
        "    warn('Request: {}; Status code: {}'.format(req, response.status_code))\n",
        "  if req > page_line_count:\n",
        "    warn('Nombre de requêtes trop important')\n",
        "    break\n",
        "  soup = BeautifulSoup(response.text, 'html.parser')\n",
        "  body = soup.body\n",
        "  container = body.find_all('p', itemprop='description')\n",
        "  composants = composants + container\n",
        "  composants_final = [t.text.replace('\\xa0', ' ') for t in composants]\n",
        "\n",
        "  for text in composants_final:\n",
        "    matches = re.findall(r'\\d+% \\w+', text)\n",
        "    if len(matches) == 0:\n",
        "      matches = re.findall(r'pur \\w+', text)\n",
        "  if len(matches) != 0:\n",
        "    composes.insert(req,matches)\n",
        "  if len(composes) < req:\n",
        "    composes.insert(req,'[]')"
      ]
    },
    {
      "cell_type": "code",
      "execution_count": null,
      "metadata": {
        "colab": {
          "base_uri": "https://localhost:8080/",
          "height": 112
        },
        "id": "_kk0NPUvInXI",
        "outputId": "9eb892c6-5db8-4a6f-8b7d-b2f6d324bd7f"
      },
      "outputs": [
        {
          "output_type": "execute_result",
          "data": {
            "text/plain": [
              "                                              titres  \\\n",
              "0  [Sweat bébé encolure en broderie anglaise - ro...   \n",
              "1  [Ensemble combinaison + bandeau imprimés bébé ...   \n",
              "\n",
              "                                               liens  \\\n",
              "0  /sweat-bebe-encolure-en-broderie-anglaise-rose...   \n",
              "1  /ensemble-combinaison-bandeau-imprimes-bebe-fi...   \n",
              "\n",
              "                     composes  \n",
              "0  [98% coton, 2% élasthanne]  \n",
              "1         [100% cotonCouleur]  "
            ],
            "text/html": [
              "\n",
              "  <div id=\"df-0993d086-95da-4bbc-a9e0-8913bf18216b\">\n",
              "    <div class=\"colab-df-container\">\n",
              "      <div>\n",
              "<style scoped>\n",
              "    .dataframe tbody tr th:only-of-type {\n",
              "        vertical-align: middle;\n",
              "    }\n",
              "\n",
              "    .dataframe tbody tr th {\n",
              "        vertical-align: top;\n",
              "    }\n",
              "\n",
              "    .dataframe thead th {\n",
              "        text-align: right;\n",
              "    }\n",
              "</style>\n",
              "<table border=\"1\" class=\"dataframe\">\n",
              "  <thead>\n",
              "    <tr style=\"text-align: right;\">\n",
              "      <th></th>\n",
              "      <th>titres</th>\n",
              "      <th>liens</th>\n",
              "      <th>composes</th>\n",
              "    </tr>\n",
              "  </thead>\n",
              "  <tbody>\n",
              "    <tr>\n",
              "      <th>0</th>\n",
              "      <td>[Sweat bébé encolure en broderie anglaise - ro...</td>\n",
              "      <td>/sweat-bebe-encolure-en-broderie-anglaise-rose...</td>\n",
              "      <td>[98% coton, 2% élasthanne]</td>\n",
              "    </tr>\n",
              "    <tr>\n",
              "      <th>1</th>\n",
              "      <td>[Ensemble combinaison + bandeau imprimés bébé ...</td>\n",
              "      <td>/ensemble-combinaison-bandeau-imprimes-bebe-fi...</td>\n",
              "      <td>[100% cotonCouleur]</td>\n",
              "    </tr>\n",
              "  </tbody>\n",
              "</table>\n",
              "</div>\n",
              "      <button class=\"colab-df-convert\" onclick=\"convertToInteractive('df-0993d086-95da-4bbc-a9e0-8913bf18216b')\"\n",
              "              title=\"Convert this dataframe to an interactive table.\"\n",
              "              style=\"display:none;\">\n",
              "        \n",
              "  <svg xmlns=\"http://www.w3.org/2000/svg\" height=\"24px\"viewBox=\"0 0 24 24\"\n",
              "       width=\"24px\">\n",
              "    <path d=\"M0 0h24v24H0V0z\" fill=\"none\"/>\n",
              "    <path d=\"M18.56 5.44l.94 2.06.94-2.06 2.06-.94-2.06-.94-.94-2.06-.94 2.06-2.06.94zm-11 1L8.5 8.5l.94-2.06 2.06-.94-2.06-.94L8.5 2.5l-.94 2.06-2.06.94zm10 10l.94 2.06.94-2.06 2.06-.94-2.06-.94-.94-2.06-.94 2.06-2.06.94z\"/><path d=\"M17.41 7.96l-1.37-1.37c-.4-.4-.92-.59-1.43-.59-.52 0-1.04.2-1.43.59L10.3 9.45l-7.72 7.72c-.78.78-.78 2.05 0 2.83L4 21.41c.39.39.9.59 1.41.59.51 0 1.02-.2 1.41-.59l7.78-7.78 2.81-2.81c.8-.78.8-2.07 0-2.86zM5.41 20L4 18.59l7.72-7.72 1.47 1.35L5.41 20z\"/>\n",
              "  </svg>\n",
              "      </button>\n",
              "      \n",
              "  <style>\n",
              "    .colab-df-container {\n",
              "      display:flex;\n",
              "      flex-wrap:wrap;\n",
              "      gap: 12px;\n",
              "    }\n",
              "\n",
              "    .colab-df-convert {\n",
              "      background-color: #E8F0FE;\n",
              "      border: none;\n",
              "      border-radius: 50%;\n",
              "      cursor: pointer;\n",
              "      display: none;\n",
              "      fill: #1967D2;\n",
              "      height: 32px;\n",
              "      padding: 0 0 0 0;\n",
              "      width: 32px;\n",
              "    }\n",
              "\n",
              "    .colab-df-convert:hover {\n",
              "      background-color: #E2EBFA;\n",
              "      box-shadow: 0px 1px 2px rgba(60, 64, 67, 0.3), 0px 1px 3px 1px rgba(60, 64, 67, 0.15);\n",
              "      fill: #174EA6;\n",
              "    }\n",
              "\n",
              "    [theme=dark] .colab-df-convert {\n",
              "      background-color: #3B4455;\n",
              "      fill: #D2E3FC;\n",
              "    }\n",
              "\n",
              "    [theme=dark] .colab-df-convert:hover {\n",
              "      background-color: #434B5C;\n",
              "      box-shadow: 0px 1px 3px 1px rgba(0, 0, 0, 0.15);\n",
              "      filter: drop-shadow(0px 1px 2px rgba(0, 0, 0, 0.3));\n",
              "      fill: #FFFFFF;\n",
              "    }\n",
              "  </style>\n",
              "\n",
              "      <script>\n",
              "        const buttonEl =\n",
              "          document.querySelector('#df-0993d086-95da-4bbc-a9e0-8913bf18216b button.colab-df-convert');\n",
              "        buttonEl.style.display =\n",
              "          google.colab.kernel.accessAllowed ? 'block' : 'none';\n",
              "\n",
              "        async function convertToInteractive(key) {\n",
              "          const element = document.querySelector('#df-0993d086-95da-4bbc-a9e0-8913bf18216b');\n",
              "          const dataTable =\n",
              "            await google.colab.kernel.invokeFunction('convertToInteractive',\n",
              "                                                     [key], {});\n",
              "          if (!dataTable) return;\n",
              "\n",
              "          const docLinkHtml = 'Like what you see? Visit the ' +\n",
              "            '<a target=\"_blank\" href=https://colab.research.google.com/notebooks/data_table.ipynb>data table notebook</a>'\n",
              "            + ' to learn more about interactive tables.';\n",
              "          element.innerHTML = '';\n",
              "          dataTable['output_type'] = 'display_data';\n",
              "          await google.colab.output.renderOutput(dataTable, element);\n",
              "          const docLink = document.createElement('div');\n",
              "          docLink.innerHTML = docLinkHtml;\n",
              "          element.appendChild(docLink);\n",
              "        }\n",
              "      </script>\n",
              "    </div>\n",
              "  </div>\n",
              "  "
            ]
          },
          "metadata": {},
          "execution_count": 31
        }
      ],
      "source": [
        "# récupérons le dataframe\n",
        "df_bebes = pd.DataFrame({\n",
        "    'titres': all_titres,\n",
        "    'liens': liens,\n",
        "    'composes': composes\n",
        "})\n",
        "df_bebes.head(2)"
      ]
    },
    {
      "cell_type": "code",
      "source": [
        "len(df_bebes) # index 0 à 1555"
      ],
      "metadata": {
        "id": "fQW7wFnXe2nd",
        "colab": {
          "base_uri": "https://localhost:8080/"
        },
        "outputId": "35abdb33-bbec-43a5-a2c2-83e685149345"
      },
      "execution_count": null,
      "outputs": [
        {
          "output_type": "execute_result",
          "data": {
            "text/plain": [
              "1556"
            ]
          },
          "metadata": {},
          "execution_count": 45
        }
      ]
    },
    {
      "cell_type": "code",
      "source": [
        "# ----- pages filles -----\n",
        "\n",
        "# récupérons les titres et les URL de chaque article pour les 33 pages\n",
        "pages_filles = [str(i) for i in range(1,34)]\n",
        "all_titres = []\n",
        "start_time = time()\n",
        "page_count = 0\n",
        "req = 0\n",
        "\n",
        "for page in pages_filles:\n",
        "  url = 'https://www.vertbaudet.fr/fille/page'+ page +'.htm'\n",
        "  response = requests.get(url, allow_redirects=False)\n",
        "  sleep(randint(8,15))\n",
        "  req += 1\n",
        "  elapsed_time = time() - start_time\n",
        "  print('Request: {}; Frequency: {} requests/s'.format(req, req/elapsed_time))\n",
        "  clear_output(wait = True)\n",
        "  if response.status_code == 200:\n",
        "    page_count += 1\n",
        "  soup = BeautifulSoup(response.text, 'html.parser')\n",
        "  body = soup.body\n",
        "  container = body.find_all('a', class_='omnitureproductlink product-image-link')\n",
        "  all_titres = all_titres + container"
      ],
      "metadata": {
        "id": "XIdkQzSCZls4",
        "colab": {
          "base_uri": "https://localhost:8080/"
        },
        "outputId": "bac66023-828e-42fe-92c0-bd47e1591ebf"
      },
      "execution_count": null,
      "outputs": [
        {
          "output_type": "stream",
          "name": "stdout",
          "text": [
            "Request: 33; Frequency: 0.08292700839107571 requests/s\n"
          ]
        }
      ]
    },
    {
      "cell_type": "code",
      "source": [
        "# récupérons les compositions pour chaque article fille pour les 33 pages\n",
        "liens = [l[\"href\"] for l in all_titres] # pour avoir les contenus de la balise href\n",
        "pages_liens = [str(i) for i in liens] # pour automatiser les URL dans la boucle\n",
        "page_line_count = len(pages_liens) # pour baliser le nb de requêtes\n",
        "composants = []\n",
        "composes = []\n",
        "composants_final = []\n",
        "start_time = time()\n",
        "req = 0\n",
        "\n",
        "for page in pages_liens:\n",
        "  url = 'https://www.vertbaudet.fr'+ page\n",
        "  response = requests.get(url)\n",
        "  sleep(1)\n",
        "  req += 1\n",
        "  elapsed_time = time() - start_time\n",
        "  print('Request: {}; Frequency: {} requests/s'.format(req, req/elapsed_time))\n",
        "  clear_output(wait = True)\n",
        "  if response.status_code != 200:\n",
        "    warn('Request: {}; Status code: {}'.format(req, response.status_code))\n",
        "  if req > page_line_count:\n",
        "    warn('Nombre de requêtes trop important')\n",
        "    break\n",
        "  soup = BeautifulSoup(response.text, 'html.parser')\n",
        "  body = soup.body\n",
        "  container = body.find_all('p', itemprop='description')\n",
        "  composants = composants + container\n",
        "  composants_final = [t.text.replace('\\xa0', ' ') for t in composants]\n",
        "\n",
        "  for text in composants_final:\n",
        "    matches = re.findall(r'\\d+% \\w+', text)\n",
        "    if len(matches) == 0:\n",
        "      matches = re.findall(r'pur \\w+', text)\n",
        "  if len(matches) != 0:\n",
        "    composes.insert(req,matches)\n",
        "  if len(composes) < req:\n",
        "    composes.insert(req,'[]')"
      ],
      "metadata": {
        "id": "P6OdEVaBZy-I",
        "colab": {
          "base_uri": "https://localhost:8080/"
        },
        "outputId": "45575126-1b8d-47c1-b4a7-ef5f7c7cd08a"
      },
      "execution_count": null,
      "outputs": [
        {
          "output_type": "stream",
          "name": "stdout",
          "text": [
            "Request: 1833; Frequency: 0.5167835104906204 requests/s\n"
          ]
        }
      ]
    },
    {
      "cell_type": "code",
      "source": [
        "# récupérons le dataframe\n",
        "df_filles = pd.DataFrame({\n",
        "    'titres': all_titres,\n",
        "    'liens': liens,\n",
        "    'composes': composes\n",
        "})\n",
        "df_filles.head(2)"
      ],
      "metadata": {
        "id": "TkBnYxSeZ8Vk",
        "colab": {
          "base_uri": "https://localhost:8080/",
          "height": 112
        },
        "outputId": "23f27ae4-ca67-4c16-8be3-e9752d1c8c2a"
      },
      "execution_count": null,
      "outputs": [
        {
          "output_type": "execute_result",
          "data": {
            "text/plain": [
              "                                              titres  \\\n",
              "0  [T-shirt fille animation frisou et détails iri...   \n",
              "1  [T-shirt à motif irisé fille manches courtes v...   \n",
              "\n",
              "                                               liens      composes  \n",
              "0  /t-shirt-fille-animation-frisou-et-details-iri...   [pur coton]  \n",
              "1  /t-shirt-a-motif-irise-fille-manches-courtes-v...  [100% coton]  "
            ],
            "text/html": [
              "\n",
              "  <div id=\"df-e797cac6-ac3e-42bb-9299-d56dfcc8f0a8\">\n",
              "    <div class=\"colab-df-container\">\n",
              "      <div>\n",
              "<style scoped>\n",
              "    .dataframe tbody tr th:only-of-type {\n",
              "        vertical-align: middle;\n",
              "    }\n",
              "\n",
              "    .dataframe tbody tr th {\n",
              "        vertical-align: top;\n",
              "    }\n",
              "\n",
              "    .dataframe thead th {\n",
              "        text-align: right;\n",
              "    }\n",
              "</style>\n",
              "<table border=\"1\" class=\"dataframe\">\n",
              "  <thead>\n",
              "    <tr style=\"text-align: right;\">\n",
              "      <th></th>\n",
              "      <th>titres</th>\n",
              "      <th>liens</th>\n",
              "      <th>composes</th>\n",
              "    </tr>\n",
              "  </thead>\n",
              "  <tbody>\n",
              "    <tr>\n",
              "      <th>0</th>\n",
              "      <td>[T-shirt fille animation frisou et détails iri...</td>\n",
              "      <td>/t-shirt-fille-animation-frisou-et-details-iri...</td>\n",
              "      <td>[pur coton]</td>\n",
              "    </tr>\n",
              "    <tr>\n",
              "      <th>1</th>\n",
              "      <td>[T-shirt à motif irisé fille manches courtes v...</td>\n",
              "      <td>/t-shirt-a-motif-irise-fille-manches-courtes-v...</td>\n",
              "      <td>[100% coton]</td>\n",
              "    </tr>\n",
              "  </tbody>\n",
              "</table>\n",
              "</div>\n",
              "      <button class=\"colab-df-convert\" onclick=\"convertToInteractive('df-e797cac6-ac3e-42bb-9299-d56dfcc8f0a8')\"\n",
              "              title=\"Convert this dataframe to an interactive table.\"\n",
              "              style=\"display:none;\">\n",
              "        \n",
              "  <svg xmlns=\"http://www.w3.org/2000/svg\" height=\"24px\"viewBox=\"0 0 24 24\"\n",
              "       width=\"24px\">\n",
              "    <path d=\"M0 0h24v24H0V0z\" fill=\"none\"/>\n",
              "    <path d=\"M18.56 5.44l.94 2.06.94-2.06 2.06-.94-2.06-.94-.94-2.06-.94 2.06-2.06.94zm-11 1L8.5 8.5l.94-2.06 2.06-.94-2.06-.94L8.5 2.5l-.94 2.06-2.06.94zm10 10l.94 2.06.94-2.06 2.06-.94-2.06-.94-.94-2.06-.94 2.06-2.06.94z\"/><path d=\"M17.41 7.96l-1.37-1.37c-.4-.4-.92-.59-1.43-.59-.52 0-1.04.2-1.43.59L10.3 9.45l-7.72 7.72c-.78.78-.78 2.05 0 2.83L4 21.41c.39.39.9.59 1.41.59.51 0 1.02-.2 1.41-.59l7.78-7.78 2.81-2.81c.8-.78.8-2.07 0-2.86zM5.41 20L4 18.59l7.72-7.72 1.47 1.35L5.41 20z\"/>\n",
              "  </svg>\n",
              "      </button>\n",
              "      \n",
              "  <style>\n",
              "    .colab-df-container {\n",
              "      display:flex;\n",
              "      flex-wrap:wrap;\n",
              "      gap: 12px;\n",
              "    }\n",
              "\n",
              "    .colab-df-convert {\n",
              "      background-color: #E8F0FE;\n",
              "      border: none;\n",
              "      border-radius: 50%;\n",
              "      cursor: pointer;\n",
              "      display: none;\n",
              "      fill: #1967D2;\n",
              "      height: 32px;\n",
              "      padding: 0 0 0 0;\n",
              "      width: 32px;\n",
              "    }\n",
              "\n",
              "    .colab-df-convert:hover {\n",
              "      background-color: #E2EBFA;\n",
              "      box-shadow: 0px 1px 2px rgba(60, 64, 67, 0.3), 0px 1px 3px 1px rgba(60, 64, 67, 0.15);\n",
              "      fill: #174EA6;\n",
              "    }\n",
              "\n",
              "    [theme=dark] .colab-df-convert {\n",
              "      background-color: #3B4455;\n",
              "      fill: #D2E3FC;\n",
              "    }\n",
              "\n",
              "    [theme=dark] .colab-df-convert:hover {\n",
              "      background-color: #434B5C;\n",
              "      box-shadow: 0px 1px 3px 1px rgba(0, 0, 0, 0.15);\n",
              "      filter: drop-shadow(0px 1px 2px rgba(0, 0, 0, 0.3));\n",
              "      fill: #FFFFFF;\n",
              "    }\n",
              "  </style>\n",
              "\n",
              "      <script>\n",
              "        const buttonEl =\n",
              "          document.querySelector('#df-e797cac6-ac3e-42bb-9299-d56dfcc8f0a8 button.colab-df-convert');\n",
              "        buttonEl.style.display =\n",
              "          google.colab.kernel.accessAllowed ? 'block' : 'none';\n",
              "\n",
              "        async function convertToInteractive(key) {\n",
              "          const element = document.querySelector('#df-e797cac6-ac3e-42bb-9299-d56dfcc8f0a8');\n",
              "          const dataTable =\n",
              "            await google.colab.kernel.invokeFunction('convertToInteractive',\n",
              "                                                     [key], {});\n",
              "          if (!dataTable) return;\n",
              "\n",
              "          const docLinkHtml = 'Like what you see? Visit the ' +\n",
              "            '<a target=\"_blank\" href=https://colab.research.google.com/notebooks/data_table.ipynb>data table notebook</a>'\n",
              "            + ' to learn more about interactive tables.';\n",
              "          element.innerHTML = '';\n",
              "          dataTable['output_type'] = 'display_data';\n",
              "          await google.colab.output.renderOutput(dataTable, element);\n",
              "          const docLink = document.createElement('div');\n",
              "          docLink.innerHTML = docLinkHtml;\n",
              "          element.appendChild(docLink);\n",
              "        }\n",
              "      </script>\n",
              "    </div>\n",
              "  </div>\n",
              "  "
            ]
          },
          "metadata": {},
          "execution_count": 37
        }
      ]
    },
    {
      "cell_type": "code",
      "source": [
        "len(df_filles) # index 0 à 1832"
      ],
      "metadata": {
        "colab": {
          "base_uri": "https://localhost:8080/"
        },
        "id": "DVbq_1Ob28qp",
        "outputId": "3d40d36a-e68b-4775-80fe-77a6a5cee78d"
      },
      "execution_count": null,
      "outputs": [
        {
          "output_type": "execute_result",
          "data": {
            "text/plain": [
              "1833"
            ]
          },
          "metadata": {},
          "execution_count": 47
        }
      ]
    },
    {
      "cell_type": "code",
      "source": [
        "# ----- pages garçons -----\n",
        "\n",
        "# récupérons les titres et les URL de chaque article pour les 24 pages\n",
        "pages_garcons = [str(i) for i in range(1,25)]\n",
        "all_titres = []\n",
        "start_time = time()\n",
        "page_count = 0\n",
        "req = 0\n",
        "\n",
        "for page in pages_garcons:\n",
        "  url = 'https://www.vertbaudet.fr/garcon/page'+ page +'.htm'\n",
        "  response = requests.get(url, allow_redirects=False)\n",
        "  sleep(randint(8,15))\n",
        "  req += 1\n",
        "  elapsed_time = time() - start_time\n",
        "  print('Request: {}; Frequency: {} requests/s'.format(req, req/elapsed_time))\n",
        "  clear_output(wait = True)\n",
        "  if response.status_code == 200:\n",
        "    page_count += 1\n",
        "  soup = BeautifulSoup(response.text, 'html.parser')\n",
        "  body = soup.body\n",
        "  container = body.find_all('a', class_='omnitureproductlink product-image-link')\n",
        "  all_titres = all_titres + container"
      ],
      "metadata": {
        "colab": {
          "base_uri": "https://localhost:8080/"
        },
        "id": "RZ6DYU9HqKnf",
        "outputId": "575968cc-caf1-4c5b-be65-fb8232798dbc"
      },
      "execution_count": null,
      "outputs": [
        {
          "output_type": "stream",
          "name": "stdout",
          "text": [
            "Request: 24; Frequency: 0.08381125882569496 requests/s\n"
          ]
        }
      ]
    },
    {
      "cell_type": "code",
      "source": [
        "# récupérons les contenus de la balise href \n",
        "liens = [l[\"href\"] for l in all_titres]"
      ],
      "metadata": {
        "id": "7UKXGhhjqPHT"
      },
      "execution_count": null,
      "outputs": []
    },
    {
      "cell_type": "code",
      "source": [
        "# récupérons les compositions pour chaque article garçon pour les 24 pages\n",
        "liens = [l[\"href\"] for l in all_titres] # pour avoir les contenus de la balise href\n",
        "pages_liens = [str(i) for i in liens] # pour automatiser les URL dans la boucle\n",
        "page_line_count = len(pages_liens) # pour baliser le nb de requêtes\n",
        "composants = []\n",
        "composes = []\n",
        "composants_final = []\n",
        "start_time = time()\n",
        "req = 0\n",
        "\n",
        "for page in pages_liens:\n",
        "  url = 'https://www.vertbaudet.fr'+ page\n",
        "  response = requests.get(url)\n",
        "  sleep(1)\n",
        "  req += 1\n",
        "  elapsed_time = time() - start_time\n",
        "  print('Request: {}; Frequency: {} requests/s'.format(req, req/elapsed_time))\n",
        "  clear_output(wait = True)\n",
        "  if response.status_code != 200:\n",
        "    warn('Request: {}; Status code: {}'.format(req, response.status_code))\n",
        "  if req > page_line_count:\n",
        "    warn('Nombre de requêtes trop important')\n",
        "    break\n",
        "  soup = BeautifulSoup(response.text, 'html.parser')\n",
        "  body = soup.body\n",
        "  container = body.find_all('p', itemprop='description')\n",
        "  composants = composants + container\n",
        "  composants_final = [t.text.replace('\\xa0', ' ') for t in composants]\n",
        "\n",
        "  for text in composants_final:\n",
        "    matches = re.findall(r'\\d+% \\w+', text)\n",
        "    if len(matches) == 0:\n",
        "      matches = re.findall(r'pur \\w+', text)\n",
        "  if len(matches) != 0:\n",
        "    composes.insert(req,matches)\n",
        "  if len(composes) < req:\n",
        "    composes.insert(req,'[]')"
      ],
      "metadata": {
        "colab": {
          "base_uri": "https://localhost:8080/"
        },
        "id": "_Tpt0C61qUls",
        "outputId": "bc5c37a3-cd9f-4896-96ab-631974c6390f"
      },
      "execution_count": null,
      "outputs": [
        {
          "output_type": "stream",
          "name": "stdout",
          "text": [
            "Request: 1289; Frequency: 0.5088750506883716 requests/s\n"
          ]
        }
      ]
    },
    {
      "cell_type": "code",
      "source": [
        "# récupérons le dataframe\n",
        "df_garcons = pd.DataFrame({\n",
        "    'titres': all_titres,\n",
        "    'liens': liens,\n",
        "    'composes': composes\n",
        "})\n",
        "df_garcons.head(2)"
      ],
      "metadata": {
        "colab": {
          "base_uri": "https://localhost:8080/",
          "height": 112
        },
        "id": "IwpYwzz6qYDh",
        "outputId": "9380d39b-5e78-4d71-aa43-c7807e9d5ed6"
      },
      "execution_count": null,
      "outputs": [
        {
          "output_type": "execute_result",
          "data": {
            "text/plain": [
              "                                            titres  \\\n",
              "0  [T-shirt motif dinosaure géant garçon - menthe]   \n",
              "1   [Tee-shirt animal ludique garçon - terracotta]   \n",
              "\n",
              "                                               liens            composes  \n",
              "0  /t-shirt-motif-dinosaure-geant-garcon-menthe.h...  [pur cotonCouleur]  \n",
              "1  /tee-shirt-animal-ludique-garcon-terracotta.ht...        [100% coton]  "
            ],
            "text/html": [
              "\n",
              "  <div id=\"df-f2149e56-b830-41d8-b1d5-977da3b7a067\">\n",
              "    <div class=\"colab-df-container\">\n",
              "      <div>\n",
              "<style scoped>\n",
              "    .dataframe tbody tr th:only-of-type {\n",
              "        vertical-align: middle;\n",
              "    }\n",
              "\n",
              "    .dataframe tbody tr th {\n",
              "        vertical-align: top;\n",
              "    }\n",
              "\n",
              "    .dataframe thead th {\n",
              "        text-align: right;\n",
              "    }\n",
              "</style>\n",
              "<table border=\"1\" class=\"dataframe\">\n",
              "  <thead>\n",
              "    <tr style=\"text-align: right;\">\n",
              "      <th></th>\n",
              "      <th>titres</th>\n",
              "      <th>liens</th>\n",
              "      <th>composes</th>\n",
              "    </tr>\n",
              "  </thead>\n",
              "  <tbody>\n",
              "    <tr>\n",
              "      <th>0</th>\n",
              "      <td>[T-shirt motif dinosaure géant garçon - menthe]</td>\n",
              "      <td>/t-shirt-motif-dinosaure-geant-garcon-menthe.h...</td>\n",
              "      <td>[pur cotonCouleur]</td>\n",
              "    </tr>\n",
              "    <tr>\n",
              "      <th>1</th>\n",
              "      <td>[Tee-shirt animal ludique garçon - terracotta]</td>\n",
              "      <td>/tee-shirt-animal-ludique-garcon-terracotta.ht...</td>\n",
              "      <td>[100% coton]</td>\n",
              "    </tr>\n",
              "  </tbody>\n",
              "</table>\n",
              "</div>\n",
              "      <button class=\"colab-df-convert\" onclick=\"convertToInteractive('df-f2149e56-b830-41d8-b1d5-977da3b7a067')\"\n",
              "              title=\"Convert this dataframe to an interactive table.\"\n",
              "              style=\"display:none;\">\n",
              "        \n",
              "  <svg xmlns=\"http://www.w3.org/2000/svg\" height=\"24px\"viewBox=\"0 0 24 24\"\n",
              "       width=\"24px\">\n",
              "    <path d=\"M0 0h24v24H0V0z\" fill=\"none\"/>\n",
              "    <path d=\"M18.56 5.44l.94 2.06.94-2.06 2.06-.94-2.06-.94-.94-2.06-.94 2.06-2.06.94zm-11 1L8.5 8.5l.94-2.06 2.06-.94-2.06-.94L8.5 2.5l-.94 2.06-2.06.94zm10 10l.94 2.06.94-2.06 2.06-.94-2.06-.94-.94-2.06-.94 2.06-2.06.94z\"/><path d=\"M17.41 7.96l-1.37-1.37c-.4-.4-.92-.59-1.43-.59-.52 0-1.04.2-1.43.59L10.3 9.45l-7.72 7.72c-.78.78-.78 2.05 0 2.83L4 21.41c.39.39.9.59 1.41.59.51 0 1.02-.2 1.41-.59l7.78-7.78 2.81-2.81c.8-.78.8-2.07 0-2.86zM5.41 20L4 18.59l7.72-7.72 1.47 1.35L5.41 20z\"/>\n",
              "  </svg>\n",
              "      </button>\n",
              "      \n",
              "  <style>\n",
              "    .colab-df-container {\n",
              "      display:flex;\n",
              "      flex-wrap:wrap;\n",
              "      gap: 12px;\n",
              "    }\n",
              "\n",
              "    .colab-df-convert {\n",
              "      background-color: #E8F0FE;\n",
              "      border: none;\n",
              "      border-radius: 50%;\n",
              "      cursor: pointer;\n",
              "      display: none;\n",
              "      fill: #1967D2;\n",
              "      height: 32px;\n",
              "      padding: 0 0 0 0;\n",
              "      width: 32px;\n",
              "    }\n",
              "\n",
              "    .colab-df-convert:hover {\n",
              "      background-color: #E2EBFA;\n",
              "      box-shadow: 0px 1px 2px rgba(60, 64, 67, 0.3), 0px 1px 3px 1px rgba(60, 64, 67, 0.15);\n",
              "      fill: #174EA6;\n",
              "    }\n",
              "\n",
              "    [theme=dark] .colab-df-convert {\n",
              "      background-color: #3B4455;\n",
              "      fill: #D2E3FC;\n",
              "    }\n",
              "\n",
              "    [theme=dark] .colab-df-convert:hover {\n",
              "      background-color: #434B5C;\n",
              "      box-shadow: 0px 1px 3px 1px rgba(0, 0, 0, 0.15);\n",
              "      filter: drop-shadow(0px 1px 2px rgba(0, 0, 0, 0.3));\n",
              "      fill: #FFFFFF;\n",
              "    }\n",
              "  </style>\n",
              "\n",
              "      <script>\n",
              "        const buttonEl =\n",
              "          document.querySelector('#df-f2149e56-b830-41d8-b1d5-977da3b7a067 button.colab-df-convert');\n",
              "        buttonEl.style.display =\n",
              "          google.colab.kernel.accessAllowed ? 'block' : 'none';\n",
              "\n",
              "        async function convertToInteractive(key) {\n",
              "          const element = document.querySelector('#df-f2149e56-b830-41d8-b1d5-977da3b7a067');\n",
              "          const dataTable =\n",
              "            await google.colab.kernel.invokeFunction('convertToInteractive',\n",
              "                                                     [key], {});\n",
              "          if (!dataTable) return;\n",
              "\n",
              "          const docLinkHtml = 'Like what you see? Visit the ' +\n",
              "            '<a target=\"_blank\" href=https://colab.research.google.com/notebooks/data_table.ipynb>data table notebook</a>'\n",
              "            + ' to learn more about interactive tables.';\n",
              "          element.innerHTML = '';\n",
              "          dataTable['output_type'] = 'display_data';\n",
              "          await google.colab.output.renderOutput(dataTable, element);\n",
              "          const docLink = document.createElement('div');\n",
              "          docLink.innerHTML = docLinkHtml;\n",
              "          element.appendChild(docLink);\n",
              "        }\n",
              "      </script>\n",
              "    </div>\n",
              "  </div>\n",
              "  "
            ]
          },
          "metadata": {},
          "execution_count": 43
        }
      ]
    },
    {
      "cell_type": "code",
      "source": [
        "len(df_garcons) # index 0 à 1288"
      ],
      "metadata": {
        "colab": {
          "base_uri": "https://localhost:8080/"
        },
        "id": "xPLen60D3NMJ",
        "outputId": "ae1e5626-d08b-43d7-b6d9-e22f809153c3"
      },
      "execution_count": null,
      "outputs": [
        {
          "output_type": "execute_result",
          "data": {
            "text/plain": [
              "1289"
            ]
          },
          "metadata": {},
          "execution_count": 49
        }
      ]
    },
    {
      "cell_type": "code",
      "source": [
        "# concaténons les 3 dataframes et exportons les\n",
        "df_composes = pd.concat([df_bebes, df_filles, df_garcons], axis=0)\n",
        "df_composes.to_csv('df_composes.csv')\n",
        "files.download('df_composes.csv')"
      ],
      "metadata": {
        "id": "kWhLuz014BdC"
      },
      "execution_count": null,
      "outputs": []
    },
    {
      "cell_type": "code",
      "source": [
        "uploaded = files.upload()\n",
        "path = \"df_composes.csv\"\n",
        "df_composes = pd.read_csv(path, usecols=['liens', 'composes'])"
      ],
      "metadata": {
        "id": "aTR2u_lW4tYm"
      },
      "execution_count": null,
      "outputs": []
    },
    {
      "cell_type": "code",
      "source": [
        "# précisons que pour cette partie, nous avons fait de nombreux allers-retours entre le dataframe de depart et le dataframe d'arrivée en fonction des résultats observés\n",
        "# ainsi, le nettoyage s'est fait en fonction des données visualisées et finalement inutiles ou non signifiantes"
      ],
      "metadata": {
        "id": "mgk5IDvhImAh"
      },
      "execution_count": null,
      "outputs": []
    },
    {
      "cell_type": "code",
      "source": [
        "# ajoutons une colonne pour différencier les collections bébé, fille et garçon\n",
        "df_composes.loc[:1555, 'collection'] = 'bébé'\n",
        "df_composes.loc[1556:3388, 'collection'] = 'fille'\n",
        "df_composes.loc[3389:, 'collection'] = 'garçon'"
      ],
      "metadata": {
        "id": "99TkHDuf7tIy"
      },
      "execution_count": null,
      "outputs": []
    },
    {
      "cell_type": "code",
      "source": [
        "# nettoyons les liens pour obtenir uniquement le nom du vêtement et stockons le résultat dans une liste\n",
        "liste_articles = df_composes['liens'].apply(lambda x: x.split('-')[0].replace('/',''))"
      ],
      "metadata": {
        "id": "c5HC4FDk5nmc"
      },
      "execution_count": null,
      "outputs": []
    },
    {
      "cell_type": "code",
      "source": [
        "# remplaçons certains noms de vêtements pour limiter les value_counts\n",
        "for i in range(len(liste_articles)):\n",
        "  if liste_articles[i] == \"t\":\n",
        "    liste_articles[i] = \"tshirt\"\n",
        "  if liste_articles[i] == \"tee\":\n",
        "    liste_articles[i] = \"tshirt\"\n",
        "  if liste_articles[i] == \"cire\":\n",
        "    liste_articles[i] = \"ciret\"\n",
        "  if (liste_articles[i] == \"dors\") or (liste_articles[i] == \"pyjashort\") or (liste_articles[i] == \"pyjacourt\") or (liste_articles[i] == \"bodyjama\"):\n",
        "    liste_articles[i] = \"pyjama\"\n",
        "  if (liste_articles[i] == \"chino\") or (liste_articles[i] == \"slim\") or (liste_articles[i] == \"pantacourt\")  or (liste_articles[i] == \"corsaire\"):\n",
        "    liste_articles[i] = \"pantalon\"\n",
        "  if (liste_articles[i] == \"shorty\") or (liste_articles[i] == \"bloomer\"):  \n",
        "    liste_articles[i] = \"short\"\n",
        "  if liste_articles[i] == \"beanie\":\n",
        "    liste_articles[i] = \"bonnet\"\n",
        "  if liste_articles[i] == \"ensemble\":\n",
        "    liste_articles[i] = \"lot\"\n",
        "  if (liste_articles[i] == \"guimpe\") or (liste_articles[i] == \"borsalino\"):  \n",
        "    liste_articles[i] = \"chapeau\"\n",
        "  if (liste_articles[i] == \"tregging\"):  \n",
        "    liste_articles[i] = \"pantalon\"\n",
        "  if (liste_articles[i] == \"combi\") or (liste_articles[i] == \"combishort\") or (liste_articles[i] == \"combipilote\"):  \n",
        "    liste_articles[i] = \"combinaison\"\n",
        "  if (liste_articles[i] == \"grande\"):  \n",
        "    liste_articles[i] = \"robe\""
      ],
      "metadata": {
        "id": "p_4_lSUa6Od1"
      },
      "execution_count": null,
      "outputs": []
    },
    {
      "cell_type": "code",
      "source": [
        "# créons une colonne articles avec la liste crée et supprimons la colonne liens\n",
        "df_composes = df_composes.assign(articles=liste_articles)\n",
        "df_composes.drop('liens', axis=1, inplace=True)"
      ],
      "metadata": {
        "id": "7D92TBJ_6ctZ"
      },
      "execution_count": null,
      "outputs": []
    },
    {
      "cell_type": "code",
      "source": [
        "# gardons uniquement les vêtements\n",
        "to_drop = ['les', 'gourde', 'gourdes', 'coffret', 'cartable', 'montre', 'coupe', 'breloques', 'little', 'baby', 'sac', 'bouteille', 'lunettes', 'boite', 'le', 'trousse', 'pochette', \n",
        "           'parapluie', 'ceinture', 'tampon', 'bretelles', 'pack', 'couronne', 'serre', 'set', 'sous', 'kit', '3', 'cache']\n",
        "df_composes = df_composes[~df_composes['articles'].isin(to_drop)]"
      ],
      "metadata": {
        "id": "-Ucs-OaZBVvy"
      },
      "execution_count": null,
      "outputs": []
    },
    {
      "cell_type": "code",
      "source": [
        "# remplaçons certaines chaînes orthographiées différemment pour harmoniser la lecture par Python\n",
        "# mettons dans une catégorie les matières identiques pour éviter les quantités infimes \n",
        "# (ex. nylon = polyamide ; tencel, lyocell, modal, fibrane, rayonne = viscose ; alpaga, mohair, cachemire = laine)\n",
        "df_composes['composes'] = df_composes['composes'].apply(lambda x: x.replace('pur','100%'))\n",
        "df_composes['composes'] = df_composes['composes'].apply(lambda x: x.replace('cotonCouleur','coton'))\n",
        "df_composes['composes'] = df_composes['composes'].apply(lambda x: x.replace('viscoseCouleur','viscose'))\n",
        "df_composes['composes'] = df_composes['composes'].apply(lambda x: x.replace('élasthanneCouleur','élasthanne'))\n",
        "df_composes['composes'] = df_composes['composes'].apply(lambda x: x.replace('laineCouleur','laine'))\n",
        "df_composes['composes'] = df_composes['composes'].apply(lambda x: x.replace('polyesterCouleur','polyester'))\n",
        "df_composes['composes'] = df_composes['composes'].apply(lambda x: x.replace('cotonBlouson','coton'))\n",
        "df_composes['composes'] = df_composes['composes'].apply(lambda x: x.replace('économiques','coton'))\n",
        "df_composes['composes'] = df_composes['composes'].apply(lambda x: x.replace('élasthanneEn','élasthanne'))\n",
        "df_composes['composes'] = df_composes['composes'].apply(lambda x: x.replace('polyesterGarnissage','polyester'))\n",
        "df_composes['composes'] = df_composes['composes'].apply(lambda x: x.replace('Coton','coton'))\n",
        "df_composes['composes'] = df_composes['composes'].apply(lambda x: x.replace('Polyamide','polyamide'))\n",
        "df_composes['composes'] = df_composes['composes'].apply(lambda x: x.replace('Lyocell','viscose'))\n",
        "df_composes['composes'] = df_composes['composes'].apply(lambda x: x.replace('Polyester','polyester'))\n",
        "df_composes['composes'] = df_composes['composes'].apply(lambda x: x.replace('Elasthanne','élasthanne'))\n",
        "df_composes['composes'] = df_composes['composes'].apply(lambda x: x.replace('cotono','coton'))\n",
        "df_composes['composes'] = df_composes['composes'].apply(lambda x: x.replace('acryliqueCouleur','acrylique'))\n",
        "df_composes['composes'] = df_composes['composes'].apply(lambda x: x.replace('cachemireo','cachemire'))\n",
        "df_composes['composes'] = df_composes['composes'].apply(lambda x: x.replace('viscoseGilet','viscose'))\n",
        "df_composes['composes'] = df_composes['composes'].apply(lambda x: x.replace('polyesterIntérieur','polyester'))\n",
        "df_composes['composes'] = df_composes['composes'].apply(lambda x: x.replace('polyesterDoublure','polyester'))\n",
        "df_composes['composes'] = df_composes['composes'].apply(lambda x: x.replace('polyesterOuatinage','polyester'))\n",
        "df_composes['composes'] = df_composes['composes'].apply(lambda x: x.replace('polyamideo','polyamide'))\n",
        "df_composes['composes'] = df_composes['composes'].apply(lambda x: x.replace('lambswool','laine'))\n",
        "df_composes['composes'] = df_composes['composes'].apply(lambda x: x.replace('polyamideDoublure','polyamide'))\n",
        "df_composes['composes'] = df_composes['composes'].apply(lambda x: x.replace('acryliqueo','acrylique'))\n",
        "df_composes['composes'] = df_composes['composes'].apply(lambda x: x.replace('laineo','laine'))\n",
        "df_composes['composes'] = df_composes['composes'].apply(lambda x: x.replace('fibres','fibre'))\n",
        "df_composes['composes'] = df_composes['composes'].apply(lambda x: x.replace('cpolyester','polyester'))\n",
        "df_composes['composes'] = df_composes['composes'].apply(lambda x: x.replace('Nylon','nylon'))\n",
        "df_composes['composes'] = df_composes['composes'].apply(lambda x: x.replace('polyamideCouleur','polyamide'))\n",
        "df_composes['composes'] = df_composes['composes'].apply(lambda x: x.replace('élasthanneo','élasthanne'))\n",
        "df_composes['composes'] = df_composes['composes'].apply(lambda x: x.replace('elastane','élasthanne'))\n",
        "df_composes['composes'] = df_composes['composes'].apply(lambda x: x.replace('elasthane','élasthanne'))\n",
        "df_composes['composes'] = df_composes['composes'].apply(lambda x: x.replace('elasthanne','élasthanne'))\n",
        "df_composes['composes'] = df_composes['composes'].apply(lambda x: x.replace('élastodienne','élasthanne'))\n",
        "df_composes['composes'] = df_composes['composes'].apply(lambda x: x.replace('polyestero','polyester'))\n",
        "df_composes['composes'] = df_composes['composes'].apply(lambda x: x.replace('poyester','polyester'))\n",
        "df_composes['composes'] = df_composes['composes'].apply(lambda x: x.replace('alpagao','alpaga'))\n",
        "df_composes['composes'] = df_composes['composes'].apply(lambda x: x.replace('Tritan','tritan'))\n",
        "df_composes['composes'] = df_composes['composes'].apply(lambda x: x.replace('fils','fibre'))\n",
        "df_composes['composes'] = df_composes['composes'].apply(lambda x: x.replace('polyesterselon','polyester'))\n",
        "df_composes['composes'] = df_composes['composes'].apply(lambda x: x.replace('Tencel','viscose'))\n",
        "df_composes['composes'] = df_composes['composes'].apply(lambda x: x.replace('tencel','viscose'))\n",
        "df_composes['composes'] = df_composes['composes'].apply(lambda x: x.replace('nylon','polyamide'))\n",
        "df_composes['composes'] = df_composes['composes'].apply(lambda x: x.replace('modal','viscose'))\n",
        "df_composes['composes'] = df_composes['composes'].apply(lambda x: x.replace('fibrane','viscose'))\n",
        "df_composes['composes'] = df_composes['composes'].apply(lambda x: x.replace('rayonne','viscose'))\n",
        "df_composes['composes'] = df_composes['composes'].apply(lambda x: x.replace('lyocell','viscose'))\n",
        "df_composes['composes'] = df_composes['composes'].apply(lambda x: x.replace('modacrylique','acrylique'))\n",
        "df_composes['composes'] = df_composes['composes'].apply(lambda x: x.replace('alpaga','laine'))\n",
        "df_composes['composes'] = df_composes['composes'].apply(lambda x: x.replace('mohair','laine'))\n",
        "df_composes['composes'] = df_composes['composes'].apply(lambda x: x.replace('cachemire','laine'))"
      ],
      "metadata": {
        "id": "itJm168IJcRX"
      },
      "execution_count": null,
      "outputs": []
    },
    {
      "cell_type": "code",
      "source": [
        "# supprimons les lignes avec des données aberrantes ou qui ne sont pas des matières textiles\n",
        "df_composes['composes'] = df_composes['composes'].drop([325, 392, 642, 645, 692, 704, 710, 732, 867, 897, 938, 961, 965, 972, 1022, 1070, 1090, 1124, 1126, 1224, 1296, 2058, 2116, 2135, 2197, \n",
        "                                                        2212, 2279, 2345, 2374, 2391, 2469, 2503, 2541, 2552, 2591, 2645, 2764, 2807, 2812, 2817, 2831, 2868, 2920, 2955, 2963, 3045, 3048, 3108, \n",
        "                                                        3110, 3171, 3184, 3352, 3716, 3729, 3791, 3896, 3912, 3913, 3962, 4016, 4017, 4056, 4063, 4077, 4086, 4245, 4280, 4294, 4347, 4413])"
      ],
      "metadata": {
        "id": "cGxR2-SEaZ_C"
      },
      "execution_count": null,
      "outputs": []
    },
    {
      "cell_type": "code",
      "source": [
        "# supprimons les lignes où il y a des NaN à la place des composés\n",
        "df_composes = df_composes.dropna(subset=['composes'])"
      ],
      "metadata": {
        "id": "HlinyZa2Pk0C"
      },
      "execution_count": null,
      "outputs": []
    },
    {
      "cell_type": "code",
      "source": [
        "# transformons le type de données de la colonne 'composés' : nous avons des string et nous voulons des listes de string\n",
        "df_composes['composes'] = df_composes['composes'].apply(ast.literal_eval)"
      ],
      "metadata": {
        "id": "ycqe-rlJC6qO"
      },
      "execution_count": null,
      "outputs": []
    },
    {
      "cell_type": "code",
      "source": [
        "# effectuons une première visualisation de nos matières textiles en effectuant un value_counts\n",
        "# dans un 1er temps, supprimons les pourcentages\n",
        "def remove_pct(text):\n",
        "    return [x.replace('%', '').replace('0','').replace('1','').replace('2','').replace('3','').replace('4','').replace('5','').replace('6','').replace('7','').replace('8','').replace('9','').replace(' ','').replace('.','') for x in text]\n",
        "\n",
        "# appliquons la fonction à chaque élément de la colonne\n",
        "compositions = df_composes['composes'].apply(remove_pct)\n",
        "compositions = compositions.to_frame()\n",
        "\n",
        "# empilons chaque élément et comptons-les puis transformons-les en %\n",
        "exploded_df = compositions.explode('composes')\n",
        "counts_pct = (exploded_df['composes'].value_counts(normalize=True).round(2))*100"
      ],
      "metadata": {
        "id": "GhSDz0UCTDCe"
      },
      "execution_count": null,
      "outputs": []
    },
    {
      "cell_type": "code",
      "source": [
        "# affichons un graphique en barres pour avoir un ordre de grandeur des matières qui apparaissent dans le dataset (nous éliminons les matières < 1%)\n",
        "sorted_data = sorted(counts_pct.items(), key=lambda x: x[1], reverse=False) # tri préalable des données\n",
        "matieres = [data[0] for data in sorted_data] # listes pour stocker les matières et quantités triées\n",
        "quantites = [data[1] for data in sorted_data]\n",
        "\n",
        "fig_qt_material = make_subplots(rows=1, cols=1)\n",
        "fig_qt_material.add_trace(go.Bar(x=[q for i, q in enumerate(quantites) if q >= 1], y=[m for i, m in enumerate(matieres) if quantites[i] >= 1], text=[q for i, q in enumerate(quantites) if q >= 1], textposition='outside', orientation='h', marker_color='lightblue'))\n",
        "fig_qt_material.update_layout(title='Répartition des différentes matières textiles en %', xaxis_title='% par rapport au total', yaxis_title='Matières textiles', plot_bgcolor=\"rgba(0,0,0,0)\", margin=dict(l=150, r=50, t=50, b=50))\n",
        "fig_qt_material.show()"
      ],
      "metadata": {
        "id": "CROw5bd-oB0W",
        "colab": {
          "base_uri": "https://localhost:8080/",
          "height": 542
        },
        "outputId": "e015bc30-660a-481d-d209-7b97e5fd1e1e"
      },
      "execution_count": null,
      "outputs": [
        {
          "output_type": "display_data",
          "data": {
            "text/html": [
              "<html>\n",
              "<head><meta charset=\"utf-8\" /></head>\n",
              "<body>\n",
              "    <div>            <script src=\"https://cdnjs.cloudflare.com/ajax/libs/mathjax/2.7.5/MathJax.js?config=TeX-AMS-MML_SVG\"></script><script type=\"text/javascript\">if (window.MathJax && window.MathJax.Hub && window.MathJax.Hub.Config) {window.MathJax.Hub.Config({SVG: {font: \"STIX-Web\"}});}</script>                <script type=\"text/javascript\">window.PlotlyConfig = {MathJaxConfig: 'local'};</script>\n",
              "        <script src=\"https://cdn.plot.ly/plotly-2.18.2.min.js\"></script>                <div id=\"8764169f-d390-4b34-9e4f-c9124c6343b8\" class=\"plotly-graph-div\" style=\"height:525px; width:100%;\"></div>            <script type=\"text/javascript\">                                    window.PLOTLYENV=window.PLOTLYENV || {};                                    if (document.getElementById(\"8764169f-d390-4b34-9e4f-c9124c6343b8\")) {                    Plotly.newPlot(                        \"8764169f-d390-4b34-9e4f-c9124c6343b8\",                        [{\"marker\":{\"color\":\"lightblue\"},\"orientation\":\"h\",\"text\":[\"1.0\",\"1.0\",\"1.0\",\"3.0\",\"4.0\",\"5.0\",\"12.0\",\"23.0\",\"50.0\"],\"textposition\":\"outside\",\"x\":[1.0,1.0,1.0,3.0,4.0,5.0,12.0,23.0,50.0],\"y\":[\"laine\",\"fibre\",\"lin\",\"acrylique\",\"viscose\",\"polyamide\",\"\\u00e9lasthanne\",\"polyester\",\"coton\"],\"type\":\"bar\"}],                        {\"template\":{\"data\":{\"histogram2dcontour\":[{\"type\":\"histogram2dcontour\",\"colorbar\":{\"outlinewidth\":0,\"ticks\":\"\"},\"colorscale\":[[0.0,\"#0d0887\"],[0.1111111111111111,\"#46039f\"],[0.2222222222222222,\"#7201a8\"],[0.3333333333333333,\"#9c179e\"],[0.4444444444444444,\"#bd3786\"],[0.5555555555555556,\"#d8576b\"],[0.6666666666666666,\"#ed7953\"],[0.7777777777777778,\"#fb9f3a\"],[0.8888888888888888,\"#fdca26\"],[1.0,\"#f0f921\"]]}],\"choropleth\":[{\"type\":\"choropleth\",\"colorbar\":{\"outlinewidth\":0,\"ticks\":\"\"}}],\"histogram2d\":[{\"type\":\"histogram2d\",\"colorbar\":{\"outlinewidth\":0,\"ticks\":\"\"},\"colorscale\":[[0.0,\"#0d0887\"],[0.1111111111111111,\"#46039f\"],[0.2222222222222222,\"#7201a8\"],[0.3333333333333333,\"#9c179e\"],[0.4444444444444444,\"#bd3786\"],[0.5555555555555556,\"#d8576b\"],[0.6666666666666666,\"#ed7953\"],[0.7777777777777778,\"#fb9f3a\"],[0.8888888888888888,\"#fdca26\"],[1.0,\"#f0f921\"]]}],\"heatmap\":[{\"type\":\"heatmap\",\"colorbar\":{\"outlinewidth\":0,\"ticks\":\"\"},\"colorscale\":[[0.0,\"#0d0887\"],[0.1111111111111111,\"#46039f\"],[0.2222222222222222,\"#7201a8\"],[0.3333333333333333,\"#9c179e\"],[0.4444444444444444,\"#bd3786\"],[0.5555555555555556,\"#d8576b\"],[0.6666666666666666,\"#ed7953\"],[0.7777777777777778,\"#fb9f3a\"],[0.8888888888888888,\"#fdca26\"],[1.0,\"#f0f921\"]]}],\"heatmapgl\":[{\"type\":\"heatmapgl\",\"colorbar\":{\"outlinewidth\":0,\"ticks\":\"\"},\"colorscale\":[[0.0,\"#0d0887\"],[0.1111111111111111,\"#46039f\"],[0.2222222222222222,\"#7201a8\"],[0.3333333333333333,\"#9c179e\"],[0.4444444444444444,\"#bd3786\"],[0.5555555555555556,\"#d8576b\"],[0.6666666666666666,\"#ed7953\"],[0.7777777777777778,\"#fb9f3a\"],[0.8888888888888888,\"#fdca26\"],[1.0,\"#f0f921\"]]}],\"contourcarpet\":[{\"type\":\"contourcarpet\",\"colorbar\":{\"outlinewidth\":0,\"ticks\":\"\"}}],\"contour\":[{\"type\":\"contour\",\"colorbar\":{\"outlinewidth\":0,\"ticks\":\"\"},\"colorscale\":[[0.0,\"#0d0887\"],[0.1111111111111111,\"#46039f\"],[0.2222222222222222,\"#7201a8\"],[0.3333333333333333,\"#9c179e\"],[0.4444444444444444,\"#bd3786\"],[0.5555555555555556,\"#d8576b\"],[0.6666666666666666,\"#ed7953\"],[0.7777777777777778,\"#fb9f3a\"],[0.8888888888888888,\"#fdca26\"],[1.0,\"#f0f921\"]]}],\"surface\":[{\"type\":\"surface\",\"colorbar\":{\"outlinewidth\":0,\"ticks\":\"\"},\"colorscale\":[[0.0,\"#0d0887\"],[0.1111111111111111,\"#46039f\"],[0.2222222222222222,\"#7201a8\"],[0.3333333333333333,\"#9c179e\"],[0.4444444444444444,\"#bd3786\"],[0.5555555555555556,\"#d8576b\"],[0.6666666666666666,\"#ed7953\"],[0.7777777777777778,\"#fb9f3a\"],[0.8888888888888888,\"#fdca26\"],[1.0,\"#f0f921\"]]}],\"mesh3d\":[{\"type\":\"mesh3d\",\"colorbar\":{\"outlinewidth\":0,\"ticks\":\"\"}}],\"scatter\":[{\"fillpattern\":{\"fillmode\":\"overlay\",\"size\":10,\"solidity\":0.2},\"type\":\"scatter\"}],\"parcoords\":[{\"type\":\"parcoords\",\"line\":{\"colorbar\":{\"outlinewidth\":0,\"ticks\":\"\"}}}],\"scatterpolargl\":[{\"type\":\"scatterpolargl\",\"marker\":{\"colorbar\":{\"outlinewidth\":0,\"ticks\":\"\"}}}],\"bar\":[{\"error_x\":{\"color\":\"#2a3f5f\"},\"error_y\":{\"color\":\"#2a3f5f\"},\"marker\":{\"line\":{\"color\":\"#E5ECF6\",\"width\":0.5},\"pattern\":{\"fillmode\":\"overlay\",\"size\":10,\"solidity\":0.2}},\"type\":\"bar\"}],\"scattergeo\":[{\"type\":\"scattergeo\",\"marker\":{\"colorbar\":{\"outlinewidth\":0,\"ticks\":\"\"}}}],\"scatterpolar\":[{\"type\":\"scatterpolar\",\"marker\":{\"colorbar\":{\"outlinewidth\":0,\"ticks\":\"\"}}}],\"histogram\":[{\"marker\":{\"pattern\":{\"fillmode\":\"overlay\",\"size\":10,\"solidity\":0.2}},\"type\":\"histogram\"}],\"scattergl\":[{\"type\":\"scattergl\",\"marker\":{\"colorbar\":{\"outlinewidth\":0,\"ticks\":\"\"}}}],\"scatter3d\":[{\"type\":\"scatter3d\",\"line\":{\"colorbar\":{\"outlinewidth\":0,\"ticks\":\"\"}},\"marker\":{\"colorbar\":{\"outlinewidth\":0,\"ticks\":\"\"}}}],\"scattermapbox\":[{\"type\":\"scattermapbox\",\"marker\":{\"colorbar\":{\"outlinewidth\":0,\"ticks\":\"\"}}}],\"scatterternary\":[{\"type\":\"scatterternary\",\"marker\":{\"colorbar\":{\"outlinewidth\":0,\"ticks\":\"\"}}}],\"scattercarpet\":[{\"type\":\"scattercarpet\",\"marker\":{\"colorbar\":{\"outlinewidth\":0,\"ticks\":\"\"}}}],\"carpet\":[{\"aaxis\":{\"endlinecolor\":\"#2a3f5f\",\"gridcolor\":\"white\",\"linecolor\":\"white\",\"minorgridcolor\":\"white\",\"startlinecolor\":\"#2a3f5f\"},\"baxis\":{\"endlinecolor\":\"#2a3f5f\",\"gridcolor\":\"white\",\"linecolor\":\"white\",\"minorgridcolor\":\"white\",\"startlinecolor\":\"#2a3f5f\"},\"type\":\"carpet\"}],\"table\":[{\"cells\":{\"fill\":{\"color\":\"#EBF0F8\"},\"line\":{\"color\":\"white\"}},\"header\":{\"fill\":{\"color\":\"#C8D4E3\"},\"line\":{\"color\":\"white\"}},\"type\":\"table\"}],\"barpolar\":[{\"marker\":{\"line\":{\"color\":\"#E5ECF6\",\"width\":0.5},\"pattern\":{\"fillmode\":\"overlay\",\"size\":10,\"solidity\":0.2}},\"type\":\"barpolar\"}],\"pie\":[{\"automargin\":true,\"type\":\"pie\"}]},\"layout\":{\"autotypenumbers\":\"strict\",\"colorway\":[\"#636efa\",\"#EF553B\",\"#00cc96\",\"#ab63fa\",\"#FFA15A\",\"#19d3f3\",\"#FF6692\",\"#B6E880\",\"#FF97FF\",\"#FECB52\"],\"font\":{\"color\":\"#2a3f5f\"},\"hovermode\":\"closest\",\"hoverlabel\":{\"align\":\"left\"},\"paper_bgcolor\":\"white\",\"plot_bgcolor\":\"#E5ECF6\",\"polar\":{\"bgcolor\":\"#E5ECF6\",\"angularaxis\":{\"gridcolor\":\"white\",\"linecolor\":\"white\",\"ticks\":\"\"},\"radialaxis\":{\"gridcolor\":\"white\",\"linecolor\":\"white\",\"ticks\":\"\"}},\"ternary\":{\"bgcolor\":\"#E5ECF6\",\"aaxis\":{\"gridcolor\":\"white\",\"linecolor\":\"white\",\"ticks\":\"\"},\"baxis\":{\"gridcolor\":\"white\",\"linecolor\":\"white\",\"ticks\":\"\"},\"caxis\":{\"gridcolor\":\"white\",\"linecolor\":\"white\",\"ticks\":\"\"}},\"coloraxis\":{\"colorbar\":{\"outlinewidth\":0,\"ticks\":\"\"}},\"colorscale\":{\"sequential\":[[0.0,\"#0d0887\"],[0.1111111111111111,\"#46039f\"],[0.2222222222222222,\"#7201a8\"],[0.3333333333333333,\"#9c179e\"],[0.4444444444444444,\"#bd3786\"],[0.5555555555555556,\"#d8576b\"],[0.6666666666666666,\"#ed7953\"],[0.7777777777777778,\"#fb9f3a\"],[0.8888888888888888,\"#fdca26\"],[1.0,\"#f0f921\"]],\"sequentialminus\":[[0.0,\"#0d0887\"],[0.1111111111111111,\"#46039f\"],[0.2222222222222222,\"#7201a8\"],[0.3333333333333333,\"#9c179e\"],[0.4444444444444444,\"#bd3786\"],[0.5555555555555556,\"#d8576b\"],[0.6666666666666666,\"#ed7953\"],[0.7777777777777778,\"#fb9f3a\"],[0.8888888888888888,\"#fdca26\"],[1.0,\"#f0f921\"]],\"diverging\":[[0,\"#8e0152\"],[0.1,\"#c51b7d\"],[0.2,\"#de77ae\"],[0.3,\"#f1b6da\"],[0.4,\"#fde0ef\"],[0.5,\"#f7f7f7\"],[0.6,\"#e6f5d0\"],[0.7,\"#b8e186\"],[0.8,\"#7fbc41\"],[0.9,\"#4d9221\"],[1,\"#276419\"]]},\"xaxis\":{\"gridcolor\":\"white\",\"linecolor\":\"white\",\"ticks\":\"\",\"title\":{\"standoff\":15},\"zerolinecolor\":\"white\",\"automargin\":true,\"zerolinewidth\":2},\"yaxis\":{\"gridcolor\":\"white\",\"linecolor\":\"white\",\"ticks\":\"\",\"title\":{\"standoff\":15},\"zerolinecolor\":\"white\",\"automargin\":true,\"zerolinewidth\":2},\"scene\":{\"xaxis\":{\"backgroundcolor\":\"#E5ECF6\",\"gridcolor\":\"white\",\"linecolor\":\"white\",\"showbackground\":true,\"ticks\":\"\",\"zerolinecolor\":\"white\",\"gridwidth\":2},\"yaxis\":{\"backgroundcolor\":\"#E5ECF6\",\"gridcolor\":\"white\",\"linecolor\":\"white\",\"showbackground\":true,\"ticks\":\"\",\"zerolinecolor\":\"white\",\"gridwidth\":2},\"zaxis\":{\"backgroundcolor\":\"#E5ECF6\",\"gridcolor\":\"white\",\"linecolor\":\"white\",\"showbackground\":true,\"ticks\":\"\",\"zerolinecolor\":\"white\",\"gridwidth\":2}},\"shapedefaults\":{\"line\":{\"color\":\"#2a3f5f\"}},\"annotationdefaults\":{\"arrowcolor\":\"#2a3f5f\",\"arrowhead\":0,\"arrowwidth\":1},\"geo\":{\"bgcolor\":\"white\",\"landcolor\":\"#E5ECF6\",\"subunitcolor\":\"white\",\"showland\":true,\"showlakes\":true,\"lakecolor\":\"white\"},\"title\":{\"x\":0.05},\"mapbox\":{\"style\":\"light\"}}},\"xaxis\":{\"anchor\":\"y\",\"domain\":[0.0,1.0],\"title\":{\"text\":\"% par rapport au total\"}},\"yaxis\":{\"anchor\":\"x\",\"domain\":[0.0,1.0],\"title\":{\"text\":\"Mati\\u00e8res textiles\"}},\"margin\":{\"l\":150,\"r\":50,\"t\":50,\"b\":50},\"title\":{\"text\":\"R\\u00e9partition des diff\\u00e9rentes mati\\u00e8res textiles en %\"},\"plot_bgcolor\":\"rgba(0,0,0,0)\"},                        {\"responsive\": true}                    ).then(function(){\n",
              "                            \n",
              "var gd = document.getElementById('8764169f-d390-4b34-9e4f-c9124c6343b8');\n",
              "var x = new MutationObserver(function (mutations, observer) {{\n",
              "        var display = window.getComputedStyle(gd).display;\n",
              "        if (!display || display === 'none') {{\n",
              "            console.log([gd, 'removed!']);\n",
              "            Plotly.purge(gd);\n",
              "            observer.disconnect();\n",
              "        }}\n",
              "}});\n",
              "\n",
              "// Listen for the removal of the full notebook cells\n",
              "var notebookContainer = gd.closest('#notebook-container');\n",
              "if (notebookContainer) {{\n",
              "    x.observe(notebookContainer, {childList: true});\n",
              "}}\n",
              "\n",
              "// Listen for the clearing of the current output cell\n",
              "var outputEl = gd.closest('.output');\n",
              "if (outputEl) {{\n",
              "    x.observe(outputEl, {childList: true});\n",
              "}}\n",
              "\n",
              "                        })                };                            </script>        </div>\n",
              "</body>\n",
              "</html>"
            ]
          },
          "metadata": {}
        }
      ]
    },
    {
      "cell_type": "code",
      "source": [
        "# modifions notre dataframe avec chaque matière en colonne pour pouvoir les manipuler\n",
        "matieres_premieres = counts_pct.index.tolist() # création d'une liste avec les matières\n",
        "\n",
        "for matiere in matieres_premieres:\n",
        "    df_composes[matiere] = pd.Series() # ajouter une colonne vide par matière au dataframe"
      ],
      "metadata": {
        "id": "izH0iosexrUw"
      },
      "execution_count": null,
      "outputs": []
    },
    {
      "cell_type": "code",
      "source": [
        "# remplissons les colonnes correspondantes avec les pourcentages en float\n",
        "for index, row in df_composes.iterrows(): # itération sur chaque ligne du dataframe\n",
        "    for composition in row['composes']: # itération sur la colonne composes\n",
        "        for matiere in matieres_premieres: # itération sur la liste matieres_premieres\n",
        "            if composition.find(matiere) != -1: # si la matière est trouvée dans la colonne composes (si l'index renvoyé est différent de -1)\n",
        "                df_composes.loc[index, matiere] = float(composition.split('%')[0])/100 # extraire le chiffre du %, le convertir en float et l'assigner à la colonne appropriée"
      ],
      "metadata": {
        "id": "Ogqckd11zJyG"
      },
      "execution_count": null,
      "outputs": []
    },
    {
      "cell_type": "code",
      "source": [
        "# supprimons les colonnes non classables en tant que matière textile\n",
        "df_composes = df_composes.fillna(0).drop('', axis=1)\n",
        "df_composes = df_composes.fillna(0).drop('autres', axis=1) \n",
        "df_composes = df_composes.fillna(0).drop('fibre', axis=1) \n",
        "df_composes = df_composes.fillna(0).drop('gaze', axis=1) \n",
        "df_composes = df_composes.fillna(0).drop('polyuréthane', axis=1) \n",
        "df_composes = df_composes.fillna(0).drop('polyesterCouleur', axis=1) \n",
        "df_composes = df_composes.fillna(0).drop('cotonCouleur', axis=1) \n",
        "df_composes = df_composes.fillna(0).drop('linCouleur', axis=1) "
      ],
      "metadata": {
        "id": "yfBif_kkz6cz"
      },
      "execution_count": null,
      "outputs": []
    },
    {
      "cell_type": "code",
      "source": [
        "# par défaut lorsqu'il y a plusieurs occurrences du même composé, Python ne retient que le 1er\n",
        "# mais s'il y a 3 fois 100% composés différents, il met 3 fois 100% dans chaque colonne\n",
        "# voici comment nous avons traité cela : "
      ],
      "metadata": {
        "id": "kkjRaBKCwfRf"
      },
      "execution_count": null,
      "outputs": []
    },
    {
      "cell_type": "code",
      "source": [
        "# fonction qui renvoie si le vêtement est unique ou un lot\n",
        "def check_quantity(row):\n",
        "  sum_composes = row[3:21].sum()\n",
        "  if sum_composes <= 1:\n",
        "    return 'unique'\n",
        "  else:\n",
        "    return 'lot'\n",
        "\n",
        "df_composes['quantite'] = df_composes.apply(check_quantity, axis=1)"
      ],
      "metadata": {
        "id": "h0RsySpKwwKg"
      },
      "execution_count": null,
      "outputs": []
    },
    {
      "cell_type": "code",
      "source": [
        "# ajoutons une colonne 'poids' des vêtements à partir d'une grille récupérée sur ce site : https://rocketmf.com/en/weight#tab-5\n",
        "def get_weight(row):\n",
        "  article = row['articles']\n",
        "  if article in ['tshirt', 'maillot', 'débardeur', 'brassiere']:\n",
        "    return 0.065\n",
        "  elif article in ['pantalon', 'jogging', 'sarouel']:\n",
        "    return 0.185\n",
        "  elif article in ['sweat', 'sweatshirt', 'chemise', 'polo', 'surchemise', 'ciret', 'pyjama', 'combinaison', 'surpyjama']:\n",
        "    return 0.15\n",
        "  elif article in ['robe', 'cape']:\n",
        "    return 0.175\n",
        "  elif article in ['short', 'jupe', 'jupon', 'legging', 'bermuda']:\n",
        "    return 0.12\n",
        "  elif article in ['pull', 'blouse', 'gilet', 'poncho']:\n",
        "    return 0.28\n",
        "  elif article in ['salopette', 'tablier', 'tunique']:\n",
        "    return 0.35\n",
        "  elif article in ['doudoune', 'veste', 'parka', 'cardigan', 'manteau', 'blouson', 'duffle', 'trench', 'caban']:\n",
        "    return 0.5\n",
        "  elif article in ['casquette', 'bonnet', 'chapeau', 'bob', 'chapka', 'beret']:\n",
        "    return 0.07\n",
        "  elif article in ['peignoir', 'nid', 'jean']:\n",
        "    return 0.3\n",
        "  elif article in ['body', 'boxer', 'culotte', 'barbotteuse', 'mariniere', 'calecon']:\n",
        "    return 0.3\n",
        "  elif article in ['foulard', 'snood', 'noeud', 'gants', 'headband', 'moufles', 'fichu', 'cravate', 'collant', 'echarpe']:\n",
        "    return 0.3\n",
        "  else: # lots\n",
        "    return 0.6\n",
        "\n",
        "df_composes['poids'] = df_composes.apply(get_weight, axis=1)"
      ],
      "metadata": {
        "id": "uVCUwqo5-CiK"
      },
      "execution_count": null,
      "outputs": []
    },
    {
      "cell_type": "code",
      "source": [
        "# multiplions chaque float de chaque matière par le poids du vêtement pour obtenir des quantités en volumes mesurables et donc comparables \n",
        "to_multiply = ['coton', 'polyester', 'élasthanne', 'polyamide', 'viscose', 'acrylique', 'laine', 'lin']\n",
        "df_composes[to_multiply] = df_composes[to_multiply].multiply(df_composes[\"poids\"], axis=\"index\").round(2)"
      ],
      "metadata": {
        "id": "ikgGRAeqQ3FU"
      },
      "execution_count": null,
      "outputs": []
    },
    {
      "cell_type": "code",
      "source": [
        "# dataframe final\n",
        "df_composes"
      ],
      "metadata": {
        "colab": {
          "base_uri": "https://localhost:8080/",
          "height": 423
        },
        "id": "egJGphxHDAKA",
        "outputId": "8000ef4c-6878-461a-f209-2cdbcd661cf5"
      },
      "execution_count": null,
      "outputs": [
        {
          "output_type": "execute_result",
          "data": {
            "text/plain": [
              "                        composes collection articles  coton  polyester  \\\n",
              "0     [98% coton, 2% élasthanne]       bébé    sweat   0.15        0.0   \n",
              "1                   [100% coton]       bébé      lot   0.60        0.0   \n",
              "2                   [100% coton]       bébé     body   0.30        0.0   \n",
              "3                   [100% coton]       bébé      lot   0.60        0.0   \n",
              "4                   [100% coton]       bébé      lot   0.60        0.0   \n",
              "...                          ...        ...      ...    ...        ...   \n",
              "4672                [100% coton]     garçon   pyjama   0.15        0.0   \n",
              "4673            [100% acrylique]     garçon  moufles   0.00        0.0   \n",
              "4674    [100% coton, 100% coton]     garçon     polo   0.15        0.0   \n",
              "4675    [100% coton, 100% coton]     garçon   pyjama   0.15        0.0   \n",
              "4677                [100% coton]     garçon   tshirt   0.06        0.0   \n",
              "\n",
              "      élasthanne  polyamide  viscose  acrylique  laine  lin quantite  poids  \n",
              "0            0.0        0.0      0.0        0.0    0.0  0.0   unique  0.150  \n",
              "1            0.0        0.0      0.0        0.0    0.0  0.0   unique  0.600  \n",
              "2            0.0        0.0      0.0        0.0    0.0  0.0   unique  0.300  \n",
              "3            0.0        0.0      0.0        0.0    0.0  0.0   unique  0.600  \n",
              "4            0.0        0.0      0.0        0.0    0.0  0.0   unique  0.600  \n",
              "...          ...        ...      ...        ...    ...  ...      ...    ...  \n",
              "4672         0.0        0.0      0.0        0.0    0.0  0.0   unique  0.150  \n",
              "4673         0.0        0.0      0.0        0.3    0.0  0.0   unique  0.300  \n",
              "4674         0.0        0.0      0.0        0.0    0.0  0.0   unique  0.150  \n",
              "4675         0.0        0.0      0.0        0.0    0.0  0.0   unique  0.150  \n",
              "4677         0.0        0.0      0.0        0.0    0.0  0.0   unique  0.065  \n",
              "\n",
              "[4275 rows x 13 columns]"
            ],
            "text/html": [
              "\n",
              "  <div id=\"df-171f0e19-495b-4043-a619-32672e35e1c0\">\n",
              "    <div class=\"colab-df-container\">\n",
              "      <div>\n",
              "<style scoped>\n",
              "    .dataframe tbody tr th:only-of-type {\n",
              "        vertical-align: middle;\n",
              "    }\n",
              "\n",
              "    .dataframe tbody tr th {\n",
              "        vertical-align: top;\n",
              "    }\n",
              "\n",
              "    .dataframe thead th {\n",
              "        text-align: right;\n",
              "    }\n",
              "</style>\n",
              "<table border=\"1\" class=\"dataframe\">\n",
              "  <thead>\n",
              "    <tr style=\"text-align: right;\">\n",
              "      <th></th>\n",
              "      <th>composes</th>\n",
              "      <th>collection</th>\n",
              "      <th>articles</th>\n",
              "      <th>coton</th>\n",
              "      <th>polyester</th>\n",
              "      <th>élasthanne</th>\n",
              "      <th>polyamide</th>\n",
              "      <th>viscose</th>\n",
              "      <th>acrylique</th>\n",
              "      <th>laine</th>\n",
              "      <th>lin</th>\n",
              "      <th>quantite</th>\n",
              "      <th>poids</th>\n",
              "    </tr>\n",
              "  </thead>\n",
              "  <tbody>\n",
              "    <tr>\n",
              "      <th>0</th>\n",
              "      <td>[98% coton, 2% élasthanne]</td>\n",
              "      <td>bébé</td>\n",
              "      <td>sweat</td>\n",
              "      <td>0.15</td>\n",
              "      <td>0.0</td>\n",
              "      <td>0.0</td>\n",
              "      <td>0.0</td>\n",
              "      <td>0.0</td>\n",
              "      <td>0.0</td>\n",
              "      <td>0.0</td>\n",
              "      <td>0.0</td>\n",
              "      <td>unique</td>\n",
              "      <td>0.150</td>\n",
              "    </tr>\n",
              "    <tr>\n",
              "      <th>1</th>\n",
              "      <td>[100% coton]</td>\n",
              "      <td>bébé</td>\n",
              "      <td>lot</td>\n",
              "      <td>0.60</td>\n",
              "      <td>0.0</td>\n",
              "      <td>0.0</td>\n",
              "      <td>0.0</td>\n",
              "      <td>0.0</td>\n",
              "      <td>0.0</td>\n",
              "      <td>0.0</td>\n",
              "      <td>0.0</td>\n",
              "      <td>unique</td>\n",
              "      <td>0.600</td>\n",
              "    </tr>\n",
              "    <tr>\n",
              "      <th>2</th>\n",
              "      <td>[100% coton]</td>\n",
              "      <td>bébé</td>\n",
              "      <td>body</td>\n",
              "      <td>0.30</td>\n",
              "      <td>0.0</td>\n",
              "      <td>0.0</td>\n",
              "      <td>0.0</td>\n",
              "      <td>0.0</td>\n",
              "      <td>0.0</td>\n",
              "      <td>0.0</td>\n",
              "      <td>0.0</td>\n",
              "      <td>unique</td>\n",
              "      <td>0.300</td>\n",
              "    </tr>\n",
              "    <tr>\n",
              "      <th>3</th>\n",
              "      <td>[100% coton]</td>\n",
              "      <td>bébé</td>\n",
              "      <td>lot</td>\n",
              "      <td>0.60</td>\n",
              "      <td>0.0</td>\n",
              "      <td>0.0</td>\n",
              "      <td>0.0</td>\n",
              "      <td>0.0</td>\n",
              "      <td>0.0</td>\n",
              "      <td>0.0</td>\n",
              "      <td>0.0</td>\n",
              "      <td>unique</td>\n",
              "      <td>0.600</td>\n",
              "    </tr>\n",
              "    <tr>\n",
              "      <th>4</th>\n",
              "      <td>[100% coton]</td>\n",
              "      <td>bébé</td>\n",
              "      <td>lot</td>\n",
              "      <td>0.60</td>\n",
              "      <td>0.0</td>\n",
              "      <td>0.0</td>\n",
              "      <td>0.0</td>\n",
              "      <td>0.0</td>\n",
              "      <td>0.0</td>\n",
              "      <td>0.0</td>\n",
              "      <td>0.0</td>\n",
              "      <td>unique</td>\n",
              "      <td>0.600</td>\n",
              "    </tr>\n",
              "    <tr>\n",
              "      <th>...</th>\n",
              "      <td>...</td>\n",
              "      <td>...</td>\n",
              "      <td>...</td>\n",
              "      <td>...</td>\n",
              "      <td>...</td>\n",
              "      <td>...</td>\n",
              "      <td>...</td>\n",
              "      <td>...</td>\n",
              "      <td>...</td>\n",
              "      <td>...</td>\n",
              "      <td>...</td>\n",
              "      <td>...</td>\n",
              "      <td>...</td>\n",
              "    </tr>\n",
              "    <tr>\n",
              "      <th>4672</th>\n",
              "      <td>[100% coton]</td>\n",
              "      <td>garçon</td>\n",
              "      <td>pyjama</td>\n",
              "      <td>0.15</td>\n",
              "      <td>0.0</td>\n",
              "      <td>0.0</td>\n",
              "      <td>0.0</td>\n",
              "      <td>0.0</td>\n",
              "      <td>0.0</td>\n",
              "      <td>0.0</td>\n",
              "      <td>0.0</td>\n",
              "      <td>unique</td>\n",
              "      <td>0.150</td>\n",
              "    </tr>\n",
              "    <tr>\n",
              "      <th>4673</th>\n",
              "      <td>[100% acrylique]</td>\n",
              "      <td>garçon</td>\n",
              "      <td>moufles</td>\n",
              "      <td>0.00</td>\n",
              "      <td>0.0</td>\n",
              "      <td>0.0</td>\n",
              "      <td>0.0</td>\n",
              "      <td>0.0</td>\n",
              "      <td>0.3</td>\n",
              "      <td>0.0</td>\n",
              "      <td>0.0</td>\n",
              "      <td>unique</td>\n",
              "      <td>0.300</td>\n",
              "    </tr>\n",
              "    <tr>\n",
              "      <th>4674</th>\n",
              "      <td>[100% coton, 100% coton]</td>\n",
              "      <td>garçon</td>\n",
              "      <td>polo</td>\n",
              "      <td>0.15</td>\n",
              "      <td>0.0</td>\n",
              "      <td>0.0</td>\n",
              "      <td>0.0</td>\n",
              "      <td>0.0</td>\n",
              "      <td>0.0</td>\n",
              "      <td>0.0</td>\n",
              "      <td>0.0</td>\n",
              "      <td>unique</td>\n",
              "      <td>0.150</td>\n",
              "    </tr>\n",
              "    <tr>\n",
              "      <th>4675</th>\n",
              "      <td>[100% coton, 100% coton]</td>\n",
              "      <td>garçon</td>\n",
              "      <td>pyjama</td>\n",
              "      <td>0.15</td>\n",
              "      <td>0.0</td>\n",
              "      <td>0.0</td>\n",
              "      <td>0.0</td>\n",
              "      <td>0.0</td>\n",
              "      <td>0.0</td>\n",
              "      <td>0.0</td>\n",
              "      <td>0.0</td>\n",
              "      <td>unique</td>\n",
              "      <td>0.150</td>\n",
              "    </tr>\n",
              "    <tr>\n",
              "      <th>4677</th>\n",
              "      <td>[100% coton]</td>\n",
              "      <td>garçon</td>\n",
              "      <td>tshirt</td>\n",
              "      <td>0.06</td>\n",
              "      <td>0.0</td>\n",
              "      <td>0.0</td>\n",
              "      <td>0.0</td>\n",
              "      <td>0.0</td>\n",
              "      <td>0.0</td>\n",
              "      <td>0.0</td>\n",
              "      <td>0.0</td>\n",
              "      <td>unique</td>\n",
              "      <td>0.065</td>\n",
              "    </tr>\n",
              "  </tbody>\n",
              "</table>\n",
              "<p>4275 rows × 13 columns</p>\n",
              "</div>\n",
              "      <button class=\"colab-df-convert\" onclick=\"convertToInteractive('df-171f0e19-495b-4043-a619-32672e35e1c0')\"\n",
              "              title=\"Convert this dataframe to an interactive table.\"\n",
              "              style=\"display:none;\">\n",
              "        \n",
              "  <svg xmlns=\"http://www.w3.org/2000/svg\" height=\"24px\"viewBox=\"0 0 24 24\"\n",
              "       width=\"24px\">\n",
              "    <path d=\"M0 0h24v24H0V0z\" fill=\"none\"/>\n",
              "    <path d=\"M18.56 5.44l.94 2.06.94-2.06 2.06-.94-2.06-.94-.94-2.06-.94 2.06-2.06.94zm-11 1L8.5 8.5l.94-2.06 2.06-.94-2.06-.94L8.5 2.5l-.94 2.06-2.06.94zm10 10l.94 2.06.94-2.06 2.06-.94-2.06-.94-.94-2.06-.94 2.06-2.06.94z\"/><path d=\"M17.41 7.96l-1.37-1.37c-.4-.4-.92-.59-1.43-.59-.52 0-1.04.2-1.43.59L10.3 9.45l-7.72 7.72c-.78.78-.78 2.05 0 2.83L4 21.41c.39.39.9.59 1.41.59.51 0 1.02-.2 1.41-.59l7.78-7.78 2.81-2.81c.8-.78.8-2.07 0-2.86zM5.41 20L4 18.59l7.72-7.72 1.47 1.35L5.41 20z\"/>\n",
              "  </svg>\n",
              "      </button>\n",
              "      \n",
              "  <style>\n",
              "    .colab-df-container {\n",
              "      display:flex;\n",
              "      flex-wrap:wrap;\n",
              "      gap: 12px;\n",
              "    }\n",
              "\n",
              "    .colab-df-convert {\n",
              "      background-color: #E8F0FE;\n",
              "      border: none;\n",
              "      border-radius: 50%;\n",
              "      cursor: pointer;\n",
              "      display: none;\n",
              "      fill: #1967D2;\n",
              "      height: 32px;\n",
              "      padding: 0 0 0 0;\n",
              "      width: 32px;\n",
              "    }\n",
              "\n",
              "    .colab-df-convert:hover {\n",
              "      background-color: #E2EBFA;\n",
              "      box-shadow: 0px 1px 2px rgba(60, 64, 67, 0.3), 0px 1px 3px 1px rgba(60, 64, 67, 0.15);\n",
              "      fill: #174EA6;\n",
              "    }\n",
              "\n",
              "    [theme=dark] .colab-df-convert {\n",
              "      background-color: #3B4455;\n",
              "      fill: #D2E3FC;\n",
              "    }\n",
              "\n",
              "    [theme=dark] .colab-df-convert:hover {\n",
              "      background-color: #434B5C;\n",
              "      box-shadow: 0px 1px 3px 1px rgba(0, 0, 0, 0.15);\n",
              "      filter: drop-shadow(0px 1px 2px rgba(0, 0, 0, 0.3));\n",
              "      fill: #FFFFFF;\n",
              "    }\n",
              "  </style>\n",
              "\n",
              "      <script>\n",
              "        const buttonEl =\n",
              "          document.querySelector('#df-171f0e19-495b-4043-a619-32672e35e1c0 button.colab-df-convert');\n",
              "        buttonEl.style.display =\n",
              "          google.colab.kernel.accessAllowed ? 'block' : 'none';\n",
              "\n",
              "        async function convertToInteractive(key) {\n",
              "          const element = document.querySelector('#df-171f0e19-495b-4043-a619-32672e35e1c0');\n",
              "          const dataTable =\n",
              "            await google.colab.kernel.invokeFunction('convertToInteractive',\n",
              "                                                     [key], {});\n",
              "          if (!dataTable) return;\n",
              "\n",
              "          const docLinkHtml = 'Like what you see? Visit the ' +\n",
              "            '<a target=\"_blank\" href=https://colab.research.google.com/notebooks/data_table.ipynb>data table notebook</a>'\n",
              "            + ' to learn more about interactive tables.';\n",
              "          element.innerHTML = '';\n",
              "          dataTable['output_type'] = 'display_data';\n",
              "          await google.colab.output.renderOutput(dataTable, element);\n",
              "          const docLink = document.createElement('div');\n",
              "          docLink.innerHTML = docLinkHtml;\n",
              "          element.appendChild(docLink);\n",
              "        }\n",
              "      </script>\n",
              "    </div>\n",
              "  </div>\n",
              "  "
            ]
          },
          "metadata": {},
          "execution_count": 71
        }
      ]
    },
    {
      "cell_type": "code",
      "source": [
        "uploaded = files.upload()\n",
        "path = \"df_composes_final.csv\"\n",
        "df_composes_final = pd.read_csv(path)"
      ],
      "metadata": {
        "id": "NLmnwYI4DUG9"
      },
      "execution_count": null,
      "outputs": []
    },
    {
      "cell_type": "code",
      "source": [
        "# manipulons et visualisons à partir de ce dataframe\n",
        "poids = df_composes_final[['coton', 'polyester', 'élasthanne', 'polyamide', 'viscose', 'acrylique', 'laine', 'lin']].sum().to_frame()\n",
        "poids['pourcentages'] = poids / poids.sum() * 100\n",
        "poids"
      ],
      "metadata": {
        "colab": {
          "base_uri": "https://localhost:8080/",
          "height": 300
        },
        "id": "sxVoWjQskywg",
        "outputId": "188cba07-48d5-4ae7-d7ee-3af21a82d341"
      },
      "execution_count": null,
      "outputs": [
        {
          "output_type": "execute_result",
          "data": {
            "text/plain": [
              "                 0  pourcentages\n",
              "coton       879.76     70.685028\n",
              "polyester   212.25     17.053398\n",
              "élasthanne   11.99      0.963346\n",
              "polyamide    62.31      5.006347\n",
              "viscose      27.87      2.239238\n",
              "acrylique    38.63      3.103759\n",
              "laine         6.45      0.518230\n",
              "lin           5.36      0.430654"
            ],
            "text/html": [
              "\n",
              "  <div id=\"df-0bf8fd71-2983-4bcc-95c0-ae7d014f7c87\">\n",
              "    <div class=\"colab-df-container\">\n",
              "      <div>\n",
              "<style scoped>\n",
              "    .dataframe tbody tr th:only-of-type {\n",
              "        vertical-align: middle;\n",
              "    }\n",
              "\n",
              "    .dataframe tbody tr th {\n",
              "        vertical-align: top;\n",
              "    }\n",
              "\n",
              "    .dataframe thead th {\n",
              "        text-align: right;\n",
              "    }\n",
              "</style>\n",
              "<table border=\"1\" class=\"dataframe\">\n",
              "  <thead>\n",
              "    <tr style=\"text-align: right;\">\n",
              "      <th></th>\n",
              "      <th>0</th>\n",
              "      <th>pourcentages</th>\n",
              "    </tr>\n",
              "  </thead>\n",
              "  <tbody>\n",
              "    <tr>\n",
              "      <th>coton</th>\n",
              "      <td>879.76</td>\n",
              "      <td>70.685028</td>\n",
              "    </tr>\n",
              "    <tr>\n",
              "      <th>polyester</th>\n",
              "      <td>212.25</td>\n",
              "      <td>17.053398</td>\n",
              "    </tr>\n",
              "    <tr>\n",
              "      <th>élasthanne</th>\n",
              "      <td>11.99</td>\n",
              "      <td>0.963346</td>\n",
              "    </tr>\n",
              "    <tr>\n",
              "      <th>polyamide</th>\n",
              "      <td>62.31</td>\n",
              "      <td>5.006347</td>\n",
              "    </tr>\n",
              "    <tr>\n",
              "      <th>viscose</th>\n",
              "      <td>27.87</td>\n",
              "      <td>2.239238</td>\n",
              "    </tr>\n",
              "    <tr>\n",
              "      <th>acrylique</th>\n",
              "      <td>38.63</td>\n",
              "      <td>3.103759</td>\n",
              "    </tr>\n",
              "    <tr>\n",
              "      <th>laine</th>\n",
              "      <td>6.45</td>\n",
              "      <td>0.518230</td>\n",
              "    </tr>\n",
              "    <tr>\n",
              "      <th>lin</th>\n",
              "      <td>5.36</td>\n",
              "      <td>0.430654</td>\n",
              "    </tr>\n",
              "  </tbody>\n",
              "</table>\n",
              "</div>\n",
              "      <button class=\"colab-df-convert\" onclick=\"convertToInteractive('df-0bf8fd71-2983-4bcc-95c0-ae7d014f7c87')\"\n",
              "              title=\"Convert this dataframe to an interactive table.\"\n",
              "              style=\"display:none;\">\n",
              "        \n",
              "  <svg xmlns=\"http://www.w3.org/2000/svg\" height=\"24px\"viewBox=\"0 0 24 24\"\n",
              "       width=\"24px\">\n",
              "    <path d=\"M0 0h24v24H0V0z\" fill=\"none\"/>\n",
              "    <path d=\"M18.56 5.44l.94 2.06.94-2.06 2.06-.94-2.06-.94-.94-2.06-.94 2.06-2.06.94zm-11 1L8.5 8.5l.94-2.06 2.06-.94-2.06-.94L8.5 2.5l-.94 2.06-2.06.94zm10 10l.94 2.06.94-2.06 2.06-.94-2.06-.94-.94-2.06-.94 2.06-2.06.94z\"/><path d=\"M17.41 7.96l-1.37-1.37c-.4-.4-.92-.59-1.43-.59-.52 0-1.04.2-1.43.59L10.3 9.45l-7.72 7.72c-.78.78-.78 2.05 0 2.83L4 21.41c.39.39.9.59 1.41.59.51 0 1.02-.2 1.41-.59l7.78-7.78 2.81-2.81c.8-.78.8-2.07 0-2.86zM5.41 20L4 18.59l7.72-7.72 1.47 1.35L5.41 20z\"/>\n",
              "  </svg>\n",
              "      </button>\n",
              "      \n",
              "  <style>\n",
              "    .colab-df-container {\n",
              "      display:flex;\n",
              "      flex-wrap:wrap;\n",
              "      gap: 12px;\n",
              "    }\n",
              "\n",
              "    .colab-df-convert {\n",
              "      background-color: #E8F0FE;\n",
              "      border: none;\n",
              "      border-radius: 50%;\n",
              "      cursor: pointer;\n",
              "      display: none;\n",
              "      fill: #1967D2;\n",
              "      height: 32px;\n",
              "      padding: 0 0 0 0;\n",
              "      width: 32px;\n",
              "    }\n",
              "\n",
              "    .colab-df-convert:hover {\n",
              "      background-color: #E2EBFA;\n",
              "      box-shadow: 0px 1px 2px rgba(60, 64, 67, 0.3), 0px 1px 3px 1px rgba(60, 64, 67, 0.15);\n",
              "      fill: #174EA6;\n",
              "    }\n",
              "\n",
              "    [theme=dark] .colab-df-convert {\n",
              "      background-color: #3B4455;\n",
              "      fill: #D2E3FC;\n",
              "    }\n",
              "\n",
              "    [theme=dark] .colab-df-convert:hover {\n",
              "      background-color: #434B5C;\n",
              "      box-shadow: 0px 1px 3px 1px rgba(0, 0, 0, 0.15);\n",
              "      filter: drop-shadow(0px 1px 2px rgba(0, 0, 0, 0.3));\n",
              "      fill: #FFFFFF;\n",
              "    }\n",
              "  </style>\n",
              "\n",
              "      <script>\n",
              "        const buttonEl =\n",
              "          document.querySelector('#df-0bf8fd71-2983-4bcc-95c0-ae7d014f7c87 button.colab-df-convert');\n",
              "        buttonEl.style.display =\n",
              "          google.colab.kernel.accessAllowed ? 'block' : 'none';\n",
              "\n",
              "        async function convertToInteractive(key) {\n",
              "          const element = document.querySelector('#df-0bf8fd71-2983-4bcc-95c0-ae7d014f7c87');\n",
              "          const dataTable =\n",
              "            await google.colab.kernel.invokeFunction('convertToInteractive',\n",
              "                                                     [key], {});\n",
              "          if (!dataTable) return;\n",
              "\n",
              "          const docLinkHtml = 'Like what you see? Visit the ' +\n",
              "            '<a target=\"_blank\" href=https://colab.research.google.com/notebooks/data_table.ipynb>data table notebook</a>'\n",
              "            + ' to learn more about interactive tables.';\n",
              "          element.innerHTML = '';\n",
              "          dataTable['output_type'] = 'display_data';\n",
              "          await google.colab.output.renderOutput(dataTable, element);\n",
              "          const docLink = document.createElement('div');\n",
              "          docLink.innerHTML = docLinkHtml;\n",
              "          element.appendChild(docLink);\n",
              "        }\n",
              "      </script>\n",
              "    </div>\n",
              "  </div>\n",
              "  "
            ]
          },
          "metadata": {},
          "execution_count": 4
        }
      ]
    },
    {
      "cell_type": "code",
      "source": [
        "# effectuons un pie chart\n",
        "fig_poids_tot = go.Figure(data=[go.Pie(labels=poids['pourcentages'].index, values=poids['pourcentages'].values, hole=.5)])\n",
        "fig_poids_tot.update_layout(height=500, width=1200, title_text='Répartition des volumes de matières en fonction du poids total', piecolorway=['#b3e2cd', '#fdccac', '#cbd5e8', '#f4cae4', '#e6f5c9', '#fff2ae', '#f1e2cc', '#cccccc'])\n",
        "fig_poids_tot.show()"
      ],
      "metadata": {
        "colab": {
          "base_uri": "https://localhost:8080/",
          "height": 517
        },
        "id": "h4d2WgcGeKOV",
        "outputId": "97849abb-7da7-4efe-f5d1-eb3a2484efd1"
      },
      "execution_count": null,
      "outputs": [
        {
          "output_type": "display_data",
          "data": {
            "text/html": [
              "<html>\n",
              "<head><meta charset=\"utf-8\" /></head>\n",
              "<body>\n",
              "    <div>            <script src=\"https://cdnjs.cloudflare.com/ajax/libs/mathjax/2.7.5/MathJax.js?config=TeX-AMS-MML_SVG\"></script><script type=\"text/javascript\">if (window.MathJax && window.MathJax.Hub && window.MathJax.Hub.Config) {window.MathJax.Hub.Config({SVG: {font: \"STIX-Web\"}});}</script>                <script type=\"text/javascript\">window.PlotlyConfig = {MathJaxConfig: 'local'};</script>\n",
              "        <script src=\"https://cdn.plot.ly/plotly-2.18.2.min.js\"></script>                <div id=\"8eb40e9e-f165-4763-9659-b2660360ab8b\" class=\"plotly-graph-div\" style=\"height:500px; width:1200px;\"></div>            <script type=\"text/javascript\">                                    window.PLOTLYENV=window.PLOTLYENV || {};                                    if (document.getElementById(\"8eb40e9e-f165-4763-9659-b2660360ab8b\")) {                    Plotly.newPlot(                        \"8eb40e9e-f165-4763-9659-b2660360ab8b\",                        [{\"hole\":0.5,\"labels\":[\"coton\",\"polyester\",\"\\u00e9lasthanne\",\"polyamide\",\"viscose\",\"acrylique\",\"laine\",\"lin\"],\"values\":[70.68502836207036,17.05339782423551,0.9633462422265432,5.006347318860375,2.239237678970289,3.1037585769150424,0.5182304639166975,0.43065353280519364],\"type\":\"pie\"}],                        {\"template\":{\"data\":{\"histogram2dcontour\":[{\"type\":\"histogram2dcontour\",\"colorbar\":{\"outlinewidth\":0,\"ticks\":\"\"},\"colorscale\":[[0.0,\"#0d0887\"],[0.1111111111111111,\"#46039f\"],[0.2222222222222222,\"#7201a8\"],[0.3333333333333333,\"#9c179e\"],[0.4444444444444444,\"#bd3786\"],[0.5555555555555556,\"#d8576b\"],[0.6666666666666666,\"#ed7953\"],[0.7777777777777778,\"#fb9f3a\"],[0.8888888888888888,\"#fdca26\"],[1.0,\"#f0f921\"]]}],\"choropleth\":[{\"type\":\"choropleth\",\"colorbar\":{\"outlinewidth\":0,\"ticks\":\"\"}}],\"histogram2d\":[{\"type\":\"histogram2d\",\"colorbar\":{\"outlinewidth\":0,\"ticks\":\"\"},\"colorscale\":[[0.0,\"#0d0887\"],[0.1111111111111111,\"#46039f\"],[0.2222222222222222,\"#7201a8\"],[0.3333333333333333,\"#9c179e\"],[0.4444444444444444,\"#bd3786\"],[0.5555555555555556,\"#d8576b\"],[0.6666666666666666,\"#ed7953\"],[0.7777777777777778,\"#fb9f3a\"],[0.8888888888888888,\"#fdca26\"],[1.0,\"#f0f921\"]]}],\"heatmap\":[{\"type\":\"heatmap\",\"colorbar\":{\"outlinewidth\":0,\"ticks\":\"\"},\"colorscale\":[[0.0,\"#0d0887\"],[0.1111111111111111,\"#46039f\"],[0.2222222222222222,\"#7201a8\"],[0.3333333333333333,\"#9c179e\"],[0.4444444444444444,\"#bd3786\"],[0.5555555555555556,\"#d8576b\"],[0.6666666666666666,\"#ed7953\"],[0.7777777777777778,\"#fb9f3a\"],[0.8888888888888888,\"#fdca26\"],[1.0,\"#f0f921\"]]}],\"heatmapgl\":[{\"type\":\"heatmapgl\",\"colorbar\":{\"outlinewidth\":0,\"ticks\":\"\"},\"colorscale\":[[0.0,\"#0d0887\"],[0.1111111111111111,\"#46039f\"],[0.2222222222222222,\"#7201a8\"],[0.3333333333333333,\"#9c179e\"],[0.4444444444444444,\"#bd3786\"],[0.5555555555555556,\"#d8576b\"],[0.6666666666666666,\"#ed7953\"],[0.7777777777777778,\"#fb9f3a\"],[0.8888888888888888,\"#fdca26\"],[1.0,\"#f0f921\"]]}],\"contourcarpet\":[{\"type\":\"contourcarpet\",\"colorbar\":{\"outlinewidth\":0,\"ticks\":\"\"}}],\"contour\":[{\"type\":\"contour\",\"colorbar\":{\"outlinewidth\":0,\"ticks\":\"\"},\"colorscale\":[[0.0,\"#0d0887\"],[0.1111111111111111,\"#46039f\"],[0.2222222222222222,\"#7201a8\"],[0.3333333333333333,\"#9c179e\"],[0.4444444444444444,\"#bd3786\"],[0.5555555555555556,\"#d8576b\"],[0.6666666666666666,\"#ed7953\"],[0.7777777777777778,\"#fb9f3a\"],[0.8888888888888888,\"#fdca26\"],[1.0,\"#f0f921\"]]}],\"surface\":[{\"type\":\"surface\",\"colorbar\":{\"outlinewidth\":0,\"ticks\":\"\"},\"colorscale\":[[0.0,\"#0d0887\"],[0.1111111111111111,\"#46039f\"],[0.2222222222222222,\"#7201a8\"],[0.3333333333333333,\"#9c179e\"],[0.4444444444444444,\"#bd3786\"],[0.5555555555555556,\"#d8576b\"],[0.6666666666666666,\"#ed7953\"],[0.7777777777777778,\"#fb9f3a\"],[0.8888888888888888,\"#fdca26\"],[1.0,\"#f0f921\"]]}],\"mesh3d\":[{\"type\":\"mesh3d\",\"colorbar\":{\"outlinewidth\":0,\"ticks\":\"\"}}],\"scatter\":[{\"fillpattern\":{\"fillmode\":\"overlay\",\"size\":10,\"solidity\":0.2},\"type\":\"scatter\"}],\"parcoords\":[{\"type\":\"parcoords\",\"line\":{\"colorbar\":{\"outlinewidth\":0,\"ticks\":\"\"}}}],\"scatterpolargl\":[{\"type\":\"scatterpolargl\",\"marker\":{\"colorbar\":{\"outlinewidth\":0,\"ticks\":\"\"}}}],\"bar\":[{\"error_x\":{\"color\":\"#2a3f5f\"},\"error_y\":{\"color\":\"#2a3f5f\"},\"marker\":{\"line\":{\"color\":\"#E5ECF6\",\"width\":0.5},\"pattern\":{\"fillmode\":\"overlay\",\"size\":10,\"solidity\":0.2}},\"type\":\"bar\"}],\"scattergeo\":[{\"type\":\"scattergeo\",\"marker\":{\"colorbar\":{\"outlinewidth\":0,\"ticks\":\"\"}}}],\"scatterpolar\":[{\"type\":\"scatterpolar\",\"marker\":{\"colorbar\":{\"outlinewidth\":0,\"ticks\":\"\"}}}],\"histogram\":[{\"marker\":{\"pattern\":{\"fillmode\":\"overlay\",\"size\":10,\"solidity\":0.2}},\"type\":\"histogram\"}],\"scattergl\":[{\"type\":\"scattergl\",\"marker\":{\"colorbar\":{\"outlinewidth\":0,\"ticks\":\"\"}}}],\"scatter3d\":[{\"type\":\"scatter3d\",\"line\":{\"colorbar\":{\"outlinewidth\":0,\"ticks\":\"\"}},\"marker\":{\"colorbar\":{\"outlinewidth\":0,\"ticks\":\"\"}}}],\"scattermapbox\":[{\"type\":\"scattermapbox\",\"marker\":{\"colorbar\":{\"outlinewidth\":0,\"ticks\":\"\"}}}],\"scatterternary\":[{\"type\":\"scatterternary\",\"marker\":{\"colorbar\":{\"outlinewidth\":0,\"ticks\":\"\"}}}],\"scattercarpet\":[{\"type\":\"scattercarpet\",\"marker\":{\"colorbar\":{\"outlinewidth\":0,\"ticks\":\"\"}}}],\"carpet\":[{\"aaxis\":{\"endlinecolor\":\"#2a3f5f\",\"gridcolor\":\"white\",\"linecolor\":\"white\",\"minorgridcolor\":\"white\",\"startlinecolor\":\"#2a3f5f\"},\"baxis\":{\"endlinecolor\":\"#2a3f5f\",\"gridcolor\":\"white\",\"linecolor\":\"white\",\"minorgridcolor\":\"white\",\"startlinecolor\":\"#2a3f5f\"},\"type\":\"carpet\"}],\"table\":[{\"cells\":{\"fill\":{\"color\":\"#EBF0F8\"},\"line\":{\"color\":\"white\"}},\"header\":{\"fill\":{\"color\":\"#C8D4E3\"},\"line\":{\"color\":\"white\"}},\"type\":\"table\"}],\"barpolar\":[{\"marker\":{\"line\":{\"color\":\"#E5ECF6\",\"width\":0.5},\"pattern\":{\"fillmode\":\"overlay\",\"size\":10,\"solidity\":0.2}},\"type\":\"barpolar\"}],\"pie\":[{\"automargin\":true,\"type\":\"pie\"}]},\"layout\":{\"autotypenumbers\":\"strict\",\"colorway\":[\"#636efa\",\"#EF553B\",\"#00cc96\",\"#ab63fa\",\"#FFA15A\",\"#19d3f3\",\"#FF6692\",\"#B6E880\",\"#FF97FF\",\"#FECB52\"],\"font\":{\"color\":\"#2a3f5f\"},\"hovermode\":\"closest\",\"hoverlabel\":{\"align\":\"left\"},\"paper_bgcolor\":\"white\",\"plot_bgcolor\":\"#E5ECF6\",\"polar\":{\"bgcolor\":\"#E5ECF6\",\"angularaxis\":{\"gridcolor\":\"white\",\"linecolor\":\"white\",\"ticks\":\"\"},\"radialaxis\":{\"gridcolor\":\"white\",\"linecolor\":\"white\",\"ticks\":\"\"}},\"ternary\":{\"bgcolor\":\"#E5ECF6\",\"aaxis\":{\"gridcolor\":\"white\",\"linecolor\":\"white\",\"ticks\":\"\"},\"baxis\":{\"gridcolor\":\"white\",\"linecolor\":\"white\",\"ticks\":\"\"},\"caxis\":{\"gridcolor\":\"white\",\"linecolor\":\"white\",\"ticks\":\"\"}},\"coloraxis\":{\"colorbar\":{\"outlinewidth\":0,\"ticks\":\"\"}},\"colorscale\":{\"sequential\":[[0.0,\"#0d0887\"],[0.1111111111111111,\"#46039f\"],[0.2222222222222222,\"#7201a8\"],[0.3333333333333333,\"#9c179e\"],[0.4444444444444444,\"#bd3786\"],[0.5555555555555556,\"#d8576b\"],[0.6666666666666666,\"#ed7953\"],[0.7777777777777778,\"#fb9f3a\"],[0.8888888888888888,\"#fdca26\"],[1.0,\"#f0f921\"]],\"sequentialminus\":[[0.0,\"#0d0887\"],[0.1111111111111111,\"#46039f\"],[0.2222222222222222,\"#7201a8\"],[0.3333333333333333,\"#9c179e\"],[0.4444444444444444,\"#bd3786\"],[0.5555555555555556,\"#d8576b\"],[0.6666666666666666,\"#ed7953\"],[0.7777777777777778,\"#fb9f3a\"],[0.8888888888888888,\"#fdca26\"],[1.0,\"#f0f921\"]],\"diverging\":[[0,\"#8e0152\"],[0.1,\"#c51b7d\"],[0.2,\"#de77ae\"],[0.3,\"#f1b6da\"],[0.4,\"#fde0ef\"],[0.5,\"#f7f7f7\"],[0.6,\"#e6f5d0\"],[0.7,\"#b8e186\"],[0.8,\"#7fbc41\"],[0.9,\"#4d9221\"],[1,\"#276419\"]]},\"xaxis\":{\"gridcolor\":\"white\",\"linecolor\":\"white\",\"ticks\":\"\",\"title\":{\"standoff\":15},\"zerolinecolor\":\"white\",\"automargin\":true,\"zerolinewidth\":2},\"yaxis\":{\"gridcolor\":\"white\",\"linecolor\":\"white\",\"ticks\":\"\",\"title\":{\"standoff\":15},\"zerolinecolor\":\"white\",\"automargin\":true,\"zerolinewidth\":2},\"scene\":{\"xaxis\":{\"backgroundcolor\":\"#E5ECF6\",\"gridcolor\":\"white\",\"linecolor\":\"white\",\"showbackground\":true,\"ticks\":\"\",\"zerolinecolor\":\"white\",\"gridwidth\":2},\"yaxis\":{\"backgroundcolor\":\"#E5ECF6\",\"gridcolor\":\"white\",\"linecolor\":\"white\",\"showbackground\":true,\"ticks\":\"\",\"zerolinecolor\":\"white\",\"gridwidth\":2},\"zaxis\":{\"backgroundcolor\":\"#E5ECF6\",\"gridcolor\":\"white\",\"linecolor\":\"white\",\"showbackground\":true,\"ticks\":\"\",\"zerolinecolor\":\"white\",\"gridwidth\":2}},\"shapedefaults\":{\"line\":{\"color\":\"#2a3f5f\"}},\"annotationdefaults\":{\"arrowcolor\":\"#2a3f5f\",\"arrowhead\":0,\"arrowwidth\":1},\"geo\":{\"bgcolor\":\"white\",\"landcolor\":\"#E5ECF6\",\"subunitcolor\":\"white\",\"showland\":true,\"showlakes\":true,\"lakecolor\":\"white\"},\"title\":{\"x\":0.05},\"mapbox\":{\"style\":\"light\"}}},\"title\":{\"text\":\"R\\u00e9partition des volumes de mati\\u00e8res en fonction du poids total\"},\"height\":500,\"width\":1200,\"piecolorway\":[\"#b3e2cd\",\"#fdccac\",\"#cbd5e8\",\"#f4cae4\",\"#e6f5c9\",\"#fff2ae\",\"#f1e2cc\",\"#cccccc\"]},                        {\"responsive\": true}                    ).then(function(){\n",
              "                            \n",
              "var gd = document.getElementById('8eb40e9e-f165-4763-9659-b2660360ab8b');\n",
              "var x = new MutationObserver(function (mutations, observer) {{\n",
              "        var display = window.getComputedStyle(gd).display;\n",
              "        if (!display || display === 'none') {{\n",
              "            console.log([gd, 'removed!']);\n",
              "            Plotly.purge(gd);\n",
              "            observer.disconnect();\n",
              "        }}\n",
              "}});\n",
              "\n",
              "// Listen for the removal of the full notebook cells\n",
              "var notebookContainer = gd.closest('#notebook-container');\n",
              "if (notebookContainer) {{\n",
              "    x.observe(notebookContainer, {childList: true});\n",
              "}}\n",
              "\n",
              "// Listen for the clearing of the current output cell\n",
              "var outputEl = gd.closest('.output');\n",
              "if (outputEl) {{\n",
              "    x.observe(outputEl, {childList: true});\n",
              "}}\n",
              "\n",
              "                        })                };                            </script>        </div>\n",
              "</body>\n",
              "</html>"
            ]
          },
          "metadata": {}
        }
      ]
    },
    {
      "cell_type": "markdown",
      "source": [
        "Nous voyons à quel point le **coton** est prédominant dans les collections de la marque."
      ],
      "metadata": {
        "id": "9KQtAXRfZPuw"
      }
    },
    {
      "cell_type": "code",
      "source": [
        "# visualisons la répartition par collection\n",
        "by_collection = df_composes_final.groupby('collection')[['coton', 'polyester', 'élasthanne', 'polyamide', 'viscose', 'acrylique', 'laine', 'lin']].sum()\n",
        "by_collection"
      ],
      "metadata": {
        "colab": {
          "base_uri": "https://localhost:8080/",
          "height": 175
        },
        "id": "WHXfDYf5cAlR",
        "outputId": "37b25327-94f0-4fca-9586-6d3f18ccb590"
      },
      "execution_count": null,
      "outputs": [
        {
          "output_type": "execute_result",
          "data": {
            "text/plain": [
              "             coton  polyester  élasthanne  polyamide  viscose  acrylique  \\\n",
              "collection                                                                 \n",
              "bébé        378.13      67.24        3.22      19.51     8.27       5.65   \n",
              "fille       305.63      80.76        5.83      24.52    17.49      19.27   \n",
              "garçon      196.00      64.25        2.94      18.28     2.11      13.71   \n",
              "\n",
              "            laine   lin  \n",
              "collection               \n",
              "bébé         3.86  1.85  \n",
              "fille        1.90  0.36  \n",
              "garçon       0.69  3.15  "
            ],
            "text/html": [
              "\n",
              "  <div id=\"df-477c4d8b-c2c4-4874-8b89-f63ca3ae5e00\">\n",
              "    <div class=\"colab-df-container\">\n",
              "      <div>\n",
              "<style scoped>\n",
              "    .dataframe tbody tr th:only-of-type {\n",
              "        vertical-align: middle;\n",
              "    }\n",
              "\n",
              "    .dataframe tbody tr th {\n",
              "        vertical-align: top;\n",
              "    }\n",
              "\n",
              "    .dataframe thead th {\n",
              "        text-align: right;\n",
              "    }\n",
              "</style>\n",
              "<table border=\"1\" class=\"dataframe\">\n",
              "  <thead>\n",
              "    <tr style=\"text-align: right;\">\n",
              "      <th></th>\n",
              "      <th>coton</th>\n",
              "      <th>polyester</th>\n",
              "      <th>élasthanne</th>\n",
              "      <th>polyamide</th>\n",
              "      <th>viscose</th>\n",
              "      <th>acrylique</th>\n",
              "      <th>laine</th>\n",
              "      <th>lin</th>\n",
              "    </tr>\n",
              "    <tr>\n",
              "      <th>collection</th>\n",
              "      <th></th>\n",
              "      <th></th>\n",
              "      <th></th>\n",
              "      <th></th>\n",
              "      <th></th>\n",
              "      <th></th>\n",
              "      <th></th>\n",
              "      <th></th>\n",
              "    </tr>\n",
              "  </thead>\n",
              "  <tbody>\n",
              "    <tr>\n",
              "      <th>bébé</th>\n",
              "      <td>378.13</td>\n",
              "      <td>67.24</td>\n",
              "      <td>3.22</td>\n",
              "      <td>19.51</td>\n",
              "      <td>8.27</td>\n",
              "      <td>5.65</td>\n",
              "      <td>3.86</td>\n",
              "      <td>1.85</td>\n",
              "    </tr>\n",
              "    <tr>\n",
              "      <th>fille</th>\n",
              "      <td>305.63</td>\n",
              "      <td>80.76</td>\n",
              "      <td>5.83</td>\n",
              "      <td>24.52</td>\n",
              "      <td>17.49</td>\n",
              "      <td>19.27</td>\n",
              "      <td>1.90</td>\n",
              "      <td>0.36</td>\n",
              "    </tr>\n",
              "    <tr>\n",
              "      <th>garçon</th>\n",
              "      <td>196.00</td>\n",
              "      <td>64.25</td>\n",
              "      <td>2.94</td>\n",
              "      <td>18.28</td>\n",
              "      <td>2.11</td>\n",
              "      <td>13.71</td>\n",
              "      <td>0.69</td>\n",
              "      <td>3.15</td>\n",
              "    </tr>\n",
              "  </tbody>\n",
              "</table>\n",
              "</div>\n",
              "      <button class=\"colab-df-convert\" onclick=\"convertToInteractive('df-477c4d8b-c2c4-4874-8b89-f63ca3ae5e00')\"\n",
              "              title=\"Convert this dataframe to an interactive table.\"\n",
              "              style=\"display:none;\">\n",
              "        \n",
              "  <svg xmlns=\"http://www.w3.org/2000/svg\" height=\"24px\"viewBox=\"0 0 24 24\"\n",
              "       width=\"24px\">\n",
              "    <path d=\"M0 0h24v24H0V0z\" fill=\"none\"/>\n",
              "    <path d=\"M18.56 5.44l.94 2.06.94-2.06 2.06-.94-2.06-.94-.94-2.06-.94 2.06-2.06.94zm-11 1L8.5 8.5l.94-2.06 2.06-.94-2.06-.94L8.5 2.5l-.94 2.06-2.06.94zm10 10l.94 2.06.94-2.06 2.06-.94-2.06-.94-.94-2.06-.94 2.06-2.06.94z\"/><path d=\"M17.41 7.96l-1.37-1.37c-.4-.4-.92-.59-1.43-.59-.52 0-1.04.2-1.43.59L10.3 9.45l-7.72 7.72c-.78.78-.78 2.05 0 2.83L4 21.41c.39.39.9.59 1.41.59.51 0 1.02-.2 1.41-.59l7.78-7.78 2.81-2.81c.8-.78.8-2.07 0-2.86zM5.41 20L4 18.59l7.72-7.72 1.47 1.35L5.41 20z\"/>\n",
              "  </svg>\n",
              "      </button>\n",
              "      \n",
              "  <style>\n",
              "    .colab-df-container {\n",
              "      display:flex;\n",
              "      flex-wrap:wrap;\n",
              "      gap: 12px;\n",
              "    }\n",
              "\n",
              "    .colab-df-convert {\n",
              "      background-color: #E8F0FE;\n",
              "      border: none;\n",
              "      border-radius: 50%;\n",
              "      cursor: pointer;\n",
              "      display: none;\n",
              "      fill: #1967D2;\n",
              "      height: 32px;\n",
              "      padding: 0 0 0 0;\n",
              "      width: 32px;\n",
              "    }\n",
              "\n",
              "    .colab-df-convert:hover {\n",
              "      background-color: #E2EBFA;\n",
              "      box-shadow: 0px 1px 2px rgba(60, 64, 67, 0.3), 0px 1px 3px 1px rgba(60, 64, 67, 0.15);\n",
              "      fill: #174EA6;\n",
              "    }\n",
              "\n",
              "    [theme=dark] .colab-df-convert {\n",
              "      background-color: #3B4455;\n",
              "      fill: #D2E3FC;\n",
              "    }\n",
              "\n",
              "    [theme=dark] .colab-df-convert:hover {\n",
              "      background-color: #434B5C;\n",
              "      box-shadow: 0px 1px 3px 1px rgba(0, 0, 0, 0.15);\n",
              "      filter: drop-shadow(0px 1px 2px rgba(0, 0, 0, 0.3));\n",
              "      fill: #FFFFFF;\n",
              "    }\n",
              "  </style>\n",
              "\n",
              "      <script>\n",
              "        const buttonEl =\n",
              "          document.querySelector('#df-477c4d8b-c2c4-4874-8b89-f63ca3ae5e00 button.colab-df-convert');\n",
              "        buttonEl.style.display =\n",
              "          google.colab.kernel.accessAllowed ? 'block' : 'none';\n",
              "\n",
              "        async function convertToInteractive(key) {\n",
              "          const element = document.querySelector('#df-477c4d8b-c2c4-4874-8b89-f63ca3ae5e00');\n",
              "          const dataTable =\n",
              "            await google.colab.kernel.invokeFunction('convertToInteractive',\n",
              "                                                     [key], {});\n",
              "          if (!dataTable) return;\n",
              "\n",
              "          const docLinkHtml = 'Like what you see? Visit the ' +\n",
              "            '<a target=\"_blank\" href=https://colab.research.google.com/notebooks/data_table.ipynb>data table notebook</a>'\n",
              "            + ' to learn more about interactive tables.';\n",
              "          element.innerHTML = '';\n",
              "          dataTable['output_type'] = 'display_data';\n",
              "          await google.colab.output.renderOutput(dataTable, element);\n",
              "          const docLink = document.createElement('div');\n",
              "          docLink.innerHTML = docLinkHtml;\n",
              "          element.appendChild(docLink);\n",
              "        }\n",
              "      </script>\n",
              "    </div>\n",
              "  </div>\n",
              "  "
            ]
          },
          "metadata": {},
          "execution_count": 6
        }
      ]
    },
    {
      "cell_type": "code",
      "source": [
        "# calculons les poids totaux pour chaque collection\n",
        "poids_total = by_collection.sum(axis=1)\n",
        "\n",
        "# divisons chaque valeur par le poids total de la collection correspondante, puis multiplions par 100\n",
        "df_pct = (by_collection.div(poids_total, axis=0) * 100).round(1)\n",
        "df_pct"
      ],
      "metadata": {
        "colab": {
          "base_uri": "https://localhost:8080/",
          "height": 175
        },
        "id": "f-ucYT9UprMg",
        "outputId": "1fff6d4f-7ed1-4f73-94b9-17e92ae959ee"
      },
      "execution_count": null,
      "outputs": [
        {
          "output_type": "execute_result",
          "data": {
            "text/plain": [
              "            coton  polyester  élasthanne  polyamide  viscose  acrylique  \\\n",
              "collection                                                                \n",
              "bébé         77.5       13.8         0.7        4.0      1.7        1.2   \n",
              "fille        67.1       17.7         1.3        5.4      3.8        4.2   \n",
              "garçon       65.1       21.3         1.0        6.1      0.7        4.6   \n",
              "\n",
              "            laine  lin  \n",
              "collection              \n",
              "bébé          0.8  0.4  \n",
              "fille         0.4  0.1  \n",
              "garçon        0.2  1.0  "
            ],
            "text/html": [
              "\n",
              "  <div id=\"df-a520ca1b-7c39-412b-8bbc-a474df8212b9\">\n",
              "    <div class=\"colab-df-container\">\n",
              "      <div>\n",
              "<style scoped>\n",
              "    .dataframe tbody tr th:only-of-type {\n",
              "        vertical-align: middle;\n",
              "    }\n",
              "\n",
              "    .dataframe tbody tr th {\n",
              "        vertical-align: top;\n",
              "    }\n",
              "\n",
              "    .dataframe thead th {\n",
              "        text-align: right;\n",
              "    }\n",
              "</style>\n",
              "<table border=\"1\" class=\"dataframe\">\n",
              "  <thead>\n",
              "    <tr style=\"text-align: right;\">\n",
              "      <th></th>\n",
              "      <th>coton</th>\n",
              "      <th>polyester</th>\n",
              "      <th>élasthanne</th>\n",
              "      <th>polyamide</th>\n",
              "      <th>viscose</th>\n",
              "      <th>acrylique</th>\n",
              "      <th>laine</th>\n",
              "      <th>lin</th>\n",
              "    </tr>\n",
              "    <tr>\n",
              "      <th>collection</th>\n",
              "      <th></th>\n",
              "      <th></th>\n",
              "      <th></th>\n",
              "      <th></th>\n",
              "      <th></th>\n",
              "      <th></th>\n",
              "      <th></th>\n",
              "      <th></th>\n",
              "    </tr>\n",
              "  </thead>\n",
              "  <tbody>\n",
              "    <tr>\n",
              "      <th>bébé</th>\n",
              "      <td>77.5</td>\n",
              "      <td>13.8</td>\n",
              "      <td>0.7</td>\n",
              "      <td>4.0</td>\n",
              "      <td>1.7</td>\n",
              "      <td>1.2</td>\n",
              "      <td>0.8</td>\n",
              "      <td>0.4</td>\n",
              "    </tr>\n",
              "    <tr>\n",
              "      <th>fille</th>\n",
              "      <td>67.1</td>\n",
              "      <td>17.7</td>\n",
              "      <td>1.3</td>\n",
              "      <td>5.4</td>\n",
              "      <td>3.8</td>\n",
              "      <td>4.2</td>\n",
              "      <td>0.4</td>\n",
              "      <td>0.1</td>\n",
              "    </tr>\n",
              "    <tr>\n",
              "      <th>garçon</th>\n",
              "      <td>65.1</td>\n",
              "      <td>21.3</td>\n",
              "      <td>1.0</td>\n",
              "      <td>6.1</td>\n",
              "      <td>0.7</td>\n",
              "      <td>4.6</td>\n",
              "      <td>0.2</td>\n",
              "      <td>1.0</td>\n",
              "    </tr>\n",
              "  </tbody>\n",
              "</table>\n",
              "</div>\n",
              "      <button class=\"colab-df-convert\" onclick=\"convertToInteractive('df-a520ca1b-7c39-412b-8bbc-a474df8212b9')\"\n",
              "              title=\"Convert this dataframe to an interactive table.\"\n",
              "              style=\"display:none;\">\n",
              "        \n",
              "  <svg xmlns=\"http://www.w3.org/2000/svg\" height=\"24px\"viewBox=\"0 0 24 24\"\n",
              "       width=\"24px\">\n",
              "    <path d=\"M0 0h24v24H0V0z\" fill=\"none\"/>\n",
              "    <path d=\"M18.56 5.44l.94 2.06.94-2.06 2.06-.94-2.06-.94-.94-2.06-.94 2.06-2.06.94zm-11 1L8.5 8.5l.94-2.06 2.06-.94-2.06-.94L8.5 2.5l-.94 2.06-2.06.94zm10 10l.94 2.06.94-2.06 2.06-.94-2.06-.94-.94-2.06-.94 2.06-2.06.94z\"/><path d=\"M17.41 7.96l-1.37-1.37c-.4-.4-.92-.59-1.43-.59-.52 0-1.04.2-1.43.59L10.3 9.45l-7.72 7.72c-.78.78-.78 2.05 0 2.83L4 21.41c.39.39.9.59 1.41.59.51 0 1.02-.2 1.41-.59l7.78-7.78 2.81-2.81c.8-.78.8-2.07 0-2.86zM5.41 20L4 18.59l7.72-7.72 1.47 1.35L5.41 20z\"/>\n",
              "  </svg>\n",
              "      </button>\n",
              "      \n",
              "  <style>\n",
              "    .colab-df-container {\n",
              "      display:flex;\n",
              "      flex-wrap:wrap;\n",
              "      gap: 12px;\n",
              "    }\n",
              "\n",
              "    .colab-df-convert {\n",
              "      background-color: #E8F0FE;\n",
              "      border: none;\n",
              "      border-radius: 50%;\n",
              "      cursor: pointer;\n",
              "      display: none;\n",
              "      fill: #1967D2;\n",
              "      height: 32px;\n",
              "      padding: 0 0 0 0;\n",
              "      width: 32px;\n",
              "    }\n",
              "\n",
              "    .colab-df-convert:hover {\n",
              "      background-color: #E2EBFA;\n",
              "      box-shadow: 0px 1px 2px rgba(60, 64, 67, 0.3), 0px 1px 3px 1px rgba(60, 64, 67, 0.15);\n",
              "      fill: #174EA6;\n",
              "    }\n",
              "\n",
              "    [theme=dark] .colab-df-convert {\n",
              "      background-color: #3B4455;\n",
              "      fill: #D2E3FC;\n",
              "    }\n",
              "\n",
              "    [theme=dark] .colab-df-convert:hover {\n",
              "      background-color: #434B5C;\n",
              "      box-shadow: 0px 1px 3px 1px rgba(0, 0, 0, 0.15);\n",
              "      filter: drop-shadow(0px 1px 2px rgba(0, 0, 0, 0.3));\n",
              "      fill: #FFFFFF;\n",
              "    }\n",
              "  </style>\n",
              "\n",
              "      <script>\n",
              "        const buttonEl =\n",
              "          document.querySelector('#df-a520ca1b-7c39-412b-8bbc-a474df8212b9 button.colab-df-convert');\n",
              "        buttonEl.style.display =\n",
              "          google.colab.kernel.accessAllowed ? 'block' : 'none';\n",
              "\n",
              "        async function convertToInteractive(key) {\n",
              "          const element = document.querySelector('#df-a520ca1b-7c39-412b-8bbc-a474df8212b9');\n",
              "          const dataTable =\n",
              "            await google.colab.kernel.invokeFunction('convertToInteractive',\n",
              "                                                     [key], {});\n",
              "          if (!dataTable) return;\n",
              "\n",
              "          const docLinkHtml = 'Like what you see? Visit the ' +\n",
              "            '<a target=\"_blank\" href=https://colab.research.google.com/notebooks/data_table.ipynb>data table notebook</a>'\n",
              "            + ' to learn more about interactive tables.';\n",
              "          element.innerHTML = '';\n",
              "          dataTable['output_type'] = 'display_data';\n",
              "          await google.colab.output.renderOutput(dataTable, element);\n",
              "          const docLink = document.createElement('div');\n",
              "          docLink.innerHTML = docLinkHtml;\n",
              "          element.appendChild(docLink);\n",
              "        }\n",
              "      </script>\n",
              "    </div>\n",
              "  </div>\n",
              "  "
            ]
          },
          "metadata": {},
          "execution_count": 7
        }
      ]
    },
    {
      "cell_type": "code",
      "source": [
        "# réalisons un stacked_bar pour représenter les proportions\n",
        "trace_coton = go.Bar(name='Coton', x=df_pct.index, y=df_pct[\"coton\"], text=df_pct[\"coton\"], textposition='inside', marker_color='#b3e2cd')\n",
        "trace_polyester = go.Bar(name='Polyester', x=df_pct.index, y=df_pct[\"polyester\"], text=df_pct[\"polyester\"], textposition='inside', marker_color='#fdccac')\n",
        "trace_élasthanne = go.Bar(name='Elasthanne', x=df_pct.index, y=df_pct[\"élasthanne\"], text=df_pct[\"élasthanne\"], textposition='inside', marker_color='#cbd5e8')\n",
        "trace_polyamide = go.Bar(name='Polyamide', x=df_pct.index, y=df_pct[\"polyamide\"], text=df_pct[\"polyamide\"], textposition='inside', marker_color='#f4cae4')\n",
        "trace_viscose = go.Bar(name='Viscose', x=df_pct.index, y=df_pct[\"viscose\"], text=df_pct[\"viscose\"], textposition='inside', marker_color='#e6f5c9')\n",
        "trace_acrylique = go.Bar(name='Acrylique', x=df_pct.index, y=df_pct[\"acrylique\"], text=df_pct[\"acrylique\"], textposition='inside', marker_color='#fff2ae')\n",
        "trace_laine = go.Bar(name='Laine', x=df_pct.index, y=df_pct[\"laine\"], text=df_pct[\"laine\"], textposition='inside', marker_color='#f1e2cc')\n",
        "trace_lin = go.Bar(name='Lin', x=df_pct.index, y=df_pct[\"lin\"], text=df_pct[\"lin\"], textposition='inside', marker_color='#cccccc')\n",
        "\n",
        "stacked_bar_collec = go.Figure(data=[trace_coton, trace_polyester, trace_élasthanne, trace_polyamide, trace_viscose, trace_acrylique, trace_laine, trace_lin])\n",
        "stacked_bar_collec.update_layout(title=\"Répartition des volumes de matières pour chaque collection\", barmode='stack', plot_bgcolor=\"rgba(0,0,0,0)\", yaxis=dict(showgrid=True, gridcolor='lightgray', range=[0, 100], tickformat='.%'), yaxis_title=\"% par rapport au poids total\")\n",
        "stacked_bar_collec.show()"
      ],
      "metadata": {
        "colab": {
          "base_uri": "https://localhost:8080/",
          "height": 542
        },
        "id": "csdiLrW-mUOy",
        "outputId": "61e8adef-23b2-4ff1-c22a-83801308d962"
      },
      "execution_count": null,
      "outputs": [
        {
          "output_type": "display_data",
          "data": {
            "text/html": [
              "<html>\n",
              "<head><meta charset=\"utf-8\" /></head>\n",
              "<body>\n",
              "    <div>            <script src=\"https://cdnjs.cloudflare.com/ajax/libs/mathjax/2.7.5/MathJax.js?config=TeX-AMS-MML_SVG\"></script><script type=\"text/javascript\">if (window.MathJax && window.MathJax.Hub && window.MathJax.Hub.Config) {window.MathJax.Hub.Config({SVG: {font: \"STIX-Web\"}});}</script>                <script type=\"text/javascript\">window.PlotlyConfig = {MathJaxConfig: 'local'};</script>\n",
              "        <script src=\"https://cdn.plot.ly/plotly-2.18.2.min.js\"></script>                <div id=\"bcba6479-4d12-433f-8777-43981e2fe387\" class=\"plotly-graph-div\" style=\"height:525px; width:100%;\"></div>            <script type=\"text/javascript\">                                    window.PLOTLYENV=window.PLOTLYENV || {};                                    if (document.getElementById(\"bcba6479-4d12-433f-8777-43981e2fe387\")) {                    Plotly.newPlot(                        \"bcba6479-4d12-433f-8777-43981e2fe387\",                        [{\"marker\":{\"color\":\"#b3e2cd\"},\"name\":\"Coton\",\"text\":[77.5,67.1,65.1],\"textposition\":\"inside\",\"x\":[\"b\\u00e9b\\u00e9\",\"fille\",\"gar\\u00e7on\"],\"y\":[77.5,67.1,65.1],\"type\":\"bar\"},{\"marker\":{\"color\":\"#fdccac\"},\"name\":\"Polyester\",\"text\":[13.8,17.7,21.3],\"textposition\":\"inside\",\"x\":[\"b\\u00e9b\\u00e9\",\"fille\",\"gar\\u00e7on\"],\"y\":[13.8,17.7,21.3],\"type\":\"bar\"},{\"marker\":{\"color\":\"#cbd5e8\"},\"name\":\"Elasthanne\",\"text\":[0.7,1.3,1.0],\"textposition\":\"inside\",\"x\":[\"b\\u00e9b\\u00e9\",\"fille\",\"gar\\u00e7on\"],\"y\":[0.7,1.3,1.0],\"type\":\"bar\"},{\"marker\":{\"color\":\"#f4cae4\"},\"name\":\"Polyamide\",\"text\":[4.0,5.4,6.0],\"textposition\":\"inside\",\"x\":[\"b\\u00e9b\\u00e9\",\"fille\",\"gar\\u00e7on\"],\"y\":[4.0,5.4,6.0],\"type\":\"bar\"},{\"marker\":{\"color\":\"#e6f5c9\"},\"name\":\"Viscose\",\"text\":[1.7,3.8,0.7],\"textposition\":\"inside\",\"x\":[\"b\\u00e9b\\u00e9\",\"fille\",\"gar\\u00e7on\"],\"y\":[1.7,3.8,0.7],\"type\":\"bar\"},{\"marker\":{\"color\":\"#fff2ae\"},\"name\":\"Acrylique\",\"text\":[1.2,4.2,4.5],\"textposition\":\"inside\",\"x\":[\"b\\u00e9b\\u00e9\",\"fille\",\"gar\\u00e7on\"],\"y\":[1.2,4.2,4.5],\"type\":\"bar\"},{\"marker\":{\"color\":\"#f1e2cc\"},\"name\":\"Laine\",\"text\":[0.8,0.4,0.2],\"textposition\":\"inside\",\"x\":[\"b\\u00e9b\\u00e9\",\"fille\",\"gar\\u00e7on\"],\"y\":[0.8,0.4,0.2],\"type\":\"bar\"},{\"marker\":{\"color\":\"#cccccc\"},\"name\":\"Lin\",\"text\":[0.4,0.1,1.0],\"textposition\":\"inside\",\"x\":[\"b\\u00e9b\\u00e9\",\"fille\",\"gar\\u00e7on\"],\"y\":[0.4,0.1,1.0],\"type\":\"bar\"}],                        {\"template\":{\"data\":{\"histogram2dcontour\":[{\"type\":\"histogram2dcontour\",\"colorbar\":{\"outlinewidth\":0,\"ticks\":\"\"},\"colorscale\":[[0.0,\"#0d0887\"],[0.1111111111111111,\"#46039f\"],[0.2222222222222222,\"#7201a8\"],[0.3333333333333333,\"#9c179e\"],[0.4444444444444444,\"#bd3786\"],[0.5555555555555556,\"#d8576b\"],[0.6666666666666666,\"#ed7953\"],[0.7777777777777778,\"#fb9f3a\"],[0.8888888888888888,\"#fdca26\"],[1.0,\"#f0f921\"]]}],\"choropleth\":[{\"type\":\"choropleth\",\"colorbar\":{\"outlinewidth\":0,\"ticks\":\"\"}}],\"histogram2d\":[{\"type\":\"histogram2d\",\"colorbar\":{\"outlinewidth\":0,\"ticks\":\"\"},\"colorscale\":[[0.0,\"#0d0887\"],[0.1111111111111111,\"#46039f\"],[0.2222222222222222,\"#7201a8\"],[0.3333333333333333,\"#9c179e\"],[0.4444444444444444,\"#bd3786\"],[0.5555555555555556,\"#d8576b\"],[0.6666666666666666,\"#ed7953\"],[0.7777777777777778,\"#fb9f3a\"],[0.8888888888888888,\"#fdca26\"],[1.0,\"#f0f921\"]]}],\"heatmap\":[{\"type\":\"heatmap\",\"colorbar\":{\"outlinewidth\":0,\"ticks\":\"\"},\"colorscale\":[[0.0,\"#0d0887\"],[0.1111111111111111,\"#46039f\"],[0.2222222222222222,\"#7201a8\"],[0.3333333333333333,\"#9c179e\"],[0.4444444444444444,\"#bd3786\"],[0.5555555555555556,\"#d8576b\"],[0.6666666666666666,\"#ed7953\"],[0.7777777777777778,\"#fb9f3a\"],[0.8888888888888888,\"#fdca26\"],[1.0,\"#f0f921\"]]}],\"heatmapgl\":[{\"type\":\"heatmapgl\",\"colorbar\":{\"outlinewidth\":0,\"ticks\":\"\"},\"colorscale\":[[0.0,\"#0d0887\"],[0.1111111111111111,\"#46039f\"],[0.2222222222222222,\"#7201a8\"],[0.3333333333333333,\"#9c179e\"],[0.4444444444444444,\"#bd3786\"],[0.5555555555555556,\"#d8576b\"],[0.6666666666666666,\"#ed7953\"],[0.7777777777777778,\"#fb9f3a\"],[0.8888888888888888,\"#fdca26\"],[1.0,\"#f0f921\"]]}],\"contourcarpet\":[{\"type\":\"contourcarpet\",\"colorbar\":{\"outlinewidth\":0,\"ticks\":\"\"}}],\"contour\":[{\"type\":\"contour\",\"colorbar\":{\"outlinewidth\":0,\"ticks\":\"\"},\"colorscale\":[[0.0,\"#0d0887\"],[0.1111111111111111,\"#46039f\"],[0.2222222222222222,\"#7201a8\"],[0.3333333333333333,\"#9c179e\"],[0.4444444444444444,\"#bd3786\"],[0.5555555555555556,\"#d8576b\"],[0.6666666666666666,\"#ed7953\"],[0.7777777777777778,\"#fb9f3a\"],[0.8888888888888888,\"#fdca26\"],[1.0,\"#f0f921\"]]}],\"surface\":[{\"type\":\"surface\",\"colorbar\":{\"outlinewidth\":0,\"ticks\":\"\"},\"colorscale\":[[0.0,\"#0d0887\"],[0.1111111111111111,\"#46039f\"],[0.2222222222222222,\"#7201a8\"],[0.3333333333333333,\"#9c179e\"],[0.4444444444444444,\"#bd3786\"],[0.5555555555555556,\"#d8576b\"],[0.6666666666666666,\"#ed7953\"],[0.7777777777777778,\"#fb9f3a\"],[0.8888888888888888,\"#fdca26\"],[1.0,\"#f0f921\"]]}],\"mesh3d\":[{\"type\":\"mesh3d\",\"colorbar\":{\"outlinewidth\":0,\"ticks\":\"\"}}],\"scatter\":[{\"fillpattern\":{\"fillmode\":\"overlay\",\"size\":10,\"solidity\":0.2},\"type\":\"scatter\"}],\"parcoords\":[{\"type\":\"parcoords\",\"line\":{\"colorbar\":{\"outlinewidth\":0,\"ticks\":\"\"}}}],\"scatterpolargl\":[{\"type\":\"scatterpolargl\",\"marker\":{\"colorbar\":{\"outlinewidth\":0,\"ticks\":\"\"}}}],\"bar\":[{\"error_x\":{\"color\":\"#2a3f5f\"},\"error_y\":{\"color\":\"#2a3f5f\"},\"marker\":{\"line\":{\"color\":\"#E5ECF6\",\"width\":0.5},\"pattern\":{\"fillmode\":\"overlay\",\"size\":10,\"solidity\":0.2}},\"type\":\"bar\"}],\"scattergeo\":[{\"type\":\"scattergeo\",\"marker\":{\"colorbar\":{\"outlinewidth\":0,\"ticks\":\"\"}}}],\"scatterpolar\":[{\"type\":\"scatterpolar\",\"marker\":{\"colorbar\":{\"outlinewidth\":0,\"ticks\":\"\"}}}],\"histogram\":[{\"marker\":{\"pattern\":{\"fillmode\":\"overlay\",\"size\":10,\"solidity\":0.2}},\"type\":\"histogram\"}],\"scattergl\":[{\"type\":\"scattergl\",\"marker\":{\"colorbar\":{\"outlinewidth\":0,\"ticks\":\"\"}}}],\"scatter3d\":[{\"type\":\"scatter3d\",\"line\":{\"colorbar\":{\"outlinewidth\":0,\"ticks\":\"\"}},\"marker\":{\"colorbar\":{\"outlinewidth\":0,\"ticks\":\"\"}}}],\"scattermapbox\":[{\"type\":\"scattermapbox\",\"marker\":{\"colorbar\":{\"outlinewidth\":0,\"ticks\":\"\"}}}],\"scatterternary\":[{\"type\":\"scatterternary\",\"marker\":{\"colorbar\":{\"outlinewidth\":0,\"ticks\":\"\"}}}],\"scattercarpet\":[{\"type\":\"scattercarpet\",\"marker\":{\"colorbar\":{\"outlinewidth\":0,\"ticks\":\"\"}}}],\"carpet\":[{\"aaxis\":{\"endlinecolor\":\"#2a3f5f\",\"gridcolor\":\"white\",\"linecolor\":\"white\",\"minorgridcolor\":\"white\",\"startlinecolor\":\"#2a3f5f\"},\"baxis\":{\"endlinecolor\":\"#2a3f5f\",\"gridcolor\":\"white\",\"linecolor\":\"white\",\"minorgridcolor\":\"white\",\"startlinecolor\":\"#2a3f5f\"},\"type\":\"carpet\"}],\"table\":[{\"cells\":{\"fill\":{\"color\":\"#EBF0F8\"},\"line\":{\"color\":\"white\"}},\"header\":{\"fill\":{\"color\":\"#C8D4E3\"},\"line\":{\"color\":\"white\"}},\"type\":\"table\"}],\"barpolar\":[{\"marker\":{\"line\":{\"color\":\"#E5ECF6\",\"width\":0.5},\"pattern\":{\"fillmode\":\"overlay\",\"size\":10,\"solidity\":0.2}},\"type\":\"barpolar\"}],\"pie\":[{\"automargin\":true,\"type\":\"pie\"}]},\"layout\":{\"autotypenumbers\":\"strict\",\"colorway\":[\"#636efa\",\"#EF553B\",\"#00cc96\",\"#ab63fa\",\"#FFA15A\",\"#19d3f3\",\"#FF6692\",\"#B6E880\",\"#FF97FF\",\"#FECB52\"],\"font\":{\"color\":\"#2a3f5f\"},\"hovermode\":\"closest\",\"hoverlabel\":{\"align\":\"left\"},\"paper_bgcolor\":\"white\",\"plot_bgcolor\":\"#E5ECF6\",\"polar\":{\"bgcolor\":\"#E5ECF6\",\"angularaxis\":{\"gridcolor\":\"white\",\"linecolor\":\"white\",\"ticks\":\"\"},\"radialaxis\":{\"gridcolor\":\"white\",\"linecolor\":\"white\",\"ticks\":\"\"}},\"ternary\":{\"bgcolor\":\"#E5ECF6\",\"aaxis\":{\"gridcolor\":\"white\",\"linecolor\":\"white\",\"ticks\":\"\"},\"baxis\":{\"gridcolor\":\"white\",\"linecolor\":\"white\",\"ticks\":\"\"},\"caxis\":{\"gridcolor\":\"white\",\"linecolor\":\"white\",\"ticks\":\"\"}},\"coloraxis\":{\"colorbar\":{\"outlinewidth\":0,\"ticks\":\"\"}},\"colorscale\":{\"sequential\":[[0.0,\"#0d0887\"],[0.1111111111111111,\"#46039f\"],[0.2222222222222222,\"#7201a8\"],[0.3333333333333333,\"#9c179e\"],[0.4444444444444444,\"#bd3786\"],[0.5555555555555556,\"#d8576b\"],[0.6666666666666666,\"#ed7953\"],[0.7777777777777778,\"#fb9f3a\"],[0.8888888888888888,\"#fdca26\"],[1.0,\"#f0f921\"]],\"sequentialminus\":[[0.0,\"#0d0887\"],[0.1111111111111111,\"#46039f\"],[0.2222222222222222,\"#7201a8\"],[0.3333333333333333,\"#9c179e\"],[0.4444444444444444,\"#bd3786\"],[0.5555555555555556,\"#d8576b\"],[0.6666666666666666,\"#ed7953\"],[0.7777777777777778,\"#fb9f3a\"],[0.8888888888888888,\"#fdca26\"],[1.0,\"#f0f921\"]],\"diverging\":[[0,\"#8e0152\"],[0.1,\"#c51b7d\"],[0.2,\"#de77ae\"],[0.3,\"#f1b6da\"],[0.4,\"#fde0ef\"],[0.5,\"#f7f7f7\"],[0.6,\"#e6f5d0\"],[0.7,\"#b8e186\"],[0.8,\"#7fbc41\"],[0.9,\"#4d9221\"],[1,\"#276419\"]]},\"xaxis\":{\"gridcolor\":\"white\",\"linecolor\":\"white\",\"ticks\":\"\",\"title\":{\"standoff\":15},\"zerolinecolor\":\"white\",\"automargin\":true,\"zerolinewidth\":2},\"yaxis\":{\"gridcolor\":\"white\",\"linecolor\":\"white\",\"ticks\":\"\",\"title\":{\"standoff\":15},\"zerolinecolor\":\"white\",\"automargin\":true,\"zerolinewidth\":2},\"scene\":{\"xaxis\":{\"backgroundcolor\":\"#E5ECF6\",\"gridcolor\":\"white\",\"linecolor\":\"white\",\"showbackground\":true,\"ticks\":\"\",\"zerolinecolor\":\"white\",\"gridwidth\":2},\"yaxis\":{\"backgroundcolor\":\"#E5ECF6\",\"gridcolor\":\"white\",\"linecolor\":\"white\",\"showbackground\":true,\"ticks\":\"\",\"zerolinecolor\":\"white\",\"gridwidth\":2},\"zaxis\":{\"backgroundcolor\":\"#E5ECF6\",\"gridcolor\":\"white\",\"linecolor\":\"white\",\"showbackground\":true,\"ticks\":\"\",\"zerolinecolor\":\"white\",\"gridwidth\":2}},\"shapedefaults\":{\"line\":{\"color\":\"#2a3f5f\"}},\"annotationdefaults\":{\"arrowcolor\":\"#2a3f5f\",\"arrowhead\":0,\"arrowwidth\":1},\"geo\":{\"bgcolor\":\"white\",\"landcolor\":\"#E5ECF6\",\"subunitcolor\":\"white\",\"showland\":true,\"showlakes\":true,\"lakecolor\":\"white\"},\"title\":{\"x\":0.05},\"mapbox\":{\"style\":\"light\"}}},\"yaxis\":{\"showgrid\":true,\"gridcolor\":\"lightgray\",\"range\":[0,100],\"tickformat\":\".%\",\"title\":{\"text\":\"% par rapport au poids total\"}},\"title\":{\"text\":\"R\\u00e9partition des volumes de mati\\u00e8res pour chaque collection\"},\"barmode\":\"stack\",\"plot_bgcolor\":\"rgba(0,0,0,0)\"},                        {\"responsive\": true}                    ).then(function(){\n",
              "                            \n",
              "var gd = document.getElementById('bcba6479-4d12-433f-8777-43981e2fe387');\n",
              "var x = new MutationObserver(function (mutations, observer) {{\n",
              "        var display = window.getComputedStyle(gd).display;\n",
              "        if (!display || display === 'none') {{\n",
              "            console.log([gd, 'removed!']);\n",
              "            Plotly.purge(gd);\n",
              "            observer.disconnect();\n",
              "        }}\n",
              "}});\n",
              "\n",
              "// Listen for the removal of the full notebook cells\n",
              "var notebookContainer = gd.closest('#notebook-container');\n",
              "if (notebookContainer) {{\n",
              "    x.observe(notebookContainer, {childList: true});\n",
              "}}\n",
              "\n",
              "// Listen for the clearing of the current output cell\n",
              "var outputEl = gd.closest('.output');\n",
              "if (outputEl) {{\n",
              "    x.observe(outputEl, {childList: true});\n",
              "}}\n",
              "\n",
              "                        })                };                            </script>        </div>\n",
              "</body>\n",
              "</html>"
            ]
          },
          "metadata": {}
        }
      ]
    },
    {
      "cell_type": "markdown",
      "source": [
        "Nous pouvons constater qu'il y a plus de coton dans les vêtements bébés comparativement aux collections filles et garçons. Cela peut s'expliquer par une attention portée par la marque aux spécificités des bébés (fragilité, sensibilité accrue). En revanche, on observe peu de différences entre les collections filles et garçons. Si l'on se réfère aux 3 catégories de vêtements, la collection bébés présente une majorité de matières naturelles (**78.7%**), puis viennent les matières synthétiques (**19.7%**) et enfin les matières artificielles (**1.7%**). Pour les collections filles et garçons confondues, viennent en premier lieu les matières naturelles également (**66.8%** en moyenne), puis synthétiques (**30.7%** en moyenne) et artificielles (**2.75%** en moyenne)."
      ],
      "metadata": {
        "id": "bY40dz9gSDTQ"
      }
    },
    {
      "cell_type": "markdown",
      "source": [
        "###**Détermination de notre indicateur : le score de toxicité**"
      ],
      "metadata": {
        "id": "Lv-bBWZkAm6k"
      }
    },
    {
      "cell_type": "markdown",
      "source": [
        "Nous explicitons ici la démarche que nous avons adoptée pour obtenir un score de toxicité. Celui-ci a été obtenu à partir de l'évaluation de chaque matière sur une échelle de Likert, allant de **0 (pas du tout toxique)** à **5 (extrêmement toxique)**, puis a été attribué à chaque vêtement à partir d'un algorithme.</br>\n",
        "Concernant les **matières synthétiques**, des sources nous apprennent que **70% des fibres synthétiques produites dans le monde proviennent du pétrole** ; par exemple, pour produire **1 kg de polyester, 1.5 kg de pétrole** serait nécessaire [[10]](https://www.wedressfair.fr/blog/c-est-quoi-le-probleme-des-fibres-synthetiques). Or, nous avons que le pétrole n'est pas renouvelable et est très polluant.</br> \n",
        "Pour être synthétisé puis teint, le polyester nécessite plusieurs produits chimiques potentiellement néfastes pour la santé comme la **soude caustique** (hydroxide de sodium) et l'**hydrosulfite de sodium** qui libère un gaz toxique (le dioxyde de soufre) lorsqu’il est en contact avec l’eau [[11]](https://maisonbrunon.fr/danger-du-polyester). Ces produits sont non seulement toxiques pour les personnes qui fabriquent les vêtements (et nous pouvons faire un rapprochement avec notre partie 1), mais également pour ceux qui les portent, car la matière est en contact permanent avec la peau. Selon cette même source, porter des sous-vêtements en polyester pourrait perturber le système endocrinien (mycoses, humidité, électricité statique...) Nous rappelons ici que les enfants sont plus vulnérables que tout autre personne du fait de son système immunitaire immature et en construction. Pour ces raisons, nous attribuerons un **score de 5** au polyester.</br>\n",
        "**Le polyamide ou nylon**, représentait **9%** des fibres synthétiques utilisées dans le textile en 2011 [[12]](https://dreamact.eu/fr/blog/article/288/nylon-polyamide?utm_source=ART241_ART288). Utilisé notamment pour fabriquer les collants, c'est une matière également dérivée du pétrole, extrêmement polluante et qui a besoin de composés chimiques pour être synthétisée. Parmi eux, on trouve le **formaldéhyde** [[13]](https://dreamact.eu/fr/blog/article/241/matieres-ecologiques), un gaz volatile nocif entraînant des risques d'allergies et de pathologies respiratoires, et supposé cancérigène [[14]](https://www.asef-asso.fr/production/les-vetements-quand-les-toxiques-se-cachent-la-synthese-de-lasef/). Son seuil est limité à 20 ppm par vêtement en France. Par conséquent, nous attribuerons un **score de 5** au polyamide.</br>\n",
        "**L'acrylique** est une autre matière synthétique utilisée par exemple pour les fausses fourrures, qui constitue **3.5%** des vêtements en synthétiques produits chaque année, nécessitant des produits chimiques tels que le **propylène**, l'**ammoniaque**, le **cyanure d’hydrogène** (un gaz très toxique pour l'être humain) [[13]](https://dreamact.eu/fr/blog/article/241/matieres-ecologiques). Par ailleurs, l'acrylique est fabriquée à partir de l'**acrylonitrile**, molécule ayant été révélée comme toxique et cancérigène chez le rat et l'humain [[15]](https://dreamact.eu/fr/blog/article/289/acrylique-polyacrylique-textile?utm_source=ART241_ART289). Nous mettrons également 5 comme score de toxicité pour cette matière.</br>\n",
        "**L'élasthanne** est constitué à partir de polyuréthane et de PFC. Les PFC sont des **composés perfluorés** usités pour leurs qualités imperméables et élastiques, idéales pour les vêtements de sport. Or, ces produits sont des perturbateurs endocriniens et sont soupçonnés d'être cancérigènes [[14]](https://www.asef-asso.fr/production/les-vetements-quand-les-toxiques-se-cachent-la-synthese-de-lasef/) [[13]](https://dreamact.eu/fr/blog/article/241/matieres-ecologiques). Nous attribuerons également un **score de 5** à l'élasthanne pour ces raisons.</br></br>\n",
        "Concernant les **matières artificielles**, la matière présente dans notre étude est la **viscose**, imitation de la soie, et réalisée à partir de cellulose de bambou. A l'origine le bambou est écologique mais le procédé de fabrication de la fibre nécessite de la **soude caustique**, du **disulfure de carbone**, des **sulfates** et de l'**acide sulfurique**, et est donc très toxique pour les travailleurs, les consommateurs et la nature [[13]](https://dreamact.eu/fr/blog/article/241/matieres-ecologiques).</br></br>\n",
        "Concernant enfin les **matières naturelles**, celles-ci ne nécessitent pas de produits chimiques de synthèse. Nous avons ici le **lin** qui est considéré comme très écologique du fait de ses faibles besoins en eau et en pesticides, nous attribuerons donc un **score de 0** au lin, qui est par ailleurs une matière locale et durable.</br>\n",
        "La **laine** est présente également dans notre étude. Elle ne demande aucun produit chimique et n'est donc aucunement toxique c'est pourquoi nous lui attribuons un **score de 0** dans le cadre de l'indicateur qui nous occupe. Toutefois, nous souhaitons préciser que la production de laine se fait dans des conditions attroces pour les bêtes qui sont malmenées et maltraitées pour l'obtenir [[13]](https://dreamact.eu/fr/blog/article/241/matieres-ecologiques).</br>\n",
        "Enfin, citons le coton qui est la matière la plus représentée dans notre dataset. Matière naturelle ne nécessitant pas de produits de synthèse, mais décriée du fait de son gourmandise en eau, ainsi que l'utilisation des engrais et pesticides également néfastes pour la santé [[16]](https://www.cousubio.com/blog/technique-textile/fibres-textiles-naturelles-synthetiques-que-choisir). Nous mettrons donc au coton un **score de 2** du fait de ces critères. "
      ],
      "metadata": {
        "id": "pyJNJ_JpAt7p"
      }
    },
    {
      "cell_type": "code",
      "source": [
        "# calculons le score de toxicité pour chaque vêtement et stockons-le dans une nouvelle colonne\n",
        "# à noter : nous avons défini la fonction de telle sorte que si la colonne des composés comporte plus de 2 matières, nous retenons la 1re dont le % est systématiquement le plus important\n",
        "# nous partons en effet du principe que cette matière est dominante dans le vêtement\n",
        "toxicity_score = {\n",
        "    'coton': 2,\n",
        "    'polyester': 5,\n",
        "    'élasthanne': 5,\n",
        "    'polyamide': 5,\n",
        "    'viscose': 5,\n",
        "    'acrylique': 5,\n",
        "    'laine': 0,\n",
        "    'lin': 0\n",
        "}\n",
        "\n",
        "def calculate_toxicity(composition):\n",
        "    score = 0\n",
        "    for key in toxicity_score:\n",
        "        if key in composition.split(',')[0]:\n",
        "            score = toxicity_score[key]\n",
        "            break\n",
        "    return score\n",
        "\n",
        "df_composes_final['toxicity_score'] = df_composes_final['composes'].apply(calculate_toxicity)"
      ],
      "metadata": {
        "id": "KGwVa0zWLhCr"
      },
      "execution_count": null,
      "outputs": []
    },
    {
      "cell_type": "code",
      "source": [
        "df_composes_final.head()"
      ],
      "metadata": {
        "colab": {
          "base_uri": "https://localhost:8080/",
          "height": 206
        },
        "id": "Rauz6CQlQNrh",
        "outputId": "f2857d2b-e8d8-4cea-8eb7-db64d723220a"
      },
      "execution_count": null,
      "outputs": [
        {
          "output_type": "execute_result",
          "data": {
            "text/plain": [
              "   Unnamed: 0                        composes collection articles  coton  \\\n",
              "0           0  ['98% coton', '2% élasthanne']       bébé    sweat   0.15   \n",
              "1           1                  ['100% coton']       bébé      lot   0.60   \n",
              "2           2                  ['100% coton']       bébé     body   0.30   \n",
              "3           3                  ['100% coton']       bébé      lot   0.60   \n",
              "4           4                  ['100% coton']       bébé      lot   0.60   \n",
              "\n",
              "   polyester  élasthanne  polyamide  viscose  acrylique  laine  lin quantite  \\\n",
              "0        0.0         0.0        0.0      0.0        0.0    0.0  0.0   unique   \n",
              "1        0.0         0.0        0.0      0.0        0.0    0.0  0.0   unique   \n",
              "2        0.0         0.0        0.0      0.0        0.0    0.0  0.0   unique   \n",
              "3        0.0         0.0        0.0      0.0        0.0    0.0  0.0   unique   \n",
              "4        0.0         0.0        0.0      0.0        0.0    0.0  0.0   unique   \n",
              "\n",
              "   poids  toxicity_score  \n",
              "0   0.15               2  \n",
              "1   0.60               2  \n",
              "2   0.30               2  \n",
              "3   0.60               2  \n",
              "4   0.60               2  "
            ],
            "text/html": [
              "\n",
              "  <div id=\"df-723aa4df-4ae0-4cbe-97e7-6209eb2e7939\">\n",
              "    <div class=\"colab-df-container\">\n",
              "      <div>\n",
              "<style scoped>\n",
              "    .dataframe tbody tr th:only-of-type {\n",
              "        vertical-align: middle;\n",
              "    }\n",
              "\n",
              "    .dataframe tbody tr th {\n",
              "        vertical-align: top;\n",
              "    }\n",
              "\n",
              "    .dataframe thead th {\n",
              "        text-align: right;\n",
              "    }\n",
              "</style>\n",
              "<table border=\"1\" class=\"dataframe\">\n",
              "  <thead>\n",
              "    <tr style=\"text-align: right;\">\n",
              "      <th></th>\n",
              "      <th>Unnamed: 0</th>\n",
              "      <th>composes</th>\n",
              "      <th>collection</th>\n",
              "      <th>articles</th>\n",
              "      <th>coton</th>\n",
              "      <th>polyester</th>\n",
              "      <th>élasthanne</th>\n",
              "      <th>polyamide</th>\n",
              "      <th>viscose</th>\n",
              "      <th>acrylique</th>\n",
              "      <th>laine</th>\n",
              "      <th>lin</th>\n",
              "      <th>quantite</th>\n",
              "      <th>poids</th>\n",
              "      <th>toxicity_score</th>\n",
              "    </tr>\n",
              "  </thead>\n",
              "  <tbody>\n",
              "    <tr>\n",
              "      <th>0</th>\n",
              "      <td>0</td>\n",
              "      <td>['98% coton', '2% élasthanne']</td>\n",
              "      <td>bébé</td>\n",
              "      <td>sweat</td>\n",
              "      <td>0.15</td>\n",
              "      <td>0.0</td>\n",
              "      <td>0.0</td>\n",
              "      <td>0.0</td>\n",
              "      <td>0.0</td>\n",
              "      <td>0.0</td>\n",
              "      <td>0.0</td>\n",
              "      <td>0.0</td>\n",
              "      <td>unique</td>\n",
              "      <td>0.15</td>\n",
              "      <td>2</td>\n",
              "    </tr>\n",
              "    <tr>\n",
              "      <th>1</th>\n",
              "      <td>1</td>\n",
              "      <td>['100% coton']</td>\n",
              "      <td>bébé</td>\n",
              "      <td>lot</td>\n",
              "      <td>0.60</td>\n",
              "      <td>0.0</td>\n",
              "      <td>0.0</td>\n",
              "      <td>0.0</td>\n",
              "      <td>0.0</td>\n",
              "      <td>0.0</td>\n",
              "      <td>0.0</td>\n",
              "      <td>0.0</td>\n",
              "      <td>unique</td>\n",
              "      <td>0.60</td>\n",
              "      <td>2</td>\n",
              "    </tr>\n",
              "    <tr>\n",
              "      <th>2</th>\n",
              "      <td>2</td>\n",
              "      <td>['100% coton']</td>\n",
              "      <td>bébé</td>\n",
              "      <td>body</td>\n",
              "      <td>0.30</td>\n",
              "      <td>0.0</td>\n",
              "      <td>0.0</td>\n",
              "      <td>0.0</td>\n",
              "      <td>0.0</td>\n",
              "      <td>0.0</td>\n",
              "      <td>0.0</td>\n",
              "      <td>0.0</td>\n",
              "      <td>unique</td>\n",
              "      <td>0.30</td>\n",
              "      <td>2</td>\n",
              "    </tr>\n",
              "    <tr>\n",
              "      <th>3</th>\n",
              "      <td>3</td>\n",
              "      <td>['100% coton']</td>\n",
              "      <td>bébé</td>\n",
              "      <td>lot</td>\n",
              "      <td>0.60</td>\n",
              "      <td>0.0</td>\n",
              "      <td>0.0</td>\n",
              "      <td>0.0</td>\n",
              "      <td>0.0</td>\n",
              "      <td>0.0</td>\n",
              "      <td>0.0</td>\n",
              "      <td>0.0</td>\n",
              "      <td>unique</td>\n",
              "      <td>0.60</td>\n",
              "      <td>2</td>\n",
              "    </tr>\n",
              "    <tr>\n",
              "      <th>4</th>\n",
              "      <td>4</td>\n",
              "      <td>['100% coton']</td>\n",
              "      <td>bébé</td>\n",
              "      <td>lot</td>\n",
              "      <td>0.60</td>\n",
              "      <td>0.0</td>\n",
              "      <td>0.0</td>\n",
              "      <td>0.0</td>\n",
              "      <td>0.0</td>\n",
              "      <td>0.0</td>\n",
              "      <td>0.0</td>\n",
              "      <td>0.0</td>\n",
              "      <td>unique</td>\n",
              "      <td>0.60</td>\n",
              "      <td>2</td>\n",
              "    </tr>\n",
              "  </tbody>\n",
              "</table>\n",
              "</div>\n",
              "      <button class=\"colab-df-convert\" onclick=\"convertToInteractive('df-723aa4df-4ae0-4cbe-97e7-6209eb2e7939')\"\n",
              "              title=\"Convert this dataframe to an interactive table.\"\n",
              "              style=\"display:none;\">\n",
              "        \n",
              "  <svg xmlns=\"http://www.w3.org/2000/svg\" height=\"24px\"viewBox=\"0 0 24 24\"\n",
              "       width=\"24px\">\n",
              "    <path d=\"M0 0h24v24H0V0z\" fill=\"none\"/>\n",
              "    <path d=\"M18.56 5.44l.94 2.06.94-2.06 2.06-.94-2.06-.94-.94-2.06-.94 2.06-2.06.94zm-11 1L8.5 8.5l.94-2.06 2.06-.94-2.06-.94L8.5 2.5l-.94 2.06-2.06.94zm10 10l.94 2.06.94-2.06 2.06-.94-2.06-.94-.94-2.06-.94 2.06-2.06.94z\"/><path d=\"M17.41 7.96l-1.37-1.37c-.4-.4-.92-.59-1.43-.59-.52 0-1.04.2-1.43.59L10.3 9.45l-7.72 7.72c-.78.78-.78 2.05 0 2.83L4 21.41c.39.39.9.59 1.41.59.51 0 1.02-.2 1.41-.59l7.78-7.78 2.81-2.81c.8-.78.8-2.07 0-2.86zM5.41 20L4 18.59l7.72-7.72 1.47 1.35L5.41 20z\"/>\n",
              "  </svg>\n",
              "      </button>\n",
              "      \n",
              "  <style>\n",
              "    .colab-df-container {\n",
              "      display:flex;\n",
              "      flex-wrap:wrap;\n",
              "      gap: 12px;\n",
              "    }\n",
              "\n",
              "    .colab-df-convert {\n",
              "      background-color: #E8F0FE;\n",
              "      border: none;\n",
              "      border-radius: 50%;\n",
              "      cursor: pointer;\n",
              "      display: none;\n",
              "      fill: #1967D2;\n",
              "      height: 32px;\n",
              "      padding: 0 0 0 0;\n",
              "      width: 32px;\n",
              "    }\n",
              "\n",
              "    .colab-df-convert:hover {\n",
              "      background-color: #E2EBFA;\n",
              "      box-shadow: 0px 1px 2px rgba(60, 64, 67, 0.3), 0px 1px 3px 1px rgba(60, 64, 67, 0.15);\n",
              "      fill: #174EA6;\n",
              "    }\n",
              "\n",
              "    [theme=dark] .colab-df-convert {\n",
              "      background-color: #3B4455;\n",
              "      fill: #D2E3FC;\n",
              "    }\n",
              "\n",
              "    [theme=dark] .colab-df-convert:hover {\n",
              "      background-color: #434B5C;\n",
              "      box-shadow: 0px 1px 3px 1px rgba(0, 0, 0, 0.15);\n",
              "      filter: drop-shadow(0px 1px 2px rgba(0, 0, 0, 0.3));\n",
              "      fill: #FFFFFF;\n",
              "    }\n",
              "  </style>\n",
              "\n",
              "      <script>\n",
              "        const buttonEl =\n",
              "          document.querySelector('#df-723aa4df-4ae0-4cbe-97e7-6209eb2e7939 button.colab-df-convert');\n",
              "        buttonEl.style.display =\n",
              "          google.colab.kernel.accessAllowed ? 'block' : 'none';\n",
              "\n",
              "        async function convertToInteractive(key) {\n",
              "          const element = document.querySelector('#df-723aa4df-4ae0-4cbe-97e7-6209eb2e7939');\n",
              "          const dataTable =\n",
              "            await google.colab.kernel.invokeFunction('convertToInteractive',\n",
              "                                                     [key], {});\n",
              "          if (!dataTable) return;\n",
              "\n",
              "          const docLinkHtml = 'Like what you see? Visit the ' +\n",
              "            '<a target=\"_blank\" href=https://colab.research.google.com/notebooks/data_table.ipynb>data table notebook</a>'\n",
              "            + ' to learn more about interactive tables.';\n",
              "          element.innerHTML = '';\n",
              "          dataTable['output_type'] = 'display_data';\n",
              "          await google.colab.output.renderOutput(dataTable, element);\n",
              "          const docLink = document.createElement('div');\n",
              "          docLink.innerHTML = docLinkHtml;\n",
              "          element.appendChild(docLink);\n",
              "        }\n",
              "      </script>\n",
              "    </div>\n",
              "  </div>\n",
              "  "
            ]
          },
          "metadata": {},
          "execution_count": 25
        }
      ]
    },
    {
      "cell_type": "code",
      "source": [
        "# visualisons sur un pie chart la répartition des scores de toxicité attribués\n",
        "fig_toxicity = go.Figure(data=[go.Pie(labels=df_composes_final['toxicity_score'].value_counts().index, values=df_composes_final['toxicity_score'].value_counts(), hole=.5)])\n",
        "fig_toxicity.update_layout(height=500, width=1200, title_text='Répartition des scores de toxicité attribués', piecolorway=['#b3e2cd', '#fdccac', '#cbd5e8'])\n",
        "fig_toxicity.show()"
      ],
      "metadata": {
        "colab": {
          "base_uri": "https://localhost:8080/",
          "height": 517
        },
        "id": "guNoKZbgUlwm",
        "outputId": "c2190211-bac5-45b6-ad34-62a4ce4d002d"
      },
      "execution_count": null,
      "outputs": [
        {
          "output_type": "display_data",
          "data": {
            "text/html": [
              "<html>\n",
              "<head><meta charset=\"utf-8\" /></head>\n",
              "<body>\n",
              "    <div>            <script src=\"https://cdnjs.cloudflare.com/ajax/libs/mathjax/2.7.5/MathJax.js?config=TeX-AMS-MML_SVG\"></script><script type=\"text/javascript\">if (window.MathJax && window.MathJax.Hub && window.MathJax.Hub.Config) {window.MathJax.Hub.Config({SVG: {font: \"STIX-Web\"}});}</script>                <script type=\"text/javascript\">window.PlotlyConfig = {MathJaxConfig: 'local'};</script>\n",
              "        <script src=\"https://cdn.plot.ly/plotly-2.18.2.min.js\"></script>                <div id=\"0ab5fe25-3c51-4ce8-bb4c-57cd70ad820b\" class=\"plotly-graph-div\" style=\"height:500px; width:1200px;\"></div>            <script type=\"text/javascript\">                                    window.PLOTLYENV=window.PLOTLYENV || {};                                    if (document.getElementById(\"0ab5fe25-3c51-4ce8-bb4c-57cd70ad820b\")) {                    Plotly.newPlot(                        \"0ab5fe25-3c51-4ce8-bb4c-57cd70ad820b\",                        [{\"hole\":0.5,\"labels\":[2,5,0],\"values\":[3459,659,157],\"type\":\"pie\"}],                        {\"template\":{\"data\":{\"histogram2dcontour\":[{\"type\":\"histogram2dcontour\",\"colorbar\":{\"outlinewidth\":0,\"ticks\":\"\"},\"colorscale\":[[0.0,\"#0d0887\"],[0.1111111111111111,\"#46039f\"],[0.2222222222222222,\"#7201a8\"],[0.3333333333333333,\"#9c179e\"],[0.4444444444444444,\"#bd3786\"],[0.5555555555555556,\"#d8576b\"],[0.6666666666666666,\"#ed7953\"],[0.7777777777777778,\"#fb9f3a\"],[0.8888888888888888,\"#fdca26\"],[1.0,\"#f0f921\"]]}],\"choropleth\":[{\"type\":\"choropleth\",\"colorbar\":{\"outlinewidth\":0,\"ticks\":\"\"}}],\"histogram2d\":[{\"type\":\"histogram2d\",\"colorbar\":{\"outlinewidth\":0,\"ticks\":\"\"},\"colorscale\":[[0.0,\"#0d0887\"],[0.1111111111111111,\"#46039f\"],[0.2222222222222222,\"#7201a8\"],[0.3333333333333333,\"#9c179e\"],[0.4444444444444444,\"#bd3786\"],[0.5555555555555556,\"#d8576b\"],[0.6666666666666666,\"#ed7953\"],[0.7777777777777778,\"#fb9f3a\"],[0.8888888888888888,\"#fdca26\"],[1.0,\"#f0f921\"]]}],\"heatmap\":[{\"type\":\"heatmap\",\"colorbar\":{\"outlinewidth\":0,\"ticks\":\"\"},\"colorscale\":[[0.0,\"#0d0887\"],[0.1111111111111111,\"#46039f\"],[0.2222222222222222,\"#7201a8\"],[0.3333333333333333,\"#9c179e\"],[0.4444444444444444,\"#bd3786\"],[0.5555555555555556,\"#d8576b\"],[0.6666666666666666,\"#ed7953\"],[0.7777777777777778,\"#fb9f3a\"],[0.8888888888888888,\"#fdca26\"],[1.0,\"#f0f921\"]]}],\"heatmapgl\":[{\"type\":\"heatmapgl\",\"colorbar\":{\"outlinewidth\":0,\"ticks\":\"\"},\"colorscale\":[[0.0,\"#0d0887\"],[0.1111111111111111,\"#46039f\"],[0.2222222222222222,\"#7201a8\"],[0.3333333333333333,\"#9c179e\"],[0.4444444444444444,\"#bd3786\"],[0.5555555555555556,\"#d8576b\"],[0.6666666666666666,\"#ed7953\"],[0.7777777777777778,\"#fb9f3a\"],[0.8888888888888888,\"#fdca26\"],[1.0,\"#f0f921\"]]}],\"contourcarpet\":[{\"type\":\"contourcarpet\",\"colorbar\":{\"outlinewidth\":0,\"ticks\":\"\"}}],\"contour\":[{\"type\":\"contour\",\"colorbar\":{\"outlinewidth\":0,\"ticks\":\"\"},\"colorscale\":[[0.0,\"#0d0887\"],[0.1111111111111111,\"#46039f\"],[0.2222222222222222,\"#7201a8\"],[0.3333333333333333,\"#9c179e\"],[0.4444444444444444,\"#bd3786\"],[0.5555555555555556,\"#d8576b\"],[0.6666666666666666,\"#ed7953\"],[0.7777777777777778,\"#fb9f3a\"],[0.8888888888888888,\"#fdca26\"],[1.0,\"#f0f921\"]]}],\"surface\":[{\"type\":\"surface\",\"colorbar\":{\"outlinewidth\":0,\"ticks\":\"\"},\"colorscale\":[[0.0,\"#0d0887\"],[0.1111111111111111,\"#46039f\"],[0.2222222222222222,\"#7201a8\"],[0.3333333333333333,\"#9c179e\"],[0.4444444444444444,\"#bd3786\"],[0.5555555555555556,\"#d8576b\"],[0.6666666666666666,\"#ed7953\"],[0.7777777777777778,\"#fb9f3a\"],[0.8888888888888888,\"#fdca26\"],[1.0,\"#f0f921\"]]}],\"mesh3d\":[{\"type\":\"mesh3d\",\"colorbar\":{\"outlinewidth\":0,\"ticks\":\"\"}}],\"scatter\":[{\"fillpattern\":{\"fillmode\":\"overlay\",\"size\":10,\"solidity\":0.2},\"type\":\"scatter\"}],\"parcoords\":[{\"type\":\"parcoords\",\"line\":{\"colorbar\":{\"outlinewidth\":0,\"ticks\":\"\"}}}],\"scatterpolargl\":[{\"type\":\"scatterpolargl\",\"marker\":{\"colorbar\":{\"outlinewidth\":0,\"ticks\":\"\"}}}],\"bar\":[{\"error_x\":{\"color\":\"#2a3f5f\"},\"error_y\":{\"color\":\"#2a3f5f\"},\"marker\":{\"line\":{\"color\":\"#E5ECF6\",\"width\":0.5},\"pattern\":{\"fillmode\":\"overlay\",\"size\":10,\"solidity\":0.2}},\"type\":\"bar\"}],\"scattergeo\":[{\"type\":\"scattergeo\",\"marker\":{\"colorbar\":{\"outlinewidth\":0,\"ticks\":\"\"}}}],\"scatterpolar\":[{\"type\":\"scatterpolar\",\"marker\":{\"colorbar\":{\"outlinewidth\":0,\"ticks\":\"\"}}}],\"histogram\":[{\"marker\":{\"pattern\":{\"fillmode\":\"overlay\",\"size\":10,\"solidity\":0.2}},\"type\":\"histogram\"}],\"scattergl\":[{\"type\":\"scattergl\",\"marker\":{\"colorbar\":{\"outlinewidth\":0,\"ticks\":\"\"}}}],\"scatter3d\":[{\"type\":\"scatter3d\",\"line\":{\"colorbar\":{\"outlinewidth\":0,\"ticks\":\"\"}},\"marker\":{\"colorbar\":{\"outlinewidth\":0,\"ticks\":\"\"}}}],\"scattermapbox\":[{\"type\":\"scattermapbox\",\"marker\":{\"colorbar\":{\"outlinewidth\":0,\"ticks\":\"\"}}}],\"scatterternary\":[{\"type\":\"scatterternary\",\"marker\":{\"colorbar\":{\"outlinewidth\":0,\"ticks\":\"\"}}}],\"scattercarpet\":[{\"type\":\"scattercarpet\",\"marker\":{\"colorbar\":{\"outlinewidth\":0,\"ticks\":\"\"}}}],\"carpet\":[{\"aaxis\":{\"endlinecolor\":\"#2a3f5f\",\"gridcolor\":\"white\",\"linecolor\":\"white\",\"minorgridcolor\":\"white\",\"startlinecolor\":\"#2a3f5f\"},\"baxis\":{\"endlinecolor\":\"#2a3f5f\",\"gridcolor\":\"white\",\"linecolor\":\"white\",\"minorgridcolor\":\"white\",\"startlinecolor\":\"#2a3f5f\"},\"type\":\"carpet\"}],\"table\":[{\"cells\":{\"fill\":{\"color\":\"#EBF0F8\"},\"line\":{\"color\":\"white\"}},\"header\":{\"fill\":{\"color\":\"#C8D4E3\"},\"line\":{\"color\":\"white\"}},\"type\":\"table\"}],\"barpolar\":[{\"marker\":{\"line\":{\"color\":\"#E5ECF6\",\"width\":0.5},\"pattern\":{\"fillmode\":\"overlay\",\"size\":10,\"solidity\":0.2}},\"type\":\"barpolar\"}],\"pie\":[{\"automargin\":true,\"type\":\"pie\"}]},\"layout\":{\"autotypenumbers\":\"strict\",\"colorway\":[\"#636efa\",\"#EF553B\",\"#00cc96\",\"#ab63fa\",\"#FFA15A\",\"#19d3f3\",\"#FF6692\",\"#B6E880\",\"#FF97FF\",\"#FECB52\"],\"font\":{\"color\":\"#2a3f5f\"},\"hovermode\":\"closest\",\"hoverlabel\":{\"align\":\"left\"},\"paper_bgcolor\":\"white\",\"plot_bgcolor\":\"#E5ECF6\",\"polar\":{\"bgcolor\":\"#E5ECF6\",\"angularaxis\":{\"gridcolor\":\"white\",\"linecolor\":\"white\",\"ticks\":\"\"},\"radialaxis\":{\"gridcolor\":\"white\",\"linecolor\":\"white\",\"ticks\":\"\"}},\"ternary\":{\"bgcolor\":\"#E5ECF6\",\"aaxis\":{\"gridcolor\":\"white\",\"linecolor\":\"white\",\"ticks\":\"\"},\"baxis\":{\"gridcolor\":\"white\",\"linecolor\":\"white\",\"ticks\":\"\"},\"caxis\":{\"gridcolor\":\"white\",\"linecolor\":\"white\",\"ticks\":\"\"}},\"coloraxis\":{\"colorbar\":{\"outlinewidth\":0,\"ticks\":\"\"}},\"colorscale\":{\"sequential\":[[0.0,\"#0d0887\"],[0.1111111111111111,\"#46039f\"],[0.2222222222222222,\"#7201a8\"],[0.3333333333333333,\"#9c179e\"],[0.4444444444444444,\"#bd3786\"],[0.5555555555555556,\"#d8576b\"],[0.6666666666666666,\"#ed7953\"],[0.7777777777777778,\"#fb9f3a\"],[0.8888888888888888,\"#fdca26\"],[1.0,\"#f0f921\"]],\"sequentialminus\":[[0.0,\"#0d0887\"],[0.1111111111111111,\"#46039f\"],[0.2222222222222222,\"#7201a8\"],[0.3333333333333333,\"#9c179e\"],[0.4444444444444444,\"#bd3786\"],[0.5555555555555556,\"#d8576b\"],[0.6666666666666666,\"#ed7953\"],[0.7777777777777778,\"#fb9f3a\"],[0.8888888888888888,\"#fdca26\"],[1.0,\"#f0f921\"]],\"diverging\":[[0,\"#8e0152\"],[0.1,\"#c51b7d\"],[0.2,\"#de77ae\"],[0.3,\"#f1b6da\"],[0.4,\"#fde0ef\"],[0.5,\"#f7f7f7\"],[0.6,\"#e6f5d0\"],[0.7,\"#b8e186\"],[0.8,\"#7fbc41\"],[0.9,\"#4d9221\"],[1,\"#276419\"]]},\"xaxis\":{\"gridcolor\":\"white\",\"linecolor\":\"white\",\"ticks\":\"\",\"title\":{\"standoff\":15},\"zerolinecolor\":\"white\",\"automargin\":true,\"zerolinewidth\":2},\"yaxis\":{\"gridcolor\":\"white\",\"linecolor\":\"white\",\"ticks\":\"\",\"title\":{\"standoff\":15},\"zerolinecolor\":\"white\",\"automargin\":true,\"zerolinewidth\":2},\"scene\":{\"xaxis\":{\"backgroundcolor\":\"#E5ECF6\",\"gridcolor\":\"white\",\"linecolor\":\"white\",\"showbackground\":true,\"ticks\":\"\",\"zerolinecolor\":\"white\",\"gridwidth\":2},\"yaxis\":{\"backgroundcolor\":\"#E5ECF6\",\"gridcolor\":\"white\",\"linecolor\":\"white\",\"showbackground\":true,\"ticks\":\"\",\"zerolinecolor\":\"white\",\"gridwidth\":2},\"zaxis\":{\"backgroundcolor\":\"#E5ECF6\",\"gridcolor\":\"white\",\"linecolor\":\"white\",\"showbackground\":true,\"ticks\":\"\",\"zerolinecolor\":\"white\",\"gridwidth\":2}},\"shapedefaults\":{\"line\":{\"color\":\"#2a3f5f\"}},\"annotationdefaults\":{\"arrowcolor\":\"#2a3f5f\",\"arrowhead\":0,\"arrowwidth\":1},\"geo\":{\"bgcolor\":\"white\",\"landcolor\":\"#E5ECF6\",\"subunitcolor\":\"white\",\"showland\":true,\"showlakes\":true,\"lakecolor\":\"white\"},\"title\":{\"x\":0.05},\"mapbox\":{\"style\":\"light\"}}},\"title\":{\"text\":\"R\\u00e9partition des volumes de mati\\u00e8res en fonction du poids total\"},\"height\":500,\"width\":1200,\"piecolorway\":[\"#b3e2cd\",\"#fdccac\",\"#cbd5e8\"]},                        {\"responsive\": true}                    ).then(function(){\n",
              "                            \n",
              "var gd = document.getElementById('0ab5fe25-3c51-4ce8-bb4c-57cd70ad820b');\n",
              "var x = new MutationObserver(function (mutations, observer) {{\n",
              "        var display = window.getComputedStyle(gd).display;\n",
              "        if (!display || display === 'none') {{\n",
              "            console.log([gd, 'removed!']);\n",
              "            Plotly.purge(gd);\n",
              "            observer.disconnect();\n",
              "        }}\n",
              "}});\n",
              "\n",
              "// Listen for the removal of the full notebook cells\n",
              "var notebookContainer = gd.closest('#notebook-container');\n",
              "if (notebookContainer) {{\n",
              "    x.observe(notebookContainer, {childList: true});\n",
              "}}\n",
              "\n",
              "// Listen for the clearing of the current output cell\n",
              "var outputEl = gd.closest('.output');\n",
              "if (outputEl) {{\n",
              "    x.observe(outputEl, {childList: true});\n",
              "}}\n",
              "\n",
              "                        })                };                            </script>        </div>\n",
              "</body>\n",
              "</html>"
            ]
          },
          "metadata": {}
        }
      ]
    },
    {
      "cell_type": "markdown",
      "source": [
        "Nous observons une grande **majorité de scores à 2**, ce qui correspond au coton, cela étant dû au fait que nous avons programmé notre fonction pour ne retenir que la matière principale du vêtement, c'est-à-dire la matière placée en 1er dans la liste des compositions, présentant le plus haut pourcentage. La plupart du temps, il s'agit du coton. Voyons ce qu'il en est des moyennes de ces scores sur l'ensemble des vêtements, et sur chaque collection."
      ],
      "metadata": {
        "id": "9nUGHYKXU-56"
      }
    },
    {
      "cell_type": "code",
      "source": [
        "# moyenne de tous les scores\n",
        "df_composes_final['toxicity_score'].mean()"
      ],
      "metadata": {
        "colab": {
          "base_uri": "https://localhost:8080/"
        },
        "id": "zJK-STJlXONC",
        "outputId": "4b27ce8e-ca1c-46e2-a356-6ad169d73a2e"
      },
      "execution_count": null,
      "outputs": [
        {
          "output_type": "execute_result",
          "data": {
            "text/plain": [
              "2.3890058479532166"
            ]
          },
          "metadata": {},
          "execution_count": 8
        }
      ]
    },
    {
      "cell_type": "code",
      "source": [
        "# moyennes sur chaque collection\n",
        "df_composes_final.groupby('collection')['toxicity_score'].mean().round(1)"
      ],
      "metadata": {
        "colab": {
          "base_uri": "https://localhost:8080/"
        },
        "id": "eyO-GfZZXZRJ",
        "outputId": "3b854b43-f829-499a-8645-1e4a9ec11402"
      },
      "execution_count": null,
      "outputs": [
        {
          "output_type": "execute_result",
          "data": {
            "text/plain": [
              "collection\n",
              "bébé      2.2\n",
              "fille     2.5\n",
              "garçon    2.4\n",
              "Name: toxicity_score, dtype: float64"
            ]
          },
          "metadata": {},
          "execution_count": 9
        }
      ]
    },
    {
      "cell_type": "code",
      "source": [
        "# visualisons tous ces scores sur un graphique à bulles\n",
        "collections = ['bébé', 'fille', 'garçon']\n",
        "values = [2.2, 2.5, 2.4]\n",
        "mean_value = np.mean(values)\n",
        "\n",
        "trace = go.Scatter(x=collections, y=values, mode='markers+text', text=values, textposition='top center', showlegend=False, marker=dict(size=300*values, sizemode='area', sizeref=0.005, color=values, colorscale='Viridis', showscale=True))\n",
        "mean_trace = go.Scatter(x=collections, y=[mean_value]*len(collections), mode='lines', line=dict(color='red', width=2, dash='dash'), showlegend=False, hoverinfo='skip')\n",
        "layout = go.Layout(title='Scores de toxicité selon la collection et comparativement à la moyenne globale', xaxis=dict(title='Collection'), yaxis=dict(title='Score'), plot_bgcolor='rgba(0,0,0,0)', paper_bgcolor='rgba(0,0,0,0)')\n",
        "fig = go.Figure(data=[trace, mean_trace], layout=layout)\n",
        "fig.add_annotation(x=0, y=2.39, text='Moyenne = {:.2f}'.format(mean_value), showarrow=False, font=dict(size=14, color='red'))\n",
        "fig.show()"
      ],
      "metadata": {
        "colab": {
          "base_uri": "https://localhost:8080/",
          "height": 542
        },
        "id": "td1XK9Q-YZ5-",
        "outputId": "dded6713-30dd-452d-eb11-c36d79f9f34e"
      },
      "execution_count": null,
      "outputs": [
        {
          "output_type": "display_data",
          "data": {
            "text/html": [
              "<html>\n",
              "<head><meta charset=\"utf-8\" /></head>\n",
              "<body>\n",
              "    <div>            <script src=\"https://cdnjs.cloudflare.com/ajax/libs/mathjax/2.7.5/MathJax.js?config=TeX-AMS-MML_SVG\"></script><script type=\"text/javascript\">if (window.MathJax && window.MathJax.Hub && window.MathJax.Hub.Config) {window.MathJax.Hub.Config({SVG: {font: \"STIX-Web\"}});}</script>                <script type=\"text/javascript\">window.PlotlyConfig = {MathJaxConfig: 'local'};</script>\n",
              "        <script src=\"https://cdn.plot.ly/plotly-2.18.2.min.js\"></script>                <div id=\"d092fd0a-c3d4-4d28-a4f0-98a7d1df430e\" class=\"plotly-graph-div\" style=\"height:525px; width:100%;\"></div>            <script type=\"text/javascript\">                                    window.PLOTLYENV=window.PLOTLYENV || {};                                    if (document.getElementById(\"d092fd0a-c3d4-4d28-a4f0-98a7d1df430e\")) {                    Plotly.newPlot(                        \"d092fd0a-c3d4-4d28-a4f0-98a7d1df430e\",                        [{\"marker\":{\"color\":[2.2,2.5,2.4],\"colorscale\":[[0.0,\"#440154\"],[0.1111111111111111,\"#482878\"],[0.2222222222222222,\"#3e4989\"],[0.3333333333333333,\"#31688e\"],[0.4444444444444444,\"#26828e\"],[0.5555555555555556,\"#1f9e89\"],[0.6666666666666666,\"#35b779\"],[0.7777777777777778,\"#6ece58\"],[0.8888888888888888,\"#b5de2b\"],[1.0,\"#fde725\"]],\"showscale\":true,\"size\":[2.2,2.5,2.4,2.2,2.5,2.4,2.2,2.5,2.4,2.2,2.5,2.4,2.2,2.5,2.4,2.2,2.5,2.4,2.2,2.5,2.4,2.2,2.5,2.4,2.2,2.5,2.4,2.2,2.5,2.4,2.2,2.5,2.4,2.2,2.5,2.4,2.2,2.5,2.4,2.2,2.5,2.4,2.2,2.5,2.4,2.2,2.5,2.4,2.2,2.5,2.4,2.2,2.5,2.4,2.2,2.5,2.4,2.2,2.5,2.4,2.2,2.5,2.4,2.2,2.5,2.4,2.2,2.5,2.4,2.2,2.5,2.4,2.2,2.5,2.4,2.2,2.5,2.4,2.2,2.5,2.4,2.2,2.5,2.4,2.2,2.5,2.4,2.2,2.5,2.4,2.2,2.5,2.4,2.2,2.5,2.4,2.2,2.5,2.4,2.2,2.5,2.4,2.2,2.5,2.4,2.2,2.5,2.4,2.2,2.5,2.4,2.2,2.5,2.4,2.2,2.5,2.4,2.2,2.5,2.4,2.2,2.5,2.4,2.2,2.5,2.4,2.2,2.5,2.4,2.2,2.5,2.4,2.2,2.5,2.4,2.2,2.5,2.4,2.2,2.5,2.4,2.2,2.5,2.4,2.2,2.5,2.4,2.2,2.5,2.4,2.2,2.5,2.4,2.2,2.5,2.4,2.2,2.5,2.4,2.2,2.5,2.4,2.2,2.5,2.4,2.2,2.5,2.4,2.2,2.5,2.4,2.2,2.5,2.4,2.2,2.5,2.4,2.2,2.5,2.4,2.2,2.5,2.4,2.2,2.5,2.4,2.2,2.5,2.4,2.2,2.5,2.4,2.2,2.5,2.4,2.2,2.5,2.4,2.2,2.5,2.4,2.2,2.5,2.4,2.2,2.5,2.4,2.2,2.5,2.4,2.2,2.5,2.4,2.2,2.5,2.4,2.2,2.5,2.4,2.2,2.5,2.4,2.2,2.5,2.4,2.2,2.5,2.4,2.2,2.5,2.4,2.2,2.5,2.4,2.2,2.5,2.4,2.2,2.5,2.4,2.2,2.5,2.4,2.2,2.5,2.4,2.2,2.5,2.4,2.2,2.5,2.4,2.2,2.5,2.4,2.2,2.5,2.4,2.2,2.5,2.4,2.2,2.5,2.4,2.2,2.5,2.4,2.2,2.5,2.4,2.2,2.5,2.4,2.2,2.5,2.4,2.2,2.5,2.4,2.2,2.5,2.4,2.2,2.5,2.4,2.2,2.5,2.4,2.2,2.5,2.4,2.2,2.5,2.4,2.2,2.5,2.4,2.2,2.5,2.4,2.2,2.5,2.4,2.2,2.5,2.4,2.2,2.5,2.4,2.2,2.5,2.4,2.2,2.5,2.4,2.2,2.5,2.4,2.2,2.5,2.4,2.2,2.5,2.4,2.2,2.5,2.4,2.2,2.5,2.4,2.2,2.5,2.4,2.2,2.5,2.4,2.2,2.5,2.4,2.2,2.5,2.4,2.2,2.5,2.4,2.2,2.5,2.4,2.2,2.5,2.4,2.2,2.5,2.4,2.2,2.5,2.4,2.2,2.5,2.4,2.2,2.5,2.4,2.2,2.5,2.4,2.2,2.5,2.4,2.2,2.5,2.4,2.2,2.5,2.4,2.2,2.5,2.4,2.2,2.5,2.4,2.2,2.5,2.4,2.2,2.5,2.4,2.2,2.5,2.4,2.2,2.5,2.4,2.2,2.5,2.4,2.2,2.5,2.4,2.2,2.5,2.4,2.2,2.5,2.4,2.2,2.5,2.4,2.2,2.5,2.4,2.2,2.5,2.4,2.2,2.5,2.4,2.2,2.5,2.4,2.2,2.5,2.4,2.2,2.5,2.4,2.2,2.5,2.4,2.2,2.5,2.4,2.2,2.5,2.4,2.2,2.5,2.4,2.2,2.5,2.4,2.2,2.5,2.4,2.2,2.5,2.4,2.2,2.5,2.4,2.2,2.5,2.4,2.2,2.5,2.4,2.2,2.5,2.4,2.2,2.5,2.4,2.2,2.5,2.4,2.2,2.5,2.4,2.2,2.5,2.4,2.2,2.5,2.4,2.2,2.5,2.4,2.2,2.5,2.4,2.2,2.5,2.4,2.2,2.5,2.4,2.2,2.5,2.4,2.2,2.5,2.4,2.2,2.5,2.4,2.2,2.5,2.4,2.2,2.5,2.4,2.2,2.5,2.4,2.2,2.5,2.4,2.2,2.5,2.4,2.2,2.5,2.4,2.2,2.5,2.4,2.2,2.5,2.4,2.2,2.5,2.4,2.2,2.5,2.4,2.2,2.5,2.4,2.2,2.5,2.4,2.2,2.5,2.4,2.2,2.5,2.4,2.2,2.5,2.4,2.2,2.5,2.4,2.2,2.5,2.4,2.2,2.5,2.4,2.2,2.5,2.4,2.2,2.5,2.4,2.2,2.5,2.4,2.2,2.5,2.4,2.2,2.5,2.4,2.2,2.5,2.4,2.2,2.5,2.4,2.2,2.5,2.4,2.2,2.5,2.4,2.2,2.5,2.4,2.2,2.5,2.4,2.2,2.5,2.4,2.2,2.5,2.4,2.2,2.5,2.4,2.2,2.5,2.4,2.2,2.5,2.4,2.2,2.5,2.4,2.2,2.5,2.4,2.2,2.5,2.4,2.2,2.5,2.4,2.2,2.5,2.4,2.2,2.5,2.4,2.2,2.5,2.4,2.2,2.5,2.4,2.2,2.5,2.4,2.2,2.5,2.4,2.2,2.5,2.4,2.2,2.5,2.4,2.2,2.5,2.4,2.2,2.5,2.4,2.2,2.5,2.4,2.2,2.5,2.4,2.2,2.5,2.4,2.2,2.5,2.4,2.2,2.5,2.4,2.2,2.5,2.4,2.2,2.5,2.4,2.2,2.5,2.4,2.2,2.5,2.4,2.2,2.5,2.4,2.2,2.5,2.4,2.2,2.5,2.4,2.2,2.5,2.4,2.2,2.5,2.4,2.2,2.5,2.4,2.2,2.5,2.4,2.2,2.5,2.4,2.2,2.5,2.4,2.2,2.5,2.4,2.2,2.5,2.4,2.2,2.5,2.4,2.2,2.5,2.4,2.2,2.5,2.4,2.2,2.5,2.4,2.2,2.5,2.4,2.2,2.5,2.4,2.2,2.5,2.4,2.2,2.5,2.4,2.2,2.5,2.4,2.2,2.5,2.4,2.2,2.5,2.4,2.2,2.5,2.4,2.2,2.5,2.4,2.2,2.5,2.4,2.2,2.5,2.4,2.2,2.5,2.4,2.2,2.5,2.4,2.2,2.5,2.4,2.2,2.5,2.4,2.2,2.5,2.4,2.2,2.5,2.4,2.2,2.5,2.4,2.2,2.5,2.4,2.2,2.5,2.4,2.2,2.5,2.4,2.2,2.5,2.4,2.2,2.5,2.4,2.2,2.5,2.4,2.2,2.5,2.4,2.2,2.5,2.4,2.2,2.5,2.4,2.2,2.5,2.4,2.2,2.5,2.4,2.2,2.5,2.4,2.2,2.5,2.4,2.2,2.5,2.4,2.2,2.5,2.4,2.2,2.5,2.4,2.2,2.5,2.4,2.2,2.5,2.4,2.2,2.5,2.4,2.2,2.5,2.4,2.2,2.5,2.4,2.2,2.5,2.4,2.2,2.5,2.4,2.2,2.5,2.4,2.2,2.5,2.4,2.2,2.5,2.4,2.2,2.5,2.4,2.2,2.5,2.4,2.2,2.5,2.4,2.2,2.5,2.4,2.2,2.5,2.4,2.2,2.5,2.4,2.2,2.5,2.4,2.2,2.5,2.4,2.2,2.5,2.4,2.2,2.5,2.4,2.2,2.5,2.4,2.2,2.5,2.4,2.2,2.5,2.4,2.2,2.5,2.4,2.2,2.5,2.4,2.2,2.5,2.4,2.2,2.5,2.4,2.2,2.5,2.4,2.2,2.5,2.4],\"sizemode\":\"area\",\"sizeref\":0.005},\"mode\":\"markers+text\",\"showlegend\":false,\"text\":[\"2.2\",\"2.5\",\"2.4\"],\"textposition\":\"top center\",\"x\":[\"b\\u00e9b\\u00e9\",\"fille\",\"gar\\u00e7on\"],\"y\":[2.2,2.5,2.4],\"type\":\"scatter\"},{\"hoverinfo\":\"skip\",\"line\":{\"color\":\"red\",\"dash\":\"dash\",\"width\":2},\"mode\":\"lines\",\"showlegend\":false,\"x\":[\"b\\u00e9b\\u00e9\",\"fille\",\"gar\\u00e7on\"],\"y\":[2.3666666666666667,2.3666666666666667,2.3666666666666667],\"type\":\"scatter\"}],                        {\"paper_bgcolor\":\"rgba(0,0,0,0)\",\"plot_bgcolor\":\"rgba(0,0,0,0)\",\"title\":{\"text\":\"Scores de toxicit\\u00e9 selon la collection et comparativement \\u00e0 la moyenne globale\"},\"xaxis\":{\"title\":{\"text\":\"Collection\"}},\"yaxis\":{\"title\":{\"text\":\"Score\"}},\"template\":{\"data\":{\"histogram2dcontour\":[{\"type\":\"histogram2dcontour\",\"colorbar\":{\"outlinewidth\":0,\"ticks\":\"\"},\"colorscale\":[[0.0,\"#0d0887\"],[0.1111111111111111,\"#46039f\"],[0.2222222222222222,\"#7201a8\"],[0.3333333333333333,\"#9c179e\"],[0.4444444444444444,\"#bd3786\"],[0.5555555555555556,\"#d8576b\"],[0.6666666666666666,\"#ed7953\"],[0.7777777777777778,\"#fb9f3a\"],[0.8888888888888888,\"#fdca26\"],[1.0,\"#f0f921\"]]}],\"choropleth\":[{\"type\":\"choropleth\",\"colorbar\":{\"outlinewidth\":0,\"ticks\":\"\"}}],\"histogram2d\":[{\"type\":\"histogram2d\",\"colorbar\":{\"outlinewidth\":0,\"ticks\":\"\"},\"colorscale\":[[0.0,\"#0d0887\"],[0.1111111111111111,\"#46039f\"],[0.2222222222222222,\"#7201a8\"],[0.3333333333333333,\"#9c179e\"],[0.4444444444444444,\"#bd3786\"],[0.5555555555555556,\"#d8576b\"],[0.6666666666666666,\"#ed7953\"],[0.7777777777777778,\"#fb9f3a\"],[0.8888888888888888,\"#fdca26\"],[1.0,\"#f0f921\"]]}],\"heatmap\":[{\"type\":\"heatmap\",\"colorbar\":{\"outlinewidth\":0,\"ticks\":\"\"},\"colorscale\":[[0.0,\"#0d0887\"],[0.1111111111111111,\"#46039f\"],[0.2222222222222222,\"#7201a8\"],[0.3333333333333333,\"#9c179e\"],[0.4444444444444444,\"#bd3786\"],[0.5555555555555556,\"#d8576b\"],[0.6666666666666666,\"#ed7953\"],[0.7777777777777778,\"#fb9f3a\"],[0.8888888888888888,\"#fdca26\"],[1.0,\"#f0f921\"]]}],\"heatmapgl\":[{\"type\":\"heatmapgl\",\"colorbar\":{\"outlinewidth\":0,\"ticks\":\"\"},\"colorscale\":[[0.0,\"#0d0887\"],[0.1111111111111111,\"#46039f\"],[0.2222222222222222,\"#7201a8\"],[0.3333333333333333,\"#9c179e\"],[0.4444444444444444,\"#bd3786\"],[0.5555555555555556,\"#d8576b\"],[0.6666666666666666,\"#ed7953\"],[0.7777777777777778,\"#fb9f3a\"],[0.8888888888888888,\"#fdca26\"],[1.0,\"#f0f921\"]]}],\"contourcarpet\":[{\"type\":\"contourcarpet\",\"colorbar\":{\"outlinewidth\":0,\"ticks\":\"\"}}],\"contour\":[{\"type\":\"contour\",\"colorbar\":{\"outlinewidth\":0,\"ticks\":\"\"},\"colorscale\":[[0.0,\"#0d0887\"],[0.1111111111111111,\"#46039f\"],[0.2222222222222222,\"#7201a8\"],[0.3333333333333333,\"#9c179e\"],[0.4444444444444444,\"#bd3786\"],[0.5555555555555556,\"#d8576b\"],[0.6666666666666666,\"#ed7953\"],[0.7777777777777778,\"#fb9f3a\"],[0.8888888888888888,\"#fdca26\"],[1.0,\"#f0f921\"]]}],\"surface\":[{\"type\":\"surface\",\"colorbar\":{\"outlinewidth\":0,\"ticks\":\"\"},\"colorscale\":[[0.0,\"#0d0887\"],[0.1111111111111111,\"#46039f\"],[0.2222222222222222,\"#7201a8\"],[0.3333333333333333,\"#9c179e\"],[0.4444444444444444,\"#bd3786\"],[0.5555555555555556,\"#d8576b\"],[0.6666666666666666,\"#ed7953\"],[0.7777777777777778,\"#fb9f3a\"],[0.8888888888888888,\"#fdca26\"],[1.0,\"#f0f921\"]]}],\"mesh3d\":[{\"type\":\"mesh3d\",\"colorbar\":{\"outlinewidth\":0,\"ticks\":\"\"}}],\"scatter\":[{\"fillpattern\":{\"fillmode\":\"overlay\",\"size\":10,\"solidity\":0.2},\"type\":\"scatter\"}],\"parcoords\":[{\"type\":\"parcoords\",\"line\":{\"colorbar\":{\"outlinewidth\":0,\"ticks\":\"\"}}}],\"scatterpolargl\":[{\"type\":\"scatterpolargl\",\"marker\":{\"colorbar\":{\"outlinewidth\":0,\"ticks\":\"\"}}}],\"bar\":[{\"error_x\":{\"color\":\"#2a3f5f\"},\"error_y\":{\"color\":\"#2a3f5f\"},\"marker\":{\"line\":{\"color\":\"#E5ECF6\",\"width\":0.5},\"pattern\":{\"fillmode\":\"overlay\",\"size\":10,\"solidity\":0.2}},\"type\":\"bar\"}],\"scattergeo\":[{\"type\":\"scattergeo\",\"marker\":{\"colorbar\":{\"outlinewidth\":0,\"ticks\":\"\"}}}],\"scatterpolar\":[{\"type\":\"scatterpolar\",\"marker\":{\"colorbar\":{\"outlinewidth\":0,\"ticks\":\"\"}}}],\"histogram\":[{\"marker\":{\"pattern\":{\"fillmode\":\"overlay\",\"size\":10,\"solidity\":0.2}},\"type\":\"histogram\"}],\"scattergl\":[{\"type\":\"scattergl\",\"marker\":{\"colorbar\":{\"outlinewidth\":0,\"ticks\":\"\"}}}],\"scatter3d\":[{\"type\":\"scatter3d\",\"line\":{\"colorbar\":{\"outlinewidth\":0,\"ticks\":\"\"}},\"marker\":{\"colorbar\":{\"outlinewidth\":0,\"ticks\":\"\"}}}],\"scattermapbox\":[{\"type\":\"scattermapbox\",\"marker\":{\"colorbar\":{\"outlinewidth\":0,\"ticks\":\"\"}}}],\"scatterternary\":[{\"type\":\"scatterternary\",\"marker\":{\"colorbar\":{\"outlinewidth\":0,\"ticks\":\"\"}}}],\"scattercarpet\":[{\"type\":\"scattercarpet\",\"marker\":{\"colorbar\":{\"outlinewidth\":0,\"ticks\":\"\"}}}],\"carpet\":[{\"aaxis\":{\"endlinecolor\":\"#2a3f5f\",\"gridcolor\":\"white\",\"linecolor\":\"white\",\"minorgridcolor\":\"white\",\"startlinecolor\":\"#2a3f5f\"},\"baxis\":{\"endlinecolor\":\"#2a3f5f\",\"gridcolor\":\"white\",\"linecolor\":\"white\",\"minorgridcolor\":\"white\",\"startlinecolor\":\"#2a3f5f\"},\"type\":\"carpet\"}],\"table\":[{\"cells\":{\"fill\":{\"color\":\"#EBF0F8\"},\"line\":{\"color\":\"white\"}},\"header\":{\"fill\":{\"color\":\"#C8D4E3\"},\"line\":{\"color\":\"white\"}},\"type\":\"table\"}],\"barpolar\":[{\"marker\":{\"line\":{\"color\":\"#E5ECF6\",\"width\":0.5},\"pattern\":{\"fillmode\":\"overlay\",\"size\":10,\"solidity\":0.2}},\"type\":\"barpolar\"}],\"pie\":[{\"automargin\":true,\"type\":\"pie\"}]},\"layout\":{\"autotypenumbers\":\"strict\",\"colorway\":[\"#636efa\",\"#EF553B\",\"#00cc96\",\"#ab63fa\",\"#FFA15A\",\"#19d3f3\",\"#FF6692\",\"#B6E880\",\"#FF97FF\",\"#FECB52\"],\"font\":{\"color\":\"#2a3f5f\"},\"hovermode\":\"closest\",\"hoverlabel\":{\"align\":\"left\"},\"paper_bgcolor\":\"white\",\"plot_bgcolor\":\"#E5ECF6\",\"polar\":{\"bgcolor\":\"#E5ECF6\",\"angularaxis\":{\"gridcolor\":\"white\",\"linecolor\":\"white\",\"ticks\":\"\"},\"radialaxis\":{\"gridcolor\":\"white\",\"linecolor\":\"white\",\"ticks\":\"\"}},\"ternary\":{\"bgcolor\":\"#E5ECF6\",\"aaxis\":{\"gridcolor\":\"white\",\"linecolor\":\"white\",\"ticks\":\"\"},\"baxis\":{\"gridcolor\":\"white\",\"linecolor\":\"white\",\"ticks\":\"\"},\"caxis\":{\"gridcolor\":\"white\",\"linecolor\":\"white\",\"ticks\":\"\"}},\"coloraxis\":{\"colorbar\":{\"outlinewidth\":0,\"ticks\":\"\"}},\"colorscale\":{\"sequential\":[[0.0,\"#0d0887\"],[0.1111111111111111,\"#46039f\"],[0.2222222222222222,\"#7201a8\"],[0.3333333333333333,\"#9c179e\"],[0.4444444444444444,\"#bd3786\"],[0.5555555555555556,\"#d8576b\"],[0.6666666666666666,\"#ed7953\"],[0.7777777777777778,\"#fb9f3a\"],[0.8888888888888888,\"#fdca26\"],[1.0,\"#f0f921\"]],\"sequentialminus\":[[0.0,\"#0d0887\"],[0.1111111111111111,\"#46039f\"],[0.2222222222222222,\"#7201a8\"],[0.3333333333333333,\"#9c179e\"],[0.4444444444444444,\"#bd3786\"],[0.5555555555555556,\"#d8576b\"],[0.6666666666666666,\"#ed7953\"],[0.7777777777777778,\"#fb9f3a\"],[0.8888888888888888,\"#fdca26\"],[1.0,\"#f0f921\"]],\"diverging\":[[0,\"#8e0152\"],[0.1,\"#c51b7d\"],[0.2,\"#de77ae\"],[0.3,\"#f1b6da\"],[0.4,\"#fde0ef\"],[0.5,\"#f7f7f7\"],[0.6,\"#e6f5d0\"],[0.7,\"#b8e186\"],[0.8,\"#7fbc41\"],[0.9,\"#4d9221\"],[1,\"#276419\"]]},\"xaxis\":{\"gridcolor\":\"white\",\"linecolor\":\"white\",\"ticks\":\"\",\"title\":{\"standoff\":15},\"zerolinecolor\":\"white\",\"automargin\":true,\"zerolinewidth\":2},\"yaxis\":{\"gridcolor\":\"white\",\"linecolor\":\"white\",\"ticks\":\"\",\"title\":{\"standoff\":15},\"zerolinecolor\":\"white\",\"automargin\":true,\"zerolinewidth\":2},\"scene\":{\"xaxis\":{\"backgroundcolor\":\"#E5ECF6\",\"gridcolor\":\"white\",\"linecolor\":\"white\",\"showbackground\":true,\"ticks\":\"\",\"zerolinecolor\":\"white\",\"gridwidth\":2},\"yaxis\":{\"backgroundcolor\":\"#E5ECF6\",\"gridcolor\":\"white\",\"linecolor\":\"white\",\"showbackground\":true,\"ticks\":\"\",\"zerolinecolor\":\"white\",\"gridwidth\":2},\"zaxis\":{\"backgroundcolor\":\"#E5ECF6\",\"gridcolor\":\"white\",\"linecolor\":\"white\",\"showbackground\":true,\"ticks\":\"\",\"zerolinecolor\":\"white\",\"gridwidth\":2}},\"shapedefaults\":{\"line\":{\"color\":\"#2a3f5f\"}},\"annotationdefaults\":{\"arrowcolor\":\"#2a3f5f\",\"arrowhead\":0,\"arrowwidth\":1},\"geo\":{\"bgcolor\":\"white\",\"landcolor\":\"#E5ECF6\",\"subunitcolor\":\"white\",\"showland\":true,\"showlakes\":true,\"lakecolor\":\"white\"},\"title\":{\"x\":0.05},\"mapbox\":{\"style\":\"light\"}}},\"annotations\":[{\"font\":{\"color\":\"red\",\"size\":14},\"showarrow\":false,\"text\":\"Moyenne = 2.37\",\"x\":0,\"y\":2.39}]},                        {\"responsive\": true}                    ).then(function(){\n",
              "                            \n",
              "var gd = document.getElementById('d092fd0a-c3d4-4d28-a4f0-98a7d1df430e');\n",
              "var x = new MutationObserver(function (mutations, observer) {{\n",
              "        var display = window.getComputedStyle(gd).display;\n",
              "        if (!display || display === 'none') {{\n",
              "            console.log([gd, 'removed!']);\n",
              "            Plotly.purge(gd);\n",
              "            observer.disconnect();\n",
              "        }}\n",
              "}});\n",
              "\n",
              "// Listen for the removal of the full notebook cells\n",
              "var notebookContainer = gd.closest('#notebook-container');\n",
              "if (notebookContainer) {{\n",
              "    x.observe(notebookContainer, {childList: true});\n",
              "}}\n",
              "\n",
              "// Listen for the clearing of the current output cell\n",
              "var outputEl = gd.closest('.output');\n",
              "if (outputEl) {{\n",
              "    x.observe(outputEl, {childList: true});\n",
              "}}\n",
              "\n",
              "                        })                };                            </script>        </div>\n",
              "</body>\n",
              "</html>"
            ]
          },
          "metadata": {}
        }
      ]
    },
    {
      "cell_type": "markdown",
      "source": [
        "Ce graphique nous montre des scores moyens proches de 2.5, la moyenne de nos scores possibles (0 à 5). La note la plus basse étant celle des bébés (**2.2**), puis celle des garçons (**2.4**) et enfin des filles (**2.5**). La moyenne globale, toutes collections confondues, est de **2.37**. Selon les critères que nous avons fixés, nous pouvons en conclure que la marque Vertbaudet se situe dans une moyenne. **Il serait intéressant, bien évidemment, d'effectuer un comparatif avec d'autres marques, établi selon les mêmes critères. De manière absolue, il est impossible de se prononcer sur la qualité supérieure ou inférieure de cette marque en terme de sécurité du vêtement. Mais comme nous allons le voir dans la partie 3, ce calcul peut servir à alimenter des modèles servant de repères aux consommateurs dans leurs décisions d'achat.**</br></br>\n",
        "Précisons également que pour toutes ces matières nous ne relevons ici que les impacts sur la santé, mais nous pourrions également nous étendre sur les nombreux impacts environnementaux (microparticules rejetées dans les eaux usées, émissions de gaz à effet de serre, consommation en eau pour la fabrication et le lavage, gaspillage et rejet des matières dans la nature, etc.) Outre les conditions de travail dans les usines de fabrication, nous attirons également l'attention, comme nous l'avons mentionné, sur la production de laine, maltraitante pour les animaux.\n",
        "**Nous allons à présent concentrer notre dernière partie sur des solutions possibles à toutes ces constatations, à partir de l'utilisation de l'Intelligence Artificielle et de ses outils**."
      ],
      "metadata": {
        "id": "Cotxl-7KkUVk"
      }
    },
    {
      "cell_type": "markdown",
      "metadata": {
        "id": "DG6dJ7sLD0as"
      },
      "source": [
        "# **Références du notebook**"
      ]
    },
    {
      "cell_type": "markdown",
      "metadata": {
        "id": "QEIHO-tNiAQ0"
      },
      "source": [
        "[1] https://greenly.earth/fr-fr/blog/actualites-ecologie/empreinte-carbone-comparatif-transports\n",
        "\n",
        "[2] https://consommerresponsable.com/empreinte-carbone-mode-de-transport-plus-polluant/\n",
        "\n",
        "[3] https://www.franceindustrie.org/wp-franceindustrie/wp-content/uploads/2021/02/Synthese-Etude-UIT-Empreinte-carbone-280121.pdf\n",
        "\n",
        "[4] https://engagements.decathlon.fr/pourquoi-faut-il-tant-deau-pour-fabriquer-un-vetement\n",
        "\n",
        "[5] https://particuliers.engie.fr/economies-energie/conseils-economies-energie/conseils-calcul-consommation/comment-calculer-la-consommation-de-votre-lave-linge.html\n",
        "\n",
        "[6] https://www.ubaldi.com/guides/lave-linge/caracteristiques-principales--gup208.php\n",
        "\n",
        "[7] https://www.fournisseurs-electricite.com/guides/environnement/bilan-carbone/voiture\n",
        "\n",
        "[8] https://www.notre-environnement.gouv.fr/actualites/breves/article/que-represente-l-empreinte-carbone-annuelle-d-un-francais\n",
        "\n",
        "[9] https://www.terre-du-futur.fr/combien-de-co2-absorbe-un-arbre/\n",
        "\n",
        "[10] https://www.wedressfair.fr/blog/c-est-quoi-le-probleme-des-fibres-synthetiques\n",
        "\n",
        "[11] https://maisonbrunon.fr/danger-du-polyester\n",
        "\n",
        "[12] https://dreamact.eu/fr/blog/article/288/nylon-polyamide?utm_source=ART241_ART288\n",
        "\n",
        "[13] https://dreamact.eu/fr/blog/article/241/matieres-ecologiques\n",
        "\n",
        "[14] https://www.asef-asso.fr/production/les-vetements-quand-les-toxiques-se-cachent-la-synthese-de-lasef/\n",
        "\n",
        "[15] https://dreamact.eu/fr/blog/article/289/acrylique-polyacrylique-textile?utm_source=ART241_ART289\n",
        "\n",
        "[16] https://www.cousubio.com/blog/technique-textile/fibres-textiles-naturelles-synthetiques-que-choisir"
      ]
    }
  ],
  "metadata": {
    "colab": {
      "provenance": []
    },
    "kernelspec": {
      "display_name": "Python 3",
      "name": "python3"
    },
    "language_info": {
      "name": "python"
    }
  },
  "nbformat": 4,
  "nbformat_minor": 0
}